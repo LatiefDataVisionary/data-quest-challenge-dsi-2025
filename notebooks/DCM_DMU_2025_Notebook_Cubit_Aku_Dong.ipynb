{
  "nbformat": 4,
  "nbformat_minor": 0,
  "metadata": {
    "colab": {
      "provenance": [],
      "authorship_tag": "ABX9TyNn45cjBassyHug2QggupMM",
      "include_colab_link": true
    },
    "kernelspec": {
      "name": "python3",
      "display_name": "Python 3"
    },
    "language_info": {
      "name": "python"
    }
  },
  "cells": [
    {
      "cell_type": "markdown",
      "metadata": {
        "id": "view-in-github",
        "colab_type": "text"
      },
      "source": [
        "<a href=\"https://colab.research.google.com/github/LatiefDataVisionary/data-quest-challenge-dsi-2025/blob/main/notebooks/DCM_DMU_2025_Notebook_Cubit_Aku_Dong.ipynb\" target=\"_parent\"><img src=\"https://colab.research.google.com/assets/colab-badge.svg\" alt=\"Open In Colab\"/></a>"
      ]
    },
    {
      "cell_type": "markdown",
      "source": [
        "## **1. Pendahuluan**\n",
        "\n",
        "Selamat datang pada analisis komprehensif kami untuk **Data Quest Challenge DSI MeetUp 2025**. Dalam *notebook* ini, tim **Cubit Aku Dong** akan memaparkan seluruh proses pengembangan model prediktif, mulai dari pemahaman data hingga generasi prediksi akhir. Fokus utama kami adalah menjawab tantangan yang diajukan, yaitu memprediksi kecenderungan nasabah bank untuk berlangganan produk deposito berjangka."
      ],
      "metadata": {
        "id": "-ESGAOsWGDBM"
      }
    },
    {
      "cell_type": "markdown",
      "source": [
        "### **1.1. Latar Belakang Masalah**\n",
        "\n",
        "Dalam dinamika industri perbankan yang kompetitif, kemampuan untuk memahami dan mengantisipasi perilaku nasabah merupakan aset strategis. Salah satu produk finansial yang umum ditawarkan adalah deposito berjangka, yang memberikan tingkat pengembalian tetap dalam periode waktu tertentu. Efektivitas kampanye pemasaran untuk produk ini sangat bergantung pada ketepatan penargetan nasabah. Mengidentifikasi segmen nasabah yang paling responsif tidak hanya meningkatkan tingkat konversi tetapi juga mengoptimalkan alokasi sumber daya pemasaran. Tantangan yang dihadapi adalah bagaimana memanfaatkan data historis nasabah untuk membangun sebuah sistem cerdas yang mampu memprediksi potensi minat mereka terhadap penawaran deposito."
      ],
      "metadata": {
        "id": "Uz_fmFj2GH5t"
      }
    },
    {
      "cell_type": "markdown",
      "source": [
        "### **1.2. Tujuan Proyek & Metrik Evaluasi (AUC)**\n",
        "\n",
        "Proyek ini bertujuan untuk mengembangkan sebuah model *machine learning* klasifikasi yang handal dan akurat dengan kapabilitas sebagai berikut:\n",
        "\n",
        "1.  **Mengklasifikasikan Nasabah**: Model diharapkan mampu membedakan nasabah ke dalam dua kategori utama:\n",
        "    *   **Kelas 1**: Nasabah yang diprediksi **akan** berlangganan deposito berjangka.\n",
        "    *   **Kelas 0**: Nasabah yang diprediksi **tidak akan** berlangganan deposito berjangka.\n",
        "2.  **Mengidentifikasi Faktor Pengaruh**: Secara implisit, melalui analisis fitur, diharapkan dapat tergali faktor-faktor demografis, perilaku, atau interaksi sebelumnya yang signifikan memengaruhi keputusan nasabah.\n",
        "\n",
        "Kinerja model akan dievaluasi secara kuantitatif menggunakan metrik **Area Under the Receiver Operating Characteristic Curve (AUC)**. AUC merupakan ukuran agregat dari performa model klasifikasi di semua ambang batas klasifikasi yang mungkin. Nilai AUC berkisar antara 0 hingga 1, di mana nilai yang lebih tinggi mengindikasikan kemampuan diskriminasi model yang lebih baik antara kelas positif dan negatif. Dalam konteks ini, model dengan AUC yang tinggi akan lebih efektif dalam mengidentifikasi nasabah yang benar-benar berpotensi berlangganan."
      ],
      "metadata": {
        "id": "W9mzCqUtGIdz"
      }
    },
    {
      "cell_type": "markdown",
      "source": [
        "### **1.3. Deskripsi Dataset (Ringkasan dari Guideline)**\n",
        "\n",
        "Analisis ini akan didasarkan pada dataset yang disediakan oleh panitia kompetisi. Dataset tersebut mencakup informasi historis mengenai nasabah bank, yang terdiri dari berbagai atribut, termasuk:\n",
        "\n",
        "*   **Informasi Demografis**: Seperti usia, pekerjaan, status perkawinan, dan tingkat pendidikan.\n",
        "*   **Riwayat Keuangan & Perbankan**: Seperti status gagal bayar sebelumnya, kepemilikan pinjaman rumah atau pribadi.\n",
        "*   **Detail Interaksi Kampanye**: Seperti jenis kontak, bulan dan hari kontak terakhir, serta jumlah kontak selama kampanye saat ini dan sebelumnya.\n",
        "*   **Indikator Ekonomi Makro**: Seperti tingkat variasi pekerjaan, indeks harga konsumen, indeks kepercayaan konsumen, dan suku bunga Euribor.\n",
        "*   **Variabel Target**: Kolom `berlangganan_deposito` yang mengindikasikan apakah nasabah akhirnya berlangganan produk deposito (1 jika ya, 0 jika tidak).\n",
        "\n",
        "Dataset akan terbagi menjadi dua bagian utama:\n",
        "1.  **Dataset Pelatihan (Training Set)**: Digunakan untuk melatih dan mengembangkan model prediktif. Dataset ini mencakup fitur-fitur prediktor beserta variabel target.\n",
        "2.  **Dataset Validasi (Validation Set)**: Digunakan untuk menghasilkan prediksi akhir yang akan disubmit. Dataset ini hanya berisi fitur-fitur prediktor tanpa variabel target.\n"
      ],
      "metadata": {
        "id": "xlwho_mzGIa6"
      }
    },
    {
      "cell_type": "markdown",
      "source": [
        "### **1.4. Alur Kerja Proyek**\n",
        "\n",
        "Untuk mencapai tujuan yang telah ditetapkan, kami akan mengikuti serangkaian tahapan metodologis yang terstruktur sebagai berikut:\n",
        "\n",
        "1.  **Persiapan Lingkungan & Pemuatan Data**\n",
        "    - Mengatur *environment* kerja, mengimpor *library* yang relevan, dan memuat dataset pelatihan serta validasi.\n",
        "2.  **Eksplorasi Data Awal (Initial EDA)**\n",
        "    - Melakukan analisis mendalam terhadap dataset untuk memahami karakteristik, distribusi, korelasi antar fitur, serta mengidentifikasi potensi masalah seperti *missing values* atau *outliers*.\n",
        "3.  **Pra-pemrosesan Data (Data Preprocessing)**\n",
        "    - Menangani *missing values*, *outliers*, melakukan *encoding* pada fitur kategorikal, dan transformasi fitur numerik agar data siap untuk pemodelan.\n",
        "4.  **Rekayasa Fitur (Feature Engineering)**\n",
        "    - Menciptakan fitur-fitur baru yang potensial atau melakukan seleksi fitur untuk meningkatkan performa model.\n",
        "5.  **Pemodelan (Modeling)**\n",
        "    - Mengeksplorasi berbagai algoritma klasifikasi, melatih model, dan melakukan evaluasi awal menggunakan teknik validasi silang.\n",
        "6.  **Penyetelan Hiperparameter (Hyperparameter Tuning)**\n",
        "    - Mengoptimalkan parameter dari model-model kandidat terbaik untuk mencapai performa maksimal.\n",
        "7.  **Evaluasi Model Final**\n",
        "    - Menganalisis performa model terbaik pada data yang relevan dan memastikan robustisitasnya.\n",
        "8.  **Pembuatan File Submission**\n",
        "    - Menghasilkan prediksi probabilitas pada dataset validasi menggunakan model final dan menyusunnya sesuai format yang ditentukan.\n",
        "9.  **Kesimpulan & Refleksi**\n",
        "    - Merangkum temuan utama, tantangan yang dihadapi, dan potensi pengembangan lebih lanjut.\n",
        "\n",
        "Setiap tahapan akan didokumentasikan secara detail dalam *notebook* ini untuk memastikan transparansi dan reproduktifitas hasil."
      ],
      "metadata": {
        "id": "WfZSruk1GIYb"
      }
    },
    {
      "cell_type": "markdown",
      "source": [
        "## **2. Persiapan Lingkungan & Import Librar**y"
      ],
      "metadata": {
        "id": "uYrS3cteGIVt"
      }
    },
    {
      "cell_type": "markdown",
      "source": [
        "Tahap ini bertujuan untuk mempersiapkan lingkungan kerja serta mengimpor semua pustaka (library) Python yang akan kita gunakan sepanjang proyek ini. Pengaturan konfigurasi awal juga dilakukan di sini untuk memastikan reproduktifitas hasil dan tampilan output yang lebih baik."
      ],
      "metadata": {
        "id": "kOX7qigvGIRO"
      }
    },
    {
      "cell_type": "markdown",
      "source": [
        "### **2.1. Pengaturan Konfigurasi Awal**\n",
        "\n",
        "Pengaturan ini mencakup penetapan *random seed* untuk konsistensi hasil pada operasi yang melibatkan proses acak, serta konfigurasi tampilan untuk *library* Pandas agar output data lebih mudah dibaca."
      ],
      "metadata": {
        "id": "CPm7B531GH9I"
      }
    },
    {
      "cell_type": "code",
      "source": [
        "import os\n",
        "import random\n",
        "import numpy as np\n",
        "import pandas as pd\n",
        "\n",
        "# Pengaturan Random Seed untuk Reproduktifitas\n",
        "SEED = 42  # Angka seed bisa dipilih bebas, 42 adalah pilihan populer\n",
        "def set_seed(seed=SEED):\n",
        "    \"\"\"Mengatur random seed untuk berbagai library.\"\"\"\n",
        "    random.seed(seed)\n",
        "    os.environ['PYTHONHASHSEED'] = str(seed)\n",
        "    np.random.seed(seed)\n",
        "    # Jika menggunakan TensorFlow atau PyTorch, tambahkan pengaturan seed mereka di sini\n",
        "    # tf.random.set_seed(seed)\n",
        "    # torch.manual_seed(seed)\n",
        "    # torch.cuda.manual_seed_all(seed) # jika menggunakan CUDA\n",
        "    # torch.backends.cudnn.deterministic = True\n",
        "    # torch.backends.cudnn.benchmark = False\n",
        "    print(f\"Random seed set to {seed}\")\n",
        "\n",
        "set_seed()\n",
        "\n",
        "# Pengaturan Opsi Tampilan Pandas\n",
        "pd.set_option('display.max_columns', None)  # Menampilkan semua kolom DataFrame\n",
        "pd.set_option('display.max_rows', 100)      # Menampilkan maksimal 100 baris DataFrame\n",
        "pd.set_option('display.float_format', lambda x: '%.3f' % x) # Format angka float menjadi 3 desimal\n",
        "pd.set_option('display.width', 1000)        # Mengatur lebar tampilan output\n",
        "\n",
        "# (Opsional) Menonaktifkan Peringatan yang Tidak Kritis (gunakan dengan bijak)\n",
        "import warnings\n",
        "warnings.filterwarnings('ignore', category=FutureWarning)\n",
        "warnings.filterwarnings('ignore', category=UserWarning)\n",
        "# warnings.filterwarnings('ignore', category=DeprecationWarning) # Hati-hati jika menggunakan ini"
      ],
      "metadata": {
        "id": "dgrbzie3I8vy",
        "outputId": "ba0041b0-976c-473a-a892-832a7dcca8c4",
        "colab": {
          "base_uri": "https://localhost:8080/"
        }
      },
      "execution_count": 14,
      "outputs": [
        {
          "output_type": "stream",
          "name": "stdout",
          "text": [
            "Random seed set to 42\n"
          ]
        }
      ]
    },
    {
      "cell_type": "markdown",
      "source": [
        "### **2.2. Import Library yang Dibutuhkan**\n",
        "\n",
        "Berikut adalah daftar *library* utama yang akan digunakan dalam proyek ini. Kebutuhan *library* mungkin akan bertambah seiring dengan pengembangan solusi.\n",
        "\n",
        "*   **Manipulasi Data**: `numpy` dan `pandas`.\n",
        "*   **Visualisasi Data**: `matplotlib` dan `seaborn`.\n",
        "*   **Pra-pemrosesan & Pemodelan**: `scikit-learn`.\n",
        "*   **(Opsional) Model Boosting Lanjutan**: `xgboost`, `lightgbm`, `catboost`.\n",
        "*   **(Opsional) Penanganan Imbalance**: `imblearn`."
      ],
      "metadata": {
        "id": "HK7paISdI4m-"
      }
    },
    {
      "cell_type": "code",
      "source": [
        "# Sel Kode untuk Import Library\n",
        "\n",
        "# --- Manipulasi Data ---\n",
        "import numpy as np\n",
        "import pandas as pd\n",
        "\n",
        "# --- Visualisasi Data ---\n",
        "import matplotlib.pyplot as plt\n",
        "import seaborn as sns\n",
        "plt.style.use('seaborn-v0_8-whitegrid') # Menggunakan style visualisasi yang lebih menarik\n",
        "# Alternatif style: 'ggplot', 'fivethirtyeight', 'seaborn-v0_8-darkgrid'\n",
        "# Untuk memastikan plot tampil inline di notebook\n",
        "%matplotlib inline\n",
        "\n",
        "# --- Pra-pemrosesan Data dari Scikit-learn ---\n",
        "from sklearn.model_selection import train_test_split, cross_val_score, StratifiedKFold, GridSearchCV, RandomizedSearchCV\n",
        "from sklearn.preprocessing import StandardScaler, MinMaxScaler, RobustScaler, OneHotEncoder, LabelEncoder, OrdinalEncoder\n",
        "from sklearn.impute import SimpleImputer\n",
        "from sklearn.compose import ColumnTransformer\n",
        "from sklearn.pipeline import Pipeline\n",
        "\n",
        "# --- Algoritma Model dari Scikit-learn ---\n",
        "from sklearn.linear_model import LogisticRegression\n",
        "from sklearn.neighbors import KNeighborsClassifier\n",
        "from sklearn.svm import SVC\n",
        "from sklearn.tree import DecisionTreeClassifier\n",
        "from sklearn.ensemble import RandomForestClassifier, AdaBoostClassifier, GradientBoostingClassifier, ExtraTreesClassifier\n",
        "\n",
        "# --- Model Boosting Lanjutan (Uncomment jika digunakan) ---\n",
        "# import xgboost as xgb\n",
        "# from xgboost import XGBClassifier\n",
        "# import lightgbm as lgb\n",
        "# from lightgbm import LGBMClassifier\n",
        "# import catboost as cb\n",
        "# from catboost import CatBoostClassifier\n",
        "\n",
        "# --- Metrik Evaluasi dari Scikit-learn ---\n",
        "from sklearn.metrics import accuracy_score, precision_score, recall_score, f1_score, roc_auc_score, roc_curve, confusion_matrix, classification_report\n",
        "\n",
        "# --- (Opsional) Penanganan Imbalance dari Imbalanced-learn (Uncomment jika digunakan) ---\n",
        "# from imblearn.over_sampling import SMOTE, ADASYN\n",
        "# from imblearn.under_sampling import RandomUnderSampler, NearMiss\n",
        "# from imblearn.pipeline import Pipeline as ImbPipeline # Untuk pipeline dengan imblearn\n",
        "\n",
        "\n",
        "# --- (Opsional) Library untuk analisis statistik atau fitur lainnya ---\n",
        "# import scipy.stats as stats\n",
        "\n",
        "print(\"Semua library dasar telah diimpor.\")\n",
        "# Cek versi library penting (opsional, tapi baik untuk debugging)\n",
        "print(f\"Pandas version: {pd.__version__}\")\n",
        "print(f\"NumPy version: {np.__version__}\")\n",
        "import sklearn\n",
        "print(f\"Scikit-learn version: {sklearn.__version__}\")\n",
        "# print(f\"XGBoost version: {xgb.__version__}\") # Uncomment jika xgboost diimpor\n",
        "# print(f\"LightGBM version: {lgb.__version__}\") # Uncomment jika lightgbm diimpor\n",
        "# print(f\"CatBoost version: {cb.__version__}\") # Uncomment jika catboost diimpor\n",
        "# import imblearn # Uncomment jika imblearn diimpor\n",
        "# print(f\"Imbalanced-learn version: {imblearn.__version__}\") # Uncomment jika imblearn diimpor"
      ],
      "metadata": {
        "id": "GIrMUUmgJNIU",
        "outputId": "9c9f0149-a665-4e6e-8460-2da816c9c505",
        "colab": {
          "base_uri": "https://localhost:8080/"
        }
      },
      "execution_count": 15,
      "outputs": [
        {
          "output_type": "stream",
          "name": "stdout",
          "text": [
            "Semua library dasar telah diimpor.\n",
            "Pandas version: 2.2.2\n",
            "NumPy version: 2.0.2\n",
            "Scikit-learn version: 1.6.1\n"
          ]
        }
      ]
    }
  ]
}