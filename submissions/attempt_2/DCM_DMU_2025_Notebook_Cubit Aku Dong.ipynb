{
  "cells": [
    {
      "cell_type": "markdown",
      "metadata": {
        "id": "-ESGAOsWGDBM"
      },
      "source": [
        "## **1. Pendahuluan**\n",
        "\n",
        "Selamat datang pada analisis komprehensif kami untuk **Data Quest Challenge DSI MeetUp 2025**. Dalam *notebook* ini, tim **Cubit Aku Dong** akan memaparkan seluruh proses pengembangan model prediktif, mulai dari pemahaman data hingga generasi prediksi akhir. Fokus utama kami adalah menjawab tantangan yang diajukan, yaitu memprediksi kecenderungan nasabah bank untuk berlangganan produk deposito berjangka.\n",
        "\n",
        "Proyek pengerjaan kami dapat di akses di repository github berikut:\n",
        "https://github.com/LatiefDataVisionary/data-quest-challenge-dsi-2025/tree/main"
      ]
    },
    {
      "cell_type": "markdown",
      "metadata": {
        "id": "Uz_fmFj2GH5t"
      },
      "source": [
        "### **1.1. Latar Belakang Masalah**\n",
        "\n",
        "Dalam dinamika industri perbankan yang kompetitif, kemampuan untuk memahami dan mengantisipasi perilaku nasabah merupakan aset strategis. Salah satu produk finansial yang umum ditawarkan adalah deposito berjangka, yang memberikan tingkat pengembalian tetap dalam periode waktu tertentu. Efektivitas kampanye pemasaran untuk produk ini sangat bergantung pada ketepatan penargetan nasabah. Mengidentifikasi segmen nasabah yang paling responsif tidak hanya meningkatkan tingkat konversi tetapi juga mengoptimalkan alokasi sumber daya pemasaran. Tantangan yang dihadapi adalah bagaimana memanfaatkan data historis nasabah untuk membangun sebuah sistem cerdas yang mampu memprediksi potensi minat mereka terhadap penawaran deposito."
      ]
    },
    {
      "cell_type": "markdown",
      "metadata": {
        "id": "W9mzCqUtGIdz"
      },
      "source": [
        "### **1.2. Tujuan Proyek & Metrik Evaluasi (AUC)**\n",
        "\n",
        "Proyek ini bertujuan untuk mengembangkan sebuah model *machine learning* klasifikasi yang handal dan akurat dengan kapabilitas sebagai berikut:\n",
        "\n",
        "1.  **Mengklasifikasikan Nasabah**: Model diharapkan mampu membedakan nasabah ke dalam dua kategori utama:\n",
        "    *   **Kelas 1**: Nasabah yang diprediksi **akan** berlangganan deposito berjangka.\n",
        "    *   **Kelas 0**: Nasabah yang diprediksi **tidak akan** berlangganan deposito berjangka.\n",
        "2.  **Mengidentifikasi Faktor Pengaruh**: Secara implisit, melalui analisis fitur, diharapkan dapat tergali faktor-faktor demografis, perilaku, atau interaksi sebelumnya yang signifikan memengaruhi keputusan nasabah.\n",
        "\n",
        "Kinerja model akan dievaluasi secara kuantitatif menggunakan metrik **Area Under the Receiver Operating Characteristic Curve (AUC)**. AUC merupakan ukuran agregat dari performa model klasifikasi di semua ambang batas klasifikasi yang mungkin. Nilai AUC berkisar antara 0 hingga 1, di mana nilai yang lebih tinggi mengindikasikan kemampuan diskriminasi model yang lebih baik antara kelas positif dan negatif. Dalam konteks ini, model dengan AUC yang tinggi akan lebih efektif dalam mengidentifikasi nasabah yang benar-benar berpotensi berlangganan."
      ]
    },
    {
      "cell_type": "markdown",
      "metadata": {
        "id": "xlwho_mzGIa6"
      },
      "source": [
        "### **1.3. Deskripsi Dataset (Ringkasan dari Guideline)**\n",
        "\n",
        "Analisis ini akan didasarkan pada dataset yang disediakan oleh panitia kompetisi. Dataset tersebut mencakup informasi historis mengenai nasabah bank, yang terdiri dari berbagai atribut, termasuk:\n",
        "\n",
        "*   **Informasi Demografis**: Seperti usia, pekerjaan, status perkawinan, dan tingkat pendidikan.\n",
        "*   **Riwayat Keuangan & Perbankan**: Seperti status gagal bayar sebelumnya, kepemilikan pinjaman rumah atau pribadi.\n",
        "*   **Detail Interaksi Kampanye**: Seperti jenis kontak, bulan dan hari kontak terakhir, serta jumlah kontak selama kampanye saat ini dan sebelumnya.\n",
        "*   **Indikator Ekonomi Makro**: Seperti tingkat variasi pekerjaan, indeks harga konsumen, indeks kepercayaan konsumen, dan suku bunga Euribor.\n",
        "*   **Variabel Target**: Kolom `berlangganan_deposito` yang mengindikasikan apakah nasabah akhirnya berlangganan produk deposito (1 jika ya, 0 jika tidak).\n",
        "\n",
        "Dataset akan terbagi menjadi dua bagian utama:\n",
        "1.  **Dataset Pelatihan (Training Set)**: Digunakan untuk melatih dan mengembangkan model prediktif. Dataset ini mencakup fitur-fitur prediktor beserta variabel target.\n",
        "2.  **Dataset Validasi (Validation Set)**: Digunakan untuk menghasilkan prediksi akhir yang akan disubmit. Dataset ini hanya berisi fitur-fitur prediktor tanpa variabel target.\n"
      ]
    },
    {
      "cell_type": "markdown",
      "metadata": {
        "id": "WfZSruk1GIYb"
      },
      "source": [
        "### **1.4. Alur Kerja Proyek**\n",
        "\n",
        "Untuk mencapai tujuan yang telah ditetapkan, kami akan mengikuti serangkaian tahapan metodologis yang terstruktur sebagai berikut:\n",
        "\n",
        "1.  **Persiapan Lingkungan & Pemuatan Data**\n",
        "    - Mengatur *environment* kerja, mengimpor *library* yang relevan, dan memuat dataset pelatihan serta validasi.\n",
        "2.  **Eksplorasi Data Awal (Initial EDA)**\n",
        "    - Melakukan analisis mendalam terhadap dataset untuk memahami karakteristik, distribusi, korelasi antar fitur, serta mengidentifikasi potensi masalah seperti *missing values* atau *outliers*.\n",
        "3.  **Pra-pemrosesan Data (Data Preprocessing)**\n",
        "    - Menangani *missing values*, *outliers*, melakukan *encoding* pada fitur kategorikal, dan transformasi fitur numerik agar data siap untuk pemodelan.\n",
        "4.  **Rekayasa Fitur (Feature Engineering)**\n",
        "    - Menciptakan fitur-fitur baru yang potensial atau melakukan seleksi fitur untuk meningkatkan performa model.\n",
        "5.  **Pemodelan (Modeling)**\n",
        "    - Mengeksplorasi berbagai algoritma klasifikasi, melatih model, dan melakukan evaluasi awal menggunakan teknik validasi silang.\n",
        "6.  **Penyetelan Hiperparameter (Hyperparameter Tuning)**\n",
        "    - Mengoptimalkan parameter dari model-model kandidat terbaik untuk mencapai performa maksimal.\n",
        "7.  **Evaluasi Model Final**\n",
        "    - Menganalisis performa model terbaik pada data yang relevan dan memastikan robustisitasnya.\n",
        "8.  **Pembuatan File Submission**\n",
        "    - Menghasilkan prediksi probabilitas pada dataset validasi menggunakan model final dan menyusunnya sesuai format yang ditentukan.\n",
        "9.  **Kesimpulan & Refleksi**\n",
        "    - Merangkum temuan utama, tantangan yang dihadapi, dan potensi pengembangan lebih lanjut.\n",
        "\n",
        "Setiap tahapan akan didokumentasikan secara detail dalam *notebook* ini untuk memastikan transparansi dan reproduktifitas hasil."
      ]
    },
    {
      "cell_type": "markdown",
      "metadata": {
        "id": "uYrS3cteGIVt"
      },
      "source": [
        "## **2. Persiapan Lingkungan & Import Librar**y"
      ]
    },
    {
      "cell_type": "markdown",
      "metadata": {
        "id": "kOX7qigvGIRO"
      },
      "source": [
        "Tahap ini bertujuan untuk mempersiapkan lingkungan kerja serta mengimpor semua pustaka (library) Python yang akan kita gunakan sepanjang proyek ini. Pengaturan konfigurasi awal juga dilakukan di sini untuk memastikan reproduktifitas hasil dan tampilan output yang lebih baik."
      ]
    },
    {
      "cell_type": "markdown",
      "metadata": {
        "id": "CPm7B531GH9I"
      },
      "source": [
        "### **2.1. Pengaturan Konfigurasi Awal**\n",
        "\n",
        "Pengaturan ini mencakup penetapan *random seed* untuk konsistensi hasil pada operasi yang melibatkan proses acak, serta konfigurasi tampilan untuk *library* Pandas agar output data lebih mudah dibaca."
      ]
    },
    {
      "cell_type": "code",
      "execution_count": 1,
      "metadata": {
        "id": "dgrbzie3I8vy"
      },
      "outputs": [],
      "source": [
        "import os\n",
        "import random\n",
        "import numpy as np\n",
        "import pandas as pd\n",
        "\n",
        "# Pengaturan Random Seed untuk Reproduktifitas\n",
        "RANDOM_STATE = 42\n",
        "\n",
        "# Pengaturan Opsi Tampilan Pandas\n",
        "pd.set_option(\"display.max_columns\", None)  # Menampilkan semua kolom DataFrame\n",
        "pd.set_option(\"display.max_rows\", 100)  # Menampilkan maksimal 100 baris DataFrame\n",
        "pd.set_option(\n",
        "    \"display.float_format\", lambda x: \"%.3f\" % x\n",
        ")  # Format angka float menjadi 3 desimal\n",
        "pd.set_option(\"display.width\", 1000)  # Mengatur lebar tampilan output\n",
        "\n",
        "# Menonaktifkan Peringatan yang Tidak Kritis\n",
        "import warnings\n",
        "\n",
        "warnings.filterwarnings(\"ignore\", category=FutureWarning)\n",
        "warnings.filterwarnings(\"ignore\", category=UserWarning)\n",
        "# warnings.filterwarnings('ignore', category=DeprecationWarning) # Hati-hati jika menggunakan ini"
      ]
    },
    {
      "cell_type": "markdown",
      "metadata": {
        "id": "HK7paISdI4m-"
      },
      "source": [
        "### **2.2. Import Library yang Dibutuhkan**\n",
        "\n",
        "Berikut adalah daftar *library* utama yang akan digunakan dalam proyek ini. Kebutuhan *library* mungkin akan bertambah ataupun tidak digunakan seiring dengan pengembangan dan kebutuhan solusi.\n",
        "\n",
        "*   **Manipulasi Data**: `numpy` dan `pandas`.\n",
        "*   **Visualisasi Data**: `matplotlib` dan `seaborn`.\n",
        "*   **Pra-pemrosesan & Pemodelan**: `scikit-learn`.\n",
        "*   **Model Boosting Lanjutan**: `xgboost`, `lightgbm`, `catboost`.\n",
        "*   **Penanganan Imbalance**: `imblearn`."
      ]
    },
    {
      "cell_type": "markdown",
      "metadata": {
        "id": "48nQrTnDLP-9"
      },
      "source": [
        "Fungsi ini digunakan untuk membaca file langsung dari Google Drive tanpa harus meng mount Drive terlebih dahulu, asalkan file tersebut diatur untuk bisa dibagikan (shared) dengan mode \"Anyone with the link\"."
      ]
    },
    {
      "cell_type": "code",
      "execution_count": null,
      "metadata": {
        "id": "GIrMUUmgJNIU"
      },
      "outputs": [],
      "source": [
        "import numpy as np\n",
        "import pandas as pd\n",
        "import plotly.express as px\n",
        "from imblearn.under_sampling import EditedNearestNeighbours, TomekLinks\n",
        "from lightgbm import LGBMClassifier\n",
        "import matplotlib.pyplot as plt\n",
        "import seaborn as sns\n",
        "from sklearn.ensemble import (\n",
        "    AdaBoostClassifier,\n",
        "    GradientBoostingClassifier,\n",
        "    HistGradientBoostingClassifier,\n",
        "    RandomForestClassifier,\n",
        ")\n",
        "import xgboost as xgb\n",
        "from sklearn.model_selection import cross_val_score\n",
        "import optuna\n",
        "from sklearn.ensemble import VotingClassifier\n",
        "from xgboost import XGBClassifier\n",
        "from hyperopt import STATUS_OK, Trials, fmin, hp, tpe\n",
        "from sklearn.feature_selection import RFECV, chi2\n",
        "from sklearn.linear_model import LogisticRegression\n",
        "from sklearn.model_selection import train_test_split\n",
        "from sklearn.preprocessing import LabelEncoder, StandardScaler\n",
        "from sklearn.tree import DecisionTreeClassifier, ExtraTreeClassifier\n",
        "from smote_variants import SMOTE_ENN, Safe_Level_SMOTE, SMOTE_TomekLinks\n",
        "from xgboost import XGBClassifier\n",
        "from sklearn.model_selection import cross_val_score, StratifiedKFold\n",
        "\n",
        "import sys\n",
        "import os\n",
        "\n",
        "from src.model_development import (\n",
        "    train_and_evaluate_models,\n",
        "    train_and_evaluate_models_cv,\n",
        "    is_model_fitted,\n",
        "    train_model,\n",
        "    save_model,\n",
        ")\n",
        "\n",
        "from src.visualization import plot_multi_histogram, plot_correlation_matrix"
      ]
    },
    {
      "cell_type": "markdown",
      "metadata": {
        "id": "Ny3Z4pU6KCfO"
      },
      "source": [
        "## **3. Pemuatan Data (Data Loading)**"
      ]
    },
    {
      "cell_type": "markdown",
      "metadata": {
        "id": "0PiH4i6SKOGb"
      },
      "source": [
        "### **3.1. Mendefinisikan Path ke Dataset (Training & Validation)**"
      ]
    },
    {
      "cell_type": "code",
      "execution_count": null,
      "metadata": {},
      "outputs": [],
      "source": [
        "def url_converter(url):\n",
        "    path = \"https://drive.google.com/uc?export=download&id=\" + url.split(\"/\")[-2]\n",
        "\n",
        "    return path"
      ]
    },
    {
      "cell_type": "code",
      "execution_count": 6,
      "metadata": {
        "colab": {
          "base_uri": "https://localhost:8080/"
        },
        "id": "xMwjZWFCKJWk",
        "outputId": "3b8403f6-74c4-4c87-ed2c-0172829923c3"
      },
      "outputs": [
        {
          "name": "stdout",
          "output_type": "stream",
          "text": [
            "Path dataset training: \"https://drive.google.com/file/d/1ypgjcxdI0IMpLA2bQGrI02HaVG9afS0X/view?usp=sharing\"\n",
            "Path dataset validasi: https://drive.google.com/file/d/1QlOEmXTwpQpCf2F8nA1GdnbTxrXrVRtu/view?usp=sharing\n"
          ]
        }
      ],
      "source": [
        "train_path = '\"https://drive.google.com/file/d/1ypgjcxdI0IMpLA2bQGrI02HaVG9afS0X/view?usp=sharing\"'\n",
        "\n",
        "validation_path = (\n",
        "    \"https://drive.google.com/file/d/1QlOEmXTwpQpCf2F8nA1GdnbTxrXrVRtu/view?usp=sharing\"\n",
        ")\n",
        "\n",
        "print(f\"Path dataset training: {train_path}\")\n",
        "print(f\"Path dataset validasi: {validation_path}\")"
      ]
    },
    {
      "cell_type": "markdown",
      "metadata": {
        "id": "g1E0EkZlKkrz"
      },
      "source": [
        "### **3.2. Membaca Dataset Training (`df_train`)**"
      ]
    },
    {
      "cell_type": "code",
      "execution_count": 7,
      "metadata": {
        "colab": {
          "base_uri": "https://localhost:8080/",
          "height": 365
        },
        "id": "8M38bHCaKgLo",
        "outputId": "f2b65876-74d8-472e-bf1d-d78c0db5faf7"
      },
      "outputs": [
        {
          "data": {
            "text/html": [
              "<div>\n",
              "<style scoped>\n",
              "    .dataframe tbody tr th:only-of-type {\n",
              "        vertical-align: middle;\n",
              "    }\n",
              "\n",
              "    .dataframe tbody tr th {\n",
              "        vertical-align: top;\n",
              "    }\n",
              "\n",
              "    .dataframe thead th {\n",
              "        text-align: right;\n",
              "    }\n",
              "</style>\n",
              "<table border=\"1\" class=\"dataframe\">\n",
              "  <thead>\n",
              "    <tr style=\"text-align: right;\">\n",
              "      <th></th>\n",
              "      <th>customer_number</th>\n",
              "      <th>usia</th>\n",
              "      <th>pekerjaan</th>\n",
              "      <th>status_perkawinan</th>\n",
              "      <th>pendidikan</th>\n",
              "      <th>gagal_bayar_sebelumnya</th>\n",
              "      <th>pinjaman_rumah</th>\n",
              "      <th>pinjaman_pribadi</th>\n",
              "      <th>jenis_kontak</th>\n",
              "      <th>bulan_kontak_terakhir</th>\n",
              "      <th>hari_kontak_terakhir</th>\n",
              "      <th>jumlah_kontak_kampanye_ini</th>\n",
              "      <th>hari_sejak_kontak_sebelumnya</th>\n",
              "      <th>jumlah_kontak_sebelumnya</th>\n",
              "      <th>hasil_kampanye_sebelumnya</th>\n",
              "      <th>tingkat_variasi_pekerjaan</th>\n",
              "      <th>indeks_harga_konsumen</th>\n",
              "      <th>indeks_kepercayaan_konsumen</th>\n",
              "      <th>suku_bunga_euribor_3bln</th>\n",
              "      <th>jumlah_pekerja</th>\n",
              "      <th>pulau</th>\n",
              "      <th>berlangganan_deposito</th>\n",
              "    </tr>\n",
              "  </thead>\n",
              "  <tbody>\n",
              "    <tr>\n",
              "      <th>0</th>\n",
              "      <td>531036</td>\n",
              "      <td>63</td>\n",
              "      <td>sosial media specialis</td>\n",
              "      <td>menikah</td>\n",
              "      <td>Pendidikan Tinggi</td>\n",
              "      <td>no</td>\n",
              "      <td>yes</td>\n",
              "      <td>no</td>\n",
              "      <td>cellular</td>\n",
              "      <td>jul</td>\n",
              "      <td>fri</td>\n",
              "      <td>2</td>\n",
              "      <td>999</td>\n",
              "      <td>0</td>\n",
              "      <td>nonexistent</td>\n",
              "      <td>-1.700</td>\n",
              "      <td>94.215</td>\n",
              "      <td>-40.300</td>\n",
              "      <td>0.885</td>\n",
              "      <td>4991.600</td>\n",
              "      <td>Papua</td>\n",
              "      <td>1</td>\n",
              "    </tr>\n",
              "    <tr>\n",
              "      <th>1</th>\n",
              "      <td>999241</td>\n",
              "      <td>43</td>\n",
              "      <td>teknisi</td>\n",
              "      <td>menikah</td>\n",
              "      <td>Pendidikan Tinggi</td>\n",
              "      <td>no</td>\n",
              "      <td>yes</td>\n",
              "      <td>no</td>\n",
              "      <td>cellular</td>\n",
              "      <td>nov</td>\n",
              "      <td>fri</td>\n",
              "      <td>2</td>\n",
              "      <td>999</td>\n",
              "      <td>0</td>\n",
              "      <td>nonexistent</td>\n",
              "      <td>-0.100</td>\n",
              "      <td>93.200</td>\n",
              "      <td>-42.000</td>\n",
              "      <td>4.021</td>\n",
              "      <td>5195.800</td>\n",
              "      <td>Sulawesi</td>\n",
              "      <td>0</td>\n",
              "    </tr>\n",
              "    <tr>\n",
              "      <th>2</th>\n",
              "      <td>995002</td>\n",
              "      <td>29</td>\n",
              "      <td>sosial media specialis</td>\n",
              "      <td>lajang</td>\n",
              "      <td>Pendidikan Tinggi</td>\n",
              "      <td>no</td>\n",
              "      <td>yes</td>\n",
              "      <td>yes</td>\n",
              "      <td>cellular</td>\n",
              "      <td>jul</td>\n",
              "      <td>thu</td>\n",
              "      <td>1</td>\n",
              "      <td>999</td>\n",
              "      <td>0</td>\n",
              "      <td>nonexistent</td>\n",
              "      <td>1.400</td>\n",
              "      <td>93.918</td>\n",
              "      <td>-42.700</td>\n",
              "      <td>4.958</td>\n",
              "      <td>5228.100</td>\n",
              "      <td>Papua</td>\n",
              "      <td>0</td>\n",
              "    </tr>\n",
              "    <tr>\n",
              "      <th>3</th>\n",
              "      <td>932750</td>\n",
              "      <td>40</td>\n",
              "      <td>pekerja kasar</td>\n",
              "      <td>menikah</td>\n",
              "      <td>SMA</td>\n",
              "      <td>no</td>\n",
              "      <td>no</td>\n",
              "      <td>no</td>\n",
              "      <td>telephone</td>\n",
              "      <td>may</td>\n",
              "      <td>wed</td>\n",
              "      <td>2</td>\n",
              "      <td>999</td>\n",
              "      <td>0</td>\n",
              "      <td>nonexistent</td>\n",
              "      <td>1.100</td>\n",
              "      <td>93.994</td>\n",
              "      <td>-36.400</td>\n",
              "      <td>4.859</td>\n",
              "      <td>5191.000</td>\n",
              "      <td>Sumatera</td>\n",
              "      <td>1</td>\n",
              "    </tr>\n",
              "    <tr>\n",
              "      <th>4</th>\n",
              "      <td>684699</td>\n",
              "      <td>40</td>\n",
              "      <td>sosial media specialis</td>\n",
              "      <td>lajang</td>\n",
              "      <td>Pendidikan Tinggi</td>\n",
              "      <td>no</td>\n",
              "      <td>no</td>\n",
              "      <td>no</td>\n",
              "      <td>cellular</td>\n",
              "      <td>aug</td>\n",
              "      <td>wed</td>\n",
              "      <td>3</td>\n",
              "      <td>999</td>\n",
              "      <td>0</td>\n",
              "      <td>nonexistent</td>\n",
              "      <td>1.400</td>\n",
              "      <td>93.444</td>\n",
              "      <td>-36.100</td>\n",
              "      <td>4.964</td>\n",
              "      <td>5228.100</td>\n",
              "      <td>Bali</td>\n",
              "      <td>0</td>\n",
              "    </tr>\n",
              "  </tbody>\n",
              "</table>\n",
              "</div>"
            ],
            "text/plain": [
              "   customer_number  usia               pekerjaan status_perkawinan         pendidikan gagal_bayar_sebelumnya pinjaman_rumah pinjaman_pribadi jenis_kontak bulan_kontak_terakhir hari_kontak_terakhir  jumlah_kontak_kampanye_ini  hari_sejak_kontak_sebelumnya  jumlah_kontak_sebelumnya hasil_kampanye_sebelumnya  tingkat_variasi_pekerjaan  indeks_harga_konsumen  indeks_kepercayaan_konsumen  suku_bunga_euribor_3bln  jumlah_pekerja     pulau  berlangganan_deposito\n",
              "0           531036    63  sosial media specialis           menikah  Pendidikan Tinggi                     no            yes               no     cellular                   jul                  fri                           2                           999                         0               nonexistent                     -1.700                 94.215                      -40.300                    0.885        4991.600     Papua                      1\n",
              "1           999241    43                 teknisi           menikah  Pendidikan Tinggi                     no            yes               no     cellular                   nov                  fri                           2                           999                         0               nonexistent                     -0.100                 93.200                      -42.000                    4.021        5195.800  Sulawesi                      0\n",
              "2           995002    29  sosial media specialis            lajang  Pendidikan Tinggi                     no            yes              yes     cellular                   jul                  thu                           1                           999                         0               nonexistent                      1.400                 93.918                      -42.700                    4.958        5228.100     Papua                      0\n",
              "3           932750    40           pekerja kasar           menikah                SMA                     no             no               no    telephone                   may                  wed                           2                           999                         0               nonexistent                      1.100                 93.994                      -36.400                    4.859        5191.000  Sumatera                      1\n",
              "4           684699    40  sosial media specialis            lajang  Pendidikan Tinggi                     no             no               no     cellular                   aug                  wed                           3                           999                         0               nonexistent                      1.400                 93.444                      -36.100                    4.964        5228.100      Bali                      0"
            ]
          },
          "execution_count": 7,
          "metadata": {},
          "output_type": "execute_result"
        }
      ],
      "source": [
        "df_train = pd.read_csv(url_converter(train_path))\n",
        "\n",
        "df_train.head()"
      ]
    },
    {
      "cell_type": "markdown",
      "metadata": {
        "id": "z3FWcImRKu0s"
      },
      "source": [
        "### **3.3. Membaca Dataset Validasi (`df_val`)**"
      ]
    },
    {
      "cell_type": "code",
      "execution_count": 8,
      "metadata": {
        "colab": {
          "base_uri": "https://localhost:8080/",
          "height": 226
        },
        "id": "XkXIVH9RKyFk",
        "outputId": "3e0cf4b9-bccf-4c7e-94b2-301efbbd6e84"
      },
      "outputs": [
        {
          "data": {
            "text/html": [
              "<div>\n",
              "<style scoped>\n",
              "    .dataframe tbody tr th:only-of-type {\n",
              "        vertical-align: middle;\n",
              "    }\n",
              "\n",
              "    .dataframe tbody tr th {\n",
              "        vertical-align: top;\n",
              "    }\n",
              "\n",
              "    .dataframe thead th {\n",
              "        text-align: right;\n",
              "    }\n",
              "</style>\n",
              "<table border=\"1\" class=\"dataframe\">\n",
              "  <thead>\n",
              "    <tr style=\"text-align: right;\">\n",
              "      <th></th>\n",
              "      <th>customer_number</th>\n",
              "      <th>usia</th>\n",
              "      <th>pekerjaan</th>\n",
              "      <th>status_perkawinan</th>\n",
              "      <th>pendidikan</th>\n",
              "      <th>gagal_bayar_sebelumnya</th>\n",
              "      <th>pinjaman_rumah</th>\n",
              "      <th>pinjaman_pribadi</th>\n",
              "      <th>jenis_kontak</th>\n",
              "      <th>bulan_kontak_terakhir</th>\n",
              "      <th>hari_kontak_terakhir</th>\n",
              "      <th>jumlah_kontak_kampanye_ini</th>\n",
              "      <th>hari_sejak_kontak_sebelumnya</th>\n",
              "      <th>jumlah_kontak_sebelumnya</th>\n",
              "      <th>hasil_kampanye_sebelumnya</th>\n",
              "      <th>tingkat_variasi_pekerjaan</th>\n",
              "      <th>indeks_harga_konsumen</th>\n",
              "      <th>indeks_kepercayaan_konsumen</th>\n",
              "      <th>suku_bunga_euribor_3bln</th>\n",
              "      <th>jumlah_pekerja</th>\n",
              "      <th>pulau</th>\n",
              "    </tr>\n",
              "  </thead>\n",
              "  <tbody>\n",
              "    <tr>\n",
              "      <th>0</th>\n",
              "      <td>445420</td>\n",
              "      <td>35</td>\n",
              "      <td>penyedia jasa</td>\n",
              "      <td>menikah</td>\n",
              "      <td>SMA</td>\n",
              "      <td>no</td>\n",
              "      <td>yes</td>\n",
              "      <td>yes</td>\n",
              "      <td>cellular</td>\n",
              "      <td>jul</td>\n",
              "      <td>mon</td>\n",
              "      <td>1</td>\n",
              "      <td>999</td>\n",
              "      <td>0</td>\n",
              "      <td>nonexistent</td>\n",
              "      <td>1.400</td>\n",
              "      <td>93.918</td>\n",
              "      <td>-42.700</td>\n",
              "      <td>4.960</td>\n",
              "      <td>5228.100</td>\n",
              "      <td>Jawa</td>\n",
              "    </tr>\n",
              "    <tr>\n",
              "      <th>1</th>\n",
              "      <td>585604</td>\n",
              "      <td>52</td>\n",
              "      <td>teknisi</td>\n",
              "      <td>lajang</td>\n",
              "      <td>Diploma</td>\n",
              "      <td>unknown</td>\n",
              "      <td>no</td>\n",
              "      <td>no</td>\n",
              "      <td>telephone</td>\n",
              "      <td>may</td>\n",
              "      <td>thu</td>\n",
              "      <td>4</td>\n",
              "      <td>999</td>\n",
              "      <td>0</td>\n",
              "      <td>nonexistent</td>\n",
              "      <td>1.100</td>\n",
              "      <td>93.994</td>\n",
              "      <td>-36.400</td>\n",
              "      <td>4.860</td>\n",
              "      <td>5191.000</td>\n",
              "      <td>Papua</td>\n",
              "    </tr>\n",
              "    <tr>\n",
              "      <th>2</th>\n",
              "      <td>888824</td>\n",
              "      <td>37</td>\n",
              "      <td>pekerja kasar</td>\n",
              "      <td>menikah</td>\n",
              "      <td>SMP</td>\n",
              "      <td>unknown</td>\n",
              "      <td>yes</td>\n",
              "      <td>no</td>\n",
              "      <td>telephone</td>\n",
              "      <td>may</td>\n",
              "      <td>wed</td>\n",
              "      <td>3</td>\n",
              "      <td>999</td>\n",
              "      <td>0</td>\n",
              "      <td>nonexistent</td>\n",
              "      <td>1.100</td>\n",
              "      <td>93.994</td>\n",
              "      <td>-36.400</td>\n",
              "      <td>4.856</td>\n",
              "      <td>5191.000</td>\n",
              "      <td>Bali</td>\n",
              "    </tr>\n",
              "    <tr>\n",
              "      <th>3</th>\n",
              "      <td>816820</td>\n",
              "      <td>51</td>\n",
              "      <td>pengangguran</td>\n",
              "      <td>menikah</td>\n",
              "      <td>Diploma</td>\n",
              "      <td>no</td>\n",
              "      <td>no</td>\n",
              "      <td>no</td>\n",
              "      <td>telephone</td>\n",
              "      <td>may</td>\n",
              "      <td>tue</td>\n",
              "      <td>3</td>\n",
              "      <td>999</td>\n",
              "      <td>0</td>\n",
              "      <td>nonexistent</td>\n",
              "      <td>1.100</td>\n",
              "      <td>93.994</td>\n",
              "      <td>-36.400</td>\n",
              "      <td>4.857</td>\n",
              "      <td>5191.000</td>\n",
              "      <td>Sumatera</td>\n",
              "    </tr>\n",
              "    <tr>\n",
              "      <th>4</th>\n",
              "      <td>542716</td>\n",
              "      <td>45</td>\n",
              "      <td>teknisi</td>\n",
              "      <td>cerai</td>\n",
              "      <td>SMA</td>\n",
              "      <td>no</td>\n",
              "      <td>yes</td>\n",
              "      <td>no</td>\n",
              "      <td>cellular</td>\n",
              "      <td>may</td>\n",
              "      <td>thu</td>\n",
              "      <td>1</td>\n",
              "      <td>999</td>\n",
              "      <td>1</td>\n",
              "      <td>failure</td>\n",
              "      <td>-1.800</td>\n",
              "      <td>92.893</td>\n",
              "      <td>-46.200</td>\n",
              "      <td>1.327</td>\n",
              "      <td>5099.100</td>\n",
              "      <td>Sumatera</td>\n",
              "    </tr>\n",
              "  </tbody>\n",
              "</table>\n",
              "</div>"
            ],
            "text/plain": [
              "   customer_number  usia      pekerjaan status_perkawinan pendidikan gagal_bayar_sebelumnya pinjaman_rumah pinjaman_pribadi jenis_kontak bulan_kontak_terakhir hari_kontak_terakhir  jumlah_kontak_kampanye_ini  hari_sejak_kontak_sebelumnya  jumlah_kontak_sebelumnya hasil_kampanye_sebelumnya  tingkat_variasi_pekerjaan  indeks_harga_konsumen  indeks_kepercayaan_konsumen  suku_bunga_euribor_3bln  jumlah_pekerja     pulau\n",
              "0           445420    35  penyedia jasa           menikah        SMA                     no            yes              yes     cellular                   jul                  mon                           1                           999                         0               nonexistent                      1.400                 93.918                      -42.700                    4.960        5228.100      Jawa\n",
              "1           585604    52        teknisi            lajang    Diploma                unknown             no               no    telephone                   may                  thu                           4                           999                         0               nonexistent                      1.100                 93.994                      -36.400                    4.860        5191.000     Papua\n",
              "2           888824    37  pekerja kasar           menikah        SMP                unknown            yes               no    telephone                   may                  wed                           3                           999                         0               nonexistent                      1.100                 93.994                      -36.400                    4.856        5191.000      Bali\n",
              "3           816820    51   pengangguran           menikah    Diploma                     no             no               no    telephone                   may                  tue                           3                           999                         0               nonexistent                      1.100                 93.994                      -36.400                    4.857        5191.000  Sumatera\n",
              "4           542716    45        teknisi             cerai        SMA                     no            yes               no     cellular                   may                  thu                           1                           999                         1                   failure                     -1.800                 92.893                      -46.200                    1.327        5099.100  Sumatera"
            ]
          },
          "execution_count": 8,
          "metadata": {},
          "output_type": "execute_result"
        }
      ],
      "source": [
        "df_val = pd.read_csv(url_converter(validation_path))\n",
        "\n",
        "df_val.head()"
      ]
    },
    {
      "cell_type": "markdown",
      "metadata": {
        "id": "oenYZo6ZLWvH"
      },
      "source": [
        "### **3.4. Tinjauan Awal Data (Head, Tail, Shape, Info) untuk Kedua Dataset**"
      ]
    },
    {
      "cell_type": "markdown",
      "metadata": {
        "id": "1FRP5VQzLc39"
      },
      "source": [
        "#### **3.4.1. Tinjauan Awal Dataset Training (`df_train`)**"
      ]
    },
    {
      "cell_type": "markdown",
      "metadata": {
        "id": "uQbgDX0SMRCW"
      },
      "source": [
        "##### **3.4.1.1. Lima baris pertama (head)**"
      ]
    },
    {
      "cell_type": "code",
      "execution_count": 9,
      "metadata": {
        "colab": {
          "base_uri": "https://localhost:8080/",
          "height": 365
        },
        "id": "T8mPJCpDMQUT",
        "outputId": "6df948c5-ae84-448a-847d-1b08488e1a9f"
      },
      "outputs": [
        {
          "data": {
            "text/html": [
              "<div>\n",
              "<style scoped>\n",
              "    .dataframe tbody tr th:only-of-type {\n",
              "        vertical-align: middle;\n",
              "    }\n",
              "\n",
              "    .dataframe tbody tr th {\n",
              "        vertical-align: top;\n",
              "    }\n",
              "\n",
              "    .dataframe thead th {\n",
              "        text-align: right;\n",
              "    }\n",
              "</style>\n",
              "<table border=\"1\" class=\"dataframe\">\n",
              "  <thead>\n",
              "    <tr style=\"text-align: right;\">\n",
              "      <th></th>\n",
              "      <th>customer_number</th>\n",
              "      <th>usia</th>\n",
              "      <th>pekerjaan</th>\n",
              "      <th>status_perkawinan</th>\n",
              "      <th>pendidikan</th>\n",
              "      <th>gagal_bayar_sebelumnya</th>\n",
              "      <th>pinjaman_rumah</th>\n",
              "      <th>pinjaman_pribadi</th>\n",
              "      <th>jenis_kontak</th>\n",
              "      <th>bulan_kontak_terakhir</th>\n",
              "      <th>hari_kontak_terakhir</th>\n",
              "      <th>jumlah_kontak_kampanye_ini</th>\n",
              "      <th>hari_sejak_kontak_sebelumnya</th>\n",
              "      <th>jumlah_kontak_sebelumnya</th>\n",
              "      <th>hasil_kampanye_sebelumnya</th>\n",
              "      <th>tingkat_variasi_pekerjaan</th>\n",
              "      <th>indeks_harga_konsumen</th>\n",
              "      <th>indeks_kepercayaan_konsumen</th>\n",
              "      <th>suku_bunga_euribor_3bln</th>\n",
              "      <th>jumlah_pekerja</th>\n",
              "      <th>pulau</th>\n",
              "      <th>berlangganan_deposito</th>\n",
              "    </tr>\n",
              "  </thead>\n",
              "  <tbody>\n",
              "    <tr>\n",
              "      <th>0</th>\n",
              "      <td>531036</td>\n",
              "      <td>63</td>\n",
              "      <td>sosial media specialis</td>\n",
              "      <td>menikah</td>\n",
              "      <td>Pendidikan Tinggi</td>\n",
              "      <td>no</td>\n",
              "      <td>yes</td>\n",
              "      <td>no</td>\n",
              "      <td>cellular</td>\n",
              "      <td>jul</td>\n",
              "      <td>fri</td>\n",
              "      <td>2</td>\n",
              "      <td>999</td>\n",
              "      <td>0</td>\n",
              "      <td>nonexistent</td>\n",
              "      <td>-1.700</td>\n",
              "      <td>94.215</td>\n",
              "      <td>-40.300</td>\n",
              "      <td>0.885</td>\n",
              "      <td>4991.600</td>\n",
              "      <td>Papua</td>\n",
              "      <td>1</td>\n",
              "    </tr>\n",
              "    <tr>\n",
              "      <th>1</th>\n",
              "      <td>999241</td>\n",
              "      <td>43</td>\n",
              "      <td>teknisi</td>\n",
              "      <td>menikah</td>\n",
              "      <td>Pendidikan Tinggi</td>\n",
              "      <td>no</td>\n",
              "      <td>yes</td>\n",
              "      <td>no</td>\n",
              "      <td>cellular</td>\n",
              "      <td>nov</td>\n",
              "      <td>fri</td>\n",
              "      <td>2</td>\n",
              "      <td>999</td>\n",
              "      <td>0</td>\n",
              "      <td>nonexistent</td>\n",
              "      <td>-0.100</td>\n",
              "      <td>93.200</td>\n",
              "      <td>-42.000</td>\n",
              "      <td>4.021</td>\n",
              "      <td>5195.800</td>\n",
              "      <td>Sulawesi</td>\n",
              "      <td>0</td>\n",
              "    </tr>\n",
              "    <tr>\n",
              "      <th>2</th>\n",
              "      <td>995002</td>\n",
              "      <td>29</td>\n",
              "      <td>sosial media specialis</td>\n",
              "      <td>lajang</td>\n",
              "      <td>Pendidikan Tinggi</td>\n",
              "      <td>no</td>\n",
              "      <td>yes</td>\n",
              "      <td>yes</td>\n",
              "      <td>cellular</td>\n",
              "      <td>jul</td>\n",
              "      <td>thu</td>\n",
              "      <td>1</td>\n",
              "      <td>999</td>\n",
              "      <td>0</td>\n",
              "      <td>nonexistent</td>\n",
              "      <td>1.400</td>\n",
              "      <td>93.918</td>\n",
              "      <td>-42.700</td>\n",
              "      <td>4.958</td>\n",
              "      <td>5228.100</td>\n",
              "      <td>Papua</td>\n",
              "      <td>0</td>\n",
              "    </tr>\n",
              "    <tr>\n",
              "      <th>3</th>\n",
              "      <td>932750</td>\n",
              "      <td>40</td>\n",
              "      <td>pekerja kasar</td>\n",
              "      <td>menikah</td>\n",
              "      <td>SMA</td>\n",
              "      <td>no</td>\n",
              "      <td>no</td>\n",
              "      <td>no</td>\n",
              "      <td>telephone</td>\n",
              "      <td>may</td>\n",
              "      <td>wed</td>\n",
              "      <td>2</td>\n",
              "      <td>999</td>\n",
              "      <td>0</td>\n",
              "      <td>nonexistent</td>\n",
              "      <td>1.100</td>\n",
              "      <td>93.994</td>\n",
              "      <td>-36.400</td>\n",
              "      <td>4.859</td>\n",
              "      <td>5191.000</td>\n",
              "      <td>Sumatera</td>\n",
              "      <td>1</td>\n",
              "    </tr>\n",
              "    <tr>\n",
              "      <th>4</th>\n",
              "      <td>684699</td>\n",
              "      <td>40</td>\n",
              "      <td>sosial media specialis</td>\n",
              "      <td>lajang</td>\n",
              "      <td>Pendidikan Tinggi</td>\n",
              "      <td>no</td>\n",
              "      <td>no</td>\n",
              "      <td>no</td>\n",
              "      <td>cellular</td>\n",
              "      <td>aug</td>\n",
              "      <td>wed</td>\n",
              "      <td>3</td>\n",
              "      <td>999</td>\n",
              "      <td>0</td>\n",
              "      <td>nonexistent</td>\n",
              "      <td>1.400</td>\n",
              "      <td>93.444</td>\n",
              "      <td>-36.100</td>\n",
              "      <td>4.964</td>\n",
              "      <td>5228.100</td>\n",
              "      <td>Bali</td>\n",
              "      <td>0</td>\n",
              "    </tr>\n",
              "  </tbody>\n",
              "</table>\n",
              "</div>"
            ],
            "text/plain": [
              "   customer_number  usia               pekerjaan status_perkawinan         pendidikan gagal_bayar_sebelumnya pinjaman_rumah pinjaman_pribadi jenis_kontak bulan_kontak_terakhir hari_kontak_terakhir  jumlah_kontak_kampanye_ini  hari_sejak_kontak_sebelumnya  jumlah_kontak_sebelumnya hasil_kampanye_sebelumnya  tingkat_variasi_pekerjaan  indeks_harga_konsumen  indeks_kepercayaan_konsumen  suku_bunga_euribor_3bln  jumlah_pekerja     pulau  berlangganan_deposito\n",
              "0           531036    63  sosial media specialis           menikah  Pendidikan Tinggi                     no            yes               no     cellular                   jul                  fri                           2                           999                         0               nonexistent                     -1.700                 94.215                      -40.300                    0.885        4991.600     Papua                      1\n",
              "1           999241    43                 teknisi           menikah  Pendidikan Tinggi                     no            yes               no     cellular                   nov                  fri                           2                           999                         0               nonexistent                     -0.100                 93.200                      -42.000                    4.021        5195.800  Sulawesi                      0\n",
              "2           995002    29  sosial media specialis            lajang  Pendidikan Tinggi                     no            yes              yes     cellular                   jul                  thu                           1                           999                         0               nonexistent                      1.400                 93.918                      -42.700                    4.958        5228.100     Papua                      0\n",
              "3           932750    40           pekerja kasar           menikah                SMA                     no             no               no    telephone                   may                  wed                           2                           999                         0               nonexistent                      1.100                 93.994                      -36.400                    4.859        5191.000  Sumatera                      1\n",
              "4           684699    40  sosial media specialis            lajang  Pendidikan Tinggi                     no             no               no     cellular                   aug                  wed                           3                           999                         0               nonexistent                      1.400                 93.444                      -36.100                    4.964        5228.100      Bali                      0"
            ]
          },
          "execution_count": 9,
          "metadata": {},
          "output_type": "execute_result"
        }
      ],
      "source": [
        "df_train.head()"
      ]
    },
    {
      "cell_type": "markdown",
      "metadata": {
        "id": "TM4iLXqFMZbT"
      },
      "source": [
        "##### **3.4.1.2. Lima baris terakhir (tail)**"
      ]
    },
    {
      "cell_type": "code",
      "execution_count": 10,
      "metadata": {
        "colab": {
          "base_uri": "https://localhost:8080/",
          "height": 261
        },
        "id": "YyxlsL44MaD-",
        "outputId": "8fdd16a8-b69d-4b44-8f54-c079ae43ebf0"
      },
      "outputs": [
        {
          "data": {
            "text/html": [
              "<div>\n",
              "<style scoped>\n",
              "    .dataframe tbody tr th:only-of-type {\n",
              "        vertical-align: middle;\n",
              "    }\n",
              "\n",
              "    .dataframe tbody tr th {\n",
              "        vertical-align: top;\n",
              "    }\n",
              "\n",
              "    .dataframe thead th {\n",
              "        text-align: right;\n",
              "    }\n",
              "</style>\n",
              "<table border=\"1\" class=\"dataframe\">\n",
              "  <thead>\n",
              "    <tr style=\"text-align: right;\">\n",
              "      <th></th>\n",
              "      <th>customer_number</th>\n",
              "      <th>usia</th>\n",
              "      <th>pekerjaan</th>\n",
              "      <th>status_perkawinan</th>\n",
              "      <th>pendidikan</th>\n",
              "      <th>gagal_bayar_sebelumnya</th>\n",
              "      <th>pinjaman_rumah</th>\n",
              "      <th>pinjaman_pribadi</th>\n",
              "      <th>jenis_kontak</th>\n",
              "      <th>bulan_kontak_terakhir</th>\n",
              "      <th>hari_kontak_terakhir</th>\n",
              "      <th>jumlah_kontak_kampanye_ini</th>\n",
              "      <th>hari_sejak_kontak_sebelumnya</th>\n",
              "      <th>jumlah_kontak_sebelumnya</th>\n",
              "      <th>hasil_kampanye_sebelumnya</th>\n",
              "      <th>tingkat_variasi_pekerjaan</th>\n",
              "      <th>indeks_harga_konsumen</th>\n",
              "      <th>indeks_kepercayaan_konsumen</th>\n",
              "      <th>suku_bunga_euribor_3bln</th>\n",
              "      <th>jumlah_pekerja</th>\n",
              "      <th>pulau</th>\n",
              "      <th>berlangganan_deposito</th>\n",
              "    </tr>\n",
              "  </thead>\n",
              "  <tbody>\n",
              "    <tr>\n",
              "      <th>22911</th>\n",
              "      <td>680377</td>\n",
              "      <td>32</td>\n",
              "      <td>teknisi</td>\n",
              "      <td>menikah</td>\n",
              "      <td>Diploma</td>\n",
              "      <td>no</td>\n",
              "      <td>yes</td>\n",
              "      <td>no</td>\n",
              "      <td>cellular</td>\n",
              "      <td>aug</td>\n",
              "      <td>wed</td>\n",
              "      <td>2</td>\n",
              "      <td>999</td>\n",
              "      <td>0</td>\n",
              "      <td>nonexistent</td>\n",
              "      <td>1.400</td>\n",
              "      <td>93.444</td>\n",
              "      <td>-36.100</td>\n",
              "      <td>4.967</td>\n",
              "      <td>5228.100</td>\n",
              "      <td>Kalimantan</td>\n",
              "      <td>0</td>\n",
              "    </tr>\n",
              "    <tr>\n",
              "      <th>22912</th>\n",
              "      <td>505429</td>\n",
              "      <td>30</td>\n",
              "      <td>mahasiswa</td>\n",
              "      <td>lajang</td>\n",
              "      <td>Diploma</td>\n",
              "      <td>no</td>\n",
              "      <td>no</td>\n",
              "      <td>no</td>\n",
              "      <td>telephone</td>\n",
              "      <td>sep</td>\n",
              "      <td>tue</td>\n",
              "      <td>2</td>\n",
              "      <td>999</td>\n",
              "      <td>0</td>\n",
              "      <td>nonexistent</td>\n",
              "      <td>-1.100</td>\n",
              "      <td>94.199</td>\n",
              "      <td>-37.500</td>\n",
              "      <td>0.880</td>\n",
              "      <td>4963.600</td>\n",
              "      <td>Bali</td>\n",
              "      <td>0</td>\n",
              "    </tr>\n",
              "    <tr>\n",
              "      <th>22913</th>\n",
              "      <td>308952</td>\n",
              "      <td>29</td>\n",
              "      <td>manajer</td>\n",
              "      <td>lajang</td>\n",
              "      <td>SMA</td>\n",
              "      <td>no</td>\n",
              "      <td>yes</td>\n",
              "      <td>no</td>\n",
              "      <td>cellular</td>\n",
              "      <td>jul</td>\n",
              "      <td>wed</td>\n",
              "      <td>1</td>\n",
              "      <td>999</td>\n",
              "      <td>0</td>\n",
              "      <td>nonexistent</td>\n",
              "      <td>1.400</td>\n",
              "      <td>93.918</td>\n",
              "      <td>-42.700</td>\n",
              "      <td>4.962</td>\n",
              "      <td>5228.100</td>\n",
              "      <td>NTT</td>\n",
              "      <td>0</td>\n",
              "    </tr>\n",
              "    <tr>\n",
              "      <th>22914</th>\n",
              "      <td>865813</td>\n",
              "      <td>52</td>\n",
              "      <td>entrepreneur</td>\n",
              "      <td>menikah</td>\n",
              "      <td>Tidak Tamat SD</td>\n",
              "      <td>unknown</td>\n",
              "      <td>yes</td>\n",
              "      <td>no</td>\n",
              "      <td>telephone</td>\n",
              "      <td>jun</td>\n",
              "      <td>mon</td>\n",
              "      <td>2</td>\n",
              "      <td>999</td>\n",
              "      <td>0</td>\n",
              "      <td>nonexistent</td>\n",
              "      <td>1.400</td>\n",
              "      <td>94.465</td>\n",
              "      <td>-41.800</td>\n",
              "      <td>4.960</td>\n",
              "      <td>5228.100</td>\n",
              "      <td>NTB</td>\n",
              "      <td>0</td>\n",
              "    </tr>\n",
              "    <tr>\n",
              "      <th>22915</th>\n",
              "      <td>977067</td>\n",
              "      <td>49</td>\n",
              "      <td>pekerja kasar</td>\n",
              "      <td>menikah</td>\n",
              "      <td>Tidak Tamat SD</td>\n",
              "      <td>unknown</td>\n",
              "      <td>yes</td>\n",
              "      <td>no</td>\n",
              "      <td>telephone</td>\n",
              "      <td>may</td>\n",
              "      <td>thu</td>\n",
              "      <td>1</td>\n",
              "      <td>999</td>\n",
              "      <td>0</td>\n",
              "      <td>nonexistent</td>\n",
              "      <td>1.100</td>\n",
              "      <td>93.994</td>\n",
              "      <td>-36.400</td>\n",
              "      <td>4.855</td>\n",
              "      <td>5191.000</td>\n",
              "      <td>Papua</td>\n",
              "      <td>0</td>\n",
              "    </tr>\n",
              "  </tbody>\n",
              "</table>\n",
              "</div>"
            ],
            "text/plain": [
              "       customer_number  usia      pekerjaan status_perkawinan      pendidikan gagal_bayar_sebelumnya pinjaman_rumah pinjaman_pribadi jenis_kontak bulan_kontak_terakhir hari_kontak_terakhir  jumlah_kontak_kampanye_ini  hari_sejak_kontak_sebelumnya  jumlah_kontak_sebelumnya hasil_kampanye_sebelumnya  tingkat_variasi_pekerjaan  indeks_harga_konsumen  indeks_kepercayaan_konsumen  suku_bunga_euribor_3bln  jumlah_pekerja       pulau  berlangganan_deposito\n",
              "22911           680377    32        teknisi           menikah         Diploma                     no            yes               no     cellular                   aug                  wed                           2                           999                         0               nonexistent                      1.400                 93.444                      -36.100                    4.967        5228.100  Kalimantan                      0\n",
              "22912           505429    30      mahasiswa            lajang         Diploma                     no             no               no    telephone                   sep                  tue                           2                           999                         0               nonexistent                     -1.100                 94.199                      -37.500                    0.880        4963.600        Bali                      0\n",
              "22913           308952    29        manajer            lajang             SMA                     no            yes               no     cellular                   jul                  wed                           1                           999                         0               nonexistent                      1.400                 93.918                      -42.700                    4.962        5228.100         NTT                      0\n",
              "22914           865813    52   entrepreneur           menikah  Tidak Tamat SD                unknown            yes               no    telephone                   jun                  mon                           2                           999                         0               nonexistent                      1.400                 94.465                      -41.800                    4.960        5228.100         NTB                      0\n",
              "22915           977067    49  pekerja kasar           menikah  Tidak Tamat SD                unknown            yes               no    telephone                   may                  thu                           1                           999                         0               nonexistent                      1.100                 93.994                      -36.400                    4.855        5191.000       Papua                      0"
            ]
          },
          "execution_count": 10,
          "metadata": {},
          "output_type": "execute_result"
        }
      ],
      "source": [
        "df_train.tail()"
      ]
    },
    {
      "cell_type": "markdown",
      "metadata": {
        "id": "sSlfDU2oM-Nn"
      },
      "source": [
        "##### **3.4.1.3. Dimensi dataset (shape)**"
      ]
    },
    {
      "cell_type": "code",
      "execution_count": 11,
      "metadata": {
        "colab": {
          "base_uri": "https://localhost:8080/"
        },
        "id": "Kq66O892NU0E",
        "outputId": "b1001f97-e5af-4eda-b223-5fc0e017a744"
      },
      "outputs": [
        {
          "name": "stdout",
          "output_type": "stream",
          "text": [
            "Jumlah baris: 22916, Jumlah kolom: 22\n"
          ]
        }
      ],
      "source": [
        "print(f\"Jumlah baris: {df_train.shape[0]}, Jumlah kolom: {df_train.shape[1]}\")"
      ]
    },
    {
      "cell_type": "markdown",
      "metadata": {
        "id": "yCDAfUy7NG6I"
      },
      "source": [
        "##### **3.4.1.4. Informasi tipe data dan nilai non-null (info):**"
      ]
    },
    {
      "cell_type": "code",
      "execution_count": 12,
      "metadata": {
        "colab": {
          "base_uri": "https://localhost:8080/"
        },
        "id": "G_6Nh30LNVFu",
        "outputId": "2790e182-dafd-4b92-a7ff-cf3ed4561f8f"
      },
      "outputs": [
        {
          "name": "stdout",
          "output_type": "stream",
          "text": [
            "<class 'pandas.core.frame.DataFrame'>\n",
            "RangeIndex: 22916 entries, 0 to 22915\n",
            "Data columns (total 22 columns):\n",
            " #   Column                        Non-Null Count  Dtype  \n",
            "---  ------                        --------------  -----  \n",
            " 0   customer_number               22916 non-null  int64  \n",
            " 1   usia                          22916 non-null  int64  \n",
            " 2   pekerjaan                     22916 non-null  object \n",
            " 3   status_perkawinan             22916 non-null  object \n",
            " 4   pendidikan                    22916 non-null  object \n",
            " 5   gagal_bayar_sebelumnya        22916 non-null  object \n",
            " 6   pinjaman_rumah                22916 non-null  object \n",
            " 7   pinjaman_pribadi              22916 non-null  object \n",
            " 8   jenis_kontak                  22916 non-null  object \n",
            " 9   bulan_kontak_terakhir         22916 non-null  object \n",
            " 10  hari_kontak_terakhir          22916 non-null  object \n",
            " 11  jumlah_kontak_kampanye_ini    22916 non-null  int64  \n",
            " 12  hari_sejak_kontak_sebelumnya  22916 non-null  int64  \n",
            " 13  jumlah_kontak_sebelumnya      22916 non-null  int64  \n",
            " 14  hasil_kampanye_sebelumnya     22916 non-null  object \n",
            " 15  tingkat_variasi_pekerjaan     22916 non-null  float64\n",
            " 16  indeks_harga_konsumen         22916 non-null  float64\n",
            " 17  indeks_kepercayaan_konsumen   22916 non-null  float64\n",
            " 18  suku_bunga_euribor_3bln       22916 non-null  float64\n",
            " 19  jumlah_pekerja                22916 non-null  float64\n",
            " 20  pulau                         22916 non-null  object \n",
            " 21  berlangganan_deposito         22916 non-null  int64  \n",
            "dtypes: float64(5), int64(6), object(11)\n",
            "memory usage: 3.8+ MB\n"
          ]
        }
      ],
      "source": [
        "df_train.info()"
      ]
    },
    {
      "cell_type": "markdown",
      "metadata": {
        "id": "90cmZMvWNFiP"
      },
      "source": [
        "##### **3.4.1.5. Jumlah nilai unik per kolom (nunique)**"
      ]
    },
    {
      "cell_type": "code",
      "execution_count": 13,
      "metadata": {
        "colab": {
          "base_uri": "https://localhost:8080/",
          "height": 739
        },
        "id": "ErcydD4DNUU9",
        "outputId": "9cef4d3c-022b-47f7-e977-2b4cb554bff5"
      },
      "outputs": [
        {
          "data": {
            "text/html": [
              "<div>\n",
              "<style scoped>\n",
              "    .dataframe tbody tr th:only-of-type {\n",
              "        vertical-align: middle;\n",
              "    }\n",
              "\n",
              "    .dataframe tbody tr th {\n",
              "        vertical-align: top;\n",
              "    }\n",
              "\n",
              "    .dataframe thead th {\n",
              "        text-align: right;\n",
              "    }\n",
              "</style>\n",
              "<table border=\"1\" class=\"dataframe\">\n",
              "  <thead>\n",
              "    <tr style=\"text-align: right;\">\n",
              "      <th></th>\n",
              "      <th>Jumlah Nilai Unik</th>\n",
              "    </tr>\n",
              "  </thead>\n",
              "  <tbody>\n",
              "    <tr>\n",
              "      <th>customer_number</th>\n",
              "      <td>22916</td>\n",
              "    </tr>\n",
              "    <tr>\n",
              "      <th>usia</th>\n",
              "      <td>78</td>\n",
              "    </tr>\n",
              "    <tr>\n",
              "      <th>pekerjaan</th>\n",
              "      <td>12</td>\n",
              "    </tr>\n",
              "    <tr>\n",
              "      <th>status_perkawinan</th>\n",
              "      <td>4</td>\n",
              "    </tr>\n",
              "    <tr>\n",
              "      <th>pendidikan</th>\n",
              "      <td>8</td>\n",
              "    </tr>\n",
              "    <tr>\n",
              "      <th>gagal_bayar_sebelumnya</th>\n",
              "      <td>3</td>\n",
              "    </tr>\n",
              "    <tr>\n",
              "      <th>pinjaman_rumah</th>\n",
              "      <td>3</td>\n",
              "    </tr>\n",
              "    <tr>\n",
              "      <th>pinjaman_pribadi</th>\n",
              "      <td>3</td>\n",
              "    </tr>\n",
              "    <tr>\n",
              "      <th>jenis_kontak</th>\n",
              "      <td>2</td>\n",
              "    </tr>\n",
              "    <tr>\n",
              "      <th>bulan_kontak_terakhir</th>\n",
              "      <td>10</td>\n",
              "    </tr>\n",
              "    <tr>\n",
              "      <th>hari_kontak_terakhir</th>\n",
              "      <td>5</td>\n",
              "    </tr>\n",
              "    <tr>\n",
              "      <th>jumlah_kontak_kampanye_ini</th>\n",
              "      <td>40</td>\n",
              "    </tr>\n",
              "    <tr>\n",
              "      <th>hari_sejak_kontak_sebelumnya</th>\n",
              "      <td>25</td>\n",
              "    </tr>\n",
              "    <tr>\n",
              "      <th>jumlah_kontak_sebelumnya</th>\n",
              "      <td>8</td>\n",
              "    </tr>\n",
              "    <tr>\n",
              "      <th>hasil_kampanye_sebelumnya</th>\n",
              "      <td>3</td>\n",
              "    </tr>\n",
              "    <tr>\n",
              "      <th>tingkat_variasi_pekerjaan</th>\n",
              "      <td>10</td>\n",
              "    </tr>\n",
              "    <tr>\n",
              "      <th>indeks_harga_konsumen</th>\n",
              "      <td>26</td>\n",
              "    </tr>\n",
              "    <tr>\n",
              "      <th>indeks_kepercayaan_konsumen</th>\n",
              "      <td>26</td>\n",
              "    </tr>\n",
              "    <tr>\n",
              "      <th>suku_bunga_euribor_3bln</th>\n",
              "      <td>306</td>\n",
              "    </tr>\n",
              "    <tr>\n",
              "      <th>jumlah_pekerja</th>\n",
              "      <td>11</td>\n",
              "    </tr>\n",
              "    <tr>\n",
              "      <th>pulau</th>\n",
              "      <td>8</td>\n",
              "    </tr>\n",
              "    <tr>\n",
              "      <th>berlangganan_deposito</th>\n",
              "      <td>2</td>\n",
              "    </tr>\n",
              "  </tbody>\n",
              "</table>\n",
              "</div>"
            ],
            "text/plain": [
              "                              Jumlah Nilai Unik\n",
              "customer_number                           22916\n",
              "usia                                         78\n",
              "pekerjaan                                    12\n",
              "status_perkawinan                             4\n",
              "pendidikan                                    8\n",
              "gagal_bayar_sebelumnya                        3\n",
              "pinjaman_rumah                                3\n",
              "pinjaman_pribadi                              3\n",
              "jenis_kontak                                  2\n",
              "bulan_kontak_terakhir                        10\n",
              "hari_kontak_terakhir                          5\n",
              "jumlah_kontak_kampanye_ini                   40\n",
              "hari_sejak_kontak_sebelumnya                 25\n",
              "jumlah_kontak_sebelumnya                      8\n",
              "hasil_kampanye_sebelumnya                     3\n",
              "tingkat_variasi_pekerjaan                    10\n",
              "indeks_harga_konsumen                        26\n",
              "indeks_kepercayaan_konsumen                  26\n",
              "suku_bunga_euribor_3bln                     306\n",
              "jumlah_pekerja                               11\n",
              "pulau                                         8\n",
              "berlangganan_deposito                         2"
            ]
          },
          "execution_count": 13,
          "metadata": {},
          "output_type": "execute_result"
        }
      ],
      "source": [
        "pd.DataFrame(df_train.nunique(), columns=[\"Jumlah Nilai Unik\"])"
      ]
    },
    {
      "cell_type": "markdown",
      "metadata": {
        "id": "5yJL7m5C5JV5"
      },
      "source": [
        "##### **3.4.1.6. Menampilkan Semua Nilai Unik untuk Fitur Kategorikal (df_train)**"
      ]
    },
    {
      "cell_type": "code",
      "execution_count": 14,
      "metadata": {
        "colab": {
          "base_uri": "https://localhost:8080/"
        },
        "id": "lMyrNjuiqHYo",
        "outputId": "0c5622a1-7c5e-4330-b6a3-69cfe3b9ef05"
      },
      "outputs": [
        {
          "data": {
            "text/plain": [
              "Index(['pekerjaan', 'status_perkawinan', 'pendidikan', 'gagal_bayar_sebelumnya', 'pinjaman_rumah', 'pinjaman_pribadi', 'jenis_kontak', 'bulan_kontak_terakhir', 'hari_kontak_terakhir', 'hasil_kampanye_sebelumnya', 'pulau'], dtype='object')"
            ]
          },
          "execution_count": 14,
          "metadata": {},
          "output_type": "execute_result"
        }
      ],
      "source": [
        "cat_columns = df_train.select_dtypes(include=[\"object\"]).columns\n",
        "cat_columns"
      ]
    },
    {
      "cell_type": "code",
      "execution_count": 15,
      "metadata": {
        "colab": {
          "base_uri": "https://localhost:8080/",
          "height": 1000
        },
        "id": "oOomrZuI5I2N",
        "outputId": "1eace9fa-b550-4889-c647-c4ab993d00a5"
      },
      "outputs": [
        {
          "name": "stdout",
          "output_type": "stream",
          "text": [
            "Unique values column pekerjaan: 12\n"
          ]
        },
        {
          "data": {
            "text/html": [
              "<div>\n",
              "<style scoped>\n",
              "    .dataframe tbody tr th:only-of-type {\n",
              "        vertical-align: middle;\n",
              "    }\n",
              "\n",
              "    .dataframe tbody tr th {\n",
              "        vertical-align: top;\n",
              "    }\n",
              "\n",
              "    .dataframe thead th {\n",
              "        text-align: right;\n",
              "    }\n",
              "</style>\n",
              "<table border=\"1\" class=\"dataframe\">\n",
              "  <thead>\n",
              "    <tr style=\"text-align: right;\">\n",
              "      <th></th>\n",
              "      <th>count</th>\n",
              "    </tr>\n",
              "    <tr>\n",
              "      <th>pekerjaan</th>\n",
              "      <th></th>\n",
              "    </tr>\n",
              "  </thead>\n",
              "  <tbody>\n",
              "    <tr>\n",
              "      <th>sosial media specialis</th>\n",
              "      <td>5755</td>\n",
              "    </tr>\n",
              "    <tr>\n",
              "      <th>pekerja kasar</th>\n",
              "      <td>5191</td>\n",
              "    </tr>\n",
              "    <tr>\n",
              "      <th>teknisi</th>\n",
              "      <td>3709</td>\n",
              "    </tr>\n",
              "    <tr>\n",
              "      <th>penyedia jasa</th>\n",
              "      <td>2195</td>\n",
              "    </tr>\n",
              "    <tr>\n",
              "      <th>manajer</th>\n",
              "      <td>1653</td>\n",
              "    </tr>\n",
              "    <tr>\n",
              "      <th>pensiunan</th>\n",
              "      <td>968</td>\n",
              "    </tr>\n",
              "    <tr>\n",
              "      <th>entrepreneur</th>\n",
              "      <td>815</td>\n",
              "    </tr>\n",
              "    <tr>\n",
              "      <th>pemilik bisnis</th>\n",
              "      <td>784</td>\n",
              "    </tr>\n",
              "    <tr>\n",
              "      <th>asisten rumah tangga</th>\n",
              "      <td>578</td>\n",
              "    </tr>\n",
              "    <tr>\n",
              "      <th>pengangguran</th>\n",
              "      <td>561</td>\n",
              "    </tr>\n",
              "    <tr>\n",
              "      <th>mahasiswa</th>\n",
              "      <td>514</td>\n",
              "    </tr>\n",
              "    <tr>\n",
              "      <th>unknown</th>\n",
              "      <td>193</td>\n",
              "    </tr>\n",
              "  </tbody>\n",
              "</table>\n",
              "</div>"
            ],
            "text/plain": [
              "                        count\n",
              "pekerjaan                    \n",
              "sosial media specialis   5755\n",
              "pekerja kasar            5191\n",
              "teknisi                  3709\n",
              "penyedia jasa            2195\n",
              "manajer                  1653\n",
              "pensiunan                 968\n",
              "entrepreneur              815\n",
              "pemilik bisnis            784\n",
              "asisten rumah tangga      578\n",
              "pengangguran              561\n",
              "mahasiswa                 514\n",
              "unknown                   193"
            ]
          },
          "metadata": {},
          "output_type": "display_data"
        },
        {
          "name": "stdout",
          "output_type": "stream",
          "text": [
            "\n",
            "Unique values column status_perkawinan: 4\n"
          ]
        },
        {
          "data": {
            "text/html": [
              "<div>\n",
              "<style scoped>\n",
              "    .dataframe tbody tr th:only-of-type {\n",
              "        vertical-align: middle;\n",
              "    }\n",
              "\n",
              "    .dataframe tbody tr th {\n",
              "        vertical-align: top;\n",
              "    }\n",
              "\n",
              "    .dataframe thead th {\n",
              "        text-align: right;\n",
              "    }\n",
              "</style>\n",
              "<table border=\"1\" class=\"dataframe\">\n",
              "  <thead>\n",
              "    <tr style=\"text-align: right;\">\n",
              "      <th></th>\n",
              "      <th>count</th>\n",
              "    </tr>\n",
              "    <tr>\n",
              "      <th>status_perkawinan</th>\n",
              "      <th></th>\n",
              "    </tr>\n",
              "  </thead>\n",
              "  <tbody>\n",
              "    <tr>\n",
              "      <th>menikah</th>\n",
              "      <td>13858</td>\n",
              "    </tr>\n",
              "    <tr>\n",
              "      <th>lajang</th>\n",
              "      <td>6445</td>\n",
              "    </tr>\n",
              "    <tr>\n",
              "      <th>cerai</th>\n",
              "      <td>2566</td>\n",
              "    </tr>\n",
              "    <tr>\n",
              "      <th>unknown</th>\n",
              "      <td>47</td>\n",
              "    </tr>\n",
              "  </tbody>\n",
              "</table>\n",
              "</div>"
            ],
            "text/plain": [
              "                   count\n",
              "status_perkawinan       \n",
              "menikah            13858\n",
              "lajang              6445\n",
              "cerai               2566\n",
              "unknown               47"
            ]
          },
          "metadata": {},
          "output_type": "display_data"
        },
        {
          "name": "stdout",
          "output_type": "stream",
          "text": [
            "\n",
            "Unique values column pendidikan: 8\n"
          ]
        },
        {
          "data": {
            "text/html": [
              "<div>\n",
              "<style scoped>\n",
              "    .dataframe tbody tr th:only-of-type {\n",
              "        vertical-align: middle;\n",
              "    }\n",
              "\n",
              "    .dataframe tbody tr th {\n",
              "        vertical-align: top;\n",
              "    }\n",
              "\n",
              "    .dataframe thead th {\n",
              "        text-align: right;\n",
              "    }\n",
              "</style>\n",
              "<table border=\"1\" class=\"dataframe\">\n",
              "  <thead>\n",
              "    <tr style=\"text-align: right;\">\n",
              "      <th></th>\n",
              "      <th>count</th>\n",
              "    </tr>\n",
              "    <tr>\n",
              "      <th>pendidikan</th>\n",
              "      <th></th>\n",
              "    </tr>\n",
              "  </thead>\n",
              "  <tbody>\n",
              "    <tr>\n",
              "      <th>Pendidikan Tinggi</th>\n",
              "      <td>6699</td>\n",
              "    </tr>\n",
              "    <tr>\n",
              "      <th>SMA</th>\n",
              "      <td>5403</td>\n",
              "    </tr>\n",
              "    <tr>\n",
              "      <th>SMP</th>\n",
              "      <td>3337</td>\n",
              "    </tr>\n",
              "    <tr>\n",
              "      <th>Diploma</th>\n",
              "      <td>2881</td>\n",
              "    </tr>\n",
              "    <tr>\n",
              "      <th>Tidak Tamat SD</th>\n",
              "      <td>2284</td>\n",
              "    </tr>\n",
              "    <tr>\n",
              "      <th>SD</th>\n",
              "      <td>1308</td>\n",
              "    </tr>\n",
              "    <tr>\n",
              "      <th>unknown</th>\n",
              "      <td>992</td>\n",
              "    </tr>\n",
              "    <tr>\n",
              "      <th>TIDAK SEKOLAH</th>\n",
              "      <td>12</td>\n",
              "    </tr>\n",
              "  </tbody>\n",
              "</table>\n",
              "</div>"
            ],
            "text/plain": [
              "                   count\n",
              "pendidikan              \n",
              "Pendidikan Tinggi   6699\n",
              "SMA                 5403\n",
              "SMP                 3337\n",
              "Diploma             2881\n",
              "Tidak Tamat SD      2284\n",
              "SD                  1308\n",
              "unknown              992\n",
              "TIDAK SEKOLAH         12"
            ]
          },
          "metadata": {},
          "output_type": "display_data"
        },
        {
          "name": "stdout",
          "output_type": "stream",
          "text": [
            "\n",
            "Unique values column gagal_bayar_sebelumnya: 3\n"
          ]
        },
        {
          "data": {
            "text/html": [
              "<div>\n",
              "<style scoped>\n",
              "    .dataframe tbody tr th:only-of-type {\n",
              "        vertical-align: middle;\n",
              "    }\n",
              "\n",
              "    .dataframe tbody tr th {\n",
              "        vertical-align: top;\n",
              "    }\n",
              "\n",
              "    .dataframe thead th {\n",
              "        text-align: right;\n",
              "    }\n",
              "</style>\n",
              "<table border=\"1\" class=\"dataframe\">\n",
              "  <thead>\n",
              "    <tr style=\"text-align: right;\">\n",
              "      <th></th>\n",
              "      <th>count</th>\n",
              "    </tr>\n",
              "    <tr>\n",
              "      <th>gagal_bayar_sebelumnya</th>\n",
              "      <th></th>\n",
              "    </tr>\n",
              "  </thead>\n",
              "  <tbody>\n",
              "    <tr>\n",
              "      <th>no</th>\n",
              "      <td>18169</td>\n",
              "    </tr>\n",
              "    <tr>\n",
              "      <th>unknown</th>\n",
              "      <td>4745</td>\n",
              "    </tr>\n",
              "    <tr>\n",
              "      <th>yes</th>\n",
              "      <td>2</td>\n",
              "    </tr>\n",
              "  </tbody>\n",
              "</table>\n",
              "</div>"
            ],
            "text/plain": [
              "                        count\n",
              "gagal_bayar_sebelumnya       \n",
              "no                      18169\n",
              "unknown                  4745\n",
              "yes                         2"
            ]
          },
          "metadata": {},
          "output_type": "display_data"
        },
        {
          "name": "stdout",
          "output_type": "stream",
          "text": [
            "\n",
            "Unique values column pinjaman_rumah: 3\n"
          ]
        },
        {
          "data": {
            "text/html": [
              "<div>\n",
              "<style scoped>\n",
              "    .dataframe tbody tr th:only-of-type {\n",
              "        vertical-align: middle;\n",
              "    }\n",
              "\n",
              "    .dataframe tbody tr th {\n",
              "        vertical-align: top;\n",
              "    }\n",
              "\n",
              "    .dataframe thead th {\n",
              "        text-align: right;\n",
              "    }\n",
              "</style>\n",
              "<table border=\"1\" class=\"dataframe\">\n",
              "  <thead>\n",
              "    <tr style=\"text-align: right;\">\n",
              "      <th></th>\n",
              "      <th>count</th>\n",
              "    </tr>\n",
              "    <tr>\n",
              "      <th>pinjaman_rumah</th>\n",
              "      <th></th>\n",
              "    </tr>\n",
              "  </thead>\n",
              "  <tbody>\n",
              "    <tr>\n",
              "      <th>yes</th>\n",
              "      <td>12053</td>\n",
              "    </tr>\n",
              "    <tr>\n",
              "      <th>no</th>\n",
              "      <td>10284</td>\n",
              "    </tr>\n",
              "    <tr>\n",
              "      <th>unknown</th>\n",
              "      <td>579</td>\n",
              "    </tr>\n",
              "  </tbody>\n",
              "</table>\n",
              "</div>"
            ],
            "text/plain": [
              "                count\n",
              "pinjaman_rumah       \n",
              "yes             12053\n",
              "no              10284\n",
              "unknown           579"
            ]
          },
          "metadata": {},
          "output_type": "display_data"
        },
        {
          "name": "stdout",
          "output_type": "stream",
          "text": [
            "\n",
            "Unique values column pinjaman_pribadi: 3\n"
          ]
        },
        {
          "data": {
            "text/html": [
              "<div>\n",
              "<style scoped>\n",
              "    .dataframe tbody tr th:only-of-type {\n",
              "        vertical-align: middle;\n",
              "    }\n",
              "\n",
              "    .dataframe tbody tr th {\n",
              "        vertical-align: top;\n",
              "    }\n",
              "\n",
              "    .dataframe thead th {\n",
              "        text-align: right;\n",
              "    }\n",
              "</style>\n",
              "<table border=\"1\" class=\"dataframe\">\n",
              "  <thead>\n",
              "    <tr style=\"text-align: right;\">\n",
              "      <th></th>\n",
              "      <th>count</th>\n",
              "    </tr>\n",
              "    <tr>\n",
              "      <th>pinjaman_pribadi</th>\n",
              "      <th></th>\n",
              "    </tr>\n",
              "  </thead>\n",
              "  <tbody>\n",
              "    <tr>\n",
              "      <th>no</th>\n",
              "      <td>18888</td>\n",
              "    </tr>\n",
              "    <tr>\n",
              "      <th>yes</th>\n",
              "      <td>3449</td>\n",
              "    </tr>\n",
              "    <tr>\n",
              "      <th>unknown</th>\n",
              "      <td>579</td>\n",
              "    </tr>\n",
              "  </tbody>\n",
              "</table>\n",
              "</div>"
            ],
            "text/plain": [
              "                  count\n",
              "pinjaman_pribadi       \n",
              "no                18888\n",
              "yes                3449\n",
              "unknown             579"
            ]
          },
          "metadata": {},
          "output_type": "display_data"
        },
        {
          "name": "stdout",
          "output_type": "stream",
          "text": [
            "\n",
            "Unique values column jenis_kontak: 2\n"
          ]
        },
        {
          "data": {
            "text/html": [
              "<div>\n",
              "<style scoped>\n",
              "    .dataframe tbody tr th:only-of-type {\n",
              "        vertical-align: middle;\n",
              "    }\n",
              "\n",
              "    .dataframe tbody tr th {\n",
              "        vertical-align: top;\n",
              "    }\n",
              "\n",
              "    .dataframe thead th {\n",
              "        text-align: right;\n",
              "    }\n",
              "</style>\n",
              "<table border=\"1\" class=\"dataframe\">\n",
              "  <thead>\n",
              "    <tr style=\"text-align: right;\">\n",
              "      <th></th>\n",
              "      <th>count</th>\n",
              "    </tr>\n",
              "    <tr>\n",
              "      <th>jenis_kontak</th>\n",
              "      <th></th>\n",
              "    </tr>\n",
              "  </thead>\n",
              "  <tbody>\n",
              "    <tr>\n",
              "      <th>cellular</th>\n",
              "      <td>14523</td>\n",
              "    </tr>\n",
              "    <tr>\n",
              "      <th>telephone</th>\n",
              "      <td>8393</td>\n",
              "    </tr>\n",
              "  </tbody>\n",
              "</table>\n",
              "</div>"
            ],
            "text/plain": [
              "              count\n",
              "jenis_kontak       \n",
              "cellular      14523\n",
              "telephone      8393"
            ]
          },
          "metadata": {},
          "output_type": "display_data"
        },
        {
          "name": "stdout",
          "output_type": "stream",
          "text": [
            "\n",
            "Unique values column bulan_kontak_terakhir: 10\n"
          ]
        },
        {
          "data": {
            "text/html": [
              "<div>\n",
              "<style scoped>\n",
              "    .dataframe tbody tr th:only-of-type {\n",
              "        vertical-align: middle;\n",
              "    }\n",
              "\n",
              "    .dataframe tbody tr th {\n",
              "        vertical-align: top;\n",
              "    }\n",
              "\n",
              "    .dataframe thead th {\n",
              "        text-align: right;\n",
              "    }\n",
              "</style>\n",
              "<table border=\"1\" class=\"dataframe\">\n",
              "  <thead>\n",
              "    <tr style=\"text-align: right;\">\n",
              "      <th></th>\n",
              "      <th>count</th>\n",
              "    </tr>\n",
              "    <tr>\n",
              "      <th>bulan_kontak_terakhir</th>\n",
              "      <th></th>\n",
              "    </tr>\n",
              "  </thead>\n",
              "  <tbody>\n",
              "    <tr>\n",
              "      <th>may</th>\n",
              "      <td>7611</td>\n",
              "    </tr>\n",
              "    <tr>\n",
              "      <th>jul</th>\n",
              "      <td>4062</td>\n",
              "    </tr>\n",
              "    <tr>\n",
              "      <th>aug</th>\n",
              "      <td>3407</td>\n",
              "    </tr>\n",
              "    <tr>\n",
              "      <th>jun</th>\n",
              "      <td>2957</td>\n",
              "    </tr>\n",
              "    <tr>\n",
              "      <th>nov</th>\n",
              "      <td>2249</td>\n",
              "    </tr>\n",
              "    <tr>\n",
              "      <th>apr</th>\n",
              "      <td>1504</td>\n",
              "    </tr>\n",
              "    <tr>\n",
              "      <th>oct</th>\n",
              "      <td>421</td>\n",
              "    </tr>\n",
              "    <tr>\n",
              "      <th>sep</th>\n",
              "      <td>317</td>\n",
              "    </tr>\n",
              "    <tr>\n",
              "      <th>mar</th>\n",
              "      <td>286</td>\n",
              "    </tr>\n",
              "    <tr>\n",
              "      <th>dec</th>\n",
              "      <td>102</td>\n",
              "    </tr>\n",
              "  </tbody>\n",
              "</table>\n",
              "</div>"
            ],
            "text/plain": [
              "                       count\n",
              "bulan_kontak_terakhir       \n",
              "may                     7611\n",
              "jul                     4062\n",
              "aug                     3407\n",
              "jun                     2957\n",
              "nov                     2249\n",
              "apr                     1504\n",
              "oct                      421\n",
              "sep                      317\n",
              "mar                      286\n",
              "dec                      102"
            ]
          },
          "metadata": {},
          "output_type": "display_data"
        },
        {
          "name": "stdout",
          "output_type": "stream",
          "text": [
            "\n",
            "Unique values column hari_kontak_terakhir: 5\n"
          ]
        },
        {
          "data": {
            "text/html": [
              "<div>\n",
              "<style scoped>\n",
              "    .dataframe tbody tr th:only-of-type {\n",
              "        vertical-align: middle;\n",
              "    }\n",
              "\n",
              "    .dataframe tbody tr th {\n",
              "        vertical-align: top;\n",
              "    }\n",
              "\n",
              "    .dataframe thead th {\n",
              "        text-align: right;\n",
              "    }\n",
              "</style>\n",
              "<table border=\"1\" class=\"dataframe\">\n",
              "  <thead>\n",
              "    <tr style=\"text-align: right;\">\n",
              "      <th></th>\n",
              "      <th>count</th>\n",
              "    </tr>\n",
              "    <tr>\n",
              "      <th>hari_kontak_terakhir</th>\n",
              "      <th></th>\n",
              "    </tr>\n",
              "  </thead>\n",
              "  <tbody>\n",
              "    <tr>\n",
              "      <th>thu</th>\n",
              "      <td>4828</td>\n",
              "    </tr>\n",
              "    <tr>\n",
              "      <th>mon</th>\n",
              "      <td>4686</td>\n",
              "    </tr>\n",
              "    <tr>\n",
              "      <th>wed</th>\n",
              "      <td>4528</td>\n",
              "    </tr>\n",
              "    <tr>\n",
              "      <th>tue</th>\n",
              "      <td>4496</td>\n",
              "    </tr>\n",
              "    <tr>\n",
              "      <th>fri</th>\n",
              "      <td>4378</td>\n",
              "    </tr>\n",
              "  </tbody>\n",
              "</table>\n",
              "</div>"
            ],
            "text/plain": [
              "                      count\n",
              "hari_kontak_terakhir       \n",
              "thu                    4828\n",
              "mon                    4686\n",
              "wed                    4528\n",
              "tue                    4496\n",
              "fri                    4378"
            ]
          },
          "metadata": {},
          "output_type": "display_data"
        },
        {
          "name": "stdout",
          "output_type": "stream",
          "text": [
            "\n",
            "Unique values column hasil_kampanye_sebelumnya: 3\n"
          ]
        },
        {
          "data": {
            "text/html": [
              "<div>\n",
              "<style scoped>\n",
              "    .dataframe tbody tr th:only-of-type {\n",
              "        vertical-align: middle;\n",
              "    }\n",
              "\n",
              "    .dataframe tbody tr th {\n",
              "        vertical-align: top;\n",
              "    }\n",
              "\n",
              "    .dataframe thead th {\n",
              "        text-align: right;\n",
              "    }\n",
              "</style>\n",
              "<table border=\"1\" class=\"dataframe\">\n",
              "  <thead>\n",
              "    <tr style=\"text-align: right;\">\n",
              "      <th></th>\n",
              "      <th>count</th>\n",
              "    </tr>\n",
              "    <tr>\n",
              "      <th>hasil_kampanye_sebelumnya</th>\n",
              "      <th></th>\n",
              "    </tr>\n",
              "  </thead>\n",
              "  <tbody>\n",
              "    <tr>\n",
              "      <th>nonexistent</th>\n",
              "      <td>19836</td>\n",
              "    </tr>\n",
              "    <tr>\n",
              "      <th>failure</th>\n",
              "      <td>2313</td>\n",
              "    </tr>\n",
              "    <tr>\n",
              "      <th>success</th>\n",
              "      <td>767</td>\n",
              "    </tr>\n",
              "  </tbody>\n",
              "</table>\n",
              "</div>"
            ],
            "text/plain": [
              "                           count\n",
              "hasil_kampanye_sebelumnya       \n",
              "nonexistent                19836\n",
              "failure                     2313\n",
              "success                      767"
            ]
          },
          "metadata": {},
          "output_type": "display_data"
        },
        {
          "name": "stdout",
          "output_type": "stream",
          "text": [
            "\n",
            "Unique values column pulau: 8\n"
          ]
        },
        {
          "data": {
            "text/html": [
              "<div>\n",
              "<style scoped>\n",
              "    .dataframe tbody tr th:only-of-type {\n",
              "        vertical-align: middle;\n",
              "    }\n",
              "\n",
              "    .dataframe tbody tr th {\n",
              "        vertical-align: top;\n",
              "    }\n",
              "\n",
              "    .dataframe thead th {\n",
              "        text-align: right;\n",
              "    }\n",
              "</style>\n",
              "<table border=\"1\" class=\"dataframe\">\n",
              "  <thead>\n",
              "    <tr style=\"text-align: right;\">\n",
              "      <th></th>\n",
              "      <th>count</th>\n",
              "    </tr>\n",
              "    <tr>\n",
              "      <th>pulau</th>\n",
              "      <th></th>\n",
              "    </tr>\n",
              "  </thead>\n",
              "  <tbody>\n",
              "    <tr>\n",
              "      <th>Jawa</th>\n",
              "      <td>2973</td>\n",
              "    </tr>\n",
              "    <tr>\n",
              "      <th>NTT</th>\n",
              "      <td>2933</td>\n",
              "    </tr>\n",
              "    <tr>\n",
              "      <th>Sumatera</th>\n",
              "      <td>2910</td>\n",
              "    </tr>\n",
              "    <tr>\n",
              "      <th>Bali</th>\n",
              "      <td>2893</td>\n",
              "    </tr>\n",
              "    <tr>\n",
              "      <th>NTB</th>\n",
              "      <td>2883</td>\n",
              "    </tr>\n",
              "    <tr>\n",
              "      <th>Kalimantan</th>\n",
              "      <td>2814</td>\n",
              "    </tr>\n",
              "    <tr>\n",
              "      <th>Sulawesi</th>\n",
              "      <td>2758</td>\n",
              "    </tr>\n",
              "    <tr>\n",
              "      <th>Papua</th>\n",
              "      <td>2752</td>\n",
              "    </tr>\n",
              "  </tbody>\n",
              "</table>\n",
              "</div>"
            ],
            "text/plain": [
              "            count\n",
              "pulau            \n",
              "Jawa         2973\n",
              "NTT          2933\n",
              "Sumatera     2910\n",
              "Bali         2893\n",
              "NTB          2883\n",
              "Kalimantan   2814\n",
              "Sulawesi     2758\n",
              "Papua        2752"
            ]
          },
          "metadata": {},
          "output_type": "display_data"
        },
        {
          "name": "stdout",
          "output_type": "stream",
          "text": [
            "\n"
          ]
        }
      ],
      "source": [
        "for colum in cat_columns:\n",
        "    print(f\"Unique values column {colum}: {df_train[colum].nunique()}\")\n",
        "    display(df_train[colum].value_counts().to_frame())\n",
        "    print()"
      ]
    },
    {
      "cell_type": "markdown",
      "metadata": {
        "id": "Dp382gvxN-TV"
      },
      "source": [
        "##### **3.4.1.7. Distribusi variabel target 'berlangganan_deposito'**"
      ]
    },
    {
      "cell_type": "code",
      "execution_count": 16,
      "metadata": {
        "colab": {
          "base_uri": "https://localhost:8080/",
          "height": 178
        },
        "id": "yVtiOMKMN_Xt",
        "outputId": "9d7720a6-2864-41a3-8711-527888c1005a"
      },
      "outputs": [
        {
          "data": {
            "text/plain": [
              "berlangganan_deposito\n",
              "0    88.59%\n",
              "1    11.41%\n",
              "Name: proportion, dtype: object"
            ]
          },
          "execution_count": 16,
          "metadata": {},
          "output_type": "execute_result"
        }
      ],
      "source": [
        "(\n",
        "    df_train[\"berlangganan_deposito\"]\n",
        "    .value_counts(normalize=True)\n",
        "    .mul(100)\n",
        "    .round(2)\n",
        "    .astype(str)\n",
        "    + \"%\"\n",
        ")"
      ]
    },
    {
      "cell_type": "markdown",
      "metadata": {
        "id": "ZtEGwtthOovB"
      },
      "source": [
        "#### **3.4.2. Tinjauan Awal Dataset Validasi (`df_val`)**"
      ]
    },
    {
      "cell_type": "markdown",
      "metadata": {
        "id": "Z8Qkuhr3OtOt"
      },
      "source": [
        "##### **3.4.2.1. Lima baris pertama (head)**"
      ]
    },
    {
      "cell_type": "code",
      "execution_count": 17,
      "metadata": {
        "colab": {
          "base_uri": "https://localhost:8080/",
          "height": 226
        },
        "id": "5vwtP-90O-pV",
        "outputId": "e4b88b70-9551-414d-b3b5-b1a38dfe0da3"
      },
      "outputs": [
        {
          "data": {
            "text/html": [
              "<div>\n",
              "<style scoped>\n",
              "    .dataframe tbody tr th:only-of-type {\n",
              "        vertical-align: middle;\n",
              "    }\n",
              "\n",
              "    .dataframe tbody tr th {\n",
              "        vertical-align: top;\n",
              "    }\n",
              "\n",
              "    .dataframe thead th {\n",
              "        text-align: right;\n",
              "    }\n",
              "</style>\n",
              "<table border=\"1\" class=\"dataframe\">\n",
              "  <thead>\n",
              "    <tr style=\"text-align: right;\">\n",
              "      <th></th>\n",
              "      <th>customer_number</th>\n",
              "      <th>usia</th>\n",
              "      <th>pekerjaan</th>\n",
              "      <th>status_perkawinan</th>\n",
              "      <th>pendidikan</th>\n",
              "      <th>gagal_bayar_sebelumnya</th>\n",
              "      <th>pinjaman_rumah</th>\n",
              "      <th>pinjaman_pribadi</th>\n",
              "      <th>jenis_kontak</th>\n",
              "      <th>bulan_kontak_terakhir</th>\n",
              "      <th>hari_kontak_terakhir</th>\n",
              "      <th>jumlah_kontak_kampanye_ini</th>\n",
              "      <th>hari_sejak_kontak_sebelumnya</th>\n",
              "      <th>jumlah_kontak_sebelumnya</th>\n",
              "      <th>hasil_kampanye_sebelumnya</th>\n",
              "      <th>tingkat_variasi_pekerjaan</th>\n",
              "      <th>indeks_harga_konsumen</th>\n",
              "      <th>indeks_kepercayaan_konsumen</th>\n",
              "      <th>suku_bunga_euribor_3bln</th>\n",
              "      <th>jumlah_pekerja</th>\n",
              "      <th>pulau</th>\n",
              "    </tr>\n",
              "  </thead>\n",
              "  <tbody>\n",
              "    <tr>\n",
              "      <th>0</th>\n",
              "      <td>445420</td>\n",
              "      <td>35</td>\n",
              "      <td>penyedia jasa</td>\n",
              "      <td>menikah</td>\n",
              "      <td>SMA</td>\n",
              "      <td>no</td>\n",
              "      <td>yes</td>\n",
              "      <td>yes</td>\n",
              "      <td>cellular</td>\n",
              "      <td>jul</td>\n",
              "      <td>mon</td>\n",
              "      <td>1</td>\n",
              "      <td>999</td>\n",
              "      <td>0</td>\n",
              "      <td>nonexistent</td>\n",
              "      <td>1.400</td>\n",
              "      <td>93.918</td>\n",
              "      <td>-42.700</td>\n",
              "      <td>4.960</td>\n",
              "      <td>5228.100</td>\n",
              "      <td>Jawa</td>\n",
              "    </tr>\n",
              "    <tr>\n",
              "      <th>1</th>\n",
              "      <td>585604</td>\n",
              "      <td>52</td>\n",
              "      <td>teknisi</td>\n",
              "      <td>lajang</td>\n",
              "      <td>Diploma</td>\n",
              "      <td>unknown</td>\n",
              "      <td>no</td>\n",
              "      <td>no</td>\n",
              "      <td>telephone</td>\n",
              "      <td>may</td>\n",
              "      <td>thu</td>\n",
              "      <td>4</td>\n",
              "      <td>999</td>\n",
              "      <td>0</td>\n",
              "      <td>nonexistent</td>\n",
              "      <td>1.100</td>\n",
              "      <td>93.994</td>\n",
              "      <td>-36.400</td>\n",
              "      <td>4.860</td>\n",
              "      <td>5191.000</td>\n",
              "      <td>Papua</td>\n",
              "    </tr>\n",
              "    <tr>\n",
              "      <th>2</th>\n",
              "      <td>888824</td>\n",
              "      <td>37</td>\n",
              "      <td>pekerja kasar</td>\n",
              "      <td>menikah</td>\n",
              "      <td>SMP</td>\n",
              "      <td>unknown</td>\n",
              "      <td>yes</td>\n",
              "      <td>no</td>\n",
              "      <td>telephone</td>\n",
              "      <td>may</td>\n",
              "      <td>wed</td>\n",
              "      <td>3</td>\n",
              "      <td>999</td>\n",
              "      <td>0</td>\n",
              "      <td>nonexistent</td>\n",
              "      <td>1.100</td>\n",
              "      <td>93.994</td>\n",
              "      <td>-36.400</td>\n",
              "      <td>4.856</td>\n",
              "      <td>5191.000</td>\n",
              "      <td>Bali</td>\n",
              "    </tr>\n",
              "    <tr>\n",
              "      <th>3</th>\n",
              "      <td>816820</td>\n",
              "      <td>51</td>\n",
              "      <td>pengangguran</td>\n",
              "      <td>menikah</td>\n",
              "      <td>Diploma</td>\n",
              "      <td>no</td>\n",
              "      <td>no</td>\n",
              "      <td>no</td>\n",
              "      <td>telephone</td>\n",
              "      <td>may</td>\n",
              "      <td>tue</td>\n",
              "      <td>3</td>\n",
              "      <td>999</td>\n",
              "      <td>0</td>\n",
              "      <td>nonexistent</td>\n",
              "      <td>1.100</td>\n",
              "      <td>93.994</td>\n",
              "      <td>-36.400</td>\n",
              "      <td>4.857</td>\n",
              "      <td>5191.000</td>\n",
              "      <td>Sumatera</td>\n",
              "    </tr>\n",
              "    <tr>\n",
              "      <th>4</th>\n",
              "      <td>542716</td>\n",
              "      <td>45</td>\n",
              "      <td>teknisi</td>\n",
              "      <td>cerai</td>\n",
              "      <td>SMA</td>\n",
              "      <td>no</td>\n",
              "      <td>yes</td>\n",
              "      <td>no</td>\n",
              "      <td>cellular</td>\n",
              "      <td>may</td>\n",
              "      <td>thu</td>\n",
              "      <td>1</td>\n",
              "      <td>999</td>\n",
              "      <td>1</td>\n",
              "      <td>failure</td>\n",
              "      <td>-1.800</td>\n",
              "      <td>92.893</td>\n",
              "      <td>-46.200</td>\n",
              "      <td>1.327</td>\n",
              "      <td>5099.100</td>\n",
              "      <td>Sumatera</td>\n",
              "    </tr>\n",
              "  </tbody>\n",
              "</table>\n",
              "</div>"
            ],
            "text/plain": [
              "   customer_number  usia      pekerjaan status_perkawinan pendidikan gagal_bayar_sebelumnya pinjaman_rumah pinjaman_pribadi jenis_kontak bulan_kontak_terakhir hari_kontak_terakhir  jumlah_kontak_kampanye_ini  hari_sejak_kontak_sebelumnya  jumlah_kontak_sebelumnya hasil_kampanye_sebelumnya  tingkat_variasi_pekerjaan  indeks_harga_konsumen  indeks_kepercayaan_konsumen  suku_bunga_euribor_3bln  jumlah_pekerja     pulau\n",
              "0           445420    35  penyedia jasa           menikah        SMA                     no            yes              yes     cellular                   jul                  mon                           1                           999                         0               nonexistent                      1.400                 93.918                      -42.700                    4.960        5228.100      Jawa\n",
              "1           585604    52        teknisi            lajang    Diploma                unknown             no               no    telephone                   may                  thu                           4                           999                         0               nonexistent                      1.100                 93.994                      -36.400                    4.860        5191.000     Papua\n",
              "2           888824    37  pekerja kasar           menikah        SMP                unknown            yes               no    telephone                   may                  wed                           3                           999                         0               nonexistent                      1.100                 93.994                      -36.400                    4.856        5191.000      Bali\n",
              "3           816820    51   pengangguran           menikah    Diploma                     no             no               no    telephone                   may                  tue                           3                           999                         0               nonexistent                      1.100                 93.994                      -36.400                    4.857        5191.000  Sumatera\n",
              "4           542716    45        teknisi             cerai        SMA                     no            yes               no     cellular                   may                  thu                           1                           999                         1                   failure                     -1.800                 92.893                      -46.200                    1.327        5099.100  Sumatera"
            ]
          },
          "execution_count": 17,
          "metadata": {},
          "output_type": "execute_result"
        }
      ],
      "source": [
        "df_val.head()"
      ]
    },
    {
      "cell_type": "markdown",
      "metadata": {
        "id": "0lUPdb0QOtBb"
      },
      "source": [
        "##### **3.4.2.2. Lima baris terakhir (tail):**"
      ]
    },
    {
      "cell_type": "code",
      "execution_count": 18,
      "metadata": {
        "colab": {
          "base_uri": "https://localhost:8080/",
          "height": 313
        },
        "id": "fRBwgXP2PBNP",
        "outputId": "1ed8d09c-f4ce-43cb-f2d5-f01c26c6ea4d"
      },
      "outputs": [
        {
          "data": {
            "text/html": [
              "<div>\n",
              "<style scoped>\n",
              "    .dataframe tbody tr th:only-of-type {\n",
              "        vertical-align: middle;\n",
              "    }\n",
              "\n",
              "    .dataframe tbody tr th {\n",
              "        vertical-align: top;\n",
              "    }\n",
              "\n",
              "    .dataframe thead th {\n",
              "        text-align: right;\n",
              "    }\n",
              "</style>\n",
              "<table border=\"1\" class=\"dataframe\">\n",
              "  <thead>\n",
              "    <tr style=\"text-align: right;\">\n",
              "      <th></th>\n",
              "      <th>customer_number</th>\n",
              "      <th>usia</th>\n",
              "      <th>pekerjaan</th>\n",
              "      <th>status_perkawinan</th>\n",
              "      <th>pendidikan</th>\n",
              "      <th>gagal_bayar_sebelumnya</th>\n",
              "      <th>pinjaman_rumah</th>\n",
              "      <th>pinjaman_pribadi</th>\n",
              "      <th>jenis_kontak</th>\n",
              "      <th>bulan_kontak_terakhir</th>\n",
              "      <th>hari_kontak_terakhir</th>\n",
              "      <th>jumlah_kontak_kampanye_ini</th>\n",
              "      <th>hari_sejak_kontak_sebelumnya</th>\n",
              "      <th>jumlah_kontak_sebelumnya</th>\n",
              "      <th>hasil_kampanye_sebelumnya</th>\n",
              "      <th>tingkat_variasi_pekerjaan</th>\n",
              "      <th>indeks_harga_konsumen</th>\n",
              "      <th>indeks_kepercayaan_konsumen</th>\n",
              "      <th>suku_bunga_euribor_3bln</th>\n",
              "      <th>jumlah_pekerja</th>\n",
              "      <th>pulau</th>\n",
              "    </tr>\n",
              "  </thead>\n",
              "  <tbody>\n",
              "    <tr>\n",
              "      <th>5724</th>\n",
              "      <td>782072</td>\n",
              "      <td>51</td>\n",
              "      <td>pekerja kasar</td>\n",
              "      <td>menikah</td>\n",
              "      <td>Tidak Tamat SD</td>\n",
              "      <td>no</td>\n",
              "      <td>yes</td>\n",
              "      <td>no</td>\n",
              "      <td>telephone</td>\n",
              "      <td>jun</td>\n",
              "      <td>tue</td>\n",
              "      <td>1</td>\n",
              "      <td>999</td>\n",
              "      <td>0</td>\n",
              "      <td>nonexistent</td>\n",
              "      <td>1.400</td>\n",
              "      <td>94.465</td>\n",
              "      <td>-41.800</td>\n",
              "      <td>4.961</td>\n",
              "      <td>5228.100</td>\n",
              "      <td>Kalimantan</td>\n",
              "    </tr>\n",
              "    <tr>\n",
              "      <th>5725</th>\n",
              "      <td>116371</td>\n",
              "      <td>30</td>\n",
              "      <td>pekerja kasar</td>\n",
              "      <td>menikah</td>\n",
              "      <td>SMP</td>\n",
              "      <td>no</td>\n",
              "      <td>yes</td>\n",
              "      <td>yes</td>\n",
              "      <td>telephone</td>\n",
              "      <td>may</td>\n",
              "      <td>fri</td>\n",
              "      <td>1</td>\n",
              "      <td>999</td>\n",
              "      <td>0</td>\n",
              "      <td>nonexistent</td>\n",
              "      <td>1.100</td>\n",
              "      <td>93.994</td>\n",
              "      <td>-36.400</td>\n",
              "      <td>4.855</td>\n",
              "      <td>5191.000</td>\n",
              "      <td>Sulawesi</td>\n",
              "    </tr>\n",
              "    <tr>\n",
              "      <th>5726</th>\n",
              "      <td>773759</td>\n",
              "      <td>45</td>\n",
              "      <td>pekerja kasar</td>\n",
              "      <td>menikah</td>\n",
              "      <td>SMP</td>\n",
              "      <td>unknown</td>\n",
              "      <td>yes</td>\n",
              "      <td>no</td>\n",
              "      <td>telephone</td>\n",
              "      <td>may</td>\n",
              "      <td>mon</td>\n",
              "      <td>1</td>\n",
              "      <td>999</td>\n",
              "      <td>0</td>\n",
              "      <td>nonexistent</td>\n",
              "      <td>1.100</td>\n",
              "      <td>93.994</td>\n",
              "      <td>-36.400</td>\n",
              "      <td>4.857</td>\n",
              "      <td>5191.000</td>\n",
              "      <td>NTB</td>\n",
              "    </tr>\n",
              "    <tr>\n",
              "      <th>5727</th>\n",
              "      <td>612330</td>\n",
              "      <td>60</td>\n",
              "      <td>teknisi</td>\n",
              "      <td>menikah</td>\n",
              "      <td>Diploma</td>\n",
              "      <td>unknown</td>\n",
              "      <td>no</td>\n",
              "      <td>no</td>\n",
              "      <td>telephone</td>\n",
              "      <td>jul</td>\n",
              "      <td>tue</td>\n",
              "      <td>15</td>\n",
              "      <td>999</td>\n",
              "      <td>0</td>\n",
              "      <td>nonexistent</td>\n",
              "      <td>1.400</td>\n",
              "      <td>93.918</td>\n",
              "      <td>-42.700</td>\n",
              "      <td>4.961</td>\n",
              "      <td>5228.100</td>\n",
              "      <td>Papua</td>\n",
              "    </tr>\n",
              "    <tr>\n",
              "      <th>5728</th>\n",
              "      <td>986050</td>\n",
              "      <td>46</td>\n",
              "      <td>sosial media specialis</td>\n",
              "      <td>lajang</td>\n",
              "      <td>SMA</td>\n",
              "      <td>no</td>\n",
              "      <td>no</td>\n",
              "      <td>no</td>\n",
              "      <td>telephone</td>\n",
              "      <td>jun</td>\n",
              "      <td>mon</td>\n",
              "      <td>1</td>\n",
              "      <td>999</td>\n",
              "      <td>0</td>\n",
              "      <td>nonexistent</td>\n",
              "      <td>1.400</td>\n",
              "      <td>94.465</td>\n",
              "      <td>-41.800</td>\n",
              "      <td>4.960</td>\n",
              "      <td>5228.100</td>\n",
              "      <td>Sumatera</td>\n",
              "    </tr>\n",
              "  </tbody>\n",
              "</table>\n",
              "</div>"
            ],
            "text/plain": [
              "      customer_number  usia               pekerjaan status_perkawinan      pendidikan gagal_bayar_sebelumnya pinjaman_rumah pinjaman_pribadi jenis_kontak bulan_kontak_terakhir hari_kontak_terakhir  jumlah_kontak_kampanye_ini  hari_sejak_kontak_sebelumnya  jumlah_kontak_sebelumnya hasil_kampanye_sebelumnya  tingkat_variasi_pekerjaan  indeks_harga_konsumen  indeks_kepercayaan_konsumen  suku_bunga_euribor_3bln  jumlah_pekerja       pulau\n",
              "5724           782072    51           pekerja kasar           menikah  Tidak Tamat SD                     no            yes               no    telephone                   jun                  tue                           1                           999                         0               nonexistent                      1.400                 94.465                      -41.800                    4.961        5228.100  Kalimantan\n",
              "5725           116371    30           pekerja kasar           menikah             SMP                     no            yes              yes    telephone                   may                  fri                           1                           999                         0               nonexistent                      1.100                 93.994                      -36.400                    4.855        5191.000    Sulawesi\n",
              "5726           773759    45           pekerja kasar           menikah             SMP                unknown            yes               no    telephone                   may                  mon                           1                           999                         0               nonexistent                      1.100                 93.994                      -36.400                    4.857        5191.000         NTB\n",
              "5727           612330    60                 teknisi           menikah         Diploma                unknown             no               no    telephone                   jul                  tue                          15                           999                         0               nonexistent                      1.400                 93.918                      -42.700                    4.961        5228.100       Papua\n",
              "5728           986050    46  sosial media specialis            lajang             SMA                     no             no               no    telephone                   jun                  mon                           1                           999                         0               nonexistent                      1.400                 94.465                      -41.800                    4.960        5228.100    Sumatera"
            ]
          },
          "execution_count": 18,
          "metadata": {},
          "output_type": "execute_result"
        }
      ],
      "source": [
        "df_val.tail()"
      ]
    },
    {
      "cell_type": "markdown",
      "metadata": {
        "id": "_Ng6r0FbOs-2"
      },
      "source": [
        "##### **3.4.2.3. Dimensi dataset (shape)**"
      ]
    },
    {
      "cell_type": "code",
      "execution_count": 19,
      "metadata": {
        "colab": {
          "base_uri": "https://localhost:8080/"
        },
        "id": "NZmiwYIaPGW9",
        "outputId": "72c699a0-9bb6-471e-ed3a-b0b7515feed0"
      },
      "outputs": [
        {
          "name": "stdout",
          "output_type": "stream",
          "text": [
            "Jumlah baris 5729, Jumlah Kolom 21\n"
          ]
        }
      ],
      "source": [
        "print(f\"Jumlah baris {df_val.shape[0]}, Jumlah Kolom {df_val.shape[1]}\")"
      ]
    },
    {
      "cell_type": "markdown",
      "metadata": {
        "id": "Z7GxQyBpOs8L"
      },
      "source": [
        "##### **3.4.2.4. Informasi tipe data dan nilai non-null (info)**"
      ]
    },
    {
      "cell_type": "code",
      "execution_count": 20,
      "metadata": {
        "colab": {
          "base_uri": "https://localhost:8080/"
        },
        "id": "YmAdUClDPW6W",
        "outputId": "edd5daf2-a79c-4102-b025-c653a4310167"
      },
      "outputs": [
        {
          "name": "stdout",
          "output_type": "stream",
          "text": [
            "<class 'pandas.core.frame.DataFrame'>\n",
            "RangeIndex: 5729 entries, 0 to 5728\n",
            "Data columns (total 21 columns):\n",
            " #   Column                        Non-Null Count  Dtype  \n",
            "---  ------                        --------------  -----  \n",
            " 0   customer_number               5729 non-null   int64  \n",
            " 1   usia                          5729 non-null   int64  \n",
            " 2   pekerjaan                     5729 non-null   object \n",
            " 3   status_perkawinan             5729 non-null   object \n",
            " 4   pendidikan                    5729 non-null   object \n",
            " 5   gagal_bayar_sebelumnya        5729 non-null   object \n",
            " 6   pinjaman_rumah                5729 non-null   object \n",
            " 7   pinjaman_pribadi              5729 non-null   object \n",
            " 8   jenis_kontak                  5729 non-null   object \n",
            " 9   bulan_kontak_terakhir         5729 non-null   object \n",
            " 10  hari_kontak_terakhir          5729 non-null   object \n",
            " 11  jumlah_kontak_kampanye_ini    5729 non-null   int64  \n",
            " 12  hari_sejak_kontak_sebelumnya  5729 non-null   int64  \n",
            " 13  jumlah_kontak_sebelumnya      5729 non-null   int64  \n",
            " 14  hasil_kampanye_sebelumnya     5729 non-null   object \n",
            " 15  tingkat_variasi_pekerjaan     5729 non-null   float64\n",
            " 16  indeks_harga_konsumen         5729 non-null   float64\n",
            " 17  indeks_kepercayaan_konsumen   5729 non-null   float64\n",
            " 18  suku_bunga_euribor_3bln       5729 non-null   float64\n",
            " 19  jumlah_pekerja                5729 non-null   float64\n",
            " 20  pulau                         5729 non-null   object \n",
            "dtypes: float64(5), int64(5), object(11)\n",
            "memory usage: 940.0+ KB\n"
          ]
        }
      ],
      "source": [
        "df_val.info()"
      ]
    },
    {
      "cell_type": "markdown",
      "metadata": {
        "id": "veu7MKtZOs5e"
      },
      "source": [
        "##### **3.4.2.5. Jumlah nilai unik per kolom (nunique)**"
      ]
    },
    {
      "cell_type": "code",
      "execution_count": 21,
      "metadata": {
        "colab": {
          "base_uri": "https://localhost:8080/",
          "height": 708
        },
        "id": "48j55g_pPcS_",
        "outputId": "f7a930e6-00f3-4b21-c976-1adb03c0d4c0"
      },
      "outputs": [
        {
          "data": {
            "text/html": [
              "<div>\n",
              "<style scoped>\n",
              "    .dataframe tbody tr th:only-of-type {\n",
              "        vertical-align: middle;\n",
              "    }\n",
              "\n",
              "    .dataframe tbody tr th {\n",
              "        vertical-align: top;\n",
              "    }\n",
              "\n",
              "    .dataframe thead th {\n",
              "        text-align: right;\n",
              "    }\n",
              "</style>\n",
              "<table border=\"1\" class=\"dataframe\">\n",
              "  <thead>\n",
              "    <tr style=\"text-align: right;\">\n",
              "      <th></th>\n",
              "      <th>Jumlah Nilai Unik</th>\n",
              "    </tr>\n",
              "  </thead>\n",
              "  <tbody>\n",
              "    <tr>\n",
              "      <th>customer_number</th>\n",
              "      <td>5729</td>\n",
              "    </tr>\n",
              "    <tr>\n",
              "      <th>usia</th>\n",
              "      <td>70</td>\n",
              "    </tr>\n",
              "    <tr>\n",
              "      <th>pekerjaan</th>\n",
              "      <td>12</td>\n",
              "    </tr>\n",
              "    <tr>\n",
              "      <th>status_perkawinan</th>\n",
              "      <td>4</td>\n",
              "    </tr>\n",
              "    <tr>\n",
              "      <th>pendidikan</th>\n",
              "      <td>8</td>\n",
              "    </tr>\n",
              "    <tr>\n",
              "      <th>gagal_bayar_sebelumnya</th>\n",
              "      <td>2</td>\n",
              "    </tr>\n",
              "    <tr>\n",
              "      <th>pinjaman_rumah</th>\n",
              "      <td>3</td>\n",
              "    </tr>\n",
              "    <tr>\n",
              "      <th>pinjaman_pribadi</th>\n",
              "      <td>3</td>\n",
              "    </tr>\n",
              "    <tr>\n",
              "      <th>jenis_kontak</th>\n",
              "      <td>2</td>\n",
              "    </tr>\n",
              "    <tr>\n",
              "      <th>bulan_kontak_terakhir</th>\n",
              "      <td>10</td>\n",
              "    </tr>\n",
              "    <tr>\n",
              "      <th>hari_kontak_terakhir</th>\n",
              "      <td>5</td>\n",
              "    </tr>\n",
              "    <tr>\n",
              "      <th>jumlah_kontak_kampanye_ini</th>\n",
              "      <td>28</td>\n",
              "    </tr>\n",
              "    <tr>\n",
              "      <th>hari_sejak_kontak_sebelumnya</th>\n",
              "      <td>18</td>\n",
              "    </tr>\n",
              "    <tr>\n",
              "      <th>jumlah_kontak_sebelumnya</th>\n",
              "      <td>6</td>\n",
              "    </tr>\n",
              "    <tr>\n",
              "      <th>hasil_kampanye_sebelumnya</th>\n",
              "      <td>3</td>\n",
              "    </tr>\n",
              "    <tr>\n",
              "      <th>tingkat_variasi_pekerjaan</th>\n",
              "      <td>10</td>\n",
              "    </tr>\n",
              "    <tr>\n",
              "      <th>indeks_harga_konsumen</th>\n",
              "      <td>26</td>\n",
              "    </tr>\n",
              "    <tr>\n",
              "      <th>indeks_kepercayaan_konsumen</th>\n",
              "      <td>26</td>\n",
              "    </tr>\n",
              "    <tr>\n",
              "      <th>suku_bunga_euribor_3bln</th>\n",
              "      <td>250</td>\n",
              "    </tr>\n",
              "    <tr>\n",
              "      <th>jumlah_pekerja</th>\n",
              "      <td>11</td>\n",
              "    </tr>\n",
              "    <tr>\n",
              "      <th>pulau</th>\n",
              "      <td>8</td>\n",
              "    </tr>\n",
              "  </tbody>\n",
              "</table>\n",
              "</div>"
            ],
            "text/plain": [
              "                              Jumlah Nilai Unik\n",
              "customer_number                            5729\n",
              "usia                                         70\n",
              "pekerjaan                                    12\n",
              "status_perkawinan                             4\n",
              "pendidikan                                    8\n",
              "gagal_bayar_sebelumnya                        2\n",
              "pinjaman_rumah                                3\n",
              "pinjaman_pribadi                              3\n",
              "jenis_kontak                                  2\n",
              "bulan_kontak_terakhir                        10\n",
              "hari_kontak_terakhir                          5\n",
              "jumlah_kontak_kampanye_ini                   28\n",
              "hari_sejak_kontak_sebelumnya                 18\n",
              "jumlah_kontak_sebelumnya                      6\n",
              "hasil_kampanye_sebelumnya                     3\n",
              "tingkat_variasi_pekerjaan                    10\n",
              "indeks_harga_konsumen                        26\n",
              "indeks_kepercayaan_konsumen                  26\n",
              "suku_bunga_euribor_3bln                     250\n",
              "jumlah_pekerja                               11\n",
              "pulau                                         8"
            ]
          },
          "execution_count": 21,
          "metadata": {},
          "output_type": "execute_result"
        }
      ],
      "source": [
        "pd.DataFrame(df_val.nunique(), columns=[\"Jumlah Nilai Unik\"])"
      ]
    },
    {
      "cell_type": "markdown",
      "metadata": {
        "id": "Yhe93UVt5p7f"
      },
      "source": [
        "##### **3.4.2.6. Menampilkan Semua Nilai Unik untuk Fitur Kategorikal (df_val)**"
      ]
    },
    {
      "cell_type": "code",
      "execution_count": 22,
      "metadata": {
        "colab": {
          "base_uri": "https://localhost:8080/"
        },
        "id": "JjC8crkQ5vbb",
        "outputId": "44a83217-fcb8-4e5e-8e2b-50aa3a470f59"
      },
      "outputs": [
        {
          "name": "stdout",
          "output_type": "stream",
          "text": [
            "--- Menampilkan Semua Nilai Unik untuk Fitur Kategorikal (df_val) ---\n",
            "\n",
            "Nilai Unik untuk Kolom 'pekerjaan':\n",
            "['penyedia jasa' 'teknisi' 'pekerja kasar' 'pengangguran'\n",
            " 'sosial media specialis' 'pensiunan' 'asisten rumah tangga' 'manajer'\n",
            " 'mahasiswa' 'entrepreneur' 'pemilik bisnis' 'unknown']\n",
            "  (Jumlah nilai unik: 12)\n",
            "\n",
            "Nilai Unik untuk Kolom 'status_perkawinan':\n",
            "['menikah' 'lajang' 'cerai' 'unknown']\n",
            "  (Jumlah nilai unik: 4)\n",
            "\n",
            "Nilai Unik untuk Kolom 'pendidikan':\n",
            "['SMA' 'Diploma' 'SMP' 'Tidak Tamat SD' 'SD' 'Pendidikan Tinggi' 'unknown'\n",
            " 'TIDAK SEKOLAH']\n",
            "  (Jumlah nilai unik: 8)\n",
            "\n",
            "Nilai Unik untuk Kolom 'gagal_bayar_sebelumnya':\n",
            "['no' 'unknown']\n",
            "  (Jumlah nilai unik: 2)\n",
            "\n",
            "Nilai Unik untuk Kolom 'pinjaman_rumah':\n",
            "['yes' 'no' 'unknown']\n",
            "  (Jumlah nilai unik: 3)\n",
            "\n",
            "Nilai Unik untuk Kolom 'pinjaman_pribadi':\n",
            "['yes' 'no' 'unknown']\n",
            "  (Jumlah nilai unik: 3)\n",
            "\n",
            "Nilai Unik untuk Kolom 'jenis_kontak':\n",
            "['cellular' 'telephone']\n",
            "  (Jumlah nilai unik: 2)\n",
            "\n",
            "Nilai Unik untuk Kolom 'bulan_kontak_terakhir':\n",
            "['jul' 'may' 'jun' 'apr' 'nov' 'aug' 'mar' 'dec' 'sep' 'oct']\n",
            "  (Jumlah nilai unik: 10)\n",
            "\n",
            "Nilai Unik untuk Kolom 'hari_kontak_terakhir':\n",
            "['mon' 'thu' 'wed' 'tue' 'fri']\n",
            "  (Jumlah nilai unik: 5)\n",
            "\n",
            "Nilai Unik untuk Kolom 'hasil_kampanye_sebelumnya':\n",
            "['nonexistent' 'failure' 'success']\n",
            "  (Jumlah nilai unik: 3)\n",
            "\n",
            "Nilai Unik untuk Kolom 'pulau':\n",
            "['Jawa' 'Papua' 'Bali' 'Sumatera' 'Kalimantan' 'NTB' 'NTT' 'Sulawesi']\n",
            "  (Jumlah nilai unik: 8)\n"
          ]
        }
      ],
      "source": [
        "if not df_val.empty:\n",
        "    print(\"--- Menampilkan Semua Nilai Unik untuk Fitur Kategorikal (df_val) ---\")\n",
        "\n",
        "    # Identifikasi kolom kategorikal\n",
        "    categorical_cols = df_val.select_dtypes(\n",
        "        include=[\"object\", \"category\"]\n",
        "    ).columns.tolist()\n",
        "\n",
        "    if categorical_cols:\n",
        "        for col in categorical_cols:\n",
        "            print(f\"\\nNilai Unik untuk Kolom '{col}':\")\n",
        "            unique_values = df_val[col].unique()\n",
        "            print(unique_values)\n",
        "            # Anda juga bisa mencetak jumlah nilai unik di sini untuk konteks\n",
        "            print(f\"  (Jumlah nilai unik: {len(unique_values)})\")\n",
        "    else:\n",
        "        print(\"Tidak ada fitur kategorikal yang ditemukan di df_val.\")\n",
        "else:\n",
        "    print(\"df_val kosong. Tidak dapat menampilkan nilai unik.\")"
      ]
    },
    {
      "cell_type": "markdown",
      "metadata": {
        "id": "q4ACTiu9PcFZ"
      },
      "source": [
        "## **4. Eksplorasi Data Awal (EDA) & Pemahaman Data**\n"
      ]
    },
    {
      "cell_type": "markdown",
      "metadata": {
        "id": "2OyNiTD1Osw0"
      },
      "source": [
        "Pada bagian ini, kita akan fokus pada dataset training (`df_train`) untuk analisis mendalam, karena dataset ini berisi variabel target yang krusial untuk pemahaman prediktif. Beberapa analisis komparatif dengan dataset validasi (`df_val`) mungkin juga dilakukan untuk memastikan konsistensi distribusi fitur (jika diperlukan dan relevan, namun fokus utama tetap pada `df_train`).\n"
      ]
    },
    {
      "cell_type": "markdown",
      "metadata": {
        "id": "hLQgJpCGSVF-"
      },
      "source": [
        "### **4.1. Ringkasan Statistik Deskriptif (`.describe()`) untuk Fitur Numerik**\n"
      ]
    },
    {
      "cell_type": "code",
      "execution_count": 23,
      "metadata": {
        "colab": {
          "base_uri": "https://localhost:8080/",
          "height": 414
        },
        "id": "2PNcstGzOrtD",
        "outputId": "da1bb509-9166-4f90-8e0a-af52c26c4ca0"
      },
      "outputs": [
        {
          "data": {
            "text/html": [
              "<div>\n",
              "<style scoped>\n",
              "    .dataframe tbody tr th:only-of-type {\n",
              "        vertical-align: middle;\n",
              "    }\n",
              "\n",
              "    .dataframe tbody tr th {\n",
              "        vertical-align: top;\n",
              "    }\n",
              "\n",
              "    .dataframe thead th {\n",
              "        text-align: right;\n",
              "    }\n",
              "</style>\n",
              "<table border=\"1\" class=\"dataframe\">\n",
              "  <thead>\n",
              "    <tr style=\"text-align: right;\">\n",
              "      <th></th>\n",
              "      <th>count</th>\n",
              "      <th>mean</th>\n",
              "      <th>std</th>\n",
              "      <th>min</th>\n",
              "      <th>25%</th>\n",
              "      <th>50%</th>\n",
              "      <th>75%</th>\n",
              "      <th>95%</th>\n",
              "      <th>99%</th>\n",
              "      <th>max</th>\n",
              "    </tr>\n",
              "  </thead>\n",
              "  <tbody>\n",
              "    <tr>\n",
              "      <th>customer_number</th>\n",
              "      <td>22916.000</td>\n",
              "      <td>550930.993</td>\n",
              "      <td>259909.889</td>\n",
              "      <td>100108.000</td>\n",
              "      <td>325755.000</td>\n",
              "      <td>553139.000</td>\n",
              "      <td>777157.500</td>\n",
              "      <td>955017.000</td>\n",
              "      <td>990610.100</td>\n",
              "      <td>999997.000</td>\n",
              "    </tr>\n",
              "    <tr>\n",
              "      <th>usia</th>\n",
              "      <td>22916.000</td>\n",
              "      <td>40.016</td>\n",
              "      <td>10.438</td>\n",
              "      <td>17.000</td>\n",
              "      <td>32.000</td>\n",
              "      <td>38.000</td>\n",
              "      <td>47.000</td>\n",
              "      <td>58.000</td>\n",
              "      <td>71.000</td>\n",
              "      <td>98.000</td>\n",
              "    </tr>\n",
              "    <tr>\n",
              "      <th>jumlah_kontak_kampanye_ini</th>\n",
              "      <td>22916.000</td>\n",
              "      <td>2.562</td>\n",
              "      <td>2.794</td>\n",
              "      <td>1.000</td>\n",
              "      <td>1.000</td>\n",
              "      <td>2.000</td>\n",
              "      <td>3.000</td>\n",
              "      <td>7.000</td>\n",
              "      <td>14.850</td>\n",
              "      <td>42.000</td>\n",
              "    </tr>\n",
              "    <tr>\n",
              "      <th>hari_sejak_kontak_sebelumnya</th>\n",
              "      <td>22916.000</td>\n",
              "      <td>962.210</td>\n",
              "      <td>187.567</td>\n",
              "      <td>0.000</td>\n",
              "      <td>999.000</td>\n",
              "      <td>999.000</td>\n",
              "      <td>999.000</td>\n",
              "      <td>999.000</td>\n",
              "      <td>999.000</td>\n",
              "      <td>999.000</td>\n",
              "    </tr>\n",
              "    <tr>\n",
              "      <th>jumlah_kontak_sebelumnya</th>\n",
              "      <td>22916.000</td>\n",
              "      <td>0.170</td>\n",
              "      <td>0.491</td>\n",
              "      <td>0.000</td>\n",
              "      <td>0.000</td>\n",
              "      <td>0.000</td>\n",
              "      <td>0.000</td>\n",
              "      <td>1.000</td>\n",
              "      <td>2.000</td>\n",
              "      <td>7.000</td>\n",
              "    </tr>\n",
              "    <tr>\n",
              "      <th>tingkat_variasi_pekerjaan</th>\n",
              "      <td>22916.000</td>\n",
              "      <td>0.078</td>\n",
              "      <td>1.576</td>\n",
              "      <td>-3.400</td>\n",
              "      <td>-1.800</td>\n",
              "      <td>1.100</td>\n",
              "      <td>1.400</td>\n",
              "      <td>1.400</td>\n",
              "      <td>1.400</td>\n",
              "      <td>1.400</td>\n",
              "    </tr>\n",
              "    <tr>\n",
              "      <th>indeks_harga_konsumen</th>\n",
              "      <td>22916.000</td>\n",
              "      <td>93.577</td>\n",
              "      <td>0.581</td>\n",
              "      <td>92.201</td>\n",
              "      <td>93.075</td>\n",
              "      <td>93.876</td>\n",
              "      <td>93.994</td>\n",
              "      <td>94.465</td>\n",
              "      <td>94.465</td>\n",
              "      <td>94.767</td>\n",
              "    </tr>\n",
              "    <tr>\n",
              "      <th>indeks_kepercayaan_konsumen</th>\n",
              "      <td>22916.000</td>\n",
              "      <td>-40.486</td>\n",
              "      <td>4.641</td>\n",
              "      <td>-50.800</td>\n",
              "      <td>-42.700</td>\n",
              "      <td>-41.800</td>\n",
              "      <td>-36.400</td>\n",
              "      <td>-33.000</td>\n",
              "      <td>-26.900</td>\n",
              "      <td>-26.900</td>\n",
              "    </tr>\n",
              "    <tr>\n",
              "      <th>suku_bunga_euribor_3bln</th>\n",
              "      <td>22916.000</td>\n",
              "      <td>3.618</td>\n",
              "      <td>1.738</td>\n",
              "      <td>0.634</td>\n",
              "      <td>1.344</td>\n",
              "      <td>4.857</td>\n",
              "      <td>4.961</td>\n",
              "      <td>4.966</td>\n",
              "      <td>4.968</td>\n",
              "      <td>5.045</td>\n",
              "    </tr>\n",
              "    <tr>\n",
              "      <th>jumlah_pekerja</th>\n",
              "      <td>22916.000</td>\n",
              "      <td>5166.773</td>\n",
              "      <td>72.480</td>\n",
              "      <td>4963.600</td>\n",
              "      <td>5099.100</td>\n",
              "      <td>5191.000</td>\n",
              "      <td>5228.100</td>\n",
              "      <td>5228.100</td>\n",
              "      <td>5228.100</td>\n",
              "      <td>5228.100</td>\n",
              "    </tr>\n",
              "    <tr>\n",
              "      <th>berlangganan_deposito</th>\n",
              "      <td>22916.000</td>\n",
              "      <td>0.114</td>\n",
              "      <td>0.318</td>\n",
              "      <td>0.000</td>\n",
              "      <td>0.000</td>\n",
              "      <td>0.000</td>\n",
              "      <td>0.000</td>\n",
              "      <td>1.000</td>\n",
              "      <td>1.000</td>\n",
              "      <td>1.000</td>\n",
              "    </tr>\n",
              "  </tbody>\n",
              "</table>\n",
              "</div>"
            ],
            "text/plain": [
              "                                 count       mean        std        min        25%        50%        75%        95%        99%        max\n",
              "customer_number              22916.000 550930.993 259909.889 100108.000 325755.000 553139.000 777157.500 955017.000 990610.100 999997.000\n",
              "usia                         22916.000     40.016     10.438     17.000     32.000     38.000     47.000     58.000     71.000     98.000\n",
              "jumlah_kontak_kampanye_ini   22916.000      2.562      2.794      1.000      1.000      2.000      3.000      7.000     14.850     42.000\n",
              "hari_sejak_kontak_sebelumnya 22916.000    962.210    187.567      0.000    999.000    999.000    999.000    999.000    999.000    999.000\n",
              "jumlah_kontak_sebelumnya     22916.000      0.170      0.491      0.000      0.000      0.000      0.000      1.000      2.000      7.000\n",
              "tingkat_variasi_pekerjaan    22916.000      0.078      1.576     -3.400     -1.800      1.100      1.400      1.400      1.400      1.400\n",
              "indeks_harga_konsumen        22916.000     93.577      0.581     92.201     93.075     93.876     93.994     94.465     94.465     94.767\n",
              "indeks_kepercayaan_konsumen  22916.000    -40.486      4.641    -50.800    -42.700    -41.800    -36.400    -33.000    -26.900    -26.900\n",
              "suku_bunga_euribor_3bln      22916.000      3.618      1.738      0.634      1.344      4.857      4.961      4.966      4.968      5.045\n",
              "jumlah_pekerja               22916.000   5166.773     72.480   4963.600   5099.100   5191.000   5228.100   5228.100   5228.100   5228.100\n",
              "berlangganan_deposito        22916.000      0.114      0.318      0.000      0.000      0.000      0.000      1.000      1.000      1.000"
            ]
          },
          "execution_count": 23,
          "metadata": {},
          "output_type": "execute_result"
        }
      ],
      "source": [
        "df_train.describe(percentiles=[0.25, 0.75, 0.95, 0.99]).T"
      ]
    },
    {
      "cell_type": "markdown",
      "metadata": {
        "id": "zGl93NobTiT3"
      },
      "source": [
        "### **4.2. Identifikasi Tipe Data Kolom & Kardinalitas Fitur Kategorikal**\n"
      ]
    },
    {
      "cell_type": "code",
      "execution_count": 24,
      "metadata": {
        "colab": {
          "base_uri": "https://localhost:8080/",
          "height": 1000
        },
        "id": "rMq83j_jTlEm",
        "outputId": "bc58fe4b-8a5d-4069-80e9-fb87d55409d9"
      },
      "outputs": [
        {
          "name": "stdout",
          "output_type": "stream",
          "text": [
            "--- Tipe Data Kolom & Kardinalitas Fitur Kategorikal (df_train) ---\n",
            "\n",
            "1. Tipe Data per Kolom:\n",
            "\n",
            "Identifikasi Kolom:\n",
            "  Jumlah Fitur Numerik (tidak termasuk target/ID): 9\n",
            "  Nama Fitur Numerik: ['usia', 'jumlah_kontak_kampanye_ini', 'hari_sejak_kontak_sebelumnya', 'jumlah_kontak_sebelumnya', 'tingkat_variasi_pekerjaan', 'indeks_harga_konsumen', 'indeks_kepercayaan_konsumen', 'suku_bunga_euribor_3bln', 'jumlah_pekerja']\n",
            "  Jumlah Fitur Kategorikal: 11\n",
            "  Nama Fitur Kategorikal: ['pekerjaan', 'status_perkawinan', 'pendidikan', 'gagal_bayar_sebelumnya', 'pinjaman_rumah', 'pinjaman_pribadi', 'jenis_kontak', 'bulan_kontak_terakhir', 'hari_kontak_terakhir', 'hasil_kampanye_sebelumnya', 'pulau']\n"
          ]
        },
        {
          "data": {
            "text/html": [
              "<div>\n",
              "<style scoped>\n",
              "    .dataframe tbody tr th:only-of-type {\n",
              "        vertical-align: middle;\n",
              "    }\n",
              "\n",
              "    .dataframe tbody tr th {\n",
              "        vertical-align: top;\n",
              "    }\n",
              "\n",
              "    .dataframe thead th {\n",
              "        text-align: right;\n",
              "    }\n",
              "</style>\n",
              "<table border=\"1\" class=\"dataframe\">\n",
              "  <thead>\n",
              "    <tr style=\"text-align: right;\">\n",
              "      <th></th>\n",
              "      <th>Tipe Data</th>\n",
              "      <th>Nilai Unik</th>\n",
              "      <th>Persentase Unik (%)</th>\n",
              "    </tr>\n",
              "  </thead>\n",
              "  <tbody>\n",
              "    <tr>\n",
              "      <th>customer_number</th>\n",
              "      <td>int64</td>\n",
              "      <td>22916</td>\n",
              "      <td>100.000</td>\n",
              "    </tr>\n",
              "    <tr>\n",
              "      <th>suku_bunga_euribor_3bln</th>\n",
              "      <td>float64</td>\n",
              "      <td>306</td>\n",
              "      <td>1.340</td>\n",
              "    </tr>\n",
              "    <tr>\n",
              "      <th>usia</th>\n",
              "      <td>int64</td>\n",
              "      <td>78</td>\n",
              "      <td>0.340</td>\n",
              "    </tr>\n",
              "    <tr>\n",
              "      <th>jumlah_kontak_kampanye_ini</th>\n",
              "      <td>int64</td>\n",
              "      <td>40</td>\n",
              "      <td>0.170</td>\n",
              "    </tr>\n",
              "    <tr>\n",
              "      <th>indeks_kepercayaan_konsumen</th>\n",
              "      <td>float64</td>\n",
              "      <td>26</td>\n",
              "      <td>0.110</td>\n",
              "    </tr>\n",
              "    <tr>\n",
              "      <th>indeks_harga_konsumen</th>\n",
              "      <td>float64</td>\n",
              "      <td>26</td>\n",
              "      <td>0.110</td>\n",
              "    </tr>\n",
              "    <tr>\n",
              "      <th>hari_sejak_kontak_sebelumnya</th>\n",
              "      <td>int64</td>\n",
              "      <td>25</td>\n",
              "      <td>0.110</td>\n",
              "    </tr>\n",
              "    <tr>\n",
              "      <th>pekerjaan</th>\n",
              "      <td>object</td>\n",
              "      <td>12</td>\n",
              "      <td>0.050</td>\n",
              "    </tr>\n",
              "    <tr>\n",
              "      <th>jumlah_pekerja</th>\n",
              "      <td>float64</td>\n",
              "      <td>11</td>\n",
              "      <td>0.050</td>\n",
              "    </tr>\n",
              "    <tr>\n",
              "      <th>tingkat_variasi_pekerjaan</th>\n",
              "      <td>float64</td>\n",
              "      <td>10</td>\n",
              "      <td>0.040</td>\n",
              "    </tr>\n",
              "    <tr>\n",
              "      <th>bulan_kontak_terakhir</th>\n",
              "      <td>object</td>\n",
              "      <td>10</td>\n",
              "      <td>0.040</td>\n",
              "    </tr>\n",
              "    <tr>\n",
              "      <th>pendidikan</th>\n",
              "      <td>object</td>\n",
              "      <td>8</td>\n",
              "      <td>0.030</td>\n",
              "    </tr>\n",
              "    <tr>\n",
              "      <th>pulau</th>\n",
              "      <td>object</td>\n",
              "      <td>8</td>\n",
              "      <td>0.030</td>\n",
              "    </tr>\n",
              "    <tr>\n",
              "      <th>jumlah_kontak_sebelumnya</th>\n",
              "      <td>int64</td>\n",
              "      <td>8</td>\n",
              "      <td>0.030</td>\n",
              "    </tr>\n",
              "    <tr>\n",
              "      <th>hari_kontak_terakhir</th>\n",
              "      <td>object</td>\n",
              "      <td>5</td>\n",
              "      <td>0.020</td>\n",
              "    </tr>\n",
              "    <tr>\n",
              "      <th>status_perkawinan</th>\n",
              "      <td>object</td>\n",
              "      <td>4</td>\n",
              "      <td>0.020</td>\n",
              "    </tr>\n",
              "    <tr>\n",
              "      <th>hasil_kampanye_sebelumnya</th>\n",
              "      <td>object</td>\n",
              "      <td>3</td>\n",
              "      <td>0.010</td>\n",
              "    </tr>\n",
              "    <tr>\n",
              "      <th>gagal_bayar_sebelumnya</th>\n",
              "      <td>object</td>\n",
              "      <td>3</td>\n",
              "      <td>0.010</td>\n",
              "    </tr>\n",
              "    <tr>\n",
              "      <th>pinjaman_pribadi</th>\n",
              "      <td>object</td>\n",
              "      <td>3</td>\n",
              "      <td>0.010</td>\n",
              "    </tr>\n",
              "    <tr>\n",
              "      <th>pinjaman_rumah</th>\n",
              "      <td>object</td>\n",
              "      <td>3</td>\n",
              "      <td>0.010</td>\n",
              "    </tr>\n",
              "    <tr>\n",
              "      <th>jenis_kontak</th>\n",
              "      <td>object</td>\n",
              "      <td>2</td>\n",
              "      <td>0.010</td>\n",
              "    </tr>\n",
              "    <tr>\n",
              "      <th>berlangganan_deposito</th>\n",
              "      <td>int64</td>\n",
              "      <td>2</td>\n",
              "      <td>0.010</td>\n",
              "    </tr>\n",
              "  </tbody>\n",
              "</table>\n",
              "</div>"
            ],
            "text/plain": [
              "                             Tipe Data  Nilai Unik  Persentase Unik (%)\n",
              "customer_number                  int64       22916              100.000\n",
              "suku_bunga_euribor_3bln        float64         306                1.340\n",
              "usia                             int64          78                0.340\n",
              "jumlah_kontak_kampanye_ini       int64          40                0.170\n",
              "indeks_kepercayaan_konsumen    float64          26                0.110\n",
              "indeks_harga_konsumen          float64          26                0.110\n",
              "hari_sejak_kontak_sebelumnya     int64          25                0.110\n",
              "pekerjaan                       object          12                0.050\n",
              "jumlah_pekerja                 float64          11                0.050\n",
              "tingkat_variasi_pekerjaan      float64          10                0.040\n",
              "bulan_kontak_terakhir           object          10                0.040\n",
              "pendidikan                      object           8                0.030\n",
              "pulau                           object           8                0.030\n",
              "jumlah_kontak_sebelumnya         int64           8                0.030\n",
              "hari_kontak_terakhir            object           5                0.020\n",
              "status_perkawinan               object           4                0.020\n",
              "hasil_kampanye_sebelumnya       object           3                0.010\n",
              "gagal_bayar_sebelumnya          object           3                0.010\n",
              "pinjaman_pribadi                object           3                0.010\n",
              "pinjaman_rumah                  object           3                0.010\n",
              "jenis_kontak                    object           2                0.010\n",
              "berlangganan_deposito            int64           2                0.010"
            ]
          },
          "metadata": {},
          "output_type": "display_data"
        },
        {
          "name": "stdout",
          "output_type": "stream",
          "text": [
            "\n",
            "Detail Nilai Unik untuk Fitur Kategorikal dengan Kardinalitas Tinggi (misal > 10, untuk inspeksi):\n",
            "  Kolom 'pekerjaan' (Kardinalitas: 12):\n",
            "    ['sosial media specialis' 'teknisi' 'pekerja kasar' 'manajer'\n",
            " 'asisten rumah tangga' 'mahasiswa' 'penyedia jasa' 'pemilik bisnis'\n",
            " 'entrepreneur' 'pengangguran'] ... (menampilkan 10 pertama)\n"
          ]
        }
      ],
      "source": [
        "if not df_train.empty:\n",
        "    print(\"--- Tipe Data Kolom & Kardinalitas Fitur Kategorikal (df_train) ---\")\n",
        "\n",
        "    # Tipe Data\n",
        "    print(\"\\n1. Tipe Data per Kolom:\")\n",
        "    df_info = pd.DataFrame(df_train.dtypes, columns=[\"Tipe Data\"])\n",
        "\n",
        "    # Kardinalitas\n",
        "    df_info[\"Nilai Unik\"] = df_train.nunique()\n",
        "    df_info[\"Persentase Unik (%)\"] = (df_train.nunique() / len(df_train) * 100).round(2)\n",
        "\n",
        "    # Identifikasi fitur kategorikal dan numerik berdasarkan tipe data\n",
        "    categorical_cols = df_train.select_dtypes(\n",
        "        include=[\"object\", \"category\"]\n",
        "    ).columns.tolist()\n",
        "    numerical_cols = df_train.select_dtypes(include=np.number).columns.tolist()\n",
        "\n",
        "    # Hapus kolom target dari list fitur numerik jika ada, untuk analisis fitur murni\n",
        "    if \"berlangganan_deposito\" in numerical_cols:\n",
        "        numerical_cols.remove(\"berlangganan_deposito\")\n",
        "    if (\n",
        "        \"customer_number\" in numerical_cols\n",
        "    ):  # customer_number biasanya identifier, bukan fitur numerik untuk analisis\n",
        "        numerical_cols.remove(\"customer_number\")\n",
        "\n",
        "    print(f\"\\nIdentifikasi Kolom:\")\n",
        "    print(f\"  Jumlah Fitur Numerik (tidak termasuk target/ID): {len(numerical_cols)}\")\n",
        "    print(f\"  Nama Fitur Numerik: {numerical_cols}\")\n",
        "    print(f\"  Jumlah Fitur Kategorikal: {len(categorical_cols)}\")\n",
        "    print(f\"  Nama Fitur Kategorikal: {categorical_cols}\")\n",
        "\n",
        "    display(df_info.sort_values(by=\"Nilai Unik\", ascending=False))\n",
        "\n",
        "    print(\n",
        "        \"\\nDetail Nilai Unik untuk Fitur Kategorikal dengan Kardinalitas Tinggi (misal > 10, untuk inspeksi):\"\n",
        "    )\n",
        "    for col in categorical_cols:\n",
        "        if df_train[col].nunique() > 10:  # Batas kardinalitas bisa disesuaikan\n",
        "            print(\n",
        "                f\"  Kolom '{col}' (Kardinalitas: {df_train[col].nunique()}):\\n    {df_train[col].unique()[:10]} ... (menampilkan 10 pertama)\"\n",
        "            )  # Tampilkan beberapa contoh\n",
        "else:\n",
        "    print(\n",
        "        \"Dataset training (df_train) kosong. Analisis tipe data dan kardinalitas tidak dapat dilakukan.\"\n",
        "    )"
      ]
    },
    {
      "cell_type": "markdown",
      "metadata": {
        "id": "z8py0tBXUcZr"
      },
      "source": [
        "### **4.3. Analisis Variabel Target (`berlangganan_deposito`)**\n"
      ]
    },
    {
      "cell_type": "markdown",
      "metadata": {
        "id": "ui04QcpEU3Ae"
      },
      "source": [
        "Variabel target adalah fokus utama kita. Memahami distribusinya sangat penting, terutama untuk mengidentifikasi potensi ketidakseimbangan kelas (*class imbalance*), yang dapat memengaruhi performa model.\n"
      ]
    },
    {
      "cell_type": "markdown",
      "metadata": {
        "id": "lfCB9hufUyHH"
      },
      "source": [
        "#### **4.3.1. Distribusi Kelas Target (Imbalance Check)**\n"
      ]
    },
    {
      "cell_type": "code",
      "execution_count": 25,
      "metadata": {
        "colab": {
          "base_uri": "https://localhost:8080/"
        },
        "id": "grZZaqI_UhSG",
        "outputId": "e97400aa-d05a-4ad5-9085-a44c357e45f4"
      },
      "outputs": [
        {
          "name": "stdout",
          "output_type": "stream",
          "text": [
            "--- Distribusi Variabel Target 'berlangganan_deposito' (df_train) ---\n",
            "\n",
            "Jumlah per Kelas:\n",
            "berlangganan_deposito\n",
            "0    20302\n",
            "1     2614\n",
            "Name: count, dtype: int64\n",
            "\n",
            "Persentase per Kelas:\n",
            "berlangganan_deposito\n",
            "0    88.59%\n",
            "1    11.41%\n",
            "Name: proportion, dtype: object\n",
            "\n",
            "[ALERT] Terdeteksi potensi ketidakseimbangan kelas yang signifikan!\n"
          ]
        }
      ],
      "source": [
        "if not df_train.empty and \"berlangganan_deposito\" in df_train.columns:\n",
        "    print(\"--- Distribusi Variabel Target 'berlangganan_deposito' (df_train) ---\")\n",
        "    target_counts = df_train[\"berlangganan_deposito\"].value_counts()\n",
        "    target_percentages = (\n",
        "        df_train[\"berlangganan_deposito\"].value_counts(normalize=True).mul(100).round(2)\n",
        "    )\n",
        "\n",
        "    print(\"\\nJumlah per Kelas:\")\n",
        "    print(target_counts)\n",
        "    print(\"\\nPersentase per Kelas:\")\n",
        "    print(target_percentages.astype(str) + \"%\")\n",
        "\n",
        "    if (\n",
        "        target_percentages.min() < 20 or target_percentages.max() > 80\n",
        "    ):  # Contoh batas imbalance\n",
        "        print(\"\\n[ALERT] Terdeteksi potensi ketidakseimbangan kelas yang signifikan!\")\n",
        "    else:\n",
        "        print(\n",
        "            \"\\nDistribusi kelas target terlihat cukup seimbang atau ketidakseimbangan tidak terlalu ekstrem.\"\n",
        "        )\n",
        "else:\n",
        "    print(\n",
        "        \"Kolom target 'berlangganan_deposito' tidak ditemukan di df_train atau df_train kosong.\"\n",
        "    )"
      ]
    },
    {
      "cell_type": "markdown",
      "metadata": {
        "id": "DimmNn3mVPlj"
      },
      "source": [
        "#### **4.3.2. Visualisasi Distribusi Kelas Target**\n"
      ]
    },
    {
      "cell_type": "code",
      "execution_count": null,
      "metadata": {
        "colab": {
          "base_uri": "https://localhost:8080/",
          "height": 542
        },
        "id": "pkdpOzOUqHZK",
        "outputId": "c1a18571-846f-4ff9-c721-ffe32efd761c"
      },
      "outputs": [],
      "source": [
        "fig = px.histogram(\n",
        "    df_train, x=\"berlangganan_deposito\", text_auto=True, title=\"Target Distribution\"\n",
        ")\n",
        "\n",
        "fig.update_layout(bargap=0.3)"
      ]
    },
    {
      "cell_type": "code",
      "execution_count": null,
      "metadata": {
        "colab": {
          "base_uri": "https://localhost:8080/",
          "height": 542
        },
        "id": "Y1YdmCv2qHZL",
        "outputId": "81db1c36-950a-4435-a4dc-c62bd5a08f4c"
      },
      "outputs": [],
      "source": [
        "fig = px.histogram(\n",
        "    df_train,\n",
        "    x=\"berlangganan_deposito\",\n",
        "    text_auto=\".2f\",\n",
        "    title=\"Target Distribution (in %)\",\n",
        "    histnorm=\"percent\",\n",
        ")\n",
        "\n",
        "fig.update_layout(bargap=0.3)"
      ]
    },
    {
      "cell_type": "markdown",
      "metadata": {
        "id": "OfIGaPXSVdro"
      },
      "source": [
        "### **4.4. Analisis Fitur Numerik**\n"
      ]
    },
    {
      "cell_type": "markdown",
      "metadata": {
        "id": "omw8eKNjVjqa"
      },
      "source": [
        "Sekarang kita akan menganalisis fitur-fitur numerik lebih detail, termasuk distribusinya, potensi *outlier*, dan korelasi antar fitur. `customer_number` akan dikecualikan karena merupakan identifier.\n"
      ]
    },
    {
      "cell_type": "markdown",
      "metadata": {
        "id": "8JO12mu7WGmA"
      },
      "source": [
        "#### **4.4.1. Distribusi Masing-masing Fitur Numerik (Histogram, KDE Plot)**\n"
      ]
    },
    {
      "cell_type": "code",
      "execution_count": 28,
      "metadata": {
        "id": "hNryg2fgqHZN"
      },
      "outputs": [],
      "source": [
        "num_columns = df_train.select_dtypes(include=np.number).columns"
      ]
    },
    {
      "cell_type": "code",
      "execution_count": 29,
      "metadata": {
        "colab": {
          "base_uri": "https://localhost:8080/",
          "height": 540
        },
        "id": "xNJx6beAqHZO",
        "outputId": "32e3b289-0a52-49b1-ead2-d177b55c92cc"
      },
      "outputs": [
        {
          "data": {
            "image/png": "[encoded data removed]",
            "text/plain": [
              "<Figure size 2000x1000 with 12 Axes>"
            ]
          },
          "metadata": {},
          "output_type": "display_data"
        }
      ],
      "source": [
        "plot_multi_histogram(df_train, num_columns)"
      ]
    },
    {
      "cell_type": "markdown",
      "metadata": {
        "id": "p7PAzFpHWRQ4"
      },
      "source": [
        "#### **4.4.2. Deteksi Outlier (Box Plot)**\n"
      ]
    },
    {
      "cell_type": "code",
      "execution_count": null,
      "metadata": {
        "colab": {
          "base_uri": "https://localhost:8080/",
          "height": 1000
        },
        "id": "Bw_RCwmBWX42",
        "outputId": "5da609f0-c7ac-4e95-db49-390e38dd117e"
      },
      "outputs": [],
      "source": [
        "for column in num_columns:\n",
        "    fig = px.histogram(\n",
        "        df_train[column],\n",
        "        x=column,\n",
        "        title=f\"Box Plot {column}\",\n",
        "        marginal=\"box\",\n",
        "    )\n",
        "\n",
        "    fig.show()"
      ]
    },
    {
      "cell_type": "markdown",
      "metadata": {
        "id": "qzTJ1m5OWvQf"
      },
      "source": [
        "#### **4.4.3. Korelasi antar Fitur Numerik (Heatmap Korelasi)**\n"
      ]
    },
    {
      "cell_type": "markdown",
      "metadata": {
        "id": "AusdineaWyL4"
      },
      "source": [
        "Melihat korelasi Pearson antar fitur numerik dan juga dengan variabel target (jika numerik, dalam kasus ini target sudah 0/1 jadi bisa dimasukkan). Ini membantu mengidentifikasi multikolinearitas dan fitur yang mungkin memiliki hubungan linear kuat dengan target.\n"
      ]
    },
    {
      "cell_type": "code",
      "execution_count": 33,
      "metadata": {
        "colab": {
          "base_uri": "https://localhost:8080/",
          "height": 810
        },
        "id": "_29bpj3yWx2G",
        "outputId": "27e23fb8-b36b-44b5-bc54-3390d628b520"
      },
      "outputs": [
        {
          "data": {
            "image/png": "[encoded data removed]",
            "text/plain": [
              "<Figure size 1500x1000 with 2 Axes>"
            ]
          },
          "metadata": {},
          "output_type": "display_data"
        }
      ],
      "source": [
        "plot_correlation_matrix(\n",
        "    df_train,\n",
        "    num_columns,\n",
        ")"
      ]
    },
    {
      "cell_type": "markdown",
      "metadata": {
        "id": "2qv8TRYmXLH_"
      },
      "source": [
        "### **4.5. Analisis Fitur Kategorikal**\n"
      ]
    },
    {
      "cell_type": "markdown",
      "metadata": {
        "id": "juGwTL8TXOTS"
      },
      "source": [
        "#### **4.5.1. Distribusi Masing-masing Fitur Kategorikal (Bar Plot Frekuensi)**\n"
      ]
    },
    {
      "cell_type": "code",
      "execution_count": null,
      "metadata": {
        "colab": {
          "base_uri": "https://localhost:8080/",
          "height": 1000
        },
        "id": "fvHZgpMgqHZT",
        "outputId": "e0bd199b-8bf4-4028-99d7-64d1addc4e17"
      },
      "outputs": [],
      "source": [
        "for column in cat_columns:\n",
        "    fig = px.histogram(\n",
        "        df_train,\n",
        "        x=column,\n",
        "        histnorm=\"percent\",\n",
        "        text_auto=\".2f\",\n",
        "        title=f\"Distribusi {column} dalam %\",\n",
        "        category_orders={column: df_train[column].value_counts().index.tolist()},\n",
        "    )\n",
        "\n",
        "    fig.update_layout(bargap=0.3)\n",
        "    fig.show()"
      ]
    },
    {
      "cell_type": "markdown",
      "metadata": {
        "id": "PokIuVCdXvkA"
      },
      "source": [
        "#### **4.5.2. Hubungan Fitur Kategorikal dengan Variabel Target (Stacked Bar Plot, Grouped Bar Plot)**\n"
      ]
    },
    {
      "cell_type": "markdown",
      "metadata": {
        "id": "cAYeYB0iXzWQ"
      },
      "source": [
        "Menganalisis bagaimana distribusi variabel target berubah untuk setiap kategori dalam fitur-fitur kategorikal. Ini dapat memberikan *insight* awal mengenai fitur mana yang mungkin prediktif.\n"
      ]
    },
    {
      "cell_type": "code",
      "execution_count": null,
      "metadata": {
        "colab": {
          "base_uri": "https://localhost:8080/",
          "height": 1000
        },
        "id": "jqTyxCK5XwxO",
        "outputId": "c3f1b2b1-c03e-41df-c645-8172acbba876"
      },
      "outputs": [],
      "source": [
        "for column in cat_columns:\n",
        "    fig = px.histogram(\n",
        "        df_train,\n",
        "        x=column,\n",
        "        color=\"berlangganan_deposito\",\n",
        "        text_auto=True,\n",
        "        barmode=\"group\",\n",
        "        title=f\"Jumlah Nasabah Berlangganan atau Tidak Berdasarkan {' '.join(column.split('_')).capitalize()}\",\n",
        "    )\n",
        "\n",
        "    fig.update_layout(\n",
        "        legend=dict(\n",
        "            orientation=\"h\", yanchor=\"bottom\", y=1.02, xanchor=\"right\", x=1, title=None\n",
        "        ),\n",
        "        # xaxis_title=\"Model\",\n",
        "        # yaxis_title=None,\n",
        "    )\n",
        "\n",
        "    fig.show()"
      ]
    },
    {
      "cell_type": "markdown",
      "metadata": {
        "id": "LucGYMYRYwPP"
      },
      "source": [
        "### **4.6. Analisis Missing Values**\n"
      ]
    },
    {
      "cell_type": "markdown",
      "metadata": {
        "id": "E7RLBQDVYzvr"
      },
      "source": [
        "#### **4.6.1. Identifikasi Jumlah & Persentase Missing Values per Kolom**\n"
      ]
    },
    {
      "cell_type": "code",
      "execution_count": 36,
      "metadata": {
        "colab": {
          "base_uri": "https://localhost:8080/",
          "height": 774
        },
        "id": "aCDjAaGUY1Id",
        "outputId": "4c6452cb-d25a-4d2f-c62b-fbb22822b901"
      },
      "outputs": [
        {
          "data": {
            "text/plain": [
              "customer_number                 0\n",
              "usia                            0\n",
              "pekerjaan                       0\n",
              "status_perkawinan               0\n",
              "pendidikan                      0\n",
              "gagal_bayar_sebelumnya          0\n",
              "pinjaman_rumah                  0\n",
              "pinjaman_pribadi                0\n",
              "jenis_kontak                    0\n",
              "bulan_kontak_terakhir           0\n",
              "hari_kontak_terakhir            0\n",
              "jumlah_kontak_kampanye_ini      0\n",
              "hari_sejak_kontak_sebelumnya    0\n",
              "jumlah_kontak_sebelumnya        0\n",
              "hasil_kampanye_sebelumnya       0\n",
              "tingkat_variasi_pekerjaan       0\n",
              "indeks_harga_konsumen           0\n",
              "indeks_kepercayaan_konsumen     0\n",
              "suku_bunga_euribor_3bln         0\n",
              "jumlah_pekerja                  0\n",
              "pulau                           0\n",
              "berlangganan_deposito           0\n",
              "dtype: int64"
            ]
          },
          "execution_count": 36,
          "metadata": {},
          "output_type": "execute_result"
        }
      ],
      "source": [
        "df_train.isna().sum()"
      ]
    },
    {
      "cell_type": "markdown",
      "metadata": {
        "id": "DVzHfh25ZYpi"
      },
      "source": [
        "### **4.7. Analisis Duplikasi Data**\n"
      ]
    },
    {
      "cell_type": "code",
      "execution_count": 37,
      "metadata": {
        "colab": {
          "base_uri": "https://localhost:8080/"
        },
        "id": "ts40G2ZrZhDf",
        "outputId": "a4fef7e2-34ed-4007-97c7-e3dd49295a28"
      },
      "outputs": [
        {
          "data": {
            "text/plain": [
              "0"
            ]
          },
          "execution_count": 37,
          "metadata": {},
          "output_type": "execute_result"
        }
      ],
      "source": [
        "df_train.duplicated().sum()"
      ]
    },
    {
      "cell_type": "markdown",
      "metadata": {
        "id": "BaUCD0-noWaj"
      },
      "source": [
        "## **5. Pra-pemrosesan Data (Data Preprocessing)**\n"
      ]
    },
    {
      "cell_type": "markdown",
      "metadata": {
        "id": "GWVbtMXlot2L"
      },
      "source": [
        "Setelah melakukan eksplorasi data awal dan memahami karakteristik dataset, tahap selanjutnya adalah pra-pemrosesan data. Tujuan dari pra-pemrosesan adalah untuk membersihkan data dari isu-isu seperti data duplikat dan *missing values*, menangani *outlier*, serta mentransformasi fitur-fitur ke dalam format yang lebih sesuai untuk algoritma *machine learning*. Proses ini sangat krusial untuk meningkatkan kualitas data dan, pada akhirnya, performa model prediktif.\n"
      ]
    },
    {
      "cell_type": "markdown",
      "metadata": {
        "id": "etrVKqYjoySB"
      },
      "source": [
        "### **5.1. Select Data**"
      ]
    },
    {
      "cell_type": "code",
      "execution_count": 38,
      "metadata": {
        "id": "yLN4svSFos5j"
      },
      "outputs": [],
      "source": [
        "df_train.drop([\"customer_number\", \"hari_sejak_kontak_sebelumnya\"], axis=1, inplace=True)"
      ]
    },
    {
      "cell_type": "markdown",
      "metadata": {
        "id": "wYQwg5p6qGx_"
      },
      "source": [
        "### **5.2. Encoding Fitur Kategorikal**\n"
      ]
    },
    {
      "cell_type": "markdown",
      "metadata": {
        "id": "a9dxpyxOqIDT"
      },
      "source": [
        "Algoritma *machine learning* umumnya memerlukan input numerik. Oleh karena itu, fitur-fitur kategorikal perlu diubah menjadi representasi numerik melalui proses *encoding*."
      ]
    },
    {
      "cell_type": "markdown",
      "metadata": {
        "id": "UnDu8ZkqqMJe"
      },
      "source": [
        "#### **5.2.1. Identifikasi Fitur Kategorikal Nominal vs. Ordinal**\n"
      ]
    },
    {
      "cell_type": "markdown",
      "metadata": {
        "id": "DIBfgsMqqVzA"
      },
      "source": [
        "Berdasarkan pemahaman data dan EDA, kita perlu membedakan mana fitur kategorikal yang bersifat nominal (tidak ada urutan intrinsik, misal `pekerjaan`) dan mana yang ordinal (ada urutan, misal `pendidikan` jika diurutkan dari SD ke S3). Untuk lomba ini, jika tidak ada informasi eksplisit tentang ordinalitas, kita bisa asumsikan semua kategorikal adalah nominal atau menggunakan OrdinalEncoder dengan urutan yang didefinisikan secara manual jika diketahui.\n",
        "\n",
        "*Contoh penentuan (perlu disesuaikan berdasarkan data Anda):*\n",
        "*   *Fitur Ordinal Potensial: `pendidikan`, `hari_kontak_terakhir`, `bulan_kontak_terakhir` (jika urutannya jelas)*\n",
        "*   *Fitur Nominal: `pekerjaan`, `status_perkawinan`, `jenis_kontak`, `hasil_kampanye_sebelumnya`, `pulau`.*"
      ]
    },
    {
      "cell_type": "code",
      "execution_count": 39,
      "metadata": {
        "id": "0OZgcfo0qHZe"
      },
      "outputs": [],
      "source": [
        "nom_features = [\n",
        "    \"pekerjaan\",\n",
        "    \"status_perkawinan\",\n",
        "    \"jenis_kontak\",\n",
        "    \"pulau\",\n",
        "]"
      ]
    },
    {
      "cell_type": "code",
      "execution_count": 40,
      "metadata": {
        "id": "bM1IgNKbqHZe"
      },
      "outputs": [],
      "source": [
        "df_train = pd.get_dummies(df_train, columns=nom_features, dtype=int)"
      ]
    },
    {
      "cell_type": "code",
      "execution_count": 41,
      "metadata": {
        "colab": {
          "base_uri": "https://localhost:8080/"
        },
        "id": "dFahBhd2qHZf",
        "outputId": "231de50e-a1c2-4396-ed6e-ec5c6c07e197"
      },
      "outputs": [
        {
          "data": {
            "text/plain": [
              "Index(['pendidikan', 'gagal_bayar_sebelumnya', 'pinjaman_rumah', 'pinjaman_pribadi', 'bulan_kontak_terakhir', 'hari_kontak_terakhir', 'hasil_kampanye_sebelumnya'], dtype='object')"
            ]
          },
          "execution_count": 41,
          "metadata": {},
          "output_type": "execute_result"
        }
      ],
      "source": [
        "ord_featuers = df_train.select_dtypes(include=[\"object\"]).columns\n",
        "ord_featuers"
      ]
    },
    {
      "cell_type": "code",
      "execution_count": 42,
      "metadata": {
        "colab": {
          "base_uri": "https://localhost:8080/",
          "height": 295
        },
        "id": "cb6PTYorqHZf",
        "outputId": "590f2984-a5c3-4340-83bc-469b8c3e42a5"
      },
      "outputs": [
        {
          "data": {
            "text/html": [
              "<div>\n",
              "<style scoped>\n",
              "    .dataframe tbody tr th:only-of-type {\n",
              "        vertical-align: middle;\n",
              "    }\n",
              "\n",
              "    .dataframe tbody tr th {\n",
              "        vertical-align: top;\n",
              "    }\n",
              "\n",
              "    .dataframe thead th {\n",
              "        text-align: right;\n",
              "    }\n",
              "</style>\n",
              "<table border=\"1\" class=\"dataframe\">\n",
              "  <thead>\n",
              "    <tr style=\"text-align: right;\">\n",
              "      <th></th>\n",
              "      <th>pendidikan</th>\n",
              "      <th>gagal_bayar_sebelumnya</th>\n",
              "      <th>pinjaman_rumah</th>\n",
              "      <th>pinjaman_pribadi</th>\n",
              "      <th>bulan_kontak_terakhir</th>\n",
              "      <th>hari_kontak_terakhir</th>\n",
              "      <th>hasil_kampanye_sebelumnya</th>\n",
              "    </tr>\n",
              "  </thead>\n",
              "  <tbody>\n",
              "    <tr>\n",
              "      <th>0</th>\n",
              "      <td>Pendidikan Tinggi</td>\n",
              "      <td>no</td>\n",
              "      <td>yes</td>\n",
              "      <td>no</td>\n",
              "      <td>jul</td>\n",
              "      <td>fri</td>\n",
              "      <td>nonexistent</td>\n",
              "    </tr>\n",
              "    <tr>\n",
              "      <th>1</th>\n",
              "      <td>Pendidikan Tinggi</td>\n",
              "      <td>no</td>\n",
              "      <td>yes</td>\n",
              "      <td>no</td>\n",
              "      <td>nov</td>\n",
              "      <td>fri</td>\n",
              "      <td>nonexistent</td>\n",
              "    </tr>\n",
              "    <tr>\n",
              "      <th>2</th>\n",
              "      <td>Pendidikan Tinggi</td>\n",
              "      <td>no</td>\n",
              "      <td>yes</td>\n",
              "      <td>yes</td>\n",
              "      <td>jul</td>\n",
              "      <td>thu</td>\n",
              "      <td>nonexistent</td>\n",
              "    </tr>\n",
              "    <tr>\n",
              "      <th>3</th>\n",
              "      <td>SMA</td>\n",
              "      <td>no</td>\n",
              "      <td>no</td>\n",
              "      <td>no</td>\n",
              "      <td>may</td>\n",
              "      <td>wed</td>\n",
              "      <td>nonexistent</td>\n",
              "    </tr>\n",
              "    <tr>\n",
              "      <th>4</th>\n",
              "      <td>Pendidikan Tinggi</td>\n",
              "      <td>no</td>\n",
              "      <td>no</td>\n",
              "      <td>no</td>\n",
              "      <td>aug</td>\n",
              "      <td>wed</td>\n",
              "      <td>nonexistent</td>\n",
              "    </tr>\n",
              "  </tbody>\n",
              "</table>\n",
              "</div>"
            ],
            "text/plain": [
              "          pendidikan gagal_bayar_sebelumnya pinjaman_rumah pinjaman_pribadi bulan_kontak_terakhir hari_kontak_terakhir hasil_kampanye_sebelumnya\n",
              "0  Pendidikan Tinggi                     no            yes               no                   jul                  fri               nonexistent\n",
              "1  Pendidikan Tinggi                     no            yes               no                   nov                  fri               nonexistent\n",
              "2  Pendidikan Tinggi                     no            yes              yes                   jul                  thu               nonexistent\n",
              "3                SMA                     no             no               no                   may                  wed               nonexistent\n",
              "4  Pendidikan Tinggi                     no             no               no                   aug                  wed               nonexistent"
            ]
          },
          "execution_count": 42,
          "metadata": {},
          "output_type": "execute_result"
        }
      ],
      "source": [
        "df_train[ord_featuers].head()"
      ]
    },
    {
      "cell_type": "code",
      "execution_count": 43,
      "metadata": {
        "id": "3mpGW-WaqHZg"
      },
      "outputs": [],
      "source": [
        "pendidikan_map = {\n",
        "    \"Pendidikan Tinggi\": 6,\n",
        "    \"Diploma\": 5,\n",
        "    \"SMA\": 4,\n",
        "    \"SMP\": 3,\n",
        "    \"SD\": 2,\n",
        "    \"Tidak Tamat SD\": 1,\n",
        "    \"TIDAK SEKOLAH\": 0,\n",
        "    \"unknown\": 0,\n",
        "}\n",
        "\n",
        "df_train[\"pendidikan\"] = df_train[\"pendidikan\"].map(pendidikan_map)"
      ]
    },
    {
      "cell_type": "code",
      "execution_count": 44,
      "metadata": {
        "id": "al3bmxf-qHZg"
      },
      "outputs": [],
      "source": [
        "boolean_map = {\"yes\": -1, \"no\": 1, \"unknown\": 0}\n",
        "\n",
        "bool_features = [\"gagal_bayar_sebelumnya\", \"pinjaman_rumah\", \"pinjaman_pribadi\"]\n",
        "\n",
        "for colum in bool_features:\n",
        "    df_train[colum] = df_train[colum].map(boolean_map)"
      ]
    },
    {
      "cell_type": "code",
      "execution_count": 45,
      "metadata": {
        "id": "NpBs9KUHqHZg"
      },
      "outputs": [],
      "source": [
        "bulan_map = {\n",
        "    \"jul\": 7,\n",
        "    \"nov\": 11,\n",
        "    \"may\": 5,\n",
        "    \"aug\": 8,\n",
        "    \"oct\": 10,\n",
        "    \"apr\": 4,\n",
        "    \"jun\": 6,\n",
        "    \"sep\": 9,\n",
        "    \"mar\": 5,\n",
        "    \"dec\": 12,\n",
        "}\n",
        "\n",
        "df_train[\"bulan_kontak_terakhir\"] = df_train[\"bulan_kontak_terakhir\"].map(bulan_map)"
      ]
    },
    {
      "cell_type": "code",
      "execution_count": 46,
      "metadata": {
        "id": "09p6jSzzqHZh"
      },
      "outputs": [],
      "source": [
        "hari_map = {\"mon\": 1, \"tue\": 2, \"wed\": 3, \"thu\": 4, \"fri\": 5}\n",
        "\n",
        "df_train[\"hari_kontak_terakhir\"] = df_train[\"hari_kontak_terakhir\"].map(hari_map)"
      ]
    },
    {
      "cell_type": "code",
      "execution_count": 47,
      "metadata": {
        "id": "L4v_-yZvqHZh"
      },
      "outputs": [],
      "source": [
        "kampanye_map = {\"success\": 1, \"failure\": -1, \"nonexistent\": 0}\n",
        "\n",
        "df_train[\"hasil_kampanye_sebelumnya\"] = df_train[\"hasil_kampanye_sebelumnya\"].map(\n",
        "    kampanye_map\n",
        ")"
      ]
    },
    {
      "cell_type": "code",
      "execution_count": 48,
      "metadata": {
        "colab": {
          "base_uri": "https://localhost:8080/"
        },
        "id": "577YquWfqHZh",
        "outputId": "e8735835-c1df-4133-8de6-c080c251614e"
      },
      "outputs": [
        {
          "name": "stdout",
          "output_type": "stream",
          "text": [
            "<class 'pandas.core.frame.DataFrame'>\n",
            "RangeIndex: 22916 entries, 0 to 22915\n",
            "Data columns (total 42 columns):\n",
            " #   Column                            Non-Null Count  Dtype  \n",
            "---  ------                            --------------  -----  \n",
            " 0   usia                              22916 non-null  int64  \n",
            " 1   pendidikan                        22916 non-null  int64  \n",
            " 2   gagal_bayar_sebelumnya            22916 non-null  int64  \n",
            " 3   pinjaman_rumah                    22916 non-null  int64  \n",
            " 4   pinjaman_pribadi                  22916 non-null  int64  \n",
            " 5   bulan_kontak_terakhir             22916 non-null  int64  \n",
            " 6   hari_kontak_terakhir              22916 non-null  int64  \n",
            " 7   jumlah_kontak_kampanye_ini        22916 non-null  int64  \n",
            " 8   jumlah_kontak_sebelumnya          22916 non-null  int64  \n",
            " 9   hasil_kampanye_sebelumnya         22916 non-null  int64  \n",
            " 10  tingkat_variasi_pekerjaan         22916 non-null  float64\n",
            " 11  indeks_harga_konsumen             22916 non-null  float64\n",
            " 12  indeks_kepercayaan_konsumen       22916 non-null  float64\n",
            " 13  suku_bunga_euribor_3bln           22916 non-null  float64\n",
            " 14  jumlah_pekerja                    22916 non-null  float64\n",
            " 15  berlangganan_deposito             22916 non-null  int64  \n",
            " 16  pekerjaan_asisten rumah tangga    22916 non-null  int32  \n",
            " 17  pekerjaan_entrepreneur            22916 non-null  int32  \n",
            " 18  pekerjaan_mahasiswa               22916 non-null  int32  \n",
            " 19  pekerjaan_manajer                 22916 non-null  int32  \n",
            " 20  pekerjaan_pekerja kasar           22916 non-null  int32  \n",
            " 21  pekerjaan_pemilik bisnis          22916 non-null  int32  \n",
            " 22  pekerjaan_pengangguran            22916 non-null  int32  \n",
            " 23  pekerjaan_pensiunan               22916 non-null  int32  \n",
            " 24  pekerjaan_penyedia jasa           22916 non-null  int32  \n",
            " 25  pekerjaan_sosial media specialis  22916 non-null  int32  \n",
            " 26  pekerjaan_teknisi                 22916 non-null  int32  \n",
            " 27  pekerjaan_unknown                 22916 non-null  int32  \n",
            " 28  status_perkawinan_cerai           22916 non-null  int32  \n",
            " 29  status_perkawinan_lajang          22916 non-null  int32  \n",
            " 30  status_perkawinan_menikah         22916 non-null  int32  \n",
            " 31  status_perkawinan_unknown         22916 non-null  int32  \n",
            " 32  jenis_kontak_cellular             22916 non-null  int32  \n",
            " 33  jenis_kontak_telephone            22916 non-null  int32  \n",
            " 34  pulau_Bali                        22916 non-null  int32  \n",
            " 35  pulau_Jawa                        22916 non-null  int32  \n",
            " 36  pulau_Kalimantan                  22916 non-null  int32  \n",
            " 37  pulau_NTB                         22916 non-null  int32  \n",
            " 38  pulau_NTT                         22916 non-null  int32  \n",
            " 39  pulau_Papua                       22916 non-null  int32  \n",
            " 40  pulau_Sulawesi                    22916 non-null  int32  \n",
            " 41  pulau_Sumatera                    22916 non-null  int32  \n",
            "dtypes: float64(5), int32(26), int64(11)\n",
            "memory usage: 5.1 MB\n"
          ]
        }
      ],
      "source": [
        "df_train.info()"
      ]
    },
    {
      "cell_type": "code",
      "execution_count": 49,
      "metadata": {
        "colab": {
          "base_uri": "https://localhost:8080/"
        },
        "id": "jAQafX-wqHZi",
        "outputId": "97bb9e3e-8f2e-4356-fd97-39c2666314d9"
      },
      "outputs": [
        {
          "data": {
            "text/plain": [
              "78"
            ]
          },
          "execution_count": 49,
          "metadata": {},
          "output_type": "execute_result"
        }
      ],
      "source": [
        "df_train.duplicated().sum()"
      ]
    },
    {
      "cell_type": "code",
      "execution_count": 50,
      "metadata": {
        "id": "cMjhgQvgqHZj"
      },
      "outputs": [],
      "source": [
        "df_train.drop_duplicates(inplace=True)\n",
        "df_train.reset_index(drop=True, inplace=True)"
      ]
    },
    {
      "cell_type": "code",
      "execution_count": 51,
      "metadata": {
        "colab": {
          "base_uri": "https://localhost:8080/"
        },
        "id": "Dkcgx2E0qHZj",
        "outputId": "aaba130c-a491-449f-9054-8f3147b59594"
      },
      "outputs": [
        {
          "data": {
            "text/plain": [
              "0"
            ]
          },
          "execution_count": 51,
          "metadata": {},
          "output_type": "execute_result"
        }
      ],
      "source": [
        "df_train.duplicated().sum()"
      ]
    },
    {
      "cell_type": "markdown",
      "metadata": {
        "id": "cKykZMUWqHZj"
      },
      "source": [
        "### **5.3. Data Splitting**"
      ]
    },
    {
      "cell_type": "code",
      "execution_count": 52,
      "metadata": {
        "id": "M19zd8OuqHZk"
      },
      "outputs": [],
      "source": [
        "X = df_train.drop(\"berlangganan_deposito\", axis=1)\n",
        "y = df_train[\"berlangganan_deposito\"]"
      ]
    },
    {
      "cell_type": "code",
      "execution_count": 53,
      "metadata": {
        "id": "s_MXrixEqHZk"
      },
      "outputs": [],
      "source": [
        "X_train, X_test, y_train, y_test = train_test_split(\n",
        "    X, y, test_size=0.1, random_state=RANDOM_STATE, stratify=y\n",
        ")"
      ]
    },
    {
      "cell_type": "code",
      "execution_count": 54,
      "metadata": {
        "colab": {
          "base_uri": "https://localhost:8080/"
        },
        "id": "1xNik-xRqHZk",
        "outputId": "cf3400cd-c286-4e0f-9164-159859856f6b"
      },
      "outputs": [
        {
          "data": {
            "text/plain": [
              "((20554, 41), (2284, 41), (20554,), (2284,))"
            ]
          },
          "execution_count": 54,
          "metadata": {},
          "output_type": "execute_result"
        }
      ],
      "source": [
        "X_train.shape, X_test.shape, y_train.shape, y_test.shape"
      ]
    },
    {
      "cell_type": "code",
      "execution_count": 55,
      "metadata": {
        "id": "Bwd29PiyqHZl"
      },
      "outputs": [],
      "source": [
        "num_features = [\n",
        "    \"usia\",\n",
        "    \"jumlah_kontak_kampanye_ini\",\n",
        "    \"jumlah_kontak_sebelumnya\",\n",
        "    \"tingkat_variasi_pekerjaan\",\n",
        "    \"indeks_harga_konsumen\",\n",
        "    \"indeks_kepercayaan_konsumen\",\n",
        "    \"suku_bunga_euribor_3bln\",\n",
        "    \"jumlah_pekerja\",\n",
        "]"
      ]
    },
    {
      "cell_type": "markdown",
      "metadata": {
        "id": "UUgpXjwvqmhd"
      },
      "source": [
        "### **5.4. Transformasi Fitur Numerik**\n"
      ]
    },
    {
      "cell_type": "markdown",
      "metadata": {
        "id": "omL4fqwtqqTn"
      },
      "source": [
        "Beberapa algoritma *machine learning* (seperti Regresi Logistik, SVM, KNN, Neural Networks) sensitif terhadap skala fitur numerik. Oleh karena itu, *scaling* atau normalisasi seringkali diperlukan. Model berbasis pohon (Decision Tree, Random Forest, Gradient Boosting) umumnya tidak terlalu terpengaruh oleh skala fitur.\n"
      ]
    },
    {
      "cell_type": "markdown",
      "metadata": {
        "id": "T0SGB2L_qqRE"
      },
      "source": [
        "#### **5.4.1. Scaling/Normalisasi (StandardScaler, MinMaxScaler)**\n"
      ]
    },
    {
      "cell_type": "markdown",
      "metadata": {
        "id": "FXX9_UVtqxU1"
      },
      "source": [
        "*   **StandardScaler**: Mentransformasi data sehingga memiliki mean 0 dan standar deviasi 1.\n",
        "*   **MinMaxScaler**: Menskalakan data ke rentang tertentu, biasanya [0, 1].\n",
        "*   **RobustScaler**: Mirip StandardScaler, tetapi menggunakan median dan IQR, sehingga lebih robust terhadap *outlier*.\n",
        "\n",
        "\n",
        "Kita akan menggunakan StandardScaler. Parameter scaler (mean dan std) dihitung **hanya** dari `X_train`.\n"
      ]
    },
    {
      "cell_type": "code",
      "execution_count": 56,
      "metadata": {
        "id": "8TTIEFdDqnt8"
      },
      "outputs": [],
      "source": [
        "scaler = StandardScaler()\n",
        "\n",
        "X_train_scaled = X_train.copy()\n",
        "scaler.fit(X_train_scaled[num_features])\n",
        "X_train_scaled[num_features] = scaler.transform(X_train_scaled[num_features])\n",
        "\n",
        "X_test_scaled = X_test.copy()\n",
        "X_test_scaled[num_features] = scaler.transform(X_test_scaled[num_features])"
      ]
    },
    {
      "cell_type": "code",
      "execution_count": 57,
      "metadata": {
        "id": "V3VQdZ3iqHZn"
      },
      "outputs": [],
      "source": [
        "scaler_2 = StandardScaler()\n",
        "\n",
        "X_scaled = X.copy()\n",
        "X_scaled[num_features] = scaler_2.fit_transform(X[num_features])"
      ]
    },
    {
      "cell_type": "markdown",
      "metadata": {
        "id": "ea6X7rt47qhm"
      },
      "source": [
        "## **6. Rekayasa Fitur (Feature Engineering)**"
      ]
    },
    {
      "cell_type": "markdown",
      "metadata": {
        "id": "bMnSroiLtkOO"
      },
      "source": [
        "### **6.1. Seleksi Fitur (Feature Selection)**\n"
      ]
    },
    {
      "cell_type": "markdown",
      "metadata": {
        "id": "Mc3LaZF9tmqt"
      },
      "source": [
        "Setelah membuat fitur baru, atau bahkan dengan fitur asli, mungkin tidak semua fitur bermanfaat untuk model. Seleksi fitur membantu memilih subset fitur yang paling relevan.\n"
      ]
    },
    {
      "cell_type": "markdown",
      "metadata": {
        "id": "9CkBq2antv5n"
      },
      "source": [
        "#### **6.1.1. Metode Filter (Korelasi, Chi-squared, ANOVA F-value)**\n"
      ]
    },
    {
      "cell_type": "markdown",
      "metadata": {
        "id": "xPYvY6Lbt3NE"
      },
      "source": [
        "Metode filter mengevaluasi relevansi fitur berdasarkan statistik intrinsik data, independen dari model.\n",
        "*   **Korelasi**: Untuk fitur numerik, kita bisa membuang fitur yang sangat berkorelasi tinggi satu sama lain (multikolinearitas).\n",
        "*   **Chi-squared / ANOVA**: Untuk mengevaluasi hubungan antara fitur (kategorikal/numerik) dengan target.\n"
      ]
    },
    {
      "cell_type": "markdown",
      "metadata": {
        "id": "h7GNNVaOt8vZ"
      },
      "source": [
        "#### **6.1.2. Metode Wrapper (Recursive Feature Elimination - RFE)**\n"
      ]
    },
    {
      "cell_type": "markdown",
      "metadata": {
        "id": "eByAr04cuHk5"
      },
      "source": [
        "Metode *wrapper* menggunakan model prediktif untuk mengevaluasi dan memilih subset fitur. RFE secara rekursif menghilangkan fitur yang paling tidak penting.\n"
      ]
    },
    {
      "cell_type": "code",
      "execution_count": 57,
      "metadata": {
        "colab": {
          "base_uri": "https://localhost:8080/"
        },
        "id": "9kVtZfEAt973",
        "outputId": "490f83d3-36b5-4323-9e01-9877a1fc3e61"
      },
      "outputs": [
        {
          "name": "stdout",
          "output_type": "stream",
          "text": [
            "optimal number of features selected : 10\n",
            "number of features in : 41\n",
            "the feature ranking : [ 1  4 16 22 14  1  1  1  3  1  8  1  1  1  1 23 13  7 20  9 15 32 26 11\n",
            " 18 24 25 31 19 21 28  1  2 10  6 29 17  5 12 30 27]\n",
            "boolean mask of selected features : [ True False False False False  True  True  True False  True False  True\n",
            "  True  True  True False False False False False False False False False\n",
            " False False False False False False False  True False False False False\n",
            " False False False False False]\n",
            "selected features name : ['usia' 'bulan_kontak_terakhir' 'hari_kontak_terakhir'\n",
            " 'jumlah_kontak_kampanye_ini' 'hasil_kampanye_sebelumnya'\n",
            " 'indeks_harga_konsumen' 'indeks_kepercayaan_konsumen'\n",
            " 'suku_bunga_euribor_3bln' 'jumlah_pekerja' 'jenis_kontak_cellular']\n"
          ]
        }
      ],
      "source": [
        "clf = GradientBoostingClassifier(random_state=RANDOM_STATE)\n",
        "\n",
        "recursive_fe = RFECV(estimator=clf, cv=5, scoring=\"roc_auc\").fit(\n",
        "    X_train_scaled, y_train\n",
        ")\n",
        "\n",
        "print(f\"optimal number of features selected : {recursive_fe.n_features_}\")\n",
        "print(f\"number of features in : {recursive_fe.n_features_in_}\")\n",
        "print(f\"the feature ranking : {recursive_fe.ranking_}\")\n",
        "print(f\"boolean mask of selected features : {recursive_fe.support_}\")\n",
        "print(f\"selected features name : {recursive_fe.get_feature_names_out()}\")"
      ]
    },
    {
      "cell_type": "code",
      "execution_count": 58,
      "metadata": {
        "id": "3dY8L12dqHZs"
      },
      "outputs": [],
      "source": [
        "selected_features = [\n",
        "    \"usia\",\n",
        "    \"bulan_kontak_terakhir\",\n",
        "    \"hari_kontak_terakhir\",\n",
        "    \"jumlah_kontak_kampanye_ini\",\n",
        "    \"hasil_kampanye_sebelumnya\",\n",
        "    \"indeks_harga_konsumen\",\n",
        "    \"indeks_kepercayaan_konsumen\",\n",
        "    \"suku_bunga_euribor_3bln\",\n",
        "    \"jumlah_pekerja\",\n",
        "    \"jenis_kontak_cellular\",\n",
        "]"
      ]
    },
    {
      "cell_type": "markdown",
      "metadata": {
        "id": "_X4A9EkTqHZu"
      },
      "source": [
        "### **6.2. Resampling**"
      ]
    },
    {
      "cell_type": "markdown",
      "metadata": {
        "id": "o0bkHIa9qHZu"
      },
      "source": [
        "#### **6.2.1. Undersampling**"
      ]
    },
    {
      "cell_type": "code",
      "execution_count": 59,
      "metadata": {
        "id": "QJPZtnwIqHZ0"
      },
      "outputs": [],
      "source": [
        "undersampler = TomekLinks()\n",
        "\n",
        "X_train_und, y_train_und = undersampler.fit_resample(X_train_scaled, y_train)"
      ]
    },
    {
      "cell_type": "code",
      "execution_count": 60,
      "metadata": {
        "colab": {
          "base_uri": "https://localhost:8080/",
          "height": 178
        },
        "id": "3H-Oop1fqHZ0",
        "outputId": "4f6c58f7-5399-4536-ad0e-540d5281ec3a"
      },
      "outputs": [
        {
          "data": {
            "text/plain": [
              "berlangganan_deposito\n",
              "0    18202\n",
              "1     2352\n",
              "Name: count, dtype: int64"
            ]
          },
          "execution_count": 60,
          "metadata": {},
          "output_type": "execute_result"
        }
      ],
      "source": [
        "y_train.value_counts()"
      ]
    },
    {
      "cell_type": "code",
      "execution_count": 60,
      "metadata": {
        "colab": {
          "base_uri": "https://localhost:8080/",
          "height": 178
        },
        "id": "u50sviGsqHZ1",
        "outputId": "ad51775e-2138-4376-8b10-bafb38c935a6"
      },
      "outputs": [
        {
          "data": {
            "text/plain": [
              "berlangganan_deposito\n",
              "0    17434\n",
              "1     2352\n",
              "Name: count, dtype: int64"
            ]
          },
          "execution_count": 60,
          "metadata": {},
          "output_type": "execute_result"
        }
      ],
      "source": [
        "y_train_und.value_counts()"
      ]
    },
    {
      "cell_type": "code",
      "execution_count": 61,
      "metadata": {
        "id": "xv2hlecaqHZ1"
      },
      "outputs": [],
      "source": [
        "undersampler_2 = TomekLinks()\n",
        "\n",
        "X_und, y_und = undersampler.fit_resample(X_scaled, y)"
      ]
    },
    {
      "cell_type": "code",
      "execution_count": 62,
      "metadata": {
        "colab": {
          "base_uri": "https://localhost:8080/",
          "height": 178
        },
        "id": "uCJ5zUKrqHZ2",
        "outputId": "61f26789-9fcf-4fd1-8958-e7e7cbf7db61"
      },
      "outputs": [
        {
          "data": {
            "text/plain": [
              "berlangganan_deposito\n",
              "0    20225\n",
              "1     2613\n",
              "Name: count, dtype: int64"
            ]
          },
          "execution_count": 62,
          "metadata": {},
          "output_type": "execute_result"
        }
      ],
      "source": [
        "y.value_counts()"
      ]
    },
    {
      "cell_type": "code",
      "execution_count": 63,
      "metadata": {
        "colab": {
          "base_uri": "https://localhost:8080/",
          "height": 178
        },
        "id": "VKQ-71HXqHZ2",
        "outputId": "d921024e-1ae7-41b4-9811-b18ccba99706"
      },
      "outputs": [
        {
          "data": {
            "text/plain": [
              "berlangganan_deposito\n",
              "0    19382\n",
              "1     2613\n",
              "Name: count, dtype: int64"
            ]
          },
          "execution_count": 63,
          "metadata": {},
          "output_type": "execute_result"
        }
      ],
      "source": [
        "y_und.value_counts()"
      ]
    },
    {
      "cell_type": "code",
      "execution_count": 62,
      "metadata": {},
      "outputs": [],
      "source": [
        "undersampler_fs = TomekLinks()\n",
        "X_und_fs, y_und_fs = undersampler_fs.fit_resample(X_scaled[selected_features], y)"
      ]
    },
    {
      "cell_type": "code",
      "execution_count": 82,
      "metadata": {},
      "outputs": [
        {
          "data": {
            "text/plain": [
              "berlangganan_deposito\n",
              "0    20225\n",
              "1     2613\n",
              "Name: count, dtype: int64"
            ]
          },
          "execution_count": 82,
          "metadata": {},
          "output_type": "execute_result"
        }
      ],
      "source": [
        "y.value_counts()"
      ]
    },
    {
      "cell_type": "code",
      "execution_count": 83,
      "metadata": {},
      "outputs": [
        {
          "data": {
            "text/plain": [
              "berlangganan_deposito\n",
              "0    19382\n",
              "1     2613\n",
              "Name: count, dtype: int64"
            ]
          },
          "execution_count": 83,
          "metadata": {},
          "output_type": "execute_result"
        }
      ],
      "source": [
        "y_und.value_counts()"
      ]
    },
    {
      "cell_type": "code",
      "execution_count": 81,
      "metadata": {},
      "outputs": [
        {
          "data": {
            "text/plain": [
              "berlangganan_deposito\n",
              "0    19728\n",
              "1     2613\n",
              "Name: count, dtype: int64"
            ]
          },
          "execution_count": 81,
          "metadata": {},
          "output_type": "execute_result"
        }
      ],
      "source": [
        "y_und_fs.value_counts()"
      ]
    },
    {
      "cell_type": "markdown",
      "metadata": {
        "id": "J56J3lOqxKrQ"
      },
      "source": [
        "## **7. Pemodelan (Modeling)**\n"
      ]
    },
    {
      "cell_type": "markdown",
      "metadata": {
        "id": "PnLSuNr5xTks"
      },
      "source": [
        "Setelah melalui tahap eksplorasi data, pra-pemrosesan, dan rekayasa fitur, kini kita memiliki dataset (`X_train_processed`, `y_train`, dan `X_val_processed`) yang siap untuk digunakan dalam proses pemodelan. Tujuan utama dari tahap ini adalah untuk melatih berbagai algoritma klasifikasi, mengevaluasi performa mereka secara objektif menggunakan validasi silang (cross-validation) dengan metrik AUC, dan akhirnya memilih beberapa model kandidat terbaik untuk penyetelan hiperparameter lebih lanjut.\n"
      ]
    },
    {
      "cell_type": "markdown",
      "metadata": {
        "id": "RFg1tj_FyO2X"
      },
      "source": [
        "### **7.1. Pemilihan Model Baseline & Eksperimen Awal**\n"
      ]
    },
    {
      "cell_type": "markdown",
      "metadata": {
        "id": "Kw--h1G9yUxc"
      },
      "source": [
        "Kita akan melatih beberapa model klasifikasi standar sebagai *baseline*. Tujuannya adalah untuk mendapatkan gambaran performa awal dari berbagai jenis algoritma dengan parameter *default* atau parameter sederhana. Evaluasi akan dilakukan menggunakan *cross-validation* pada `X_train_final` dan `y_train_final`.\n",
        "\n",
        "\n",
        "Metrik evaluasi utama adalah **AUC (Area Under the ROC Curve)**."
      ]
    },
    {
      "cell_type": "code",
      "execution_count": 63,
      "metadata": {
        "id": "u-gGrGmXyViX"
      },
      "outputs": [],
      "source": [
        "models = {\n",
        "    # \"LinearSVC\": LinearSVC(random_state=RANDOM_STATE),\n",
        "    \"Logistic Regression\": LogisticRegression(random_state=RANDOM_STATE),\n",
        "    \"Decision Tree\": DecisionTreeClassifier(random_state=RANDOM_STATE),\n",
        "    \"Extra Tree\": ExtraTreeClassifier(random_state=RANDOM_STATE),\n",
        "    \"Random Forest\": RandomForestClassifier(random_state=RANDOM_STATE),\n",
        "    \"LightGBM\": LGBMClassifier(random_state=RANDOM_STATE),\n",
        "    \"XGBoost\": XGBClassifier(random_state=RANDOM_STATE),\n",
        "    \"Gradient Boosting\": GradientBoostingClassifier(random_state=RANDOM_STATE),\n",
        "    \"Hist Gradient Boosting\": HistGradientBoostingClassifier(random_state=RANDOM_STATE),\n",
        "    \"AdaBoost\": AdaBoostClassifier(random_state=RANDOM_STATE),\n",
        "}"
      ]
    },
    {
      "cell_type": "markdown",
      "metadata": {
        "id": "-LwKkfQ4yZqY"
      },
      "source": [
        "### **7.2. Evaluasi Model Awal Menggunakan Cross-Validation (AUC)**\n"
      ]
    },
    {
      "cell_type": "markdown",
      "metadata": {
        "id": "ezUFPanhyj_V"
      },
      "source": [
        "Validasi silang (cross-validation) adalah teknik penting untuk mendapatkan estimasi performa model yang lebih robust dan mengurangi varians dibandingkan dengan pembagian train-test tunggal. Kita akan menggunakan *Stratified K-Fold Cross-Validation* untuk memastikan proporsi kelas target terjaga di setiap *fold*, yang penting untuk data yang tidak seimbang.\n"
      ]
    },
    {
      "cell_type": "markdown",
      "metadata": {
        "id": "FxDTyBAkyzKd"
      },
      "source": [
        "#### **7.2.1. Perbandingan Performa Model Baseline**\n"
      ]
    },
    {
      "cell_type": "markdown",
      "metadata": {
        "id": "tKJh4Yy1y1wo"
      },
      "source": [
        "Sekarang kita jalankan *cross-validation* untuk semua model *baseline* yang telah diinisialisasi.\n"
      ]
    },
    {
      "cell_type": "code",
      "execution_count": 65,
      "metadata": {
        "colab": {
          "base_uri": "https://localhost:8080/",
          "height": 1000
        },
        "id": "OhVoMIzUzdYE",
        "outputId": "986f4e44-3dbc-4cba-ac6f-75a55f08039f"
      },
      "outputs": [
        {
          "name": "stdout",
          "output_type": "stream",
          "text": [
            "[LightGBM] [Warning] Found whitespace in feature_names, replace with underlines\n",
            "[LightGBM] [Info] Number of positive: 1881, number of negative: 14562\n",
            "[LightGBM] [Info] Auto-choosing row-wise multi-threading, the overhead of testing was 0.001811 seconds.\n",
            "You can set `force_row_wise=true` to remove the overhead.\n",
            "And if memory is not enough, you can set `force_col_wise=true`.\n",
            "[LightGBM] [Info] Total Bins 406\n",
            "[LightGBM] [Info] Number of data points in the train set: 16443, number of used features: 41\n",
            "[LightGBM] [Info] [binary:BoostFromScore]: pavg=0.114395 -> initscore=-2.046612\n",
            "[LightGBM] [Info] Start training from score -2.046612\n",
            "[LightGBM] [Warning] Found whitespace in feature_names, replace with underlines\n",
            "[LightGBM] [Info] Number of positive: 1881, number of negative: 14562\n",
            "[LightGBM] [Info] Auto-choosing row-wise multi-threading, the overhead of testing was 0.000653 seconds.\n",
            "You can set `force_row_wise=true` to remove the overhead.\n",
            "And if memory is not enough, you can set `force_col_wise=true`.\n",
            "[LightGBM] [Info] Total Bins 404\n",
            "[LightGBM] [Info] Number of data points in the train set: 16443, number of used features: 41\n",
            "[LightGBM] [Info] [binary:BoostFromScore]: pavg=0.114395 -> initscore=-2.046612\n",
            "[LightGBM] [Info] Start training from score -2.046612\n",
            "[LightGBM] [Warning] Found whitespace in feature_names, replace with underlines\n",
            "[LightGBM] [Info] Number of positive: 1882, number of negative: 14561\n",
            "[LightGBM] [Info] Auto-choosing row-wise multi-threading, the overhead of testing was 0.000939 seconds.\n",
            "You can set `force_row_wise=true` to remove the overhead.\n",
            "And if memory is not enough, you can set `force_col_wise=true`.\n",
            "[LightGBM] [Info] Total Bins 407\n",
            "[LightGBM] [Info] Number of data points in the train set: 16443, number of used features: 41\n",
            "[LightGBM] [Info] [binary:BoostFromScore]: pavg=0.114456 -> initscore=-2.046012\n",
            "[LightGBM] [Info] Start training from score -2.046012\n",
            "[LightGBM] [Warning] Found whitespace in feature_names, replace with underlines\n",
            "[LightGBM] [Info] Number of positive: 1882, number of negative: 14561\n",
            "[LightGBM] [Info] Auto-choosing row-wise multi-threading, the overhead of testing was 0.000894 seconds.\n",
            "You can set `force_row_wise=true` to remove the overhead.\n",
            "And if memory is not enough, you can set `force_col_wise=true`.\n",
            "[LightGBM] [Info] Total Bins 403\n",
            "[LightGBM] [Info] Number of data points in the train set: 16443, number of used features: 41\n",
            "[LightGBM] [Info] [binary:BoostFromScore]: pavg=0.114456 -> initscore=-2.046012\n",
            "[LightGBM] [Info] Start training from score -2.046012\n",
            "[LightGBM] [Warning] Found whitespace in feature_names, replace with underlines\n",
            "[LightGBM] [Info] Number of positive: 1882, number of negative: 14562\n",
            "[LightGBM] [Info] Auto-choosing row-wise multi-threading, the overhead of testing was 0.000983 seconds.\n",
            "You can set `force_row_wise=true` to remove the overhead.\n",
            "And if memory is not enough, you can set `force_col_wise=true`.\n",
            "[LightGBM] [Info] Total Bins 406\n",
            "[LightGBM] [Info] Number of data points in the train set: 16444, number of used features: 41\n",
            "[LightGBM] [Info] [binary:BoostFromScore]: pavg=0.114449 -> initscore=-2.046080\n",
            "[LightGBM] [Info] Start training from score -2.046080\n",
            "[LightGBM] [Warning] Found whitespace in feature_names, replace with underlines\n",
            "[LightGBM] [Info] Number of positive: 2352, number of negative: 18202\n",
            "[LightGBM] [Info] Auto-choosing col-wise multi-threading, the overhead of testing was 0.002914 seconds.\n",
            "You can set `force_col_wise=true` to remove the overhead.\n",
            "[LightGBM] [Info] Total Bins 410\n",
            "[LightGBM] [Info] Number of data points in the train set: 20554, number of used features: 41\n",
            "[LightGBM] [Info] [binary:BoostFromScore]: pavg=0.114430 -> initscore=-2.046265\n",
            "[LightGBM] [Info] Start training from score -2.046265\n"
          ]
        },
        {
          "data": {
            "text/html": [
              "<div>\n",
              "<style scoped>\n",
              "    .dataframe tbody tr th:only-of-type {\n",
              "        vertical-align: middle;\n",
              "    }\n",
              "\n",
              "    .dataframe tbody tr th {\n",
              "        vertical-align: top;\n",
              "    }\n",
              "\n",
              "    .dataframe thead th {\n",
              "        text-align: right;\n",
              "    }\n",
              "</style>\n",
              "<table border=\"1\" class=\"dataframe\">\n",
              "  <thead>\n",
              "    <tr style=\"text-align: right;\">\n",
              "      <th></th>\n",
              "      <th>Model</th>\n",
              "      <th>Avg Score</th>\n",
              "      <th>Std Score</th>\n",
              "      <th>Training Time CV (s)</th>\n",
              "      <th>Test AUC</th>\n",
              "      <th>Test Accuracy</th>\n",
              "      <th>Test Precision</th>\n",
              "      <th>Test Recall</th>\n",
              "      <th>Test F1</th>\n",
              "      <th>Training Time Fit (s)</th>\n",
              "    </tr>\n",
              "  </thead>\n",
              "  <tbody>\n",
              "    <tr>\n",
              "      <th>6</th>\n",
              "      <td>Gradient Boosting</td>\n",
              "      <td>0.797</td>\n",
              "      <td>0.011</td>\n",
              "      <td>15.302</td>\n",
              "      <td>0.776</td>\n",
              "      <td>0.898</td>\n",
              "      <td>0.880</td>\n",
              "      <td>0.898</td>\n",
              "      <td>0.876</td>\n",
              "      <td>3.721</td>\n",
              "    </tr>\n",
              "    <tr>\n",
              "      <th>7</th>\n",
              "      <td>Hist Gradient Boosting</td>\n",
              "      <td>0.794</td>\n",
              "      <td>0.010</td>\n",
              "      <td>2.456</td>\n",
              "      <td>0.781</td>\n",
              "      <td>0.897</td>\n",
              "      <td>0.878</td>\n",
              "      <td>0.897</td>\n",
              "      <td>0.877</td>\n",
              "      <td>0.554</td>\n",
              "    </tr>\n",
              "    <tr>\n",
              "      <th>4</th>\n",
              "      <td>LightGBM</td>\n",
              "      <td>0.791</td>\n",
              "      <td>0.008</td>\n",
              "      <td>1.180</td>\n",
              "      <td>0.777</td>\n",
              "      <td>0.898</td>\n",
              "      <td>0.879</td>\n",
              "      <td>0.898</td>\n",
              "      <td>0.880</td>\n",
              "      <td>0.223</td>\n",
              "    </tr>\n",
              "    <tr>\n",
              "      <th>8</th>\n",
              "      <td>AdaBoost</td>\n",
              "      <td>0.789</td>\n",
              "      <td>0.008</td>\n",
              "      <td>5.007</td>\n",
              "      <td>0.775</td>\n",
              "      <td>0.898</td>\n",
              "      <td>0.878</td>\n",
              "      <td>0.898</td>\n",
              "      <td>0.874</td>\n",
              "      <td>1.172</td>\n",
              "    </tr>\n",
              "    <tr>\n",
              "      <th>0</th>\n",
              "      <td>Logistic Regression</td>\n",
              "      <td>0.783</td>\n",
              "      <td>0.007</td>\n",
              "      <td>1.790</td>\n",
              "      <td>0.766</td>\n",
              "      <td>0.898</td>\n",
              "      <td>0.881</td>\n",
              "      <td>0.898</td>\n",
              "      <td>0.873</td>\n",
              "      <td>0.359</td>\n",
              "    </tr>\n",
              "    <tr>\n",
              "      <th>3</th>\n",
              "      <td>Random Forest</td>\n",
              "      <td>0.775</td>\n",
              "      <td>0.007</td>\n",
              "      <td>10.527</td>\n",
              "      <td>0.785</td>\n",
              "      <td>0.897</td>\n",
              "      <td>0.878</td>\n",
              "      <td>0.897</td>\n",
              "      <td>0.880</td>\n",
              "      <td>2.412</td>\n",
              "    </tr>\n",
              "    <tr>\n",
              "      <th>5</th>\n",
              "      <td>XGBoost</td>\n",
              "      <td>0.770</td>\n",
              "      <td>0.008</td>\n",
              "      <td>2.031</td>\n",
              "      <td>0.757</td>\n",
              "      <td>0.895</td>\n",
              "      <td>0.877</td>\n",
              "      <td>0.895</td>\n",
              "      <td>0.881</td>\n",
              "      <td>0.750</td>\n",
              "    </tr>\n",
              "    <tr>\n",
              "      <th>1</th>\n",
              "      <td>Decision Tree</td>\n",
              "      <td>0.614</td>\n",
              "      <td>0.011</td>\n",
              "      <td>1.316</td>\n",
              "      <td>0.638</td>\n",
              "      <td>0.844</td>\n",
              "      <td>0.851</td>\n",
              "      <td>0.844</td>\n",
              "      <td>0.847</td>\n",
              "      <td>0.199</td>\n",
              "    </tr>\n",
              "    <tr>\n",
              "      <th>2</th>\n",
              "      <td>Extra Tree</td>\n",
              "      <td>0.608</td>\n",
              "      <td>0.011</td>\n",
              "      <td>0.329</td>\n",
              "      <td>0.597</td>\n",
              "      <td>0.833</td>\n",
              "      <td>0.836</td>\n",
              "      <td>0.833</td>\n",
              "      <td>0.834</td>\n",
              "      <td>0.066</td>\n",
              "    </tr>\n",
              "  </tbody>\n",
              "</table>\n",
              "</div>"
            ],
            "text/plain": [
              "                    Model  Avg Score  Std Score  Training Time CV (s)  Test AUC  Test Accuracy  Test Precision  Test Recall  Test F1  Training Time Fit (s)\n",
              "6       Gradient Boosting      0.797      0.011                15.302     0.776          0.898           0.880        0.898    0.876                  3.721\n",
              "7  Hist Gradient Boosting      0.794      0.010                 2.456     0.781          0.897           0.878        0.897    0.877                  0.554\n",
              "4                LightGBM      0.791      0.008                 1.180     0.777          0.898           0.879        0.898    0.880                  0.223\n",
              "8                AdaBoost      0.789      0.008                 5.007     0.775          0.898           0.878        0.898    0.874                  1.172\n",
              "0     Logistic Regression      0.783      0.007                 1.790     0.766          0.898           0.881        0.898    0.873                  0.359\n",
              "3           Random Forest      0.775      0.007                10.527     0.785          0.897           0.878        0.897    0.880                  2.412\n",
              "5                 XGBoost      0.770      0.008                 2.031     0.757          0.895           0.877        0.895    0.881                  0.750\n",
              "1           Decision Tree      0.614      0.011                 1.316     0.638          0.844           0.851        0.844    0.847                  0.199\n",
              "2              Extra Tree      0.608      0.011                 0.329     0.597          0.833           0.836        0.833    0.834                  0.066"
            ]
          },
          "execution_count": 65,
          "metadata": {},
          "output_type": "execute_result"
        }
      ],
      "source": [
        "result = train_and_evaluate_models_cv(\n",
        "    X_train_scaled,\n",
        "    X_test_scaled,\n",
        "    y_train,\n",
        "    y_test,\n",
        "    models,\n",
        "    n_splits=5,\n",
        "    scoring=\"roc_auc\",\n",
        "    random_state=RANDOM_STATE,\n",
        ")\n",
        "\n",
        "result"
      ]
    },
    {
      "cell_type": "code",
      "execution_count": 66,
      "metadata": {
        "colab": {
          "base_uri": "https://localhost:8080/",
          "height": 1000
        },
        "id": "YnIqHZrsqHZ5",
        "outputId": "84c4ca70-ff71-4a9b-cc89-867c9f3507ae"
      },
      "outputs": [
        {
          "name": "stdout",
          "output_type": "stream",
          "text": [
            "[LightGBM] [Warning] Found whitespace in feature_names, replace with underlines\n",
            "[LightGBM] [Info] Number of positive: 1881, number of negative: 13947\n",
            "[LightGBM] [Info] Auto-choosing col-wise multi-threading, the overhead of testing was 0.002943 seconds.\n",
            "You can set `force_col_wise=true` to remove the overhead.\n",
            "[LightGBM] [Info] Total Bins 397\n",
            "[LightGBM] [Info] Number of data points in the train set: 15828, number of used features: 41\n",
            "[LightGBM] [Info] [binary:BoostFromScore]: pavg=0.118840 -> initscore=-2.003461\n",
            "[LightGBM] [Info] Start training from score -2.003461\n",
            "[LightGBM] [Warning] Found whitespace in feature_names, replace with underlines\n",
            "[LightGBM] [Info] Number of positive: 1881, number of negative: 13948\n",
            "[LightGBM] [Info] Auto-choosing col-wise multi-threading, the overhead of testing was 0.022683 seconds.\n",
            "You can set `force_col_wise=true` to remove the overhead.\n",
            "[LightGBM] [Info] Total Bins 401\n",
            "[LightGBM] [Info] Number of data points in the train set: 15829, number of used features: 41\n",
            "[LightGBM] [Info] [binary:BoostFromScore]: pavg=0.118833 -> initscore=-2.003533\n",
            "[LightGBM] [Info] Start training from score -2.003533\n",
            "[LightGBM] [Warning] Found whitespace in feature_names, replace with underlines\n",
            "[LightGBM] [Info] Number of positive: 1882, number of negative: 13947\n",
            "[LightGBM] [Info] Auto-choosing row-wise multi-threading, the overhead of testing was 0.003517 seconds.\n",
            "You can set `force_row_wise=true` to remove the overhead.\n",
            "And if memory is not enough, you can set `force_col_wise=true`.\n",
            "[LightGBM] [Info] Total Bins 405\n",
            "[LightGBM] [Info] Number of data points in the train set: 15829, number of used features: 41\n",
            "[LightGBM] [Info] [binary:BoostFromScore]: pavg=0.118896 -> initscore=-2.002929\n",
            "[LightGBM] [Info] Start training from score -2.002929\n",
            "[LightGBM] [Warning] Found whitespace in feature_names, replace with underlines\n",
            "[LightGBM] [Info] Number of positive: 1882, number of negative: 13947\n",
            "[LightGBM] [Info] Auto-choosing row-wise multi-threading, the overhead of testing was 0.001295 seconds.\n",
            "You can set `force_row_wise=true` to remove the overhead.\n",
            "And if memory is not enough, you can set `force_col_wise=true`.\n",
            "[LightGBM] [Info] Total Bins 400\n",
            "[LightGBM] [Info] Number of data points in the train set: 15829, number of used features: 41\n",
            "[LightGBM] [Info] [binary:BoostFromScore]: pavg=0.118896 -> initscore=-2.002929\n",
            "[LightGBM] [Info] Start training from score -2.002929\n",
            "[LightGBM] [Warning] Found whitespace in feature_names, replace with underlines\n",
            "[LightGBM] [Info] Number of positive: 1882, number of negative: 13947\n",
            "[LightGBM] [Info] Auto-choosing col-wise multi-threading, the overhead of testing was 0.006038 seconds.\n",
            "You can set `force_col_wise=true` to remove the overhead.\n",
            "[LightGBM] [Info] Total Bins 404\n",
            "[LightGBM] [Info] Number of data points in the train set: 15829, number of used features: 41\n",
            "[LightGBM] [Info] [binary:BoostFromScore]: pavg=0.118896 -> initscore=-2.002929\n",
            "[LightGBM] [Info] Start training from score -2.002929\n",
            "[LightGBM] [Warning] Found whitespace in feature_names, replace with underlines\n",
            "[LightGBM] [Info] Number of positive: 2352, number of negative: 17434\n",
            "[LightGBM] [Info] Auto-choosing row-wise multi-threading, the overhead of testing was 0.004191 seconds.\n",
            "You can set `force_row_wise=true` to remove the overhead.\n",
            "And if memory is not enough, you can set `force_col_wise=true`.\n",
            "[LightGBM] [Info] Total Bins 406\n",
            "[LightGBM] [Info] Number of data points in the train set: 19786, number of used features: 41\n",
            "[LightGBM] [Info] [binary:BoostFromScore]: pavg=0.118872 -> initscore=-2.003156\n",
            "[LightGBM] [Info] Start training from score -2.003156\n"
          ]
        },
        {
          "data": {
            "text/html": [
              "<div>\n",
              "<style scoped>\n",
              "    .dataframe tbody tr th:only-of-type {\n",
              "        vertical-align: middle;\n",
              "    }\n",
              "\n",
              "    .dataframe tbody tr th {\n",
              "        vertical-align: top;\n",
              "    }\n",
              "\n",
              "    .dataframe thead th {\n",
              "        text-align: right;\n",
              "    }\n",
              "</style>\n",
              "<table border=\"1\" class=\"dataframe\">\n",
              "  <thead>\n",
              "    <tr style=\"text-align: right;\">\n",
              "      <th></th>\n",
              "      <th>Model</th>\n",
              "      <th>Avg Score</th>\n",
              "      <th>Std Score</th>\n",
              "      <th>Training Time CV (s)</th>\n",
              "      <th>Test AUC</th>\n",
              "      <th>Test Accuracy</th>\n",
              "      <th>Test Precision</th>\n",
              "      <th>Test Recall</th>\n",
              "      <th>Test F1</th>\n",
              "      <th>Training Time Fit (s)</th>\n",
              "    </tr>\n",
              "  </thead>\n",
              "  <tbody>\n",
              "    <tr>\n",
              "      <th>7</th>\n",
              "      <td>Hist Gradient Boosting</td>\n",
              "      <td>0.810</td>\n",
              "      <td>0.009</td>\n",
              "      <td>2.429</td>\n",
              "      <td>0.783</td>\n",
              "      <td>0.895</td>\n",
              "      <td>0.876</td>\n",
              "      <td>0.895</td>\n",
              "      <td>0.880</td>\n",
              "      <td>0.557</td>\n",
              "    </tr>\n",
              "    <tr>\n",
              "      <th>6</th>\n",
              "      <td>Gradient Boosting</td>\n",
              "      <td>0.805</td>\n",
              "      <td>0.011</td>\n",
              "      <td>17.679</td>\n",
              "      <td>0.777</td>\n",
              "      <td>0.895</td>\n",
              "      <td>0.876</td>\n",
              "      <td>0.895</td>\n",
              "      <td>0.878</td>\n",
              "      <td>3.572</td>\n",
              "    </tr>\n",
              "    <tr>\n",
              "      <th>4</th>\n",
              "      <td>LightGBM</td>\n",
              "      <td>0.803</td>\n",
              "      <td>0.010</td>\n",
              "      <td>2.349</td>\n",
              "      <td>0.769</td>\n",
              "      <td>0.897</td>\n",
              "      <td>0.881</td>\n",
              "      <td>0.897</td>\n",
              "      <td>0.884</td>\n",
              "      <td>0.463</td>\n",
              "    </tr>\n",
              "    <tr>\n",
              "      <th>8</th>\n",
              "      <td>AdaBoost</td>\n",
              "      <td>0.798</td>\n",
              "      <td>0.009</td>\n",
              "      <td>5.428</td>\n",
              "      <td>0.774</td>\n",
              "      <td>0.898</td>\n",
              "      <td>0.880</td>\n",
              "      <td>0.898</td>\n",
              "      <td>0.878</td>\n",
              "      <td>1.161</td>\n",
              "    </tr>\n",
              "    <tr>\n",
              "      <th>3</th>\n",
              "      <td>Random Forest</td>\n",
              "      <td>0.796</td>\n",
              "      <td>0.006</td>\n",
              "      <td>13.643</td>\n",
              "      <td>0.768</td>\n",
              "      <td>0.893</td>\n",
              "      <td>0.876</td>\n",
              "      <td>0.893</td>\n",
              "      <td>0.880</td>\n",
              "      <td>4.043</td>\n",
              "    </tr>\n",
              "    <tr>\n",
              "      <th>0</th>\n",
              "      <td>Logistic Regression</td>\n",
              "      <td>0.791</td>\n",
              "      <td>0.007</td>\n",
              "      <td>1.767</td>\n",
              "      <td>0.768</td>\n",
              "      <td>0.901</td>\n",
              "      <td>0.885</td>\n",
              "      <td>0.901</td>\n",
              "      <td>0.883</td>\n",
              "      <td>0.284</td>\n",
              "    </tr>\n",
              "    <tr>\n",
              "      <th>5</th>\n",
              "      <td>XGBoost</td>\n",
              "      <td>0.783</td>\n",
              "      <td>0.008</td>\n",
              "      <td>4.422</td>\n",
              "      <td>0.752</td>\n",
              "      <td>0.888</td>\n",
              "      <td>0.869</td>\n",
              "      <td>0.888</td>\n",
              "      <td>0.875</td>\n",
              "      <td>0.645</td>\n",
              "    </tr>\n",
              "    <tr>\n",
              "      <th>1</th>\n",
              "      <td>Decision Tree</td>\n",
              "      <td>0.636</td>\n",
              "      <td>0.012</td>\n",
              "      <td>1.344</td>\n",
              "      <td>0.630</td>\n",
              "      <td>0.831</td>\n",
              "      <td>0.846</td>\n",
              "      <td>0.831</td>\n",
              "      <td>0.838</td>\n",
              "      <td>0.212</td>\n",
              "    </tr>\n",
              "    <tr>\n",
              "      <th>2</th>\n",
              "      <td>Extra Tree</td>\n",
              "      <td>0.631</td>\n",
              "      <td>0.014</td>\n",
              "      <td>0.212</td>\n",
              "      <td>0.619</td>\n",
              "      <td>0.831</td>\n",
              "      <td>0.843</td>\n",
              "      <td>0.831</td>\n",
              "      <td>0.836</td>\n",
              "      <td>0.035</td>\n",
              "    </tr>\n",
              "  </tbody>\n",
              "</table>\n",
              "</div>"
            ],
            "text/plain": [
              "                    Model  Avg Score  Std Score  Training Time CV (s)  Test AUC  Test Accuracy  Test Precision  Test Recall  Test F1  Training Time Fit (s)\n",
              "7  Hist Gradient Boosting      0.810      0.009                 2.429     0.783          0.895           0.876        0.895    0.880                  0.557\n",
              "6       Gradient Boosting      0.805      0.011                17.679     0.777          0.895           0.876        0.895    0.878                  3.572\n",
              "4                LightGBM      0.803      0.010                 2.349     0.769          0.897           0.881        0.897    0.884                  0.463\n",
              "8                AdaBoost      0.798      0.009                 5.428     0.774          0.898           0.880        0.898    0.878                  1.161\n",
              "3           Random Forest      0.796      0.006                13.643     0.768          0.893           0.876        0.893    0.880                  4.043\n",
              "0     Logistic Regression      0.791      0.007                 1.767     0.768          0.901           0.885        0.901    0.883                  0.284\n",
              "5                 XGBoost      0.783      0.008                 4.422     0.752          0.888           0.869        0.888    0.875                  0.645\n",
              "1           Decision Tree      0.636      0.012                 1.344     0.630          0.831           0.846        0.831    0.838                  0.212\n",
              "2              Extra Tree      0.631      0.014                 0.212     0.619          0.831           0.843        0.831    0.836                  0.035"
            ]
          },
          "execution_count": 66,
          "metadata": {},
          "output_type": "execute_result"
        }
      ],
      "source": [
        "result_und = train_and_evaluate_models_cv(\n",
        "    X_train_und,\n",
        "    X_test_scaled,\n",
        "    y_train_und,\n",
        "    y_test,\n",
        "    models,\n",
        "    n_splits=5,\n",
        "    scoring=\"roc_auc\",\n",
        "    random_state=RANDOM_STATE,\n",
        ")\n",
        "\n",
        "result_und"
      ]
    },
    {
      "cell_type": "code",
      "execution_count": 69,
      "metadata": {
        "colab": {
          "base_uri": "https://localhost:8080/",
          "height": 1000
        },
        "id": "cJVEPDvVqHZ6",
        "outputId": "085a644d-46ca-4ef7-8b8c-67412243cd7e"
      },
      "outputs": [
        {
          "name": "stdout",
          "output_type": "stream",
          "text": [
            "[LightGBM] [Info] Number of positive: 1881, number of negative: 14562\n",
            "[LightGBM] [Info] Auto-choosing row-wise multi-threading, the overhead of testing was 0.000319 seconds.\n",
            "You can set `force_row_wise=true` to remove the overhead.\n",
            "And if memory is not enough, you can set `force_col_wise=true`.\n",
            "[LightGBM] [Info] Total Bins 321\n",
            "[LightGBM] [Info] Number of data points in the train set: 16443, number of used features: 10\n",
            "[LightGBM] [Info] [binary:BoostFromScore]: pavg=0.114395 -> initscore=-2.046612\n",
            "[LightGBM] [Info] Start training from score -2.046612\n",
            "[LightGBM] [Info] Number of positive: 1881, number of negative: 14562\n",
            "[LightGBM] [Info] Auto-choosing row-wise multi-threading, the overhead of testing was 0.000267 seconds.\n",
            "You can set `force_row_wise=true` to remove the overhead.\n",
            "And if memory is not enough, you can set `force_col_wise=true`.\n",
            "[LightGBM] [Info] Total Bins 319\n",
            "[LightGBM] [Info] Number of data points in the train set: 16443, number of used features: 10\n",
            "[LightGBM] [Info] [binary:BoostFromScore]: pavg=0.114395 -> initscore=-2.046612\n",
            "[LightGBM] [Info] Start training from score -2.046612\n",
            "[LightGBM] [Info] Number of positive: 1882, number of negative: 14561\n",
            "[LightGBM] [Info] Auto-choosing row-wise multi-threading, the overhead of testing was 0.000305 seconds.\n",
            "You can set `force_row_wise=true` to remove the overhead.\n",
            "And if memory is not enough, you can set `force_col_wise=true`.\n",
            "[LightGBM] [Info] Total Bins 322\n",
            "[LightGBM] [Info] Number of data points in the train set: 16443, number of used features: 10\n",
            "[LightGBM] [Info] [binary:BoostFromScore]: pavg=0.114456 -> initscore=-2.046012\n",
            "[LightGBM] [Info] Start training from score -2.046012\n",
            "[LightGBM] [Info] Number of positive: 1882, number of negative: 14561\n",
            "[LightGBM] [Info] Auto-choosing col-wise multi-threading, the overhead of testing was 0.000947 seconds.\n",
            "You can set `force_col_wise=true` to remove the overhead.\n",
            "[LightGBM] [Info] Total Bins 318\n",
            "[LightGBM] [Info] Number of data points in the train set: 16443, number of used features: 10\n",
            "[LightGBM] [Info] [binary:BoostFromScore]: pavg=0.114456 -> initscore=-2.046012\n",
            "[LightGBM] [Info] Start training from score -2.046012\n",
            "[LightGBM] [Info] Number of positive: 1882, number of negative: 14562\n",
            "[LightGBM] [Info] Auto-choosing row-wise multi-threading, the overhead of testing was 0.000319 seconds.\n",
            "You can set `force_row_wise=true` to remove the overhead.\n",
            "And if memory is not enough, you can set `force_col_wise=true`.\n",
            "[LightGBM] [Info] Total Bins 321\n",
            "[LightGBM] [Info] Number of data points in the train set: 16444, number of used features: 10\n",
            "[LightGBM] [Info] [binary:BoostFromScore]: pavg=0.114449 -> initscore=-2.046080\n",
            "[LightGBM] [Info] Start training from score -2.046080\n",
            "[LightGBM] [Info] Number of positive: 2352, number of negative: 18202\n",
            "[LightGBM] [Info] Auto-choosing col-wise multi-threading, the overhead of testing was 0.000978 seconds.\n",
            "You can set `force_col_wise=true` to remove the overhead.\n",
            "[LightGBM] [Info] Total Bins 325\n",
            "[LightGBM] [Info] Number of data points in the train set: 20554, number of used features: 10\n",
            "[LightGBM] [Info] [binary:BoostFromScore]: pavg=0.114430 -> initscore=-2.046265\n",
            "[LightGBM] [Info] Start training from score -2.046265\n"
          ]
        },
        {
          "data": {
            "text/html": [
              "<div>\n",
              "<style scoped>\n",
              "    .dataframe tbody tr th:only-of-type {\n",
              "        vertical-align: middle;\n",
              "    }\n",
              "\n",
              "    .dataframe tbody tr th {\n",
              "        vertical-align: top;\n",
              "    }\n",
              "\n",
              "    .dataframe thead th {\n",
              "        text-align: right;\n",
              "    }\n",
              "</style>\n",
              "<table border=\"1\" class=\"dataframe\">\n",
              "  <thead>\n",
              "    <tr style=\"text-align: right;\">\n",
              "      <th></th>\n",
              "      <th>Model</th>\n",
              "      <th>Avg Score</th>\n",
              "      <th>Std Score</th>\n",
              "      <th>Training Time CV (s)</th>\n",
              "      <th>Test AUC</th>\n",
              "      <th>Test Accuracy</th>\n",
              "      <th>Test Precision</th>\n",
              "      <th>Test Recall</th>\n",
              "      <th>Test F1</th>\n",
              "      <th>Training Time Fit (s)</th>\n",
              "    </tr>\n",
              "  </thead>\n",
              "  <tbody>\n",
              "    <tr>\n",
              "      <th>6</th>\n",
              "      <td>Gradient Boosting</td>\n",
              "      <td>0.800</td>\n",
              "      <td>0.010</td>\n",
              "      <td>10.011</td>\n",
              "      <td>0.778</td>\n",
              "      <td>0.898</td>\n",
              "      <td>0.880</td>\n",
              "      <td>0.898</td>\n",
              "      <td>0.877</td>\n",
              "      <td>1.745</td>\n",
              "    </tr>\n",
              "    <tr>\n",
              "      <th>7</th>\n",
              "      <td>Hist Gradient Boosting</td>\n",
              "      <td>0.796</td>\n",
              "      <td>0.013</td>\n",
              "      <td>1.605</td>\n",
              "      <td>0.780</td>\n",
              "      <td>0.899</td>\n",
              "      <td>0.881</td>\n",
              "      <td>0.899</td>\n",
              "      <td>0.880</td>\n",
              "      <td>0.409</td>\n",
              "    </tr>\n",
              "    <tr>\n",
              "      <th>4</th>\n",
              "      <td>LightGBM</td>\n",
              "      <td>0.793</td>\n",
              "      <td>0.010</td>\n",
              "      <td>0.853</td>\n",
              "      <td>0.773</td>\n",
              "      <td>0.898</td>\n",
              "      <td>0.880</td>\n",
              "      <td>0.898</td>\n",
              "      <td>0.882</td>\n",
              "      <td>0.159</td>\n",
              "    </tr>\n",
              "    <tr>\n",
              "      <th>8</th>\n",
              "      <td>AdaBoost</td>\n",
              "      <td>0.793</td>\n",
              "      <td>0.010</td>\n",
              "      <td>2.916</td>\n",
              "      <td>0.776</td>\n",
              "      <td>0.899</td>\n",
              "      <td>0.883</td>\n",
              "      <td>0.899</td>\n",
              "      <td>0.874</td>\n",
              "      <td>0.825</td>\n",
              "    </tr>\n",
              "    <tr>\n",
              "      <th>0</th>\n",
              "      <td>Logistic Regression</td>\n",
              "      <td>0.778</td>\n",
              "      <td>0.005</td>\n",
              "      <td>0.601</td>\n",
              "      <td>0.759</td>\n",
              "      <td>0.900</td>\n",
              "      <td>0.883</td>\n",
              "      <td>0.900</td>\n",
              "      <td>0.877</td>\n",
              "      <td>0.139</td>\n",
              "    </tr>\n",
              "    <tr>\n",
              "      <th>5</th>\n",
              "      <td>XGBoost</td>\n",
              "      <td>0.778</td>\n",
              "      <td>0.008</td>\n",
              "      <td>1.169</td>\n",
              "      <td>0.762</td>\n",
              "      <td>0.891</td>\n",
              "      <td>0.870</td>\n",
              "      <td>0.891</td>\n",
              "      <td>0.874</td>\n",
              "      <td>0.246</td>\n",
              "    </tr>\n",
              "    <tr>\n",
              "      <th>3</th>\n",
              "      <td>Random Forest</td>\n",
              "      <td>0.746</td>\n",
              "      <td>0.011</td>\n",
              "      <td>9.405</td>\n",
              "      <td>0.754</td>\n",
              "      <td>0.882</td>\n",
              "      <td>0.866</td>\n",
              "      <td>0.882</td>\n",
              "      <td>0.872</td>\n",
              "      <td>1.877</td>\n",
              "    </tr>\n",
              "    <tr>\n",
              "      <th>1</th>\n",
              "      <td>Decision Tree</td>\n",
              "      <td>0.623</td>\n",
              "      <td>0.004</td>\n",
              "      <td>0.368</td>\n",
              "      <td>0.652</td>\n",
              "      <td>0.863</td>\n",
              "      <td>0.857</td>\n",
              "      <td>0.863</td>\n",
              "      <td>0.860</td>\n",
              "      <td>0.091</td>\n",
              "    </tr>\n",
              "    <tr>\n",
              "      <th>2</th>\n",
              "      <td>Extra Tree</td>\n",
              "      <td>0.622</td>\n",
              "      <td>0.011</td>\n",
              "      <td>0.181</td>\n",
              "      <td>0.639</td>\n",
              "      <td>0.872</td>\n",
              "      <td>0.860</td>\n",
              "      <td>0.872</td>\n",
              "      <td>0.865</td>\n",
              "      <td>0.029</td>\n",
              "    </tr>\n",
              "  </tbody>\n",
              "</table>\n",
              "</div>"
            ],
            "text/plain": [
              "                    Model  Avg Score  Std Score  Training Time CV (s)  Test AUC  Test Accuracy  Test Precision  Test Recall  Test F1  Training Time Fit (s)\n",
              "6       Gradient Boosting      0.800      0.010                10.011     0.778          0.898           0.880        0.898    0.877                  1.745\n",
              "7  Hist Gradient Boosting      0.796      0.013                 1.605     0.780          0.899           0.881        0.899    0.880                  0.409\n",
              "4                LightGBM      0.793      0.010                 0.853     0.773          0.898           0.880        0.898    0.882                  0.159\n",
              "8                AdaBoost      0.793      0.010                 2.916     0.776          0.899           0.883        0.899    0.874                  0.825\n",
              "0     Logistic Regression      0.778      0.005                 0.601     0.759          0.900           0.883        0.900    0.877                  0.139\n",
              "5                 XGBoost      0.778      0.008                 1.169     0.762          0.891           0.870        0.891    0.874                  0.246\n",
              "3           Random Forest      0.746      0.011                 9.405     0.754          0.882           0.866        0.882    0.872                  1.877\n",
              "1           Decision Tree      0.623      0.004                 0.368     0.652          0.863           0.857        0.863    0.860                  0.091\n",
              "2              Extra Tree      0.622      0.011                 0.181     0.639          0.872           0.860        0.872    0.865                  0.029"
            ]
          },
          "execution_count": 69,
          "metadata": {},
          "output_type": "execute_result"
        }
      ],
      "source": [
        "result_fs = train_and_evaluate_models_cv(\n",
        "    X_train_scaled[selected_features],\n",
        "    X_test_scaled[selected_features],\n",
        "    y_train,\n",
        "    y_test,\n",
        "    models,\n",
        "    n_splits=5,\n",
        "    scoring=\"roc_auc\",\n",
        "    random_state=RANDOM_STATE,\n",
        ")\n",
        "\n",
        "result_fs"
      ]
    },
    {
      "cell_type": "code",
      "execution_count": 70,
      "metadata": {
        "colab": {
          "base_uri": "https://localhost:8080/",
          "height": 1000
        },
        "id": "CHVI7GpyqHZ6",
        "outputId": "f75c3af8-ff9f-4e6c-a840-4db10092ea10"
      },
      "outputs": [
        {
          "name": "stdout",
          "output_type": "stream",
          "text": [
            "[LightGBM] [Info] Number of positive: 1881, number of negative: 13947\n",
            "[LightGBM] [Info] Auto-choosing row-wise multi-threading, the overhead of testing was 0.000455 seconds.\n",
            "You can set `force_row_wise=true` to remove the overhead.\n",
            "And if memory is not enough, you can set `force_col_wise=true`.\n",
            "[LightGBM] [Info] Total Bins 312\n",
            "[LightGBM] [Info] Number of data points in the train set: 15828, number of used features: 10\n",
            "[LightGBM] [Info] [binary:BoostFromScore]: pavg=0.118840 -> initscore=-2.003461\n",
            "[LightGBM] [Info] Start training from score -2.003461\n",
            "[LightGBM] [Info] Number of positive: 1881, number of negative: 13948\n",
            "[LightGBM] [Info] Auto-choosing row-wise multi-threading, the overhead of testing was 0.000419 seconds.\n",
            "You can set `force_row_wise=true` to remove the overhead.\n",
            "And if memory is not enough, you can set `force_col_wise=true`.\n",
            "[LightGBM] [Info] Total Bins 316\n",
            "[LightGBM] [Info] Number of data points in the train set: 15829, number of used features: 10\n",
            "[LightGBM] [Info] [binary:BoostFromScore]: pavg=0.118833 -> initscore=-2.003533\n",
            "[LightGBM] [Info] Start training from score -2.003533\n",
            "[LightGBM] [Info] Number of positive: 1882, number of negative: 13947\n",
            "[LightGBM] [Info] Auto-choosing row-wise multi-threading, the overhead of testing was 0.000455 seconds.\n",
            "You can set `force_row_wise=true` to remove the overhead.\n",
            "And if memory is not enough, you can set `force_col_wise=true`.\n",
            "[LightGBM] [Info] Total Bins 320\n",
            "[LightGBM] [Info] Number of data points in the train set: 15829, number of used features: 10\n",
            "[LightGBM] [Info] [binary:BoostFromScore]: pavg=0.118896 -> initscore=-2.002929\n",
            "[LightGBM] [Info] Start training from score -2.002929\n",
            "[LightGBM] [Info] Number of positive: 1882, number of negative: 13947\n",
            "[LightGBM] [Info] Auto-choosing row-wise multi-threading, the overhead of testing was 0.001975 seconds.\n",
            "You can set `force_row_wise=true` to remove the overhead.\n",
            "And if memory is not enough, you can set `force_col_wise=true`.\n",
            "[LightGBM] [Info] Total Bins 315\n",
            "[LightGBM] [Info] Number of data points in the train set: 15829, number of used features: 10\n",
            "[LightGBM] [Info] [binary:BoostFromScore]: pavg=0.118896 -> initscore=-2.002929\n",
            "[LightGBM] [Info] Start training from score -2.002929\n",
            "[LightGBM] [Info] Number of positive: 1882, number of negative: 13947\n",
            "[LightGBM] [Info] Auto-choosing row-wise multi-threading, the overhead of testing was 0.000383 seconds.\n",
            "You can set `force_row_wise=true` to remove the overhead.\n",
            "And if memory is not enough, you can set `force_col_wise=true`.\n",
            "[LightGBM] [Info] Total Bins 319\n",
            "[LightGBM] [Info] Number of data points in the train set: 15829, number of used features: 10\n",
            "[LightGBM] [Info] [binary:BoostFromScore]: pavg=0.118896 -> initscore=-2.002929\n",
            "[LightGBM] [Info] Start training from score -2.002929\n",
            "[LightGBM] [Info] Number of positive: 2352, number of negative: 17434\n",
            "[LightGBM] [Info] Auto-choosing row-wise multi-threading, the overhead of testing was 0.000841 seconds.\n",
            "You can set `force_row_wise=true` to remove the overhead.\n",
            "And if memory is not enough, you can set `force_col_wise=true`.\n",
            "[LightGBM] [Info] Total Bins 321\n",
            "[LightGBM] [Info] Number of data points in the train set: 19786, number of used features: 10\n",
            "[LightGBM] [Info] [binary:BoostFromScore]: pavg=0.118872 -> initscore=-2.003156\n",
            "[LightGBM] [Info] Start training from score -2.003156\n"
          ]
        },
        {
          "data": {
            "text/html": [
              "<div>\n",
              "<style scoped>\n",
              "    .dataframe tbody tr th:only-of-type {\n",
              "        vertical-align: middle;\n",
              "    }\n",
              "\n",
              "    .dataframe tbody tr th {\n",
              "        vertical-align: top;\n",
              "    }\n",
              "\n",
              "    .dataframe thead th {\n",
              "        text-align: right;\n",
              "    }\n",
              "</style>\n",
              "<table border=\"1\" class=\"dataframe\">\n",
              "  <thead>\n",
              "    <tr style=\"text-align: right;\">\n",
              "      <th></th>\n",
              "      <th>Model</th>\n",
              "      <th>Avg Score</th>\n",
              "      <th>Std Score</th>\n",
              "      <th>Training Time CV (s)</th>\n",
              "      <th>Test AUC</th>\n",
              "      <th>Test Accuracy</th>\n",
              "      <th>Test Precision</th>\n",
              "      <th>Test Recall</th>\n",
              "      <th>Test F1</th>\n",
              "      <th>Training Time Fit (s)</th>\n",
              "    </tr>\n",
              "  </thead>\n",
              "  <tbody>\n",
              "    <tr>\n",
              "      <th>7</th>\n",
              "      <td>Hist Gradient Boosting</td>\n",
              "      <td>0.808</td>\n",
              "      <td>0.011</td>\n",
              "      <td>1.857</td>\n",
              "      <td>0.777</td>\n",
              "      <td>0.898</td>\n",
              "      <td>0.881</td>\n",
              "      <td>0.898</td>\n",
              "      <td>0.884</td>\n",
              "      <td>0.456</td>\n",
              "    </tr>\n",
              "    <tr>\n",
              "      <th>6</th>\n",
              "      <td>Gradient Boosting</td>\n",
              "      <td>0.807</td>\n",
              "      <td>0.011</td>\n",
              "      <td>8.747</td>\n",
              "      <td>0.779</td>\n",
              "      <td>0.897</td>\n",
              "      <td>0.878</td>\n",
              "      <td>0.897</td>\n",
              "      <td>0.880</td>\n",
              "      <td>1.823</td>\n",
              "    </tr>\n",
              "    <tr>\n",
              "      <th>4</th>\n",
              "      <td>LightGBM</td>\n",
              "      <td>0.801</td>\n",
              "      <td>0.010</td>\n",
              "      <td>1.140</td>\n",
              "      <td>0.778</td>\n",
              "      <td>0.894</td>\n",
              "      <td>0.877</td>\n",
              "      <td>0.894</td>\n",
              "      <td>0.882</td>\n",
              "      <td>0.208</td>\n",
              "    </tr>\n",
              "    <tr>\n",
              "      <th>8</th>\n",
              "      <td>AdaBoost</td>\n",
              "      <td>0.801</td>\n",
              "      <td>0.012</td>\n",
              "      <td>3.010</td>\n",
              "      <td>0.777</td>\n",
              "      <td>0.897</td>\n",
              "      <td>0.877</td>\n",
              "      <td>0.897</td>\n",
              "      <td>0.877</td>\n",
              "      <td>0.789</td>\n",
              "    </tr>\n",
              "    <tr>\n",
              "      <th>5</th>\n",
              "      <td>XGBoost</td>\n",
              "      <td>0.788</td>\n",
              "      <td>0.013</td>\n",
              "      <td>1.485</td>\n",
              "      <td>0.768</td>\n",
              "      <td>0.891</td>\n",
              "      <td>0.873</td>\n",
              "      <td>0.891</td>\n",
              "      <td>0.878</td>\n",
              "      <td>0.262</td>\n",
              "    </tr>\n",
              "    <tr>\n",
              "      <th>0</th>\n",
              "      <td>Logistic Regression</td>\n",
              "      <td>0.787</td>\n",
              "      <td>0.006</td>\n",
              "      <td>0.893</td>\n",
              "      <td>0.759</td>\n",
              "      <td>0.898</td>\n",
              "      <td>0.879</td>\n",
              "      <td>0.898</td>\n",
              "      <td>0.880</td>\n",
              "      <td>0.098</td>\n",
              "    </tr>\n",
              "    <tr>\n",
              "      <th>3</th>\n",
              "      <td>Random Forest</td>\n",
              "      <td>0.761</td>\n",
              "      <td>0.010</td>\n",
              "      <td>11.052</td>\n",
              "      <td>0.760</td>\n",
              "      <td>0.885</td>\n",
              "      <td>0.876</td>\n",
              "      <td>0.885</td>\n",
              "      <td>0.880</td>\n",
              "      <td>2.308</td>\n",
              "    </tr>\n",
              "    <tr>\n",
              "      <th>1</th>\n",
              "      <td>Decision Tree</td>\n",
              "      <td>0.648</td>\n",
              "      <td>0.011</td>\n",
              "      <td>0.441</td>\n",
              "      <td>0.647</td>\n",
              "      <td>0.859</td>\n",
              "      <td>0.855</td>\n",
              "      <td>0.859</td>\n",
              "      <td>0.857</td>\n",
              "      <td>0.103</td>\n",
              "    </tr>\n",
              "    <tr>\n",
              "      <th>2</th>\n",
              "      <td>Extra Tree</td>\n",
              "      <td>0.647</td>\n",
              "      <td>0.016</td>\n",
              "      <td>0.197</td>\n",
              "      <td>0.657</td>\n",
              "      <td>0.867</td>\n",
              "      <td>0.862</td>\n",
              "      <td>0.867</td>\n",
              "      <td>0.864</td>\n",
              "      <td>0.024</td>\n",
              "    </tr>\n",
              "  </tbody>\n",
              "</table>\n",
              "</div>"
            ],
            "text/plain": [
              "                    Model  Avg Score  Std Score  Training Time CV (s)  Test AUC  Test Accuracy  Test Precision  Test Recall  Test F1  Training Time Fit (s)\n",
              "7  Hist Gradient Boosting      0.808      0.011                 1.857     0.777          0.898           0.881        0.898    0.884                  0.456\n",
              "6       Gradient Boosting      0.807      0.011                 8.747     0.779          0.897           0.878        0.897    0.880                  1.823\n",
              "4                LightGBM      0.801      0.010                 1.140     0.778          0.894           0.877        0.894    0.882                  0.208\n",
              "8                AdaBoost      0.801      0.012                 3.010     0.777          0.897           0.877        0.897    0.877                  0.789\n",
              "5                 XGBoost      0.788      0.013                 1.485     0.768          0.891           0.873        0.891    0.878                  0.262\n",
              "0     Logistic Regression      0.787      0.006                 0.893     0.759          0.898           0.879        0.898    0.880                  0.098\n",
              "3           Random Forest      0.761      0.010                11.052     0.760          0.885           0.876        0.885    0.880                  2.308\n",
              "1           Decision Tree      0.648      0.011                 0.441     0.647          0.859           0.855        0.859    0.857                  0.103\n",
              "2              Extra Tree      0.647      0.016                 0.197     0.657          0.867           0.862        0.867    0.864                  0.024"
            ]
          },
          "execution_count": 70,
          "metadata": {},
          "output_type": "execute_result"
        }
      ],
      "source": [
        "result_fs_und = train_and_evaluate_models_cv(\n",
        "    X_train_und[selected_features],\n",
        "    X_test_scaled[selected_features],\n",
        "    y_train_und,\n",
        "    y_test,\n",
        "    models,\n",
        "    n_splits=5,\n",
        "    scoring=\"roc_auc\",\n",
        "    random_state=RANDOM_STATE,\n",
        ")\n",
        "\n",
        "result_fs_und"
      ]
    },
    {
      "cell_type": "code",
      "execution_count": 78,
      "metadata": {
        "id": "vLhfpG6uqHZ7"
      },
      "outputs": [],
      "source": [
        "import time\n",
        "\n",
        "n_splits = 5\n",
        "scoring = \"roc_auc\"\n",
        "skf = StratifiedKFold(n_splits=n_splits, shuffle=True, random_state=RANDOM_STATE)\n",
        "\n",
        "\n",
        "def evaluate_cv(X, y, models, cv=5, scoring=\"roc_auc\"):\n",
        "    evaluation_results = []\n",
        "\n",
        "    for model_name, model in models.items():\n",
        "        start_time = time.time()\n",
        "        score = cross_val_score(model, X, y, cv=cv, scoring=scoring)\n",
        "        training_time_cv = time.time() - start_time\n",
        "\n",
        "        avg_score = score.mean()\n",
        "        std_score = score.std()\n",
        "\n",
        "        # Store results\n",
        "        evaluation_results.append(\n",
        "            {\n",
        "                \"Model\": model_name,\n",
        "                \"Avg Score\": avg_score,\n",
        "                \"Std Score\": std_score,\n",
        "                \"Training Time CV (s)\": training_time_cv,\n",
        "            }\n",
        "        )\n",
        "\n",
        "    result_df = pd.DataFrame(evaluation_results)\n",
        "\n",
        "    return result_df.sort_values(by=\"Avg Score\", ascending=False)"
      ]
    },
    {
      "cell_type": "code",
      "execution_count": 72,
      "metadata": {
        "colab": {
          "base_uri": "https://localhost:8080/",
          "height": 1000
        },
        "id": "eXWzixu7qHZ7",
        "outputId": "cf1fecd3-a1fd-4fce-c744-1bd818ec9f3d"
      },
      "outputs": [
        {
          "name": "stdout",
          "output_type": "stream",
          "text": [
            "[LightGBM] [Warning] Found whitespace in feature_names, replace with underlines\n",
            "[LightGBM] [Info] Number of positive: 2090, number of negative: 16180\n",
            "[LightGBM] [Info] Auto-choosing row-wise multi-threading, the overhead of testing was 0.001034 seconds.\n",
            "You can set `force_row_wise=true` to remove the overhead.\n",
            "And if memory is not enough, you can set `force_col_wise=true`.\n",
            "[LightGBM] [Info] Total Bins 407\n",
            "[LightGBM] [Info] Number of data points in the train set: 18270, number of used features: 41\n",
            "[LightGBM] [Info] [binary:BoostFromScore]: pavg=0.114395 -> initscore=-2.046612\n",
            "[LightGBM] [Info] Start training from score -2.046612\n",
            "[LightGBM] [Warning] Found whitespace in feature_names, replace with underlines\n",
            "[LightGBM] [Info] Number of positive: 2090, number of negative: 16180\n",
            "[LightGBM] [Info] Auto-choosing col-wise multi-threading, the overhead of testing was 0.002302 seconds.\n",
            "You can set `force_col_wise=true` to remove the overhead.\n",
            "[LightGBM] [Info] Total Bins 404\n",
            "[LightGBM] [Info] Number of data points in the train set: 18270, number of used features: 41\n",
            "[LightGBM] [Info] [binary:BoostFromScore]: pavg=0.114395 -> initscore=-2.046612\n",
            "[LightGBM] [Info] Start training from score -2.046612\n",
            "[LightGBM] [Warning] Found whitespace in feature_names, replace with underlines\n",
            "[LightGBM] [Info] Number of positive: 2090, number of negative: 16180\n",
            "[LightGBM] [Info] Auto-choosing row-wise multi-threading, the overhead of testing was 0.001751 seconds.\n",
            "You can set `force_row_wise=true` to remove the overhead.\n",
            "And if memory is not enough, you can set `force_col_wise=true`.\n",
            "[LightGBM] [Info] Total Bins 406\n",
            "[LightGBM] [Info] Number of data points in the train set: 18270, number of used features: 41\n",
            "[LightGBM] [Info] [binary:BoostFromScore]: pavg=0.114395 -> initscore=-2.046612\n",
            "[LightGBM] [Info] Start training from score -2.046612\n",
            "[LightGBM] [Warning] Found whitespace in feature_names, replace with underlines\n",
            "[LightGBM] [Info] Number of positive: 2091, number of negative: 16180\n",
            "[LightGBM] [Info] Auto-choosing row-wise multi-threading, the overhead of testing was 0.001023 seconds.\n",
            "You can set `force_row_wise=true` to remove the overhead.\n",
            "And if memory is not enough, you can set `force_col_wise=true`.\n",
            "[LightGBM] [Info] Total Bins 408\n",
            "[LightGBM] [Info] Number of data points in the train set: 18271, number of used features: 41\n",
            "[LightGBM] [Info] [binary:BoostFromScore]: pavg=0.114444 -> initscore=-2.046133\n",
            "[LightGBM] [Info] Start training from score -2.046133\n",
            "[LightGBM] [Warning] Found whitespace in feature_names, replace with underlines\n",
            "[LightGBM] [Info] Number of positive: 2091, number of negative: 16180\n",
            "[LightGBM] [Info] Auto-choosing row-wise multi-threading, the overhead of testing was 0.000977 seconds.\n",
            "You can set `force_row_wise=true` to remove the overhead.\n",
            "And if memory is not enough, you can set `force_col_wise=true`.\n",
            "[LightGBM] [Info] Total Bins 409\n",
            "[LightGBM] [Info] Number of data points in the train set: 18271, number of used features: 41\n",
            "[LightGBM] [Info] [binary:BoostFromScore]: pavg=0.114444 -> initscore=-2.046133\n",
            "[LightGBM] [Info] Start training from score -2.046133\n"
          ]
        },
        {
          "data": {
            "text/html": [
              "<div>\n",
              "<style scoped>\n",
              "    .dataframe tbody tr th:only-of-type {\n",
              "        vertical-align: middle;\n",
              "    }\n",
              "\n",
              "    .dataframe tbody tr th {\n",
              "        vertical-align: top;\n",
              "    }\n",
              "\n",
              "    .dataframe thead th {\n",
              "        text-align: right;\n",
              "    }\n",
              "</style>\n",
              "<table border=\"1\" class=\"dataframe\">\n",
              "  <thead>\n",
              "    <tr style=\"text-align: right;\">\n",
              "      <th></th>\n",
              "      <th>Model</th>\n",
              "      <th>Avg Score</th>\n",
              "      <th>Std Score</th>\n",
              "      <th>Training Time CV (s)</th>\n",
              "    </tr>\n",
              "  </thead>\n",
              "  <tbody>\n",
              "    <tr>\n",
              "      <th>6</th>\n",
              "      <td>Gradient Boosting</td>\n",
              "      <td>0.796</td>\n",
              "      <td>0.010</td>\n",
              "      <td>14.768</td>\n",
              "    </tr>\n",
              "    <tr>\n",
              "      <th>7</th>\n",
              "      <td>Hist Gradient Boosting</td>\n",
              "      <td>0.795</td>\n",
              "      <td>0.012</td>\n",
              "      <td>2.057</td>\n",
              "    </tr>\n",
              "    <tr>\n",
              "      <th>4</th>\n",
              "      <td>LightGBM</td>\n",
              "      <td>0.792</td>\n",
              "      <td>0.011</td>\n",
              "      <td>1.183</td>\n",
              "    </tr>\n",
              "    <tr>\n",
              "      <th>8</th>\n",
              "      <td>AdaBoost</td>\n",
              "      <td>0.790</td>\n",
              "      <td>0.009</td>\n",
              "      <td>4.981</td>\n",
              "    </tr>\n",
              "    <tr>\n",
              "      <th>0</th>\n",
              "      <td>Logistic Regression</td>\n",
              "      <td>0.780</td>\n",
              "      <td>0.010</td>\n",
              "      <td>2.482</td>\n",
              "    </tr>\n",
              "    <tr>\n",
              "      <th>3</th>\n",
              "      <td>Random Forest</td>\n",
              "      <td>0.777</td>\n",
              "      <td>0.007</td>\n",
              "      <td>11.482</td>\n",
              "    </tr>\n",
              "    <tr>\n",
              "      <th>5</th>\n",
              "      <td>XGBoost</td>\n",
              "      <td>0.767</td>\n",
              "      <td>0.007</td>\n",
              "      <td>1.973</td>\n",
              "    </tr>\n",
              "    <tr>\n",
              "      <th>1</th>\n",
              "      <td>Decision Tree</td>\n",
              "      <td>0.616</td>\n",
              "      <td>0.006</td>\n",
              "      <td>1.073</td>\n",
              "    </tr>\n",
              "    <tr>\n",
              "      <th>2</th>\n",
              "      <td>Extra Tree</td>\n",
              "      <td>0.612</td>\n",
              "      <td>0.013</td>\n",
              "      <td>0.344</td>\n",
              "    </tr>\n",
              "  </tbody>\n",
              "</table>\n",
              "</div>"
            ],
            "text/plain": [
              "                    Model  Avg Score  Std Score  Training Time CV (s)\n",
              "6       Gradient Boosting      0.796      0.010                14.768\n",
              "7  Hist Gradient Boosting      0.795      0.012                 2.057\n",
              "4                LightGBM      0.792      0.011                 1.183\n",
              "8                AdaBoost      0.790      0.009                 4.981\n",
              "0     Logistic Regression      0.780      0.010                 2.482\n",
              "3           Random Forest      0.777      0.007                11.482\n",
              "5                 XGBoost      0.767      0.007                 1.973\n",
              "1           Decision Tree      0.616      0.006                 1.073\n",
              "2              Extra Tree      0.612      0.013                 0.344"
            ]
          },
          "execution_count": 72,
          "metadata": {},
          "output_type": "execute_result"
        }
      ],
      "source": [
        "result_all_data = evaluate_cv(X_scaled, y, models, cv=skf, scoring=\"roc_auc\")\n",
        "result_all_data"
      ]
    },
    {
      "cell_type": "code",
      "execution_count": 73,
      "metadata": {
        "colab": {
          "base_uri": "https://localhost:8080/",
          "height": 1000
        },
        "id": "bJDAqSHVqHZ9",
        "outputId": "7da63a66-ba48-4a90-ca4f-cfbac5d34b31"
      },
      "outputs": [
        {
          "name": "stdout",
          "output_type": "stream",
          "text": [
            "[LightGBM] [Warning] Found whitespace in feature_names, replace with underlines\n",
            "[LightGBM] [Info] Number of positive: 2090, number of negative: 15506\n",
            "[LightGBM] [Info] Auto-choosing row-wise multi-threading, the overhead of testing was 0.001087 seconds.\n",
            "You can set `force_row_wise=true` to remove the overhead.\n",
            "And if memory is not enough, you can set `force_col_wise=true`.\n",
            "[LightGBM] [Info] Total Bins 402\n",
            "[LightGBM] [Info] Number of data points in the train set: 17596, number of used features: 41\n",
            "[LightGBM] [Info] [binary:BoostFromScore]: pavg=0.118777 -> initscore=-2.004063\n",
            "[LightGBM] [Info] Start training from score -2.004063\n",
            "[LightGBM] [Warning] Found whitespace in feature_names, replace with underlines\n",
            "[LightGBM] [Info] Number of positive: 2090, number of negative: 15506\n",
            "[LightGBM] [Info] Auto-choosing row-wise multi-threading, the overhead of testing was 0.000978 seconds.\n",
            "You can set `force_row_wise=true` to remove the overhead.\n",
            "And if memory is not enough, you can set `force_col_wise=true`.\n",
            "[LightGBM] [Info] Total Bins 403\n",
            "[LightGBM] [Info] Number of data points in the train set: 17596, number of used features: 41\n",
            "[LightGBM] [Info] [binary:BoostFromScore]: pavg=0.118777 -> initscore=-2.004063\n",
            "[LightGBM] [Info] Start training from score -2.004063\n",
            "[LightGBM] [Warning] Found whitespace in feature_names, replace with underlines\n",
            "[LightGBM] [Info] Number of positive: 2090, number of negative: 15506\n",
            "[LightGBM] [Info] Auto-choosing row-wise multi-threading, the overhead of testing was 0.001189 seconds.\n",
            "You can set `force_row_wise=true` to remove the overhead.\n",
            "And if memory is not enough, you can set `force_col_wise=true`.\n",
            "[LightGBM] [Info] Total Bins 405\n",
            "[LightGBM] [Info] Number of data points in the train set: 17596, number of used features: 41\n",
            "[LightGBM] [Info] [binary:BoostFromScore]: pavg=0.118777 -> initscore=-2.004063\n",
            "[LightGBM] [Info] Start training from score -2.004063\n",
            "[LightGBM] [Warning] Found whitespace in feature_names, replace with underlines\n",
            "[LightGBM] [Info] Number of positive: 2091, number of negative: 15505\n",
            "[LightGBM] [Info] Auto-choosing row-wise multi-threading, the overhead of testing was 0.001085 seconds.\n",
            "You can set `force_row_wise=true` to remove the overhead.\n",
            "And if memory is not enough, you can set `force_col_wise=true`.\n",
            "[LightGBM] [Info] Total Bins 403\n",
            "[LightGBM] [Info] Number of data points in the train set: 17596, number of used features: 41\n",
            "[LightGBM] [Info] [binary:BoostFromScore]: pavg=0.118834 -> initscore=-2.003520\n",
            "[LightGBM] [Info] Start training from score -2.003520\n",
            "[LightGBM] [Warning] Found whitespace in feature_names, replace with underlines\n",
            "[LightGBM] [Info] Number of positive: 2091, number of negative: 15505\n",
            "[LightGBM] [Info] Auto-choosing row-wise multi-threading, the overhead of testing was 0.001073 seconds.\n",
            "You can set `force_row_wise=true` to remove the overhead.\n",
            "And if memory is not enough, you can set `force_col_wise=true`.\n",
            "[LightGBM] [Info] Total Bins 404\n",
            "[LightGBM] [Info] Number of data points in the train set: 17596, number of used features: 41\n",
            "[LightGBM] [Info] [binary:BoostFromScore]: pavg=0.118834 -> initscore=-2.003520\n",
            "[LightGBM] [Info] Start training from score -2.003520\n"
          ]
        },
        {
          "data": {
            "text/html": [
              "<div>\n",
              "<style scoped>\n",
              "    .dataframe tbody tr th:only-of-type {\n",
              "        vertical-align: middle;\n",
              "    }\n",
              "\n",
              "    .dataframe tbody tr th {\n",
              "        vertical-align: top;\n",
              "    }\n",
              "\n",
              "    .dataframe thead th {\n",
              "        text-align: right;\n",
              "    }\n",
              "</style>\n",
              "<table border=\"1\" class=\"dataframe\">\n",
              "  <thead>\n",
              "    <tr style=\"text-align: right;\">\n",
              "      <th></th>\n",
              "      <th>Model</th>\n",
              "      <th>Avg Score</th>\n",
              "      <th>Std Score</th>\n",
              "      <th>Training Time CV (s)</th>\n",
              "    </tr>\n",
              "  </thead>\n",
              "  <tbody>\n",
              "    <tr>\n",
              "      <th>6</th>\n",
              "      <td>Gradient Boosting</td>\n",
              "      <td>0.804</td>\n",
              "      <td>0.006</td>\n",
              "      <td>14.752</td>\n",
              "    </tr>\n",
              "    <tr>\n",
              "      <th>7</th>\n",
              "      <td>Hist Gradient Boosting</td>\n",
              "      <td>0.803</td>\n",
              "      <td>0.008</td>\n",
              "      <td>2.161</td>\n",
              "    </tr>\n",
              "    <tr>\n",
              "      <th>4</th>\n",
              "      <td>LightGBM</td>\n",
              "      <td>0.802</td>\n",
              "      <td>0.009</td>\n",
              "      <td>1.138</td>\n",
              "    </tr>\n",
              "    <tr>\n",
              "      <th>3</th>\n",
              "      <td>Random Forest</td>\n",
              "      <td>0.798</td>\n",
              "      <td>0.007</td>\n",
              "      <td>11.859</td>\n",
              "    </tr>\n",
              "    <tr>\n",
              "      <th>8</th>\n",
              "      <td>AdaBoost</td>\n",
              "      <td>0.797</td>\n",
              "      <td>0.006</td>\n",
              "      <td>5.093</td>\n",
              "    </tr>\n",
              "    <tr>\n",
              "      <th>0</th>\n",
              "      <td>Logistic Regression</td>\n",
              "      <td>0.789</td>\n",
              "      <td>0.009</td>\n",
              "      <td>1.739</td>\n",
              "    </tr>\n",
              "    <tr>\n",
              "      <th>5</th>\n",
              "      <td>XGBoost</td>\n",
              "      <td>0.780</td>\n",
              "      <td>0.011</td>\n",
              "      <td>2.495</td>\n",
              "    </tr>\n",
              "    <tr>\n",
              "      <th>1</th>\n",
              "      <td>Decision Tree</td>\n",
              "      <td>0.642</td>\n",
              "      <td>0.007</td>\n",
              "      <td>1.060</td>\n",
              "    </tr>\n",
              "    <tr>\n",
              "      <th>2</th>\n",
              "      <td>Extra Tree</td>\n",
              "      <td>0.637</td>\n",
              "      <td>0.005</td>\n",
              "      <td>0.261</td>\n",
              "    </tr>\n",
              "  </tbody>\n",
              "</table>\n",
              "</div>"
            ],
            "text/plain": [
              "                    Model  Avg Score  Std Score  Training Time CV (s)\n",
              "6       Gradient Boosting      0.804      0.006                14.752\n",
              "7  Hist Gradient Boosting      0.803      0.008                 2.161\n",
              "4                LightGBM      0.802      0.009                 1.138\n",
              "3           Random Forest      0.798      0.007                11.859\n",
              "8                AdaBoost      0.797      0.006                 5.093\n",
              "0     Logistic Regression      0.789      0.009                 1.739\n",
              "5                 XGBoost      0.780      0.011                 2.495\n",
              "1           Decision Tree      0.642      0.007                 1.060\n",
              "2              Extra Tree      0.637      0.005                 0.261"
            ]
          },
          "execution_count": 73,
          "metadata": {},
          "output_type": "execute_result"
        }
      ],
      "source": [
        "result_all_data_und = evaluate_cv(X_und, y_und, models, cv=skf, scoring=\"roc_auc\")\n",
        "result_all_data_und"
      ]
    },
    {
      "cell_type": "markdown",
      "metadata": {
        "id": "KUSzzhcLy_iB"
      },
      "source": [
        "### **7.3. Pemilihan Model Kandidat Terbaik (berdasarkan hasil evaluasi awal)**\n"
      ]
    },
    {
      "cell_type": "markdown",
      "metadata": {
        "id": "dhRDoKzezC29"
      },
      "source": [
        "Berdasarkan hasil *cross-validation* di atas (terutama skor rata-rata AUC dan stabilitasnya/standar deviasi), kita akan memilih beberapa model (misalnya, 2-3 model) yang menunjukkan performa paling menjanjikan. Model-model inilah yang akan menjadi kandidat untuk tahap penyetelan hiperparameter (*hyperparameter tuning*). Pertimbangkan juga waktu training jika itu menjadi kendala.\n",
        "\n",
        "Model-model ini akan kita bawa ke tahap selanjutnya."
      ]
    },
    {
      "cell_type": "markdown",
      "metadata": {
        "id": "ifZ0rYp7XdnR"
      },
      "source": [
        "## **8. Penyetelan Hiperparameter (Hyperparameter Tuning)**\n"
      ]
    },
    {
      "cell_type": "markdown",
      "metadata": {
        "id": "jKRvFRBSXdbF"
      },
      "source": [
        "Setelah mengidentifikasi model-model kandidat dengan performa *baseline* yang menjanjikan, tahap berikutnya adalah penyetelan hiperparameter. Hiperparameter adalah parameter eksternal dari model yang nilainya tidak dipelajari dari data secara langsung, melainkan harus ditetapkan sebelum proses training. Penyetelan yang tepat dapat meningkatkan performa model secara signifikan.\n",
        "\n",
        "Kita akan fokus pada model-model yang terpilih dari evaluasi *cross-validation* sebelumnya. Untuk setiap model, kita akan mendefinisikan ruang pencarian hiperparameter (*parameter grid*) dan menggunakan teknik pencarian sistematis untuk menemukan kombinasi terbaik."
      ]
    },
    {
      "cell_type": "markdown",
      "metadata": {
        "id": "pfVaNBdZZEUv"
      },
      "source": [
        "### **8.1. Penyetelan Hiperparameter untuk Model 1: Hist Gradient Boosting Classifier**\n"
      ]
    },
    {
      "cell_type": "markdown",
      "metadata": {
        "id": "lDlfTJZKZKsI"
      },
      "source": [
        "Berdasarkan hasil *baseline*, Hist Gradient Boosting menunjukkan performa yang sangat baik. Mari kita coba optimalkan hiperparameternya.\n"
      ]
    },
    {
      "cell_type": "code",
      "execution_count": 73,
      "metadata": {
        "colab": {
          "base_uri": "https://localhost:8080/"
        },
        "id": "Zo7PAH0uZD6V",
        "outputId": "1040aed0-3852-4795-b116-fc58cdb7cc88"
      },
      "outputs": [
        {
          "name": "stdout",
          "output_type": "stream",
          "text": [
            "100%|██████████| 50/50 [03:20<00:00,  4.01s/trial, best loss: -0.8106916558570371]\n"
          ]
        },
        {
          "data": {
            "text/plain": [
              "{'l2_regularization': np.float64(0.0007146954337823273),\n",
              " 'learning_rate': np.float64(0.0733714367396384),\n",
              " 'max_depth': None,\n",
              " 'max_iter': 600,\n",
              " 'max_leaf_nodes': 15}"
            ]
          },
          "execution_count": 73,
          "metadata": {},
          "output_type": "execute_result"
        }
      ],
      "source": [
        "space = {\n",
        "    \"learning_rate\": hp.loguniform(\"learning_rate\", np.log(0.01), np.log(0.5)),\n",
        "    \"max_iter\": hp.quniform(\"max_iter\", 100, 1000, 50),\n",
        "    \"max_leaf_nodes\": hp.quniform(\"max_leaf_nodes\", 10, 100, 5),\n",
        "    \"max_depth\": hp.choice(\"max_depth\", [None, 3, 5, 7, 10]),\n",
        "    \"l2_regularization\": hp.loguniform(\"l2_regularization\", np.log(1e-4), np.log(1.0)),\n",
        "}\n",
        "\n",
        "skf = StratifiedKFold(n_splits=5, shuffle=True, random_state=RANDOM_STATE)\n",
        "\n",
        "\n",
        "def objective(params):\n",
        "    params[\"max_iter\"] = int(params[\"max_iter\"])\n",
        "    params[\"max_leaf_nodes\"] = int(params[\"max_leaf_nodes\"])\n",
        "\n",
        "    model = HistGradientBoostingClassifier(**params, random_state=42)\n",
        "\n",
        "    # Gunakan skor AUC rata-rata sebagai metric\n",
        "    score = cross_val_score(\n",
        "        model, X_train_und, y_train_und, cv=skf, scoring=\"roc_auc\"\n",
        "    ).mean()\n",
        "\n",
        "    return {\"loss\": -score, \"status\": STATUS_OK}\n",
        "\n",
        "\n",
        "trials = Trials()\n",
        "\n",
        "best = fmin(\n",
        "    fn=objective,\n",
        "    space=space,\n",
        "    algo=tpe.suggest,\n",
        "    max_evals=50,\n",
        "    trials=trials,\n",
        "    rstate=np.random.default_rng(RANDOM_STATE),\n",
        ")\n",
        "\n",
        "best[\"max_iter\"] = int(best[\"max_iter\"])\n",
        "best[\"max_leaf_nodes\"] = int(best[\"max_leaf_nodes\"])\n",
        "best[\"max_depth\"] = [None, 3, 5, 7, 10][best[\"max_depth\"]]\n",
        "\n",
        "best\n"
      ]
    },
    {
      "cell_type": "code",
      "execution_count": 70,
      "metadata": {
        "id": "nJKXkj8SqHZ_"
      },
      "outputs": [],
      "source": [
        "best = {\n",
        "    \"l2_regularization\": 0.0007146954337823273,\n",
        "    \"learning_rate\": 0.0733714367396384,\n",
        "    \"max_depth\": None,\n",
        "    \"max_iter\": 800,\n",
        "    \"max_leaf_nodes\": 15,\n",
        "}"
      ]
    },
    {
      "cell_type": "code",
      "execution_count": 71,
      "metadata": {
        "id": "t2TTiQlxqHaA"
      },
      "outputs": [],
      "source": [
        "tuned_models = {\n",
        "    \"Hist Gradient Boosting (Tuned 1)\": HistGradientBoostingClassifier(\n",
        "        **best, random_state=RANDOM_STATE\n",
        "    ),\n",
        "}"
      ]
    },
    {
      "cell_type": "code",
      "execution_count": 76,
      "metadata": {
        "colab": {
          "base_uri": "https://localhost:8080/",
          "height": 115
        },
        "id": "Fgew9Kc5qHaA",
        "outputId": "fb3aab69-419a-4c69-e4c8-9d202043ad10"
      },
      "outputs": [
        {
          "data": {
            "application/vnd.google.colaboratory.intrinsic+json": {
              "summary": "{\n  \"name\": \")\",\n  \"rows\": 1,\n  \"fields\": [\n    {\n      \"column\": \"Model\",\n      \"properties\": {\n        \"dtype\": \"string\",\n        \"num_unique_values\": 1,\n        \"samples\": [\n          \"Hist Gradient Boosting (Tuned 1)\"\n        ],\n        \"semantic_type\": \"\",\n        \"description\": \"\"\n      }\n    },\n    {\n      \"column\": \"Avg Score\",\n      \"properties\": {\n        \"dtype\": \"number\",\n        \"std\": null,\n        \"min\": 0.8985648909199873,\n        \"max\": 0.8985648909199873,\n        \"num_unique_values\": 1,\n        \"samples\": [\n          0.8985648909199873\n        ],\n        \"semantic_type\": \"\",\n        \"description\": \"\"\n      }\n    },\n    {\n      \"column\": \"Std Score\",\n      \"properties\": {\n        \"dtype\": \"number\",\n        \"std\": null,\n        \"min\": 0.0037569710013800922,\n        \"max\": 0.0037569710013800922,\n        \"num_unique_values\": 1,\n        \"samples\": [\n          0.0037569710013800922\n        ],\n        \"semantic_type\": \"\",\n        \"description\": \"\"\n      }\n    },\n    {\n      \"column\": \"Training Time CV (s)\",\n      \"properties\": {\n        \"dtype\": \"number\",\n        \"std\": null,\n        \"min\": 1.2566790580749512,\n        \"max\": 1.2566790580749512,\n        \"num_unique_values\": 1,\n        \"samples\": [\n          1.2566790580749512\n        ],\n        \"semantic_type\": \"\",\n        \"description\": \"\"\n      }\n    },\n    {\n      \"column\": \"Test AUC\",\n      \"properties\": {\n        \"dtype\": \"number\",\n        \"std\": null,\n        \"min\": 0.7820912002393926,\n        \"max\": 0.7820912002393926,\n        \"num_unique_values\": 1,\n        \"samples\": [\n          0.7820912002393926\n        ],\n        \"semantic_type\": \"\",\n        \"description\": \"\"\n      }\n    },\n    {\n      \"column\": \"Test Accuracy\",\n      \"properties\": {\n        \"dtype\": \"number\",\n        \"std\": null,\n        \"min\": 0.8971103327495622,\n        \"max\": 0.8971103327495622,\n        \"num_unique_values\": 1,\n        \"samples\": [\n          0.8971103327495622\n        ],\n        \"semantic_type\": \"\",\n        \"description\": \"\"\n      }\n    },\n    {\n      \"column\": \"Test Precision\",\n      \"properties\": {\n        \"dtype\": \"number\",\n        \"std\": null,\n        \"min\": 0.8787223237168377,\n        \"max\": 0.8787223237168377,\n        \"num_unique_values\": 1,\n        \"samples\": [\n          0.8787223237168377\n        ],\n        \"semantic_type\": \"\",\n        \"description\": \"\"\n      }\n    },\n    {\n      \"column\": \"Test Recall\",\n      \"properties\": {\n        \"dtype\": \"number\",\n        \"std\": null,\n        \"min\": 0.8971103327495622,\n        \"max\": 0.8971103327495622,\n        \"num_unique_values\": 1,\n        \"samples\": [\n          0.8971103327495622\n        ],\n        \"semantic_type\": \"\",\n        \"description\": \"\"\n      }\n    },\n    {\n      \"column\": \"Test F1\",\n      \"properties\": {\n        \"dtype\": \"number\",\n        \"std\": null,\n        \"min\": 0.8808255589855732,\n        \"max\": 0.8808255589855732,\n        \"num_unique_values\": 1,\n        \"samples\": [\n          0.8808255589855732\n        ],\n        \"semantic_type\": \"\",\n        \"description\": \"\"\n      }\n    },\n    {\n      \"column\": \"Training Time Fit (s)\",\n      \"properties\": {\n        \"dtype\": \"number\",\n        \"std\": null,\n        \"min\": 0.17235374450683594,\n        \"max\": 0.17235374450683594,\n        \"num_unique_values\": 1,\n        \"samples\": [\n          0.17235374450683594\n        ],\n        \"semantic_type\": \"\",\n        \"description\": \"\"\n      }\n    }\n  ]\n}",
              "type": "dataframe"
            },
            "text/html": [
              "\n",
              "  <div id=\"df-cc26535c-9e6a-4064-b2fc-dd3c8f96ea69\" class=\"colab-df-container\">\n",
              "    <div>\n",
              "<style scoped>\n",
              "    .dataframe tbody tr th:only-of-type {\n",
              "        vertical-align: middle;\n",
              "    }\n",
              "\n",
              "    .dataframe tbody tr th {\n",
              "        vertical-align: top;\n",
              "    }\n",
              "\n",
              "    .dataframe thead th {\n",
              "        text-align: right;\n",
              "    }\n",
              "</style>\n",
              "<table border=\"1\" class=\"dataframe\">\n",
              "  <thead>\n",
              "    <tr style=\"text-align: right;\">\n",
              "      <th></th>\n",
              "      <th>Model</th>\n",
              "      <th>Avg Score</th>\n",
              "      <th>Std Score</th>\n",
              "      <th>Training Time CV (s)</th>\n",
              "      <th>Test AUC</th>\n",
              "      <th>Test Accuracy</th>\n",
              "      <th>Test Precision</th>\n",
              "      <th>Test Recall</th>\n",
              "      <th>Test F1</th>\n",
              "      <th>Training Time Fit (s)</th>\n",
              "    </tr>\n",
              "  </thead>\n",
              "  <tbody>\n",
              "    <tr>\n",
              "      <th>0</th>\n",
              "      <td>Hist Gradient Boosting (Tuned 1)</td>\n",
              "      <td>0.899</td>\n",
              "      <td>0.004</td>\n",
              "      <td>1.257</td>\n",
              "      <td>0.782</td>\n",
              "      <td>0.897</td>\n",
              "      <td>0.879</td>\n",
              "      <td>0.897</td>\n",
              "      <td>0.881</td>\n",
              "      <td>0.172</td>\n",
              "    </tr>\n",
              "  </tbody>\n",
              "</table>\n",
              "</div>\n",
              "    <div class=\"colab-df-buttons\">\n",
              "\n",
              "  <div class=\"colab-df-container\">\n",
              "    <button class=\"colab-df-convert\" onclick=\"convertToInteractive('df-cc26535c-9e6a-4064-b2fc-dd3c8f96ea69')\"\n",
              "            title=\"Convert this dataframe to an interactive table.\"\n",
              "            style=\"display:none;\">\n",
              "\n",
              "  <svg xmlns=\"http://www.w3.org/2000/svg\" height=\"24px\" viewBox=\"0 -960 960 960\">\n",
              "    <path d=\"M120-120v-720h720v720H120Zm60-500h600v-160H180v160Zm220 220h160v-160H400v160Zm0 220h160v-160H400v160ZM180-400h160v-160H180v160Zm440 0h160v-160H620v160ZM180-180h160v-160H180v160Zm440 0h160v-160H620v160Z\"/>\n",
              "  </svg>\n",
              "    </button>\n",
              "\n",
              "  <style>\n",
              "    .colab-df-container {\n",
              "      display:flex;\n",
              "      gap: 12px;\n",
              "    }\n",
              "\n",
              "    .colab-df-convert {\n",
              "      background-color: #E8F0FE;\n",
              "      border: none;\n",
              "      border-radius: 50%;\n",
              "      cursor: pointer;\n",
              "      display: none;\n",
              "      fill: #1967D2;\n",
              "      height: 32px;\n",
              "      padding: 0 0 0 0;\n",
              "      width: 32px;\n",
              "    }\n",
              "\n",
              "    .colab-df-convert:hover {\n",
              "      background-color: #E2EBFA;\n",
              "      box-shadow: 0px 1px 2px rgba(60, 64, 67, 0.3), 0px 1px 3px 1px rgba(60, 64, 67, 0.15);\n",
              "      fill: #174EA6;\n",
              "    }\n",
              "\n",
              "    .colab-df-buttons div {\n",
              "      margin-bottom: 4px;\n",
              "    }\n",
              "\n",
              "    [theme=dark] .colab-df-convert {\n",
              "      background-color: #3B4455;\n",
              "      fill: #D2E3FC;\n",
              "    }\n",
              "\n",
              "    [theme=dark] .colab-df-convert:hover {\n",
              "      background-color: #434B5C;\n",
              "      box-shadow: 0px 1px 3px 1px rgba(0, 0, 0, 0.15);\n",
              "      filter: drop-shadow(0px 1px 2px rgba(0, 0, 0, 0.3));\n",
              "      fill: #FFFFFF;\n",
              "    }\n",
              "  </style>\n",
              "\n",
              "    <script>\n",
              "      const buttonEl =\n",
              "        document.querySelector('#df-cc26535c-9e6a-4064-b2fc-dd3c8f96ea69 button.colab-df-convert');\n",
              "      buttonEl.style.display =\n",
              "        google.colab.kernel.accessAllowed ? 'block' : 'none';\n",
              "\n",
              "      async function convertToInteractive(key) {\n",
              "        const element = document.querySelector('#df-cc26535c-9e6a-4064-b2fc-dd3c8f96ea69');\n",
              "        const dataTable =\n",
              "          await google.colab.kernel.invokeFunction('convertToInteractive',\n",
              "                                                    [key], {});\n",
              "        if (!dataTable) return;\n",
              "\n",
              "        const docLinkHtml = 'Like what you see? Visit the ' +\n",
              "          '<a target=\"_blank\" href=https://colab.research.google.com/notebooks/data_table.ipynb>data table notebook</a>'\n",
              "          + ' to learn more about interactive tables.';\n",
              "        element.innerHTML = '';\n",
              "        dataTable['output_type'] = 'display_data';\n",
              "        await google.colab.output.renderOutput(dataTable, element);\n",
              "        const docLink = document.createElement('div');\n",
              "        docLink.innerHTML = docLinkHtml;\n",
              "        element.appendChild(docLink);\n",
              "      }\n",
              "    </script>\n",
              "  </div>\n",
              "\n",
              "\n",
              "    </div>\n",
              "  </div>\n"
            ],
            "text/plain": [
              "                              Model  Avg Score  Std Score  Training Time CV (s)  Test AUC  Test Accuracy  Test Precision  Test Recall  Test F1  Training Time Fit (s)\n",
              "0  Hist Gradient Boosting (Tuned 1)      0.899      0.004                 1.257     0.782          0.897           0.879        0.897    0.881                  0.172"
            ]
          },
          "execution_count": 76,
          "metadata": {},
          "output_type": "execute_result"
        }
      ],
      "source": [
        "train_and_evaluate_models_cv(\n",
        "    X_train_und[selected_features],\n",
        "    X_test_scaled[selected_features],\n",
        "    y_train_und,\n",
        "    y_test,\n",
        "    tuned_models,\n",
        ")"
      ]
    },
    {
      "cell_type": "code",
      "execution_count": null,
      "metadata": {
        "colab": {
          "base_uri": "https://localhost:8080/"
        },
        "id": "oBK2QiXmqHaB",
        "outputId": "c99cb143-e74a-46b9-d2cd-c1bb0ae60a29"
      },
      "outputs": [],
      "source": [
        "space = {\n",
        "    \"learning_rate\": hp.loguniform(\"learning_rate\", np.log(0.01), np.log(0.5)),\n",
        "    \"max_iter\": hp.quniform(\"max_iter\", 100, 1000, 50),\n",
        "    \"max_leaf_nodes\": hp.quniform(\"max_leaf_nodes\", 10, 100, 5),\n",
        "    \"max_depth\": hp.choice(\"max_depth\", [None, 3, 5, 7, 10]),\n",
        "    \"l2_regularization\": hp.loguniform(\"l2_regularization\", np.log(1e-4), np.log(1.0)),\n",
        "}\n",
        "\n",
        "skf = StratifiedKFold(n_splits=5, shuffle=True, random_state=RANDOM_STATE)\n",
        "\n",
        "\n",
        "def objective(params):\n",
        "    params[\"max_iter\"] = int(params[\"max_iter\"])\n",
        "    params[\"max_leaf_nodes\"] = int(params[\"max_leaf_nodes\"])\n",
        "\n",
        "    model = HistGradientBoostingClassifier(**params, random_state=42)\n",
        "\n",
        "    # Gunakan skor AUC rata-rata sebagai metric\n",
        "    score = cross_val_score(model, X_und, y_und, cv=skf, scoring=\"roc_auc\").mean()\n",
        "\n",
        "    return {\"loss\": -score, \"status\": STATUS_OK}\n",
        "\n",
        "\n",
        "trials = Trials()\n",
        "\n",
        "best = fmin(\n",
        "    fn=objective,\n",
        "    space=space,\n",
        "    algo=tpe.suggest,\n",
        "    max_evals=50,\n",
        "    trials=trials,\n",
        "    rstate=np.random.default_rng(RANDOM_STATE),\n",
        ")\n",
        "\n",
        "best[\"max_iter\"] = int(best[\"max_iter\"])\n",
        "best[\"max_leaf_nodes\"] = int(best[\"max_leaf_nodes\"])\n",
        "best[\"max_depth\"] = [None, 3, 5, 7, 10][best[\"max_depth\"]]\n",
        "\n",
        "best"
      ]
    },
    {
      "cell_type": "code",
      "execution_count": 72,
      "metadata": {},
      "outputs": [],
      "source": [
        "best_2 = {\n",
        "    \"l2_regularization\": np.float64(0.0057280871105010005),\n",
        "    \"learning_rate\": np.float64(0.01711360328147873),\n",
        "    \"max_depth\": None,\n",
        "    \"max_iter\": 950,\n",
        "    \"max_leaf_nodes\": 20,\n",
        "}"
      ]
    },
    {
      "cell_type": "code",
      "execution_count": 73,
      "metadata": {
        "id": "lWcCFbHqqHaB"
      },
      "outputs": [],
      "source": [
        "tuned_models[\"Hist Gradient Boosting (Tuned 2)\"] = HistGradientBoostingClassifier(\n",
        "    **best_2, random_state=RANDOM_STATE\n",
        ")"
      ]
    },
    {
      "cell_type": "code",
      "execution_count": 78,
      "metadata": {
        "colab": {
          "base_uri": "https://localhost:8080/"
        },
        "id": "dJ3ldkJMqHaC",
        "outputId": "777b4f3d-e6ff-4b6d-a132-7ff5cd330bdf"
      },
      "outputs": [
        {
          "data": {
            "text/plain": [
              "{'Hist Gradient Boosting (Tuned 1)': HistGradientBoostingClassifier(l2_regularization=0.0007146954337823273,\n",
              "                                learning_rate=0.0733714367396384, max_iter=800,\n",
              "                                max_leaf_nodes=15, random_state=42),\n",
              " 'Hist Gradient Boosting (Tuned 2)': HistGradientBoostingClassifier(l2_regularization=0.0057280871105010005,\n",
              "                                learning_rate=0.01711360328147873, max_iter=950,\n",
              "                                max_leaf_nodes=20, random_state=42)}"
            ]
          },
          "execution_count": 78,
          "metadata": {},
          "output_type": "execute_result"
        }
      ],
      "source": [
        "tuned_models"
      ]
    },
    {
      "cell_type": "code",
      "execution_count": 85,
      "metadata": {},
      "outputs": [
        {
          "name": "stdout",
          "output_type": "stream",
          "text": [
            "100%|██████████| 50/50 [02:59<00:00,  3.60s/trial, best loss: -0.8088281889384568]\n"
          ]
        },
        {
          "data": {
            "text/plain": [
              "{'l2_regularization': 0.0012638154755574963,\n",
              " 'learning_rate': 0.3578258689038835,\n",
              " 'max_depth': 3,\n",
              " 'max_iter': 650,\n",
              " 'max_leaf_nodes': 40}"
            ]
          },
          "execution_count": 85,
          "metadata": {},
          "output_type": "execute_result"
        }
      ],
      "source": [
        "space = {\n",
        "    \"learning_rate\": hp.loguniform(\"learning_rate\", np.log(0.01), np.log(0.5)),\n",
        "    \"max_iter\": hp.quniform(\"max_iter\", 100, 1000, 50),\n",
        "    \"max_leaf_nodes\": hp.quniform(\"max_leaf_nodes\", 10, 100, 5),\n",
        "    \"max_depth\": hp.choice(\"max_depth\", [None, 3, 5, 7, 10]),\n",
        "    \"l2_regularization\": hp.loguniform(\"l2_regularization\", np.log(1e-4), np.log(1.0)),\n",
        "}\n",
        "\n",
        "skf = StratifiedKFold(n_splits=5, shuffle=True, random_state=RANDOM_STATE)\n",
        "\n",
        "\n",
        "def objective(params):\n",
        "    params[\"max_iter\"] = int(params[\"max_iter\"])\n",
        "    params[\"max_leaf_nodes\"] = int(params[\"max_leaf_nodes\"])\n",
        "\n",
        "    model = HistGradientBoostingClassifier(**params, random_state=42)\n",
        "\n",
        "    # Gunakan skor AUC rata-rata sebagai metric\n",
        "    score = cross_val_score(model, X_und_fs, y_und_fs, cv=skf, scoring=\"roc_auc\").mean()\n",
        "\n",
        "    return {\"loss\": -score, \"status\": STATUS_OK}\n",
        "\n",
        "\n",
        "trials = Trials()\n",
        "\n",
        "best_3 = fmin(\n",
        "    fn=objective,\n",
        "    space=space,\n",
        "    algo=tpe.suggest,\n",
        "    max_evals=50,\n",
        "    trials=trials,\n",
        "    rstate=np.random.default_rng(RANDOM_STATE),\n",
        ")\n",
        "\n",
        "best_3[\"max_iter\"] = int(best_3[\"max_iter\"])\n",
        "best_3[\"max_leaf_nodes\"] = int(best_3[\"max_leaf_nodes\"])\n",
        "best_3[\"max_depth\"] = [None, 3, 5, 7, 10][best_3[\"max_depth\"]]\n",
        "\n",
        "best_3"
      ]
    },
    {
      "cell_type": "code",
      "execution_count": 75,
      "metadata": {},
      "outputs": [],
      "source": [
        "best_3 = {\n",
        "    \"l2_regularization\": 0.0012638154755574963,\n",
        "    \"learning_rate\": 0.3578258689038835,\n",
        "    \"max_depth\": 3,\n",
        "    \"max_iter\": 650,\n",
        "    \"max_leaf_nodes\": 40,\n",
        "}"
      ]
    },
    {
      "cell_type": "code",
      "execution_count": 76,
      "metadata": {},
      "outputs": [],
      "source": [
        "tuned_models[\"Hist Gradient Boosting (Tuned 3)\"] = HistGradientBoostingClassifier(\n",
        "    **best_3, random_state=RANDOM_STATE\n",
        ")"
      ]
    },
    {
      "cell_type": "code",
      "execution_count": 87,
      "metadata": {
        "colab": {
          "base_uri": "https://localhost:8080/",
          "height": 112
        },
        "id": "ckHGpOyMqHaC",
        "outputId": "2a65c02d-725b-46b6-cbf8-819d129956dc"
      },
      "outputs": [
        {
          "data": {
            "text/html": [
              "<div>\n",
              "<style scoped>\n",
              "    .dataframe tbody tr th:only-of-type {\n",
              "        vertical-align: middle;\n",
              "    }\n",
              "\n",
              "    .dataframe tbody tr th {\n",
              "        vertical-align: top;\n",
              "    }\n",
              "\n",
              "    .dataframe thead th {\n",
              "        text-align: right;\n",
              "    }\n",
              "</style>\n",
              "<table border=\"1\" class=\"dataframe\">\n",
              "  <thead>\n",
              "    <tr style=\"text-align: right;\">\n",
              "      <th></th>\n",
              "      <th>Model</th>\n",
              "      <th>Avg Score</th>\n",
              "      <th>Std Score</th>\n",
              "      <th>Training Time CV (s)</th>\n",
              "    </tr>\n",
              "  </thead>\n",
              "  <tbody>\n",
              "    <tr>\n",
              "      <th>1</th>\n",
              "      <td>Hist Gradient Boosting (Tuned 2)</td>\n",
              "      <td>0.807</td>\n",
              "      <td>0.009</td>\n",
              "      <td>9.417</td>\n",
              "    </tr>\n",
              "    <tr>\n",
              "      <th>2</th>\n",
              "      <td>Hist Gradient Boosting (Tuned 3)</td>\n",
              "      <td>0.806</td>\n",
              "      <td>0.008</td>\n",
              "      <td>0.983</td>\n",
              "    </tr>\n",
              "    <tr>\n",
              "      <th>0</th>\n",
              "      <td>Hist Gradient Boosting (Tuned 1)</td>\n",
              "      <td>0.805</td>\n",
              "      <td>0.008</td>\n",
              "      <td>3.100</td>\n",
              "    </tr>\n",
              "  </tbody>\n",
              "</table>\n",
              "</div>"
            ],
            "text/plain": [
              "                              Model  Avg Score  Std Score  Training Time CV (s)\n",
              "1  Hist Gradient Boosting (Tuned 2)      0.807      0.009                 9.417\n",
              "2  Hist Gradient Boosting (Tuned 3)      0.806      0.008                 0.983\n",
              "0  Hist Gradient Boosting (Tuned 1)      0.805      0.008                 3.100"
            ]
          },
          "execution_count": 87,
          "metadata": {},
          "output_type": "execute_result"
        }
      ],
      "source": [
        "evaluate_cv(X_und, y_und, tuned_models, cv=skf, scoring=\"roc_auc\")"
      ]
    },
    {
      "cell_type": "code",
      "execution_count": 79,
      "metadata": {},
      "outputs": [
        {
          "data": {
            "text/html": [
              "<div>\n",
              "<style scoped>\n",
              "    .dataframe tbody tr th:only-of-type {\n",
              "        vertical-align: middle;\n",
              "    }\n",
              "\n",
              "    .dataframe tbody tr th {\n",
              "        vertical-align: top;\n",
              "    }\n",
              "\n",
              "    .dataframe thead th {\n",
              "        text-align: right;\n",
              "    }\n",
              "</style>\n",
              "<table border=\"1\" class=\"dataframe\">\n",
              "  <thead>\n",
              "    <tr style=\"text-align: right;\">\n",
              "      <th></th>\n",
              "      <th>Model</th>\n",
              "      <th>Avg Score</th>\n",
              "      <th>Std Score</th>\n",
              "      <th>Training Time CV (s)</th>\n",
              "    </tr>\n",
              "  </thead>\n",
              "  <tbody>\n",
              "    <tr>\n",
              "      <th>2</th>\n",
              "      <td>Hist Gradient Boosting (Tuned 3)</td>\n",
              "      <td>0.809</td>\n",
              "      <td>0.005</td>\n",
              "      <td>0.671</td>\n",
              "    </tr>\n",
              "    <tr>\n",
              "      <th>0</th>\n",
              "      <td>Hist Gradient Boosting (Tuned 1)</td>\n",
              "      <td>0.808</td>\n",
              "      <td>0.008</td>\n",
              "      <td>2.416</td>\n",
              "    </tr>\n",
              "    <tr>\n",
              "      <th>1</th>\n",
              "      <td>Hist Gradient Boosting (Tuned 2)</td>\n",
              "      <td>0.807</td>\n",
              "      <td>0.007</td>\n",
              "      <td>5.910</td>\n",
              "    </tr>\n",
              "  </tbody>\n",
              "</table>\n",
              "</div>"
            ],
            "text/plain": [
              "                              Model  Avg Score  Std Score  Training Time CV (s)\n",
              "2  Hist Gradient Boosting (Tuned 3)      0.809      0.005                 0.671\n",
              "0  Hist Gradient Boosting (Tuned 1)      0.808      0.008                 2.416\n",
              "1  Hist Gradient Boosting (Tuned 2)      0.807      0.007                 5.910"
            ]
          },
          "execution_count": 79,
          "metadata": {},
          "output_type": "execute_result"
        }
      ],
      "source": [
        "evaluate_cv(X_und_fs, y_und_fs, tuned_models, cv=skf, scoring=\"roc_auc\")"
      ]
    },
    {
      "cell_type": "markdown",
      "metadata": {},
      "source": [
        "### **8.2. Penyetelan Hiperparameter untuk Model 1: XGBoost Classifier**\n"
      ]
    },
    {
      "cell_type": "code",
      "execution_count": null,
      "metadata": {},
      "outputs": [],
      "source": [
        "# Defining the objective function\n",
        "def objective(trial):\n",
        "    param = {\n",
        "        \"max_depth\": trial.suggest_int(\"max_depth\", 3, 10),\n",
        "        \"learning_rate\": trial.suggest_float(\"learning_rate\", 0.01, 0.1),\n",
        "        \"n_estimators\": trial.suggest_int(\"n_estimators\", 100, 1000),\n",
        "        \"subsample\": trial.suggest_float(\"subsample\", 0.5, 1.0),\n",
        "        \"colsample_bytree\": trial.suggest_float(\"colsample_bytree\", 0.5, 1.0),\n",
        "        \"min_child_weight\": trial.suggest_int(\"min_child_weight\", 1, 10),\n",
        "        \"gamma\": trial.suggest_float(\"gamma\", 0, 5),\n",
        "    }\n",
        "\n",
        "    # initializing the XGBoost model\n",
        "    model = xgb.XGBClassifier(\n",
        "        **param,\n",
        "        tree_method=\"hist\",  # Using GPU for training\n",
        "        device=\"cuda\",\n",
        "    )  # If you have multiple GPUs, you can specify the GPU ID\n",
        "\n",
        "    # if you try in the computer without GPU, just remove the last 2 params (tree_method & device)\n",
        "\n",
        "    score = cross_val_score(\n",
        "        model,\n",
        "        X_und_fs,\n",
        "        y_und_fs,\n",
        "        cv=StratifiedKFold(n_splits=5, shuffle=True, random_state=RANDOM_STATE),\n",
        "        scoring=\"roc_auc\",\n",
        "    ).mean()  # calculating score using cross-validation\n",
        "    return score"
      ]
    },
    {
      "cell_type": "code",
      "execution_count": null,
      "metadata": {},
      "outputs": [],
      "source": [
        "# Create and run the optimization process with 100 trials\n",
        "study = optuna.create_study(study_name=\"example_xgboost_study\", direction=\"maximize\")\n",
        "study.optimize(objective, n_trials=100, show_progress_bar=True, n_jobs=-1)\n",
        "\n",
        "# Retrieve the best parameter values\n",
        "best_params = study.best_params\n",
        "print(f\"\\nBest parameters: {best_params}\")"
      ]
    },
    {
      "cell_type": "code",
      "execution_count": 91,
      "metadata": {},
      "outputs": [
        {
          "data": {
            "text/plain": [
              "{'max_depth': 3,\n",
              " 'learning_rate': 0.024548396616239795,\n",
              " 'n_estimators': 872,\n",
              " 'subsample': 0.7889760113197031,\n",
              " 'colsample_bytree': 0.6405378503512776,\n",
              " 'min_child_weight': 3,\n",
              " 'gamma': 1.4011292716336397}"
            ]
          },
          "execution_count": 91,
          "metadata": {},
          "output_type": "execute_result"
        }
      ],
      "source": [
        "best_params"
      ]
    },
    {
      "cell_type": "code",
      "execution_count": 94,
      "metadata": {},
      "outputs": [
        {
          "data": {
            "application/vnd.plotly.v1+json": {
              "config": {
                "plotlyServerURL": "https://plot.ly"
              },
              "data": [
                {
                  "dimensions": [
                    {
                      "label": "Objective Value",
                      "range": [
                        0.7702029580922383,
                        0.8100583552475976
                      ],
                      "values": [
                        0.8056792471712168,
                        0.8055915529590033,
                        0.8037348754519611,
                        0.8093032955114634,
                        0.8080458801789797,
                        0.8073695527640293,
                        0.8016845115167094,
                        0.7702029580922383,
                        0.8079988543241455,
                        0.7888975712462474,
                        0.8076589925925537,
                        0.8076794659043548,
                        0.7983741882376284,
                        0.8083651822547028,
                        0.8080780189853808,
                        0.8085522197601456,
                        0.8087814764061839,
                        0.8081769169714047,
                        0.8085271537964115,
                        0.8081712391830651,
                        0.8080788114619922,
                        0.8079256070459226,
                        0.8083177536763975,
                        0.8070507859634735,
                        0.8088655988421989,
                        0.8037192851755629,
                        0.8009363058011744,
                        0.8007356493884703,
                        0.8093029314306002,
                        0.8085064554713508,
                        0.8100583552475976,
                        0.8083400096739339,
                        0.808777698739565,
                        0.8089070657319191,
                        0.8092123864137288,
                        0.8087831882509621,
                        0.8087206225922114,
                        0.8087019723930646,
                        0.8074971306291425,
                        0.8019058886845392,
                        0.8081843390377255,
                        0.8066110531906687,
                        0.7999687021573404,
                        0.805460034638859,
                        0.8081908090062682,
                        0.808511849121132,
                        0.8076822739855094,
                        0.8090377595616959,
                        0.8065200808258209,
                        0.8005049410318428,
                        0.8084448204980141,
                        0.8051458342410953,
                        0.8035314280898014,
                        0.8080889598954174,
                        0.8088467847445371,
                        0.8093319369930345,
                        0.8087595377171605,
                        0.808119551041799,
                        0.805636723212143,
                        0.8058333722712557,
                        0.8085023032761527,
                        0.8088596883061626,
                        0.8087719277143688,
                        0.8089597652593963,
                        0.8082924086474292,
                        0.8087707143328388,
                        0.8086957153699481,
                        0.8087244832578362,
                        0.8079943437588387,
                        0.8084465176165982,
                        0.8086742165237357,
                        0.8076109904482248,
                        0.8090203586001351,
                        0.8081313566655396,
                        0.8079115893645762,
                        0.8091353563803858,
                        0.8091973018668609,
                        0.8091156221822539,
                        0.808790821482704,
                        0.8088917139281608,
                        0.8087454233708099,
                        0.8090996294256388,
                        0.8096786943232601,
                        0.8082692152038351,
                        0.8086021715329312,
                        0.8091187086034687,
                        0.8095529573422594,
                        0.8084013692278132,
                        0.8085540654805407,
                        0.8091164499699646,
                        0.8078809367759812,
                        0.8067868572074591,
                        0.8086874654168076,
                        0.8077765849637174,
                        0.8091677085612605,
                        0.8082711703554881,
                        0.8084162409807419,
                        0.808768679665811,
                        0.8089644662084841,
                        0.8089277666111483
                      ]
                    },
                    {
                      "label": "colsample_bytree",
                      "range": [
                        0.5025781315781881,
                        0.9880809152721204
                      ],
                      "values": [
                        0.9583941868339925,
                        0.5991745145918281,
                        0.908572928520454,
                        0.5733485944952651,
                        0.9529674665002992,
                        0.6747731786893363,
                        0.5991906827808879,
                        0.8514199376259206,
                        0.5416659504891627,
                        0.6600318250225183,
                        0.7847338828916828,
                        0.5813856782949495,
                        0.9131527837600669,
                        0.8230929651889991,
                        0.8442034013569205,
                        0.575105299262082,
                        0.8636171209545307,
                        0.7629959777402398,
                        0.8146821691692363,
                        0.8206112260284661,
                        0.7356362353074225,
                        0.5025781315781881,
                        0.692249110433678,
                        0.7027002059458736,
                        0.6819618222286216,
                        0.6860441802859834,
                        0.6748052347288621,
                        0.6873487384495238,
                        0.6534207985251208,
                        0.6580776287180946,
                        0.6405378503512776,
                        0.6369398071141149,
                        0.6426335283497363,
                        0.636645376352813,
                        0.622888483744081,
                        0.539317268253482,
                        0.6276009959318389,
                        0.637086265967641,
                        0.6219319101550936,
                        0.6233264585629881,
                        0.6075141257134444,
                        0.6123028988515704,
                        0.6220284738499673,
                        0.6071380800817741,
                        0.6085054932205741,
                        0.6037565959910073,
                        0.7202483062197723,
                        0.5546934133088056,
                        0.5611084467251922,
                        0.5746877865924128,
                        0.575027345852201,
                        0.7233280658734813,
                        0.5578508712697936,
                        0.569671332478231,
                        0.5675165068610195,
                        0.5644362777178574,
                        0.5210916533765835,
                        0.5182362064123515,
                        0.5334060453705114,
                        0.529859764567169,
                        0.5187504886881765,
                        0.5143398862919537,
                        0.5328971603094064,
                        0.5394967798999918,
                        0.55799760789446,
                        0.5503230395773436,
                        0.5524968359209247,
                        0.5521884515472026,
                        0.5891709259512281,
                        0.6602041363492177,
                        0.6601088872166931,
                        0.5500767143693566,
                        0.5920863737281189,
                        0.5938845482007481,
                        0.5901424307528804,
                        0.6582619022843068,
                        0.5881494176452231,
                        0.6544316540504831,
                        0.5888115078228653,
                        0.5901180875825534,
                        0.5905100898867895,
                        0.6540048070935844,
                        0.507374623807395,
                        0.7694139990056248,
                        0.7710365379986381,
                        0.6501442609413876,
                        0.6704641191392829,
                        0.9880809152721204,
                        0.647081684426466,
                        0.700069306386458,
                        0.6453465771805759,
                        0.9706385252544107,
                        0.5042855876022597,
                        0.6265371358813777,
                        0.7026975380511579,
                        0.7008146130500729,
                        0.7056504995792393,
                        0.702002165571344,
                        0.6680194685046825,
                        0.6686337564830531
                      ]
                    },
                    {
                      "label": "gamma",
                      "range": [
                        0.06704762023125088,
                        4.902642620063461
                      ],
                      "values": [
                        3.680903431826734,
                        1.469531545601876,
                        0.15988225079480833,
                        3.319614779821757,
                        3.3378372814557187,
                        0.4979876061719618,
                        0.1926322435535427,
                        0.3729902960654913,
                        3.3409503932965556,
                        0.06704762023125088,
                        2.950325194722959,
                        4.902642620063461,
                        0.5640368793000516,
                        3.196992113980417,
                        2.2169944102850603,
                        3.5780686460632123,
                        0.6904018374834281,
                        2.0269653392306317,
                        2.0726993237122153,
                        1.977976744486315,
                        4.189729746092689,
                        4.2497207611572145,
                        4.333484050997552,
                        1.6919645021192966,
                        2.142705042049627,
                        1.3207969216015853,
                        1.2059097790127735,
                        1.1789310904494914,
                        1.2156971598250852,
                        1.0903209618839176,
                        1.4011292716336397,
                        2.64307070424505,
                        1.1214887200730532,
                        0.9436242891345756,
                        2.6963306752880865,
                        2.6412630649004596,
                        2.6076703657320417,
                        2.6417231376942274,
                        2.3902793325393663,
                        1.6736474843239535,
                        2.492959633685372,
                        1.5716623516819141,
                        0.7949066287001789,
                        1.6702970474267536,
                        1.6072923666972598,
                        1.7511397272916134,
                        1.8099918127087604,
                        2.9685853135781333,
                        0.8593263673253294,
                        0.9223424275865771,
                        0.9434423758383133,
                        0.8485957663366285,
                        0.7871457037153521,
                        3.0223402078660877,
                        2.9487883230300245,
                        2.95550263241335,
                        3.151509009691783,
                        3.705192808487425,
                        3.536492728655415,
                        3.6833225318575433,
                        3.6901927815656945,
                        3.703541936462419,
                        3.5228118525165364,
                        3.425431367160772,
                        3.4569116879951305,
                        3.8939371514114396,
                        2.8287120520958355,
                        2.867002231554486,
                        0.2859915884632195,
                        0.3349890689052605,
                        2.877492148792556,
                        3.93032088508574,
                        3.9199929440318355,
                        3.1892177687048764,
                        3.219279077485184,
                        3.254660572160017,
                        3.301170935451699,
                        3.308125164999352,
                        3.315898014604246,
                        3.3730532348629083,
                        4.5599188151100165,
                        2.3054183272522497,
                        2.262976892186085,
                        4.597746376607476,
                        2.3842650246991917,
                        2.3831417268594137,
                        2.266000084357512,
                        2.430895949564925,
                        2.251411983680552,
                        2.307019233705174,
                        1.4005930106396127,
                        2.760185503137848,
                        1.388033312370813,
                        1.4160976783319328,
                        2.7182401003463115,
                        1.845944263094656,
                        1.974319620521106,
                        1.901140515956481,
                        1.9715090859480462,
                        3.0608417027325303
                      ]
                    },
                    {
                      "label": "learning_rate",
                      "range": [
                        0.010014222153995028,
                        0.09937765366744145
                      ],
                      "values": [
                        0.0363152559941601,
                        0.06895607436271387,
                        0.05007726312611877,
                        0.02064205508289712,
                        0.07031968929465215,
                        0.04330277936900872,
                        0.08891857611622787,
                        0.09762537642788535,
                        0.09121597149477816,
                        0.02715084843573993,
                        0.04306257940784181,
                        0.08903407240005995,
                        0.06762309715480111,
                        0.043717466772467725,
                        0.05224598466929341,
                        0.08472226803921372,
                        0.02436873076515691,
                        0.010864290533342376,
                        0.010014222153995028,
                        0.01292130751800184,
                        0.014421626526175617,
                        0.011419455584634523,
                        0.012731497793069953,
                        0.013033022612281868,
                        0.012302470553003566,
                        0.02354940931770648,
                        0.02605250172569432,
                        0.02459800175587347,
                        0.026867921317572156,
                        0.026642482761061327,
                        0.024548396616239795,
                        0.02577966709730772,
                        0.025602253641088733,
                        0.023971773246857217,
                        0.022046422697733707,
                        0.03551424657805406,
                        0.03397963580895105,
                        0.03396569483351729,
                        0.0343550084277607,
                        0.03542800104954945,
                        0.03398568351413598,
                        0.03349071373347959,
                        0.034565585509583115,
                        0.03338194800311184,
                        0.06214947350752659,
                        0.01887106927040963,
                        0.018643808248263116,
                        0.019142904118795084,
                        0.018682604908986475,
                        0.0190110390273471,
                        0.017990667295071677,
                        0.01948103318579061,
                        0.018577552767477114,
                        0.0194285594297784,
                        0.04007798157594174,
                        0.01724884661038191,
                        0.04081042826069366,
                        0.04007616533019307,
                        0.028754019681430806,
                        0.0288130107918759,
                        0.030585584703293287,
                        0.029803828975824155,
                        0.02951662150974234,
                        0.021811226352334297,
                        0.04646400402879583,
                        0.02997376760589953,
                        0.04723547146996987,
                        0.047098486880494374,
                        0.02223534776755366,
                        0.01562812158287361,
                        0.02288183770832545,
                        0.015642414963619178,
                        0.02212579956301284,
                        0.01596148982402669,
                        0.015592046384311104,
                        0.02256667776784887,
                        0.014568349089504332,
                        0.021836674551248495,
                        0.021666626888896413,
                        0.0230144956154496,
                        0.02141470306629283,
                        0.07747497392175168,
                        0.02164014883398222,
                        0.07537428442915516,
                        0.010968179648347266,
                        0.011603291169465886,
                        0.010364301640797652,
                        0.058678332867170516,
                        0.07982120481706842,
                        0.0584891605178406,
                        0.09937765366744145,
                        0.05750141959170823,
                        0.010200667911718954,
                        0.01331762602909284,
                        0.010655293263659145,
                        0.06426784621264629,
                        0.06433714768650764,
                        0.062790243853893,
                        0.06292954592848586,
                        0.012628889691297187
                      ]
                    },
                    {
                      "label": "max_depth",
                      "range": [
                        3,
                        10
                      ],
                      "values": [
                        4,
                        10,
                        5,
                        9,
                        10,
                        3,
                        6,
                        8,
                        4,
                        8,
                        4,
                        4,
                        7,
                        6,
                        4,
                        5,
                        3,
                        9,
                        8,
                        8,
                        8,
                        8,
                        8,
                        8,
                        9,
                        8,
                        9,
                        9,
                        3,
                        3,
                        3,
                        3,
                        3,
                        3,
                        9,
                        9,
                        5,
                        5,
                        9,
                        10,
                        5,
                        5,
                        5,
                        10,
                        10,
                        10,
                        10,
                        10,
                        10,
                        10,
                        4,
                        7,
                        7,
                        4,
                        7,
                        6,
                        7,
                        7,
                        3,
                        3,
                        6,
                        6,
                        6,
                        6,
                        6,
                        6,
                        6,
                        4,
                        4,
                        4,
                        4,
                        4,
                        9,
                        4,
                        4,
                        9,
                        9,
                        9,
                        9,
                        9,
                        9,
                        9,
                        9,
                        9,
                        9,
                        9,
                        9,
                        8,
                        8,
                        8,
                        8,
                        8,
                        8,
                        9,
                        9,
                        8,
                        9,
                        9,
                        9,
                        9
                      ]
                    },
                    {
                      "label": "min_child_weight",
                      "range": [
                        1,
                        10
                      ],
                      "values": [
                        5,
                        3,
                        3,
                        7,
                        10,
                        1,
                        6,
                        4,
                        1,
                        4,
                        2,
                        7,
                        8,
                        10,
                        1,
                        2,
                        3,
                        9,
                        8,
                        5,
                        10,
                        5,
                        8,
                        7,
                        8,
                        6,
                        7,
                        6,
                        3,
                        3,
                        3,
                        3,
                        3,
                        6,
                        7,
                        7,
                        4,
                        2,
                        4,
                        4,
                        4,
                        4,
                        4,
                        4,
                        2,
                        4,
                        5,
                        5,
                        6,
                        6,
                        6,
                        6,
                        6,
                        6,
                        6,
                        6,
                        9,
                        9,
                        7,
                        7,
                        7,
                        7,
                        7,
                        7,
                        5,
                        5,
                        5,
                        5,
                        5,
                        5,
                        5,
                        5,
                        8,
                        8,
                        8,
                        8,
                        8,
                        8,
                        8,
                        8,
                        8,
                        1,
                        8,
                        9,
                        9,
                        9,
                        1,
                        1,
                        1,
                        1,
                        2,
                        9,
                        9,
                        9,
                        8,
                        9,
                        3,
                        3,
                        3,
                        10
                      ]
                    },
                    {
                      "label": "n_estimators",
                      "range": [
                        150,
                        1000
                      ],
                      "values": [
                        956,
                        150,
                        262,
                        678,
                        620,
                        757,
                        231,
                        555,
                        156,
                        977,
                        372,
                        486,
                        274,
                        509,
                        274,
                        733,
                        718,
                        793,
                        706,
                        666,
                        681,
                        768,
                        788,
                        882,
                        867,
                        863,
                        892,
                        878,
                        907,
                        900,
                        872,
                        879,
                        867,
                        854,
                        868,
                        841,
                        1000,
                        999,
                        979,
                        999,
                        993,
                        617,
                        944,
                        948,
                        940,
                        929,
                        631,
                        925,
                        925,
                        814,
                        818,
                        818,
                        809,
                        610,
                        819,
                        817,
                        820,
                        421,
                        810,
                        748,
                        742,
                        752,
                        751,
                        750,
                        774,
                        773,
                        775,
                        699,
                        912,
                        909,
                        909,
                        698,
                        713,
                        688,
                        700,
                        903,
                        560,
                        912,
                        521,
                        657,
                        649,
                        657,
                        648,
                        564,
                        538,
                        582,
                        963,
                        651,
                        570,
                        962,
                        964,
                        579,
                        963,
                        848,
                        835,
                        456,
                        886,
                        848,
                        597,
                        855
                      ]
                    },
                    {
                      "label": "subsample",
                      "range": [
                        0.5075876766678127,
                        0.9993718255663468
                      ],
                      "values": [
                        0.9993718255663468,
                        0.537323628541987,
                        0.8756413485514367,
                        0.9385705343512756,
                        0.743996232317366,
                        0.905808725783919,
                        0.768429106788151,
                        0.564440270734811,
                        0.658396632004463,
                        0.906087911217692,
                        0.7132922761007607,
                        0.7221920892835676,
                        0.8656896352596852,
                        0.5473901937616035,
                        0.7213673204045696,
                        0.7640029472066338,
                        0.5135634270793141,
                        0.9979460467374914,
                        0.830861277214096,
                        0.6428551477176753,
                        0.5075876766678127,
                        0.9885002188235279,
                        0.9700185402974882,
                        0.6389235528429726,
                        0.6228146790268142,
                        0.6322313694525725,
                        0.6327416516204003,
                        0.6175953432423338,
                        0.6375339566061204,
                        0.6188714375787032,
                        0.7889760113197031,
                        0.7960403912627027,
                        0.5961041236299303,
                        0.5937239065653179,
                        0.6003550109751061,
                        0.6822415561694668,
                        0.8074896241347271,
                        0.8153845177947334,
                        0.5790692164182069,
                        0.5816561230289418,
                        0.6780403985419078,
                        0.6798726835900298,
                        0.5791412490520417,
                        0.6748012885929994,
                        0.9431433329627468,
                        0.9417557380301346,
                        0.9380774489402461,
                        0.9198773694437878,
                        0.9400660447116649,
                        0.548489385626375,
                        0.541743430719498,
                        0.8813797548087057,
                        0.5516576798676199,
                        0.5415035464930212,
                        0.540169002077941,
                        0.8600934957547877,
                        0.8764271754178298,
                        0.876844039371626,
                        0.9070293958445956,
                        0.8733797960579097,
                        0.8744117018274923,
                        0.8488546074799952,
                        0.8511681986961739,
                        0.843708249091342,
                        0.8474051457424516,
                        0.8491826926908324,
                        0.8519867386054046,
                        0.7416191572148821,
                        0.8441330843950082,
                        0.7720041583402553,
                        0.7421939450003016,
                        0.7762998231821086,
                        0.7800331656763356,
                        0.782975347178039,
                        0.7788993397749937,
                        0.772727832129406,
                        0.7819695021042019,
                        0.8984261410102325,
                        0.896529700948422,
                        0.9169107807689881,
                        0.8963278096774283,
                        0.9059251432148626,
                        0.8953584019465978,
                        0.7119902316461901,
                        0.9209345864163685,
                        0.7568308876790475,
                        0.8215689381756086,
                        0.7547797498134639,
                        0.9658034007965589,
                        0.9593718369788459,
                        0.9637717157916316,
                        0.967063649438742,
                        0.8270011383733379,
                        0.8108959278024347,
                        0.8135732811282478,
                        0.8231615341160935,
                        0.8040268429991932,
                        0.817877799001446,
                        0.8247526106338652,
                        0.7044200134938257
                      ]
                    }
                  ],
                  "labelangle": 30,
                  "labelside": "bottom",
                  "line": {
                    "color": [
                      0.8056792471712168,
                      0.8055915529590033,
                      0.8037348754519611,
                      0.8093032955114634,
                      0.8080458801789797,
                      0.8073695527640293,
                      0.8016845115167094,
                      0.7702029580922383,
                      0.8079988543241455,
                      0.7888975712462474,
                      0.8076589925925537,
                      0.8076794659043548,
                      0.7983741882376284,
                      0.8083651822547028,
                      0.8080780189853808,
                      0.8085522197601456,
                      0.8087814764061839,
                      0.8081769169714047,
                      0.8085271537964115,
                      0.8081712391830651,
                      0.8080788114619922,
                      0.8079256070459226,
                      0.8083177536763975,
                      0.8070507859634735,
                      0.8088655988421989,
                      0.8037192851755629,
                      0.8009363058011744,
                      0.8007356493884703,
                      0.8093029314306002,
                      0.8085064554713508,
                      0.8100583552475976,
                      0.8083400096739339,
                      0.808777698739565,
                      0.8089070657319191,
                      0.8092123864137288,
                      0.8087831882509621,
                      0.8087206225922114,
                      0.8087019723930646,
                      0.8074971306291425,
                      0.8019058886845392,
                      0.8081843390377255,
                      0.8066110531906687,
                      0.7999687021573404,
                      0.805460034638859,
                      0.8081908090062682,
                      0.808511849121132,
                      0.8076822739855094,
                      0.8090377595616959,
                      0.8065200808258209,
                      0.8005049410318428,
                      0.8084448204980141,
                      0.8051458342410953,
                      0.8035314280898014,
                      0.8080889598954174,
                      0.8088467847445371,
                      0.8093319369930345,
                      0.8087595377171605,
                      0.808119551041799,
                      0.805636723212143,
                      0.8058333722712557,
                      0.8085023032761527,
                      0.8088596883061626,
                      0.8087719277143688,
                      0.8089597652593963,
                      0.8082924086474292,
                      0.8087707143328388,
                      0.8086957153699481,
                      0.8087244832578362,
                      0.8079943437588387,
                      0.8084465176165982,
                      0.8086742165237357,
                      0.8076109904482248,
                      0.8090203586001351,
                      0.8081313566655396,
                      0.8079115893645762,
                      0.8091353563803858,
                      0.8091973018668609,
                      0.8091156221822539,
                      0.808790821482704,
                      0.8088917139281608,
                      0.8087454233708099,
                      0.8090996294256388,
                      0.8096786943232601,
                      0.8082692152038351,
                      0.8086021715329312,
                      0.8091187086034687,
                      0.8095529573422594,
                      0.8084013692278132,
                      0.8085540654805407,
                      0.8091164499699646,
                      0.8078809367759812,
                      0.8067868572074591,
                      0.8086874654168076,
                      0.8077765849637174,
                      0.8091677085612605,
                      0.8082711703554881,
                      0.8084162409807419,
                      0.808768679665811,
                      0.8089644662084841,
                      0.8089277666111483
                    ],
                    "colorbar": {
                      "title": {
                        "text": "Objective Value"
                      }
                    },
                    "colorscale": [
                      [
                        0,
                        "rgb(247,251,255)"
                      ],
                      [
                        0.125,
                        "rgb(222,235,247)"
                      ],
                      [
                        0.25,
                        "rgb(198,219,239)"
                      ],
                      [
                        0.375,
                        "rgb(158,202,225)"
                      ],
                      [
                        0.5,
                        "rgb(107,174,214)"
                      ],
                      [
                        0.625,
                        "rgb(66,146,198)"
                      ],
                      [
                        0.75,
                        "rgb(33,113,181)"
                      ],
                      [
                        0.875,
                        "rgb(8,81,156)"
                      ],
                      [
                        1,
                        "rgb(8,48,107)"
                      ]
                    ],
                    "reversescale": false,
                    "showscale": true
                  },
                  "type": "parcoords"
                }
              ],
              "layout": {
                "template": {
                  "data": {
                    "bar": [
                      {
                        "error_x": {
                          "color": "#2a3f5f"
                        },
                        "error_y": {
                          "color": "#2a3f5f"
                        },
                        "marker": {
                          "line": {
                            "color": "#E5ECF6",
                            "width": 0.5
                          },
                          "pattern": {
                            "fillmode": "overlay",
                            "size": 10,
                            "solidity": 0.2
                          }
                        },
                        "type": "bar"
                      }
                    ],
                    "barpolar": [
                      {
                        "marker": {
                          "line": {
                            "color": "#E5ECF6",
                            "width": 0.5
                          },
                          "pattern": {
                            "fillmode": "overlay",
                            "size": 10,
                            "solidity": 0.2
                          }
                        },
                        "type": "barpolar"
                      }
                    ],
                    "carpet": [
                      {
                        "aaxis": {
                          "endlinecolor": "#2a3f5f",
                          "gridcolor": "white",
                          "linecolor": "white",
                          "minorgridcolor": "white",
                          "startlinecolor": "#2a3f5f"
                        },
                        "baxis": {
                          "endlinecolor": "#2a3f5f",
                          "gridcolor": "white",
                          "linecolor": "white",
                          "minorgridcolor": "white",
                          "startlinecolor": "#2a3f5f"
                        },
                        "type": "carpet"
                      }
                    ],
                    "choropleth": [
                      {
                        "colorbar": {
                          "outlinewidth": 0,
                          "ticks": ""
                        },
                        "type": "choropleth"
                      }
                    ],
                    "contour": [
                      {
                        "colorbar": {
                          "outlinewidth": 0,
                          "ticks": ""
                        },
                        "colorscale": [
                          [
                            0,
                            "#0d0887"
                          ],
                          [
                            0.1111111111111111,
                            "#46039f"
                          ],
                          [
                            0.2222222222222222,
                            "#7201a8"
                          ],
                          [
                            0.3333333333333333,
                            "#9c179e"
                          ],
                          [
                            0.4444444444444444,
                            "#bd3786"
                          ],
                          [
                            0.5555555555555556,
                            "#d8576b"
                          ],
                          [
                            0.6666666666666666,
                            "#ed7953"
                          ],
                          [
                            0.7777777777777778,
                            "#fb9f3a"
                          ],
                          [
                            0.8888888888888888,
                            "#fdca26"
                          ],
                          [
                            1,
                            "#f0f921"
                          ]
                        ],
                        "type": "contour"
                      }
                    ],
                    "contourcarpet": [
                      {
                        "colorbar": {
                          "outlinewidth": 0,
                          "ticks": ""
                        },
                        "type": "contourcarpet"
                      }
                    ],
                    "heatmap": [
                      {
                        "colorbar": {
                          "outlinewidth": 0,
                          "ticks": ""
                        },
                        "colorscale": [
                          [
                            0,
                            "#0d0887"
                          ],
                          [
                            0.1111111111111111,
                            "#46039f"
                          ],
                          [
                            0.2222222222222222,
                            "#7201a8"
                          ],
                          [
                            0.3333333333333333,
                            "#9c179e"
                          ],
                          [
                            0.4444444444444444,
                            "#bd3786"
                          ],
                          [
                            0.5555555555555556,
                            "#d8576b"
                          ],
                          [
                            0.6666666666666666,
                            "#ed7953"
                          ],
                          [
                            0.7777777777777778,
                            "#fb9f3a"
                          ],
                          [
                            0.8888888888888888,
                            "#fdca26"
                          ],
                          [
                            1,
                            "#f0f921"
                          ]
                        ],
                        "type": "heatmap"
                      }
                    ],
                    "heatmapgl": [
                      {
                        "colorbar": {
                          "outlinewidth": 0,
                          "ticks": ""
                        },
                        "colorscale": [
                          [
                            0,
                            "#0d0887"
                          ],
                          [
                            0.1111111111111111,
                            "#46039f"
                          ],
                          [
                            0.2222222222222222,
                            "#7201a8"
                          ],
                          [
                            0.3333333333333333,
                            "#9c179e"
                          ],
                          [
                            0.4444444444444444,
                            "#bd3786"
                          ],
                          [
                            0.5555555555555556,
                            "#d8576b"
                          ],
                          [
                            0.6666666666666666,
                            "#ed7953"
                          ],
                          [
                            0.7777777777777778,
                            "#fb9f3a"
                          ],
                          [
                            0.8888888888888888,
                            "#fdca26"
                          ],
                          [
                            1,
                            "#f0f921"
                          ]
                        ],
                        "type": "heatmapgl"
                      }
                    ],
                    "histogram": [
                      {
                        "marker": {
                          "pattern": {
                            "fillmode": "overlay",
                            "size": 10,
                            "solidity": 0.2
                          }
                        },
                        "type": "histogram"
                      }
                    ],
                    "histogram2d": [
                      {
                        "colorbar": {
                          "outlinewidth": 0,
                          "ticks": ""
                        },
                        "colorscale": [
                          [
                            0,
                            "#0d0887"
                          ],
                          [
                            0.1111111111111111,
                            "#46039f"
                          ],
                          [
                            0.2222222222222222,
                            "#7201a8"
                          ],
                          [
                            0.3333333333333333,
                            "#9c179e"
                          ],
                          [
                            0.4444444444444444,
                            "#bd3786"
                          ],
                          [
                            0.5555555555555556,
                            "#d8576b"
                          ],
                          [
                            0.6666666666666666,
                            "#ed7953"
                          ],
                          [
                            0.7777777777777778,
                            "#fb9f3a"
                          ],
                          [
                            0.8888888888888888,
                            "#fdca26"
                          ],
                          [
                            1,
                            "#f0f921"
                          ]
                        ],
                        "type": "histogram2d"
                      }
                    ],
                    "histogram2dcontour": [
                      {
                        "colorbar": {
                          "outlinewidth": 0,
                          "ticks": ""
                        },
                        "colorscale": [
                          [
                            0,
                            "#0d0887"
                          ],
                          [
                            0.1111111111111111,
                            "#46039f"
                          ],
                          [
                            0.2222222222222222,
                            "#7201a8"
                          ],
                          [
                            0.3333333333333333,
                            "#9c179e"
                          ],
                          [
                            0.4444444444444444,
                            "#bd3786"
                          ],
                          [
                            0.5555555555555556,
                            "#d8576b"
                          ],
                          [
                            0.6666666666666666,
                            "#ed7953"
                          ],
                          [
                            0.7777777777777778,
                            "#fb9f3a"
                          ],
                          [
                            0.8888888888888888,
                            "#fdca26"
                          ],
                          [
                            1,
                            "#f0f921"
                          ]
                        ],
                        "type": "histogram2dcontour"
                      }
                    ],
                    "mesh3d": [
                      {
                        "colorbar": {
                          "outlinewidth": 0,
                          "ticks": ""
                        },
                        "type": "mesh3d"
                      }
                    ],
                    "parcoords": [
                      {
                        "line": {
                          "colorbar": {
                            "outlinewidth": 0,
                            "ticks": ""
                          }
                        },
                        "type": "parcoords"
                      }
                    ],
                    "pie": [
                      {
                        "automargin": true,
                        "type": "pie"
                      }
                    ],
                    "scatter": [
                      {
                        "fillpattern": {
                          "fillmode": "overlay",
                          "size": 10,
                          "solidity": 0.2
                        },
                        "type": "scatter"
                      }
                    ],
                    "scatter3d": [
                      {
                        "line": {
                          "colorbar": {
                            "outlinewidth": 0,
                            "ticks": ""
                          }
                        },
                        "marker": {
                          "colorbar": {
                            "outlinewidth": 0,
                            "ticks": ""
                          }
                        },
                        "type": "scatter3d"
                      }
                    ],
                    "scattercarpet": [
                      {
                        "marker": {
                          "colorbar": {
                            "outlinewidth": 0,
                            "ticks": ""
                          }
                        },
                        "type": "scattercarpet"
                      }
                    ],
                    "scattergeo": [
                      {
                        "marker": {
                          "colorbar": {
                            "outlinewidth": 0,
                            "ticks": ""
                          }
                        },
                        "type": "scattergeo"
                      }
                    ],
                    "scattergl": [
                      {
                        "marker": {
                          "colorbar": {
                            "outlinewidth": 0,
                            "ticks": ""
                          }
                        },
                        "type": "scattergl"
                      }
                    ],
                    "scattermapbox": [
                      {
                        "marker": {
                          "colorbar": {
                            "outlinewidth": 0,
                            "ticks": ""
                          }
                        },
                        "type": "scattermapbox"
                      }
                    ],
                    "scatterpolar": [
                      {
                        "marker": {
                          "colorbar": {
                            "outlinewidth": 0,
                            "ticks": ""
                          }
                        },
                        "type": "scatterpolar"
                      }
                    ],
                    "scatterpolargl": [
                      {
                        "marker": {
                          "colorbar": {
                            "outlinewidth": 0,
                            "ticks": ""
                          }
                        },
                        "type": "scatterpolargl"
                      }
                    ],
                    "scatterternary": [
                      {
                        "marker": {
                          "colorbar": {
                            "outlinewidth": 0,
                            "ticks": ""
                          }
                        },
                        "type": "scatterternary"
                      }
                    ],
                    "surface": [
                      {
                        "colorbar": {
                          "outlinewidth": 0,
                          "ticks": ""
                        },
                        "colorscale": [
                          [
                            0,
                            "#0d0887"
                          ],
                          [
                            0.1111111111111111,
                            "#46039f"
                          ],
                          [
                            0.2222222222222222,
                            "#7201a8"
                          ],
                          [
                            0.3333333333333333,
                            "#9c179e"
                          ],
                          [
                            0.4444444444444444,
                            "#bd3786"
                          ],
                          [
                            0.5555555555555556,
                            "#d8576b"
                          ],
                          [
                            0.6666666666666666,
                            "#ed7953"
                          ],
                          [
                            0.7777777777777778,
                            "#fb9f3a"
                          ],
                          [
                            0.8888888888888888,
                            "#fdca26"
                          ],
                          [
                            1,
                            "#f0f921"
                          ]
                        ],
                        "type": "surface"
                      }
                    ],
                    "table": [
                      {
                        "cells": {
                          "fill": {
                            "color": "#EBF0F8"
                          },
                          "line": {
                            "color": "white"
                          }
                        },
                        "header": {
                          "fill": {
                            "color": "#C8D4E3"
                          },
                          "line": {
                            "color": "white"
                          }
                        },
                        "type": "table"
                      }
                    ]
                  },
                  "layout": {
                    "annotationdefaults": {
                      "arrowcolor": "#2a3f5f",
                      "arrowhead": 0,
                      "arrowwidth": 1
                    },
                    "autotypenumbers": "strict",
                    "coloraxis": {
                      "colorbar": {
                        "outlinewidth": 0,
                        "ticks": ""
                      }
                    },
                    "colorscale": {
                      "diverging": [
                        [
                          0,
                          "#8e0152"
                        ],
                        [
                          0.1,
                          "#c51b7d"
                        ],
                        [
                          0.2,
                          "#de77ae"
                        ],
                        [
                          0.3,
                          "#f1b6da"
                        ],
                        [
                          0.4,
                          "#fde0ef"
                        ],
                        [
                          0.5,
                          "#f7f7f7"
                        ],
                        [
                          0.6,
                          "#e6f5d0"
                        ],
                        [
                          0.7,
                          "#b8e186"
                        ],
                        [
                          0.8,
                          "#7fbc41"
                        ],
                        [
                          0.9,
                          "#4d9221"
                        ],
                        [
                          1,
                          "#276419"
                        ]
                      ],
                      "sequential": [
                        [
                          0,
                          "#0d0887"
                        ],
                        [
                          0.1111111111111111,
                          "#46039f"
                        ],
                        [
                          0.2222222222222222,
                          "#7201a8"
                        ],
                        [
                          0.3333333333333333,
                          "#9c179e"
                        ],
                        [
                          0.4444444444444444,
                          "#bd3786"
                        ],
                        [
                          0.5555555555555556,
                          "#d8576b"
                        ],
                        [
                          0.6666666666666666,
                          "#ed7953"
                        ],
                        [
                          0.7777777777777778,
                          "#fb9f3a"
                        ],
                        [
                          0.8888888888888888,
                          "#fdca26"
                        ],
                        [
                          1,
                          "#f0f921"
                        ]
                      ],
                      "sequentialminus": [
                        [
                          0,
                          "#0d0887"
                        ],
                        [
                          0.1111111111111111,
                          "#46039f"
                        ],
                        [
                          0.2222222222222222,
                          "#7201a8"
                        ],
                        [
                          0.3333333333333333,
                          "#9c179e"
                        ],
                        [
                          0.4444444444444444,
                          "#bd3786"
                        ],
                        [
                          0.5555555555555556,
                          "#d8576b"
                        ],
                        [
                          0.6666666666666666,
                          "#ed7953"
                        ],
                        [
                          0.7777777777777778,
                          "#fb9f3a"
                        ],
                        [
                          0.8888888888888888,
                          "#fdca26"
                        ],
                        [
                          1,
                          "#f0f921"
                        ]
                      ]
                    },
                    "colorway": [
                      "#636efa",
                      "#EF553B",
                      "#00cc96",
                      "#ab63fa",
                      "#FFA15A",
                      "#19d3f3",
                      "#FF6692",
                      "#B6E880",
                      "#FF97FF",
                      "#FECB52"
                    ],
                    "font": {
                      "color": "#2a3f5f"
                    },
                    "geo": {
                      "bgcolor": "white",
                      "lakecolor": "white",
                      "landcolor": "#E5ECF6",
                      "showlakes": true,
                      "showland": true,
                      "subunitcolor": "white"
                    },
                    "hoverlabel": {
                      "align": "left"
                    },
                    "hovermode": "closest",
                    "mapbox": {
                      "style": "light"
                    },
                    "paper_bgcolor": "white",
                    "plot_bgcolor": "#E5ECF6",
                    "polar": {
                      "angularaxis": {
                        "gridcolor": "white",
                        "linecolor": "white",
                        "ticks": ""
                      },
                      "bgcolor": "#E5ECF6",
                      "radialaxis": {
                        "gridcolor": "white",
                        "linecolor": "white",
                        "ticks": ""
                      }
                    },
                    "scene": {
                      "xaxis": {
                        "backgroundcolor": "#E5ECF6",
                        "gridcolor": "white",
                        "gridwidth": 2,
                        "linecolor": "white",
                        "showbackground": true,
                        "ticks": "",
                        "zerolinecolor": "white"
                      },
                      "yaxis": {
                        "backgroundcolor": "#E5ECF6",
                        "gridcolor": "white",
                        "gridwidth": 2,
                        "linecolor": "white",
                        "showbackground": true,
                        "ticks": "",
                        "zerolinecolor": "white"
                      },
                      "zaxis": {
                        "backgroundcolor": "#E5ECF6",
                        "gridcolor": "white",
                        "gridwidth": 2,
                        "linecolor": "white",
                        "showbackground": true,
                        "ticks": "",
                        "zerolinecolor": "white"
                      }
                    },
                    "shapedefaults": {
                      "line": {
                        "color": "#2a3f5f"
                      }
                    },
                    "ternary": {
                      "aaxis": {
                        "gridcolor": "white",
                        "linecolor": "white",
                        "ticks": ""
                      },
                      "baxis": {
                        "gridcolor": "white",
                        "linecolor": "white",
                        "ticks": ""
                      },
                      "bgcolor": "#E5ECF6",
                      "caxis": {
                        "gridcolor": "white",
                        "linecolor": "white",
                        "ticks": ""
                      }
                    },
                    "title": {
                      "x": 0.05
                    },
                    "xaxis": {
                      "automargin": true,
                      "gridcolor": "white",
                      "linecolor": "white",
                      "ticks": "",
                      "title": {
                        "standoff": 15
                      },
                      "zerolinecolor": "white",
                      "zerolinewidth": 2
                    },
                    "yaxis": {
                      "automargin": true,
                      "gridcolor": "white",
                      "linecolor": "white",
                      "ticks": "",
                      "title": {
                        "standoff": 15
                      },
                      "zerolinecolor": "white",
                      "zerolinewidth": 2
                    }
                  }
                },
                "title": {
                  "text": "Parallel Coordinate Plot"
                }
              }
            }
          },
          "metadata": {},
          "output_type": "display_data"
        }
      ],
      "source": [
        "from optuna.visualization import plot_parallel_coordinate\n",
        "\n",
        "plot_parallel_coordinate(study)"
      ]
    },
    {
      "cell_type": "code",
      "execution_count": 84,
      "metadata": {},
      "outputs": [],
      "source": [
        "tuned_models[\"XGBoost (Tuned 1)\"] = xgb.XGBClassifier(\n",
        "    **best_params,\n",
        "    tree_method=\"hist\",  # Using GPU for training\n",
        "    device=\"cuda\",\n",
        "    random_state=RANDOM_STATE,\n",
        ")"
      ]
    },
    {
      "cell_type": "code",
      "execution_count": 92,
      "metadata": {},
      "outputs": [],
      "source": [
        "best_params_2 = {\n",
        "    \"max_depth\": 3,\n",
        "    \"learning_rate\": 0.024548396616239795,\n",
        "    \"n_estimators\": 872,\n",
        "    \"subsample\": 0.7889760113197031,\n",
        "    \"colsample_bytree\": 0.6405378503512776,\n",
        "    \"min_child_weight\": 3,\n",
        "    \"gamma\": 1.4011292716336397,\n",
        "}"
      ]
    },
    {
      "cell_type": "code",
      "execution_count": 93,
      "metadata": {},
      "outputs": [],
      "source": [
        "tuned_models[\"XGBoost (Tuned 2)\"] = xgb.XGBClassifier(\n",
        "    **best_params_2,\n",
        "    tree_method=\"hist\",  # Using GPU for training\n",
        "    device=\"cuda\",\n",
        "    random_state=RANDOM_STATE,\n",
        ")"
      ]
    },
    {
      "cell_type": "code",
      "execution_count": 95,
      "metadata": {},
      "outputs": [
        {
          "data": {
            "text/plain": [
              "{'Hist Gradient Boosting (Tuned 1)': HistGradientBoostingClassifier(l2_regularization=0.0007146954337823273,\n",
              "                                learning_rate=0.0733714367396384, max_iter=800,\n",
              "                                max_leaf_nodes=15, random_state=42),\n",
              " 'Hist Gradient Boosting (Tuned 2)': HistGradientBoostingClassifier(l2_regularization=0.0057280871105010005,\n",
              "                                learning_rate=0.01711360328147873, max_iter=950,\n",
              "                                max_leaf_nodes=20, random_state=42),\n",
              " 'Hist Gradient Boosting (Tuned 3)': HistGradientBoostingClassifier(l2_regularization=0.0012638154755574963,\n",
              "                                learning_rate=0.3578258689038835, max_depth=3,\n",
              "                                max_iter=650, max_leaf_nodes=40,\n",
              "                                random_state=42),\n",
              " 'XGBoost (Tuned 1)': XGBClassifier(base_score=None, booster=None, callbacks=None,\n",
              "               colsample_bylevel=None, colsample_bynode=None,\n",
              "               colsample_bytree=0.6005456613346352, device='cuda',\n",
              "               early_stopping_rounds=None, enable_categorical=False,\n",
              "               eval_metric=None, feature_types=None, gamma=2.4074510195367713,\n",
              "               grow_policy=None, importance_type=None,\n",
              "               interaction_constraints=None, learning_rate=0.021790657446343016,\n",
              "               max_bin=None, max_cat_threshold=None, max_cat_to_onehot=None,\n",
              "               max_delta_step=None, max_depth=10, max_leaves=None,\n",
              "               min_child_weight=2, missing=nan, monotone_constraints=None,\n",
              "               multi_strategy=None, n_estimators=403, n_jobs=None,\n",
              "               num_parallel_tree=None, random_state=42, ...),\n",
              " 'XGBoost (Tuned 2)': XGBClassifier(base_score=None, booster=None, callbacks=None,\n",
              "               colsample_bylevel=None, colsample_bynode=None,\n",
              "               colsample_bytree=0.6405378503512776, device='cuda',\n",
              "               early_stopping_rounds=None, enable_categorical=False,\n",
              "               eval_metric=None, feature_types=None, gamma=1.4011292716336397,\n",
              "               grow_policy=None, importance_type=None,\n",
              "               interaction_constraints=None, learning_rate=0.024548396616239795,\n",
              "               max_bin=None, max_cat_threshold=None, max_cat_to_onehot=None,\n",
              "               max_delta_step=None, max_depth=3, max_leaves=None,\n",
              "               min_child_weight=3, missing=nan, monotone_constraints=None,\n",
              "               multi_strategy=None, n_estimators=872, n_jobs=None,\n",
              "               num_parallel_tree=None, random_state=42, ...)}"
            ]
          },
          "execution_count": 95,
          "metadata": {},
          "output_type": "execute_result"
        }
      ],
      "source": [
        "tuned_models"
      ]
    },
    {
      "cell_type": "code",
      "execution_count": 96,
      "metadata": {},
      "outputs": [
        {
          "data": {
            "text/html": [
              "<div>\n",
              "<style scoped>\n",
              "    .dataframe tbody tr th:only-of-type {\n",
              "        vertical-align: middle;\n",
              "    }\n",
              "\n",
              "    .dataframe tbody tr th {\n",
              "        vertical-align: top;\n",
              "    }\n",
              "\n",
              "    .dataframe thead th {\n",
              "        text-align: right;\n",
              "    }\n",
              "</style>\n",
              "<table border=\"1\" class=\"dataframe\">\n",
              "  <thead>\n",
              "    <tr style=\"text-align: right;\">\n",
              "      <th></th>\n",
              "      <th>Model</th>\n",
              "      <th>Avg Score</th>\n",
              "      <th>Std Score</th>\n",
              "      <th>Training Time CV (s)</th>\n",
              "    </tr>\n",
              "  </thead>\n",
              "  <tbody>\n",
              "    <tr>\n",
              "      <th>4</th>\n",
              "      <td>XGBoost (Tuned 2)</td>\n",
              "      <td>0.809</td>\n",
              "      <td>0.007</td>\n",
              "      <td>9.164</td>\n",
              "    </tr>\n",
              "    <tr>\n",
              "      <th>3</th>\n",
              "      <td>XGBoost (Tuned 1)</td>\n",
              "      <td>0.809</td>\n",
              "      <td>0.007</td>\n",
              "      <td>3.968</td>\n",
              "    </tr>\n",
              "    <tr>\n",
              "      <th>2</th>\n",
              "      <td>Hist Gradient Boosting (Tuned 3)</td>\n",
              "      <td>0.809</td>\n",
              "      <td>0.005</td>\n",
              "      <td>0.689</td>\n",
              "    </tr>\n",
              "    <tr>\n",
              "      <th>0</th>\n",
              "      <td>Hist Gradient Boosting (Tuned 1)</td>\n",
              "      <td>0.808</td>\n",
              "      <td>0.008</td>\n",
              "      <td>2.407</td>\n",
              "    </tr>\n",
              "    <tr>\n",
              "      <th>1</th>\n",
              "      <td>Hist Gradient Boosting (Tuned 2)</td>\n",
              "      <td>0.807</td>\n",
              "      <td>0.007</td>\n",
              "      <td>5.013</td>\n",
              "    </tr>\n",
              "  </tbody>\n",
              "</table>\n",
              "</div>"
            ],
            "text/plain": [
              "                              Model  Avg Score  Std Score  Training Time CV (s)\n",
              "4                 XGBoost (Tuned 2)      0.809      0.007                 9.164\n",
              "3                 XGBoost (Tuned 1)      0.809      0.007                 3.968\n",
              "2  Hist Gradient Boosting (Tuned 3)      0.809      0.005                 0.689\n",
              "0  Hist Gradient Boosting (Tuned 1)      0.808      0.008                 2.407\n",
              "1  Hist Gradient Boosting (Tuned 2)      0.807      0.007                 5.013"
            ]
          },
          "execution_count": 96,
          "metadata": {},
          "output_type": "execute_result"
        }
      ],
      "source": [
        "evaluate_cv(\n",
        "    X_und_fs,\n",
        "    y_und_fs,\n",
        "    tuned_models,\n",
        "    cv=skf,\n",
        "    scoring=\"roc_auc\",\n",
        ")"
      ]
    },
    {
      "cell_type": "markdown",
      "metadata": {},
      "source": [
        "## **8.3. Ensemble Model**"
      ]
    },
    {
      "cell_type": "code",
      "execution_count": null,
      "metadata": {},
      "outputs": [],
      "source": [
        "voting_clf = VotingClassifier(\n",
        "    estimators=[\n",
        "        (\"lr\", LogisticRegression()),\n",
        "        (\"rf\", RandomForestClassifier()),\n",
        "        (\"xgb\", XGBClassifier()),\n",
        "    ],\n",
        "    voting=\"soft\",  # gunakan soft voting jika semua model bisa output probabilitas\n",
        ")\n",
        "\n",
        "voting_tuned_clf = VotingClassifier(\n",
        "    estimators=[\n",
        "        (\"xgb\", tuned_models[\"XGBoost (Tuned 1)\"]),\n",
        "        (\"xgb2\", tuned_models[\"XGBoost (Tuned 2)\"]),\n",
        "    ],\n",
        "    voting=\"soft\",\n",
        ")"
      ]
    },
    {
      "cell_type": "code",
      "execution_count": 111,
      "metadata": {},
      "outputs": [],
      "source": [
        "ensemble_models = {\n",
        "    \"Voting Classifier\": voting_clf,\n",
        "    \"Voting Classifier (Tuned)\": voting_tuned_clf,\n",
        "}"
      ]
    },
    {
      "cell_type": "code",
      "execution_count": 112,
      "metadata": {},
      "outputs": [
        {
          "data": {
            "text/html": [
              "<div>\n",
              "<style scoped>\n",
              "    .dataframe tbody tr th:only-of-type {\n",
              "        vertical-align: middle;\n",
              "    }\n",
              "\n",
              "    .dataframe tbody tr th {\n",
              "        vertical-align: top;\n",
              "    }\n",
              "\n",
              "    .dataframe thead th {\n",
              "        text-align: right;\n",
              "    }\n",
              "</style>\n",
              "<table border=\"1\" class=\"dataframe\">\n",
              "  <thead>\n",
              "    <tr style=\"text-align: right;\">\n",
              "      <th></th>\n",
              "      <th>Model</th>\n",
              "      <th>Avg Score</th>\n",
              "      <th>Std Score</th>\n",
              "      <th>Training Time CV (s)</th>\n",
              "    </tr>\n",
              "  </thead>\n",
              "  <tbody>\n",
              "    <tr>\n",
              "      <th>1</th>\n",
              "      <td>Voting Classifier (Tuned)</td>\n",
              "      <td>0.810</td>\n",
              "      <td>0.007</td>\n",
              "      <td>13.392</td>\n",
              "    </tr>\n",
              "    <tr>\n",
              "      <th>0</th>\n",
              "      <td>Voting Classifier</td>\n",
              "      <td>0.798</td>\n",
              "      <td>0.004</td>\n",
              "      <td>11.539</td>\n",
              "    </tr>\n",
              "  </tbody>\n",
              "</table>\n",
              "</div>"
            ],
            "text/plain": [
              "                       Model  Avg Score  Std Score  Training Time CV (s)\n",
              "1  Voting Classifier (Tuned)      0.810      0.007                13.392\n",
              "0          Voting Classifier      0.798      0.004                11.539"
            ]
          },
          "execution_count": 112,
          "metadata": {},
          "output_type": "execute_result"
        }
      ],
      "source": [
        "evaluate_cv(\n",
        "    X_und_fs,\n",
        "    y_und_fs,\n",
        "    ensemble_models,\n",
        "    cv=skf,\n",
        "    scoring=\"roc_auc\",\n",
        ")"
      ]
    },
    {
      "cell_type": "markdown",
      "metadata": {
        "id": "HfQwHgU7kK_i"
      },
      "source": [
        "## **9. Evaluasi Model Final & Pemilihan Model Terbaik**\n"
      ]
    },
    {
      "cell_type": "markdown",
      "metadata": {
        "id": "c7g5it__kbjv"
      },
      "source": [
        "Setelah melakukan penyetelan hiperparameter pada model-model kandidat, langkah selanjutnya adalah mengevaluasi performa final dari model-model yang telah dioptimalkan tersebut. Kita juga akan melakukan analisis lebih lanjut seperti pengecekan *overfitting*, interpretasi model, dan akhirnya memilih satu model terbaik yang akan digunakan untuk membuat prediksi pada dataset validasi yang akan disubmit.\n"
      ]
    },
    {
      "cell_type": "markdown",
      "metadata": {
        "id": "r5EvKxAVkeBl"
      },
      "source": [
        "### **9.1. Melatih Model Kandidat dengan Parameter Terbaik pada Seluruh Data Training**\n"
      ]
    },
    {
      "cell_type": "markdown",
      "metadata": {
        "id": "dg5xq9gPkd7t"
      },
      "source": [
        "Model terbaik dari setiap proses tuning (`best_estimator_` yang disimpan di `best_estimators`) sudah dilatih pada seluruh data training yang digunakan dalam `RandomizedSearchCV` atau `GridSearchCV` (jika `refit=True`, yang merupakan default). Jadi, kita bisa langsung menggunakan objek `best_estimator_` tersebut. Namun, jika ingin memastikan atau jika ada strategi validasi terpisah sebelumnya, kita bisa melatih ulang model dengan parameter terbaik pada seluruh `X_train_final` dan `y_train_final`.\n",
        "\n",
        "Untuk kesederhanaan dan karena `best_estimator_` sudah dilatih, kita akan langsung menggunakannya.\n"
      ]
    },
    {
      "cell_type": "markdown",
      "metadata": {},
      "source": [
        "### 9.1.1. Best Model Submission 1"
      ]
    },
    {
      "cell_type": "code",
      "execution_count": 81,
      "metadata": {
        "colab": {
          "base_uri": "https://localhost:8080/",
          "height": 132
        },
        "id": "TAeUiVNnkdf-",
        "outputId": "0581271b-8621-480c-d84a-821e98f9949a"
      },
      "outputs": [
        {
          "data": {
            "text/html": [
              "<style>#sk-container-id-1 {\n",
              "  /* Definition of color scheme common for light and dark mode */\n",
              "  --sklearn-color-text: #000;\n",
              "  --sklearn-color-text-muted: #666;\n",
              "  --sklearn-color-line: gray;\n",
              "  /* Definition of color scheme for unfitted estimators */\n",
              "  --sklearn-color-unfitted-level-0: #fff5e6;\n",
              "  --sklearn-color-unfitted-level-1: #f6e4d2;\n",
              "  --sklearn-color-unfitted-level-2: #ffe0b3;\n",
              "  --sklearn-color-unfitted-level-3: chocolate;\n",
              "  /* Definition of color scheme for fitted estimators */\n",
              "  --sklearn-color-fitted-level-0: #f0f8ff;\n",
              "  --sklearn-color-fitted-level-1: #d4ebff;\n",
              "  --sklearn-color-fitted-level-2: #b3dbfd;\n",
              "  --sklearn-color-fitted-level-3: cornflowerblue;\n",
              "\n",
              "  /* Specific color for light theme */\n",
              "  --sklearn-color-text-on-default-background: var(--sg-text-color, var(--theme-code-foreground, var(--jp-content-font-color1, black)));\n",
              "  --sklearn-color-background: var(--sg-background-color, var(--theme-background, var(--jp-layout-color0, white)));\n",
              "  --sklearn-color-border-box: var(--sg-text-color, var(--theme-code-foreground, var(--jp-content-font-color1, black)));\n",
              "  --sklearn-color-icon: #696969;\n",
              "\n",
              "  @media (prefers-color-scheme: dark) {\n",
              "    /* Redefinition of color scheme for dark theme */\n",
              "    --sklearn-color-text-on-default-background: var(--sg-text-color, var(--theme-code-foreground, var(--jp-content-font-color1, white)));\n",
              "    --sklearn-color-background: var(--sg-background-color, var(--theme-background, var(--jp-layout-color0, #111)));\n",
              "    --sklearn-color-border-box: var(--sg-text-color, var(--theme-code-foreground, var(--jp-content-font-color1, white)));\n",
              "    --sklearn-color-icon: #878787;\n",
              "  }\n",
              "}\n",
              "\n",
              "#sk-container-id-1 {\n",
              "  color: var(--sklearn-color-text);\n",
              "}\n",
              "\n",
              "#sk-container-id-1 pre {\n",
              "  padding: 0;\n",
              "}\n",
              "\n",
              "#sk-container-id-1 input.sk-hidden--visually {\n",
              "  border: 0;\n",
              "  clip: rect(1px 1px 1px 1px);\n",
              "  clip: rect(1px, 1px, 1px, 1px);\n",
              "  height: 1px;\n",
              "  margin: -1px;\n",
              "  overflow: hidden;\n",
              "  padding: 0;\n",
              "  position: absolute;\n",
              "  width: 1px;\n",
              "}\n",
              "\n",
              "#sk-container-id-1 div.sk-dashed-wrapped {\n",
              "  border: 1px dashed var(--sklearn-color-line);\n",
              "  margin: 0 0.4em 0.5em 0.4em;\n",
              "  box-sizing: border-box;\n",
              "  padding-bottom: 0.4em;\n",
              "  background-color: var(--sklearn-color-background);\n",
              "}\n",
              "\n",
              "#sk-container-id-1 div.sk-container {\n",
              "  /* jupyter's `normalize.less` sets `[hidden] { display: none; }`\n",
              "     but bootstrap.min.css set `[hidden] { display: none !important; }`\n",
              "     so we also need the `!important` here to be able to override the\n",
              "     default hidden behavior on the sphinx rendered scikit-learn.org.\n",
              "     See: https://github.com/scikit-learn/scikit-learn/issues/21755 */\n",
              "  display: inline-block !important;\n",
              "  position: relative;\n",
              "}\n",
              "\n",
              "#sk-container-id-1 div.sk-text-repr-fallback {\n",
              "  display: none;\n",
              "}\n",
              "\n",
              "div.sk-parallel-item,\n",
              "div.sk-serial,\n",
              "div.sk-item {\n",
              "  /* draw centered vertical line to link estimators */\n",
              "  background-image: linear-gradient(var(--sklearn-color-text-on-default-background), var(--sklearn-color-text-on-default-background));\n",
              "  background-size: 2px 100%;\n",
              "  background-repeat: no-repeat;\n",
              "  background-position: center center;\n",
              "}\n",
              "\n",
              "/* Parallel-specific style estimator block */\n",
              "\n",
              "#sk-container-id-1 div.sk-parallel-item::after {\n",
              "  content: \"\";\n",
              "  width: 100%;\n",
              "  border-bottom: 2px solid var(--sklearn-color-text-on-default-background);\n",
              "  flex-grow: 1;\n",
              "}\n",
              "\n",
              "#sk-container-id-1 div.sk-parallel {\n",
              "  display: flex;\n",
              "  align-items: stretch;\n",
              "  justify-content: center;\n",
              "  background-color: var(--sklearn-color-background);\n",
              "  position: relative;\n",
              "}\n",
              "\n",
              "#sk-container-id-1 div.sk-parallel-item {\n",
              "  display: flex;\n",
              "  flex-direction: column;\n",
              "}\n",
              "\n",
              "#sk-container-id-1 div.sk-parallel-item:first-child::after {\n",
              "  align-self: flex-end;\n",
              "  width: 50%;\n",
              "}\n",
              "\n",
              "#sk-container-id-1 div.sk-parallel-item:last-child::after {\n",
              "  align-self: flex-start;\n",
              "  width: 50%;\n",
              "}\n",
              "\n",
              "#sk-container-id-1 div.sk-parallel-item:only-child::after {\n",
              "  width: 0;\n",
              "}\n",
              "\n",
              "/* Serial-specific style estimator block */\n",
              "\n",
              "#sk-container-id-1 div.sk-serial {\n",
              "  display: flex;\n",
              "  flex-direction: column;\n",
              "  align-items: center;\n",
              "  background-color: var(--sklearn-color-background);\n",
              "  padding-right: 1em;\n",
              "  padding-left: 1em;\n",
              "}\n",
              "\n",
              "\n",
              "/* Toggleable style: style used for estimator/Pipeline/ColumnTransformer box that is\n",
              "clickable and can be expanded/collapsed.\n",
              "- Pipeline and ColumnTransformer use this feature and define the default style\n",
              "- Estimators will overwrite some part of the style using the `sk-estimator` class\n",
              "*/\n",
              "\n",
              "/* Pipeline and ColumnTransformer style (default) */\n",
              "\n",
              "#sk-container-id-1 div.sk-toggleable {\n",
              "  /* Default theme specific background. It is overwritten whether we have a\n",
              "  specific estimator or a Pipeline/ColumnTransformer */\n",
              "  background-color: var(--sklearn-color-background);\n",
              "}\n",
              "\n",
              "/* Toggleable label */\n",
              "#sk-container-id-1 label.sk-toggleable__label {\n",
              "  cursor: pointer;\n",
              "  display: flex;\n",
              "  width: 100%;\n",
              "  margin-bottom: 0;\n",
              "  padding: 0.5em;\n",
              "  box-sizing: border-box;\n",
              "  text-align: center;\n",
              "  align-items: start;\n",
              "  justify-content: space-between;\n",
              "  gap: 0.5em;\n",
              "}\n",
              "\n",
              "#sk-container-id-1 label.sk-toggleable__label .caption {\n",
              "  font-size: 0.6rem;\n",
              "  font-weight: lighter;\n",
              "  color: var(--sklearn-color-text-muted);\n",
              "}\n",
              "\n",
              "#sk-container-id-1 label.sk-toggleable__label-arrow:before {\n",
              "  /* Arrow on the left of the label */\n",
              "  content: \"▸\";\n",
              "  float: left;\n",
              "  margin-right: 0.25em;\n",
              "  color: var(--sklearn-color-icon);\n",
              "}\n",
              "\n",
              "#sk-container-id-1 label.sk-toggleable__label-arrow:hover:before {\n",
              "  color: var(--sklearn-color-text);\n",
              "}\n",
              "\n",
              "/* Toggleable content - dropdown */\n",
              "\n",
              "#sk-container-id-1 div.sk-toggleable__content {\n",
              "  max-height: 0;\n",
              "  max-width: 0;\n",
              "  overflow: hidden;\n",
              "  text-align: left;\n",
              "  /* unfitted */\n",
              "  background-color: var(--sklearn-color-unfitted-level-0);\n",
              "}\n",
              "\n",
              "#sk-container-id-1 div.sk-toggleable__content.fitted {\n",
              "  /* fitted */\n",
              "  background-color: var(--sklearn-color-fitted-level-0);\n",
              "}\n",
              "\n",
              "#sk-container-id-1 div.sk-toggleable__content pre {\n",
              "  margin: 0.2em;\n",
              "  border-radius: 0.25em;\n",
              "  color: var(--sklearn-color-text);\n",
              "  /* unfitted */\n",
              "  background-color: var(--sklearn-color-unfitted-level-0);\n",
              "}\n",
              "\n",
              "#sk-container-id-1 div.sk-toggleable__content.fitted pre {\n",
              "  /* unfitted */\n",
              "  background-color: var(--sklearn-color-fitted-level-0);\n",
              "}\n",
              "\n",
              "#sk-container-id-1 input.sk-toggleable__control:checked~div.sk-toggleable__content {\n",
              "  /* Expand drop-down */\n",
              "  max-height: 200px;\n",
              "  max-width: 100%;\n",
              "  overflow: auto;\n",
              "}\n",
              "\n",
              "#sk-container-id-1 input.sk-toggleable__control:checked~label.sk-toggleable__label-arrow:before {\n",
              "  content: \"▾\";\n",
              "}\n",
              "\n",
              "/* Pipeline/ColumnTransformer-specific style */\n",
              "\n",
              "#sk-container-id-1 div.sk-label input.sk-toggleable__control:checked~label.sk-toggleable__label {\n",
              "  color: var(--sklearn-color-text);\n",
              "  background-color: var(--sklearn-color-unfitted-level-2);\n",
              "}\n",
              "\n",
              "#sk-container-id-1 div.sk-label.fitted input.sk-toggleable__control:checked~label.sk-toggleable__label {\n",
              "  background-color: var(--sklearn-color-fitted-level-2);\n",
              "}\n",
              "\n",
              "/* Estimator-specific style */\n",
              "\n",
              "/* Colorize estimator box */\n",
              "#sk-container-id-1 div.sk-estimator input.sk-toggleable__control:checked~label.sk-toggleable__label {\n",
              "  /* unfitted */\n",
              "  background-color: var(--sklearn-color-unfitted-level-2);\n",
              "}\n",
              "\n",
              "#sk-container-id-1 div.sk-estimator.fitted input.sk-toggleable__control:checked~label.sk-toggleable__label {\n",
              "  /* fitted */\n",
              "  background-color: var(--sklearn-color-fitted-level-2);\n",
              "}\n",
              "\n",
              "#sk-container-id-1 div.sk-label label.sk-toggleable__label,\n",
              "#sk-container-id-1 div.sk-label label {\n",
              "  /* The background is the default theme color */\n",
              "  color: var(--sklearn-color-text-on-default-background);\n",
              "}\n",
              "\n",
              "/* On hover, darken the color of the background */\n",
              "#sk-container-id-1 div.sk-label:hover label.sk-toggleable__label {\n",
              "  color: var(--sklearn-color-text);\n",
              "  background-color: var(--sklearn-color-unfitted-level-2);\n",
              "}\n",
              "\n",
              "/* Label box, darken color on hover, fitted */\n",
              "#sk-container-id-1 div.sk-label.fitted:hover label.sk-toggleable__label.fitted {\n",
              "  color: var(--sklearn-color-text);\n",
              "  background-color: var(--sklearn-color-fitted-level-2);\n",
              "}\n",
              "\n",
              "/* Estimator label */\n",
              "\n",
              "#sk-container-id-1 div.sk-label label {\n",
              "  font-family: monospace;\n",
              "  font-weight: bold;\n",
              "  display: inline-block;\n",
              "  line-height: 1.2em;\n",
              "}\n",
              "\n",
              "#sk-container-id-1 div.sk-label-container {\n",
              "  text-align: center;\n",
              "}\n",
              "\n",
              "/* Estimator-specific */\n",
              "#sk-container-id-1 div.sk-estimator {\n",
              "  font-family: monospace;\n",
              "  border: 1px dotted var(--sklearn-color-border-box);\n",
              "  border-radius: 0.25em;\n",
              "  box-sizing: border-box;\n",
              "  margin-bottom: 0.5em;\n",
              "  /* unfitted */\n",
              "  background-color: var(--sklearn-color-unfitted-level-0);\n",
              "}\n",
              "\n",
              "#sk-container-id-1 div.sk-estimator.fitted {\n",
              "  /* fitted */\n",
              "  background-color: var(--sklearn-color-fitted-level-0);\n",
              "}\n",
              "\n",
              "/* on hover */\n",
              "#sk-container-id-1 div.sk-estimator:hover {\n",
              "  /* unfitted */\n",
              "  background-color: var(--sklearn-color-unfitted-level-2);\n",
              "}\n",
              "\n",
              "#sk-container-id-1 div.sk-estimator.fitted:hover {\n",
              "  /* fitted */\n",
              "  background-color: var(--sklearn-color-fitted-level-2);\n",
              "}\n",
              "\n",
              "/* Specification for estimator info (e.g. \"i\" and \"?\") */\n",
              "\n",
              "/* Common style for \"i\" and \"?\" */\n",
              "\n",
              ".sk-estimator-doc-link,\n",
              "a:link.sk-estimator-doc-link,\n",
              "a:visited.sk-estimator-doc-link {\n",
              "  float: right;\n",
              "  font-size: smaller;\n",
              "  line-height: 1em;\n",
              "  font-family: monospace;\n",
              "  background-color: var(--sklearn-color-background);\n",
              "  border-radius: 1em;\n",
              "  height: 1em;\n",
              "  width: 1em;\n",
              "  text-decoration: none !important;\n",
              "  margin-left: 0.5em;\n",
              "  text-align: center;\n",
              "  /* unfitted */\n",
              "  border: var(--sklearn-color-unfitted-level-1) 1pt solid;\n",
              "  color: var(--sklearn-color-unfitted-level-1);\n",
              "}\n",
              "\n",
              ".sk-estimator-doc-link.fitted,\n",
              "a:link.sk-estimator-doc-link.fitted,\n",
              "a:visited.sk-estimator-doc-link.fitted {\n",
              "  /* fitted */\n",
              "  border: var(--sklearn-color-fitted-level-1) 1pt solid;\n",
              "  color: var(--sklearn-color-fitted-level-1);\n",
              "}\n",
              "\n",
              "/* On hover */\n",
              "div.sk-estimator:hover .sk-estimator-doc-link:hover,\n",
              ".sk-estimator-doc-link:hover,\n",
              "div.sk-label-container:hover .sk-estimator-doc-link:hover,\n",
              ".sk-estimator-doc-link:hover {\n",
              "  /* unfitted */\n",
              "  background-color: var(--sklearn-color-unfitted-level-3);\n",
              "  color: var(--sklearn-color-background);\n",
              "  text-decoration: none;\n",
              "}\n",
              "\n",
              "div.sk-estimator.fitted:hover .sk-estimator-doc-link.fitted:hover,\n",
              ".sk-estimator-doc-link.fitted:hover,\n",
              "div.sk-label-container:hover .sk-estimator-doc-link.fitted:hover,\n",
              ".sk-estimator-doc-link.fitted:hover {\n",
              "  /* fitted */\n",
              "  background-color: var(--sklearn-color-fitted-level-3);\n",
              "  color: var(--sklearn-color-background);\n",
              "  text-decoration: none;\n",
              "}\n",
              "\n",
              "/* Span, style for the box shown on hovering the info icon */\n",
              ".sk-estimator-doc-link span {\n",
              "  display: none;\n",
              "  z-index: 9999;\n",
              "  position: relative;\n",
              "  font-weight: normal;\n",
              "  right: .2ex;\n",
              "  padding: .5ex;\n",
              "  margin: .5ex;\n",
              "  width: min-content;\n",
              "  min-width: 20ex;\n",
              "  max-width: 50ex;\n",
              "  color: var(--sklearn-color-text);\n",
              "  box-shadow: 2pt 2pt 4pt #999;\n",
              "  /* unfitted */\n",
              "  background: var(--sklearn-color-unfitted-level-0);\n",
              "  border: .5pt solid var(--sklearn-color-unfitted-level-3);\n",
              "}\n",
              "\n",
              ".sk-estimator-doc-link.fitted span {\n",
              "  /* fitted */\n",
              "  background: var(--sklearn-color-fitted-level-0);\n",
              "  border: var(--sklearn-color-fitted-level-3);\n",
              "}\n",
              "\n",
              ".sk-estimator-doc-link:hover span {\n",
              "  display: block;\n",
              "}\n",
              "\n",
              "/* \"?\"-specific style due to the `<a>` HTML tag */\n",
              "\n",
              "#sk-container-id-1 a.estimator_doc_link {\n",
              "  float: right;\n",
              "  font-size: 1rem;\n",
              "  line-height: 1em;\n",
              "  font-family: monospace;\n",
              "  background-color: var(--sklearn-color-background);\n",
              "  border-radius: 1rem;\n",
              "  height: 1rem;\n",
              "  width: 1rem;\n",
              "  text-decoration: none;\n",
              "  /* unfitted */\n",
              "  color: var(--sklearn-color-unfitted-level-1);\n",
              "  border: var(--sklearn-color-unfitted-level-1) 1pt solid;\n",
              "}\n",
              "\n",
              "#sk-container-id-1 a.estimator_doc_link.fitted {\n",
              "  /* fitted */\n",
              "  border: var(--sklearn-color-fitted-level-1) 1pt solid;\n",
              "  color: var(--sklearn-color-fitted-level-1);\n",
              "}\n",
              "\n",
              "/* On hover */\n",
              "#sk-container-id-1 a.estimator_doc_link:hover {\n",
              "  /* unfitted */\n",
              "  background-color: var(--sklearn-color-unfitted-level-3);\n",
              "  color: var(--sklearn-color-background);\n",
              "  text-decoration: none;\n",
              "}\n",
              "\n",
              "#sk-container-id-1 a.estimator_doc_link.fitted:hover {\n",
              "  /* fitted */\n",
              "  background-color: var(--sklearn-color-fitted-level-3);\n",
              "}\n",
              "</style><div id=\"sk-container-id-1\" class=\"sk-top-container\"><div class=\"sk-text-repr-fallback\"><pre>HistGradientBoostingClassifier(l2_regularization=np.float64(0.0057280871105010005),\n",
              "                               learning_rate=np.float64(0.01711360328147873),\n",
              "                               max_iter=950, max_leaf_nodes=20,\n",
              "                               random_state=42)</pre><b>In a Jupyter environment, please rerun this cell to show the HTML representation or trust the notebook. <br />On GitHub, the HTML representation is unable to render, please try loading this page with nbviewer.org.</b></div><div class=\"sk-container\" hidden><div class=\"sk-item\"><div class=\"sk-estimator  sk-toggleable\"><input class=\"sk-toggleable__control sk-hidden--visually\" id=\"sk-estimator-id-1\" type=\"checkbox\" checked><label for=\"sk-estimator-id-1\" class=\"sk-toggleable__label  sk-toggleable__label-arrow\"><div><div>HistGradientBoostingClassifier</div></div><div><a class=\"sk-estimator-doc-link \" rel=\"noreferrer\" target=\"_blank\" href=\"https://scikit-learn.org/1.6/modules/generated/sklearn.ensemble.HistGradientBoostingClassifier.html\">?<span>Documentation for HistGradientBoostingClassifier</span></a><span class=\"sk-estimator-doc-link \">i<span>Not fitted</span></span></div></label><div class=\"sk-toggleable__content \"><pre>HistGradientBoostingClassifier(l2_regularization=np.float64(0.0057280871105010005),\n",
              "                               learning_rate=np.float64(0.01711360328147873),\n",
              "                               max_iter=950, max_leaf_nodes=20,\n",
              "                               random_state=42)</pre></div> </div></div></div></div>"
            ],
            "text/plain": [
              "HistGradientBoostingClassifier(l2_regularization=np.float64(0.0057280871105010005),\n",
              "                               learning_rate=np.float64(0.01711360328147873),\n",
              "                               max_iter=950, max_leaf_nodes=20,\n",
              "                               random_state=42)"
            ]
          },
          "execution_count": 81,
          "metadata": {},
          "output_type": "execute_result"
        }
      ],
      "source": [
        "best_model = tuned_models[\"Hist Gradient Boosting (Tuned 2)\"]\n",
        "best_model"
      ]
    },
    {
      "cell_type": "code",
      "execution_count": 83,
      "metadata": {
        "colab": {
          "base_uri": "https://localhost:8080/"
        },
        "id": "XKo5bckwqHaH",
        "outputId": "9448f35c-f821-4958-9d0a-b231f523e44f"
      },
      "outputs": [
        {
          "name": "stdout",
          "output_type": "stream",
          "text": [
            "Created directory: models\n",
            "Model saved to models/best_model.joblib\n"
          ]
        }
      ],
      "source": [
        "# untuk mengecek apakah direktorinya ada. jika tidak maka dibuat\n",
        "output_dir = \"models\"\n",
        "if not os.path.exists(output_dir):\n",
        "    os.makedirs(output_dir)\n",
        "    print(f\"Created directory: {output_dir}\")\n",
        "\n",
        "save_model(best_model, os.path.join(output_dir, \"best_model.joblib\"))"
      ]
    },
    {
      "cell_type": "code",
      "execution_count": 84,
      "metadata": {
        "colab": {
          "base_uri": "https://localhost:8080/"
        },
        "id": "WEl0lDydqHaI",
        "outputId": "a6ddbbbe-acb6-4aa0-fa9e-2ea8c87d94ba"
      },
      "outputs": [
        {
          "data": {
            "text/plain": [
              "False"
            ]
          },
          "execution_count": 84,
          "metadata": {},
          "output_type": "execute_result"
        }
      ],
      "source": [
        "is_model_fitted(best_model)"
      ]
    },
    {
      "cell_type": "code",
      "execution_count": 85,
      "metadata": {
        "id": "A64hdmbikx3E"
      },
      "outputs": [],
      "source": [
        "trained_best_model, time = train_model(best_model, X_und, y_und)"
      ]
    },
    {
      "cell_type": "code",
      "execution_count": 86,
      "metadata": {
        "colab": {
          "base_uri": "https://localhost:8080/",
          "height": 132
        },
        "id": "cugJYTpDqHaI",
        "outputId": "c42cf7b8-f0f6-47c0-89fb-eab4614abdc5"
      },
      "outputs": [
        {
          "data": {
            "text/html": [
              "<style>#sk-container-id-2 {\n",
              "  /* Definition of color scheme common for light and dark mode */\n",
              "  --sklearn-color-text: #000;\n",
              "  --sklearn-color-text-muted: #666;\n",
              "  --sklearn-color-line: gray;\n",
              "  /* Definition of color scheme for unfitted estimators */\n",
              "  --sklearn-color-unfitted-level-0: #fff5e6;\n",
              "  --sklearn-color-unfitted-level-1: #f6e4d2;\n",
              "  --sklearn-color-unfitted-level-2: #ffe0b3;\n",
              "  --sklearn-color-unfitted-level-3: chocolate;\n",
              "  /* Definition of color scheme for fitted estimators */\n",
              "  --sklearn-color-fitted-level-0: #f0f8ff;\n",
              "  --sklearn-color-fitted-level-1: #d4ebff;\n",
              "  --sklearn-color-fitted-level-2: #b3dbfd;\n",
              "  --sklearn-color-fitted-level-3: cornflowerblue;\n",
              "\n",
              "  /* Specific color for light theme */\n",
              "  --sklearn-color-text-on-default-background: var(--sg-text-color, var(--theme-code-foreground, var(--jp-content-font-color1, black)));\n",
              "  --sklearn-color-background: var(--sg-background-color, var(--theme-background, var(--jp-layout-color0, white)));\n",
              "  --sklearn-color-border-box: var(--sg-text-color, var(--theme-code-foreground, var(--jp-content-font-color1, black)));\n",
              "  --sklearn-color-icon: #696969;\n",
              "\n",
              "  @media (prefers-color-scheme: dark) {\n",
              "    /* Redefinition of color scheme for dark theme */\n",
              "    --sklearn-color-text-on-default-background: var(--sg-text-color, var(--theme-code-foreground, var(--jp-content-font-color1, white)));\n",
              "    --sklearn-color-background: var(--sg-background-color, var(--theme-background, var(--jp-layout-color0, #111)));\n",
              "    --sklearn-color-border-box: var(--sg-text-color, var(--theme-code-foreground, var(--jp-content-font-color1, white)));\n",
              "    --sklearn-color-icon: #878787;\n",
              "  }\n",
              "}\n",
              "\n",
              "#sk-container-id-2 {\n",
              "  color: var(--sklearn-color-text);\n",
              "}\n",
              "\n",
              "#sk-container-id-2 pre {\n",
              "  padding: 0;\n",
              "}\n",
              "\n",
              "#sk-container-id-2 input.sk-hidden--visually {\n",
              "  border: 0;\n",
              "  clip: rect(1px 1px 1px 1px);\n",
              "  clip: rect(1px, 1px, 1px, 1px);\n",
              "  height: 1px;\n",
              "  margin: -1px;\n",
              "  overflow: hidden;\n",
              "  padding: 0;\n",
              "  position: absolute;\n",
              "  width: 1px;\n",
              "}\n",
              "\n",
              "#sk-container-id-2 div.sk-dashed-wrapped {\n",
              "  border: 1px dashed var(--sklearn-color-line);\n",
              "  margin: 0 0.4em 0.5em 0.4em;\n",
              "  box-sizing: border-box;\n",
              "  padding-bottom: 0.4em;\n",
              "  background-color: var(--sklearn-color-background);\n",
              "}\n",
              "\n",
              "#sk-container-id-2 div.sk-container {\n",
              "  /* jupyter's `normalize.less` sets `[hidden] { display: none; }`\n",
              "     but bootstrap.min.css set `[hidden] { display: none !important; }`\n",
              "     so we also need the `!important` here to be able to override the\n",
              "     default hidden behavior on the sphinx rendered scikit-learn.org.\n",
              "     See: https://github.com/scikit-learn/scikit-learn/issues/21755 */\n",
              "  display: inline-block !important;\n",
              "  position: relative;\n",
              "}\n",
              "\n",
              "#sk-container-id-2 div.sk-text-repr-fallback {\n",
              "  display: none;\n",
              "}\n",
              "\n",
              "div.sk-parallel-item,\n",
              "div.sk-serial,\n",
              "div.sk-item {\n",
              "  /* draw centered vertical line to link estimators */\n",
              "  background-image: linear-gradient(var(--sklearn-color-text-on-default-background), var(--sklearn-color-text-on-default-background));\n",
              "  background-size: 2px 100%;\n",
              "  background-repeat: no-repeat;\n",
              "  background-position: center center;\n",
              "}\n",
              "\n",
              "/* Parallel-specific style estimator block */\n",
              "\n",
              "#sk-container-id-2 div.sk-parallel-item::after {\n",
              "  content: \"\";\n",
              "  width: 100%;\n",
              "  border-bottom: 2px solid var(--sklearn-color-text-on-default-background);\n",
              "  flex-grow: 1;\n",
              "}\n",
              "\n",
              "#sk-container-id-2 div.sk-parallel {\n",
              "  display: flex;\n",
              "  align-items: stretch;\n",
              "  justify-content: center;\n",
              "  background-color: var(--sklearn-color-background);\n",
              "  position: relative;\n",
              "}\n",
              "\n",
              "#sk-container-id-2 div.sk-parallel-item {\n",
              "  display: flex;\n",
              "  flex-direction: column;\n",
              "}\n",
              "\n",
              "#sk-container-id-2 div.sk-parallel-item:first-child::after {\n",
              "  align-self: flex-end;\n",
              "  width: 50%;\n",
              "}\n",
              "\n",
              "#sk-container-id-2 div.sk-parallel-item:last-child::after {\n",
              "  align-self: flex-start;\n",
              "  width: 50%;\n",
              "}\n",
              "\n",
              "#sk-container-id-2 div.sk-parallel-item:only-child::after {\n",
              "  width: 0;\n",
              "}\n",
              "\n",
              "/* Serial-specific style estimator block */\n",
              "\n",
              "#sk-container-id-2 div.sk-serial {\n",
              "  display: flex;\n",
              "  flex-direction: column;\n",
              "  align-items: center;\n",
              "  background-color: var(--sklearn-color-background);\n",
              "  padding-right: 1em;\n",
              "  padding-left: 1em;\n",
              "}\n",
              "\n",
              "\n",
              "/* Toggleable style: style used for estimator/Pipeline/ColumnTransformer box that is\n",
              "clickable and can be expanded/collapsed.\n",
              "- Pipeline and ColumnTransformer use this feature and define the default style\n",
              "- Estimators will overwrite some part of the style using the `sk-estimator` class\n",
              "*/\n",
              "\n",
              "/* Pipeline and ColumnTransformer style (default) */\n",
              "\n",
              "#sk-container-id-2 div.sk-toggleable {\n",
              "  /* Default theme specific background. It is overwritten whether we have a\n",
              "  specific estimator or a Pipeline/ColumnTransformer */\n",
              "  background-color: var(--sklearn-color-background);\n",
              "}\n",
              "\n",
              "/* Toggleable label */\n",
              "#sk-container-id-2 label.sk-toggleable__label {\n",
              "  cursor: pointer;\n",
              "  display: flex;\n",
              "  width: 100%;\n",
              "  margin-bottom: 0;\n",
              "  padding: 0.5em;\n",
              "  box-sizing: border-box;\n",
              "  text-align: center;\n",
              "  align-items: start;\n",
              "  justify-content: space-between;\n",
              "  gap: 0.5em;\n",
              "}\n",
              "\n",
              "#sk-container-id-2 label.sk-toggleable__label .caption {\n",
              "  font-size: 0.6rem;\n",
              "  font-weight: lighter;\n",
              "  color: var(--sklearn-color-text-muted);\n",
              "}\n",
              "\n",
              "#sk-container-id-2 label.sk-toggleable__label-arrow:before {\n",
              "  /* Arrow on the left of the label */\n",
              "  content: \"▸\";\n",
              "  float: left;\n",
              "  margin-right: 0.25em;\n",
              "  color: var(--sklearn-color-icon);\n",
              "}\n",
              "\n",
              "#sk-container-id-2 label.sk-toggleable__label-arrow:hover:before {\n",
              "  color: var(--sklearn-color-text);\n",
              "}\n",
              "\n",
              "/* Toggleable content - dropdown */\n",
              "\n",
              "#sk-container-id-2 div.sk-toggleable__content {\n",
              "  max-height: 0;\n",
              "  max-width: 0;\n",
              "  overflow: hidden;\n",
              "  text-align: left;\n",
              "  /* unfitted */\n",
              "  background-color: var(--sklearn-color-unfitted-level-0);\n",
              "}\n",
              "\n",
              "#sk-container-id-2 div.sk-toggleable__content.fitted {\n",
              "  /* fitted */\n",
              "  background-color: var(--sklearn-color-fitted-level-0);\n",
              "}\n",
              "\n",
              "#sk-container-id-2 div.sk-toggleable__content pre {\n",
              "  margin: 0.2em;\n",
              "  border-radius: 0.25em;\n",
              "  color: var(--sklearn-color-text);\n",
              "  /* unfitted */\n",
              "  background-color: var(--sklearn-color-unfitted-level-0);\n",
              "}\n",
              "\n",
              "#sk-container-id-2 div.sk-toggleable__content.fitted pre {\n",
              "  /* unfitted */\n",
              "  background-color: var(--sklearn-color-fitted-level-0);\n",
              "}\n",
              "\n",
              "#sk-container-id-2 input.sk-toggleable__control:checked~div.sk-toggleable__content {\n",
              "  /* Expand drop-down */\n",
              "  max-height: 200px;\n",
              "  max-width: 100%;\n",
              "  overflow: auto;\n",
              "}\n",
              "\n",
              "#sk-container-id-2 input.sk-toggleable__control:checked~label.sk-toggleable__label-arrow:before {\n",
              "  content: \"▾\";\n",
              "}\n",
              "\n",
              "/* Pipeline/ColumnTransformer-specific style */\n",
              "\n",
              "#sk-container-id-2 div.sk-label input.sk-toggleable__control:checked~label.sk-toggleable__label {\n",
              "  color: var(--sklearn-color-text);\n",
              "  background-color: var(--sklearn-color-unfitted-level-2);\n",
              "}\n",
              "\n",
              "#sk-container-id-2 div.sk-label.fitted input.sk-toggleable__control:checked~label.sk-toggleable__label {\n",
              "  background-color: var(--sklearn-color-fitted-level-2);\n",
              "}\n",
              "\n",
              "/* Estimator-specific style */\n",
              "\n",
              "/* Colorize estimator box */\n",
              "#sk-container-id-2 div.sk-estimator input.sk-toggleable__control:checked~label.sk-toggleable__label {\n",
              "  /* unfitted */\n",
              "  background-color: var(--sklearn-color-unfitted-level-2);\n",
              "}\n",
              "\n",
              "#sk-container-id-2 div.sk-estimator.fitted input.sk-toggleable__control:checked~label.sk-toggleable__label {\n",
              "  /* fitted */\n",
              "  background-color: var(--sklearn-color-fitted-level-2);\n",
              "}\n",
              "\n",
              "#sk-container-id-2 div.sk-label label.sk-toggleable__label,\n",
              "#sk-container-id-2 div.sk-label label {\n",
              "  /* The background is the default theme color */\n",
              "  color: var(--sklearn-color-text-on-default-background);\n",
              "}\n",
              "\n",
              "/* On hover, darken the color of the background */\n",
              "#sk-container-id-2 div.sk-label:hover label.sk-toggleable__label {\n",
              "  color: var(--sklearn-color-text);\n",
              "  background-color: var(--sklearn-color-unfitted-level-2);\n",
              "}\n",
              "\n",
              "/* Label box, darken color on hover, fitted */\n",
              "#sk-container-id-2 div.sk-label.fitted:hover label.sk-toggleable__label.fitted {\n",
              "  color: var(--sklearn-color-text);\n",
              "  background-color: var(--sklearn-color-fitted-level-2);\n",
              "}\n",
              "\n",
              "/* Estimator label */\n",
              "\n",
              "#sk-container-id-2 div.sk-label label {\n",
              "  font-family: monospace;\n",
              "  font-weight: bold;\n",
              "  display: inline-block;\n",
              "  line-height: 1.2em;\n",
              "}\n",
              "\n",
              "#sk-container-id-2 div.sk-label-container {\n",
              "  text-align: center;\n",
              "}\n",
              "\n",
              "/* Estimator-specific */\n",
              "#sk-container-id-2 div.sk-estimator {\n",
              "  font-family: monospace;\n",
              "  border: 1px dotted var(--sklearn-color-border-box);\n",
              "  border-radius: 0.25em;\n",
              "  box-sizing: border-box;\n",
              "  margin-bottom: 0.5em;\n",
              "  /* unfitted */\n",
              "  background-color: var(--sklearn-color-unfitted-level-0);\n",
              "}\n",
              "\n",
              "#sk-container-id-2 div.sk-estimator.fitted {\n",
              "  /* fitted */\n",
              "  background-color: var(--sklearn-color-fitted-level-0);\n",
              "}\n",
              "\n",
              "/* on hover */\n",
              "#sk-container-id-2 div.sk-estimator:hover {\n",
              "  /* unfitted */\n",
              "  background-color: var(--sklearn-color-unfitted-level-2);\n",
              "}\n",
              "\n",
              "#sk-container-id-2 div.sk-estimator.fitted:hover {\n",
              "  /* fitted */\n",
              "  background-color: var(--sklearn-color-fitted-level-2);\n",
              "}\n",
              "\n",
              "/* Specification for estimator info (e.g. \"i\" and \"?\") */\n",
              "\n",
              "/* Common style for \"i\" and \"?\" */\n",
              "\n",
              ".sk-estimator-doc-link,\n",
              "a:link.sk-estimator-doc-link,\n",
              "a:visited.sk-estimator-doc-link {\n",
              "  float: right;\n",
              "  font-size: smaller;\n",
              "  line-height: 1em;\n",
              "  font-family: monospace;\n",
              "  background-color: var(--sklearn-color-background);\n",
              "  border-radius: 1em;\n",
              "  height: 1em;\n",
              "  width: 1em;\n",
              "  text-decoration: none !important;\n",
              "  margin-left: 0.5em;\n",
              "  text-align: center;\n",
              "  /* unfitted */\n",
              "  border: var(--sklearn-color-unfitted-level-1) 1pt solid;\n",
              "  color: var(--sklearn-color-unfitted-level-1);\n",
              "}\n",
              "\n",
              ".sk-estimator-doc-link.fitted,\n",
              "a:link.sk-estimator-doc-link.fitted,\n",
              "a:visited.sk-estimator-doc-link.fitted {\n",
              "  /* fitted */\n",
              "  border: var(--sklearn-color-fitted-level-1) 1pt solid;\n",
              "  color: var(--sklearn-color-fitted-level-1);\n",
              "}\n",
              "\n",
              "/* On hover */\n",
              "div.sk-estimator:hover .sk-estimator-doc-link:hover,\n",
              ".sk-estimator-doc-link:hover,\n",
              "div.sk-label-container:hover .sk-estimator-doc-link:hover,\n",
              ".sk-estimator-doc-link:hover {\n",
              "  /* unfitted */\n",
              "  background-color: var(--sklearn-color-unfitted-level-3);\n",
              "  color: var(--sklearn-color-background);\n",
              "  text-decoration: none;\n",
              "}\n",
              "\n",
              "div.sk-estimator.fitted:hover .sk-estimator-doc-link.fitted:hover,\n",
              ".sk-estimator-doc-link.fitted:hover,\n",
              "div.sk-label-container:hover .sk-estimator-doc-link.fitted:hover,\n",
              ".sk-estimator-doc-link.fitted:hover {\n",
              "  /* fitted */\n",
              "  background-color: var(--sklearn-color-fitted-level-3);\n",
              "  color: var(--sklearn-color-background);\n",
              "  text-decoration: none;\n",
              "}\n",
              "\n",
              "/* Span, style for the box shown on hovering the info icon */\n",
              ".sk-estimator-doc-link span {\n",
              "  display: none;\n",
              "  z-index: 9999;\n",
              "  position: relative;\n",
              "  font-weight: normal;\n",
              "  right: .2ex;\n",
              "  padding: .5ex;\n",
              "  margin: .5ex;\n",
              "  width: min-content;\n",
              "  min-width: 20ex;\n",
              "  max-width: 50ex;\n",
              "  color: var(--sklearn-color-text);\n",
              "  box-shadow: 2pt 2pt 4pt #999;\n",
              "  /* unfitted */\n",
              "  background: var(--sklearn-color-unfitted-level-0);\n",
              "  border: .5pt solid var(--sklearn-color-unfitted-level-3);\n",
              "}\n",
              "\n",
              ".sk-estimator-doc-link.fitted span {\n",
              "  /* fitted */\n",
              "  background: var(--sklearn-color-fitted-level-0);\n",
              "  border: var(--sklearn-color-fitted-level-3);\n",
              "}\n",
              "\n",
              ".sk-estimator-doc-link:hover span {\n",
              "  display: block;\n",
              "}\n",
              "\n",
              "/* \"?\"-specific style due to the `<a>` HTML tag */\n",
              "\n",
              "#sk-container-id-2 a.estimator_doc_link {\n",
              "  float: right;\n",
              "  font-size: 1rem;\n",
              "  line-height: 1em;\n",
              "  font-family: monospace;\n",
              "  background-color: var(--sklearn-color-background);\n",
              "  border-radius: 1rem;\n",
              "  height: 1rem;\n",
              "  width: 1rem;\n",
              "  text-decoration: none;\n",
              "  /* unfitted */\n",
              "  color: var(--sklearn-color-unfitted-level-1);\n",
              "  border: var(--sklearn-color-unfitted-level-1) 1pt solid;\n",
              "}\n",
              "\n",
              "#sk-container-id-2 a.estimator_doc_link.fitted {\n",
              "  /* fitted */\n",
              "  border: var(--sklearn-color-fitted-level-1) 1pt solid;\n",
              "  color: var(--sklearn-color-fitted-level-1);\n",
              "}\n",
              "\n",
              "/* On hover */\n",
              "#sk-container-id-2 a.estimator_doc_link:hover {\n",
              "  /* unfitted */\n",
              "  background-color: var(--sklearn-color-unfitted-level-3);\n",
              "  color: var(--sklearn-color-background);\n",
              "  text-decoration: none;\n",
              "}\n",
              "\n",
              "#sk-container-id-2 a.estimator_doc_link.fitted:hover {\n",
              "  /* fitted */\n",
              "  background-color: var(--sklearn-color-fitted-level-3);\n",
              "}\n",
              "</style><div id=\"sk-container-id-2\" class=\"sk-top-container\"><div class=\"sk-text-repr-fallback\"><pre>HistGradientBoostingClassifier(l2_regularization=np.float64(0.0057280871105010005),\n",
              "                               learning_rate=np.float64(0.01711360328147873),\n",
              "                               max_iter=950, max_leaf_nodes=20,\n",
              "                               random_state=42)</pre><b>In a Jupyter environment, please rerun this cell to show the HTML representation or trust the notebook. <br />On GitHub, the HTML representation is unable to render, please try loading this page with nbviewer.org.</b></div><div class=\"sk-container\" hidden><div class=\"sk-item\"><div class=\"sk-estimator fitted sk-toggleable\"><input class=\"sk-toggleable__control sk-hidden--visually\" id=\"sk-estimator-id-2\" type=\"checkbox\" checked><label for=\"sk-estimator-id-2\" class=\"sk-toggleable__label fitted sk-toggleable__label-arrow\"><div><div>HistGradientBoostingClassifier</div></div><div><a class=\"sk-estimator-doc-link fitted\" rel=\"noreferrer\" target=\"_blank\" href=\"https://scikit-learn.org/1.6/modules/generated/sklearn.ensemble.HistGradientBoostingClassifier.html\">?<span>Documentation for HistGradientBoostingClassifier</span></a><span class=\"sk-estimator-doc-link fitted\">i<span>Fitted</span></span></div></label><div class=\"sk-toggleable__content fitted\"><pre>HistGradientBoostingClassifier(l2_regularization=np.float64(0.0057280871105010005),\n",
              "                               learning_rate=np.float64(0.01711360328147873),\n",
              "                               max_iter=950, max_leaf_nodes=20,\n",
              "                               random_state=42)</pre></div> </div></div></div></div>"
            ],
            "text/plain": [
              "HistGradientBoostingClassifier(l2_regularization=np.float64(0.0057280871105010005),\n",
              "                               learning_rate=np.float64(0.01711360328147873),\n",
              "                               max_iter=950, max_leaf_nodes=20,\n",
              "                               random_state=42)"
            ]
          },
          "execution_count": 86,
          "metadata": {},
          "output_type": "execute_result"
        }
      ],
      "source": [
        "trained_best_model"
      ]
    },
    {
      "cell_type": "code",
      "execution_count": 87,
      "metadata": {
        "colab": {
          "base_uri": "https://localhost:8080/"
        },
        "id": "yWcHfiX5qHaJ",
        "outputId": "b396cbfd-5419-4803-d139-b85028a83ab0"
      },
      "outputs": [
        {
          "data": {
            "text/plain": [
              "True"
            ]
          },
          "execution_count": 87,
          "metadata": {},
          "output_type": "execute_result"
        }
      ],
      "source": [
        "is_model_fitted(trained_best_model)"
      ]
    },
    {
      "cell_type": "markdown",
      "metadata": {},
      "source": [
        "### 9.1.2. Best Model Submission 2"
      ]
    },
    {
      "cell_type": "code",
      "execution_count": 114,
      "metadata": {},
      "outputs": [
        {
          "data": {
            "text/html": [
              "<style>#sk-container-id-2 {\n",
              "  /* Definition of color scheme common for light and dark mode */\n",
              "  --sklearn-color-text: black;\n",
              "  --sklearn-color-line: gray;\n",
              "  /* Definition of color scheme for unfitted estimators */\n",
              "  --sklearn-color-unfitted-level-0: #fff5e6;\n",
              "  --sklearn-color-unfitted-level-1: #f6e4d2;\n",
              "  --sklearn-color-unfitted-level-2: #ffe0b3;\n",
              "  --sklearn-color-unfitted-level-3: chocolate;\n",
              "  /* Definition of color scheme for fitted estimators */\n",
              "  --sklearn-color-fitted-level-0: #f0f8ff;\n",
              "  --sklearn-color-fitted-level-1: #d4ebff;\n",
              "  --sklearn-color-fitted-level-2: #b3dbfd;\n",
              "  --sklearn-color-fitted-level-3: cornflowerblue;\n",
              "\n",
              "  /* Specific color for light theme */\n",
              "  --sklearn-color-text-on-default-background: var(--sg-text-color, var(--theme-code-foreground, var(--jp-content-font-color1, black)));\n",
              "  --sklearn-color-background: var(--sg-background-color, var(--theme-background, var(--jp-layout-color0, white)));\n",
              "  --sklearn-color-border-box: var(--sg-text-color, var(--theme-code-foreground, var(--jp-content-font-color1, black)));\n",
              "  --sklearn-color-icon: #696969;\n",
              "\n",
              "  @media (prefers-color-scheme: dark) {\n",
              "    /* Redefinition of color scheme for dark theme */\n",
              "    --sklearn-color-text-on-default-background: var(--sg-text-color, var(--theme-code-foreground, var(--jp-content-font-color1, white)));\n",
              "    --sklearn-color-background: var(--sg-background-color, var(--theme-background, var(--jp-layout-color0, #111)));\n",
              "    --sklearn-color-border-box: var(--sg-text-color, var(--theme-code-foreground, var(--jp-content-font-color1, white)));\n",
              "    --sklearn-color-icon: #878787;\n",
              "  }\n",
              "}\n",
              "\n",
              "#sk-container-id-2 {\n",
              "  color: var(--sklearn-color-text);\n",
              "}\n",
              "\n",
              "#sk-container-id-2 pre {\n",
              "  padding: 0;\n",
              "}\n",
              "\n",
              "#sk-container-id-2 input.sk-hidden--visually {\n",
              "  border: 0;\n",
              "  clip: rect(1px 1px 1px 1px);\n",
              "  clip: rect(1px, 1px, 1px, 1px);\n",
              "  height: 1px;\n",
              "  margin: -1px;\n",
              "  overflow: hidden;\n",
              "  padding: 0;\n",
              "  position: absolute;\n",
              "  width: 1px;\n",
              "}\n",
              "\n",
              "#sk-container-id-2 div.sk-dashed-wrapped {\n",
              "  border: 1px dashed var(--sklearn-color-line);\n",
              "  margin: 0 0.4em 0.5em 0.4em;\n",
              "  box-sizing: border-box;\n",
              "  padding-bottom: 0.4em;\n",
              "  background-color: var(--sklearn-color-background);\n",
              "}\n",
              "\n",
              "#sk-container-id-2 div.sk-container {\n",
              "  /* jupyter's `normalize.less` sets `[hidden] { display: none; }`\n",
              "     but bootstrap.min.css set `[hidden] { display: none !important; }`\n",
              "     so we also need the `!important` here to be able to override the\n",
              "     default hidden behavior on the sphinx rendered scikit-learn.org.\n",
              "     See: https://github.com/scikit-learn/scikit-learn/issues/21755 */\n",
              "  display: inline-block !important;\n",
              "  position: relative;\n",
              "}\n",
              "\n",
              "#sk-container-id-2 div.sk-text-repr-fallback {\n",
              "  display: none;\n",
              "}\n",
              "\n",
              "div.sk-parallel-item,\n",
              "div.sk-serial,\n",
              "div.sk-item {\n",
              "  /* draw centered vertical line to link estimators */\n",
              "  background-image: linear-gradient(var(--sklearn-color-text-on-default-background), var(--sklearn-color-text-on-default-background));\n",
              "  background-size: 2px 100%;\n",
              "  background-repeat: no-repeat;\n",
              "  background-position: center center;\n",
              "}\n",
              "\n",
              "/* Parallel-specific style estimator block */\n",
              "\n",
              "#sk-container-id-2 div.sk-parallel-item::after {\n",
              "  content: \"\";\n",
              "  width: 100%;\n",
              "  border-bottom: 2px solid var(--sklearn-color-text-on-default-background);\n",
              "  flex-grow: 1;\n",
              "}\n",
              "\n",
              "#sk-container-id-2 div.sk-parallel {\n",
              "  display: flex;\n",
              "  align-items: stretch;\n",
              "  justify-content: center;\n",
              "  background-color: var(--sklearn-color-background);\n",
              "  position: relative;\n",
              "}\n",
              "\n",
              "#sk-container-id-2 div.sk-parallel-item {\n",
              "  display: flex;\n",
              "  flex-direction: column;\n",
              "}\n",
              "\n",
              "#sk-container-id-2 div.sk-parallel-item:first-child::after {\n",
              "  align-self: flex-end;\n",
              "  width: 50%;\n",
              "}\n",
              "\n",
              "#sk-container-id-2 div.sk-parallel-item:last-child::after {\n",
              "  align-self: flex-start;\n",
              "  width: 50%;\n",
              "}\n",
              "\n",
              "#sk-container-id-2 div.sk-parallel-item:only-child::after {\n",
              "  width: 0;\n",
              "}\n",
              "\n",
              "/* Serial-specific style estimator block */\n",
              "\n",
              "#sk-container-id-2 div.sk-serial {\n",
              "  display: flex;\n",
              "  flex-direction: column;\n",
              "  align-items: center;\n",
              "  background-color: var(--sklearn-color-background);\n",
              "  padding-right: 1em;\n",
              "  padding-left: 1em;\n",
              "}\n",
              "\n",
              "\n",
              "/* Toggleable style: style used for estimator/Pipeline/ColumnTransformer box that is\n",
              "clickable and can be expanded/collapsed.\n",
              "- Pipeline and ColumnTransformer use this feature and define the default style\n",
              "- Estimators will overwrite some part of the style using the `sk-estimator` class\n",
              "*/\n",
              "\n",
              "/* Pipeline and ColumnTransformer style (default) */\n",
              "\n",
              "#sk-container-id-2 div.sk-toggleable {\n",
              "  /* Default theme specific background. It is overwritten whether we have a\n",
              "  specific estimator or a Pipeline/ColumnTransformer */\n",
              "  background-color: var(--sklearn-color-background);\n",
              "}\n",
              "\n",
              "/* Toggleable label */\n",
              "#sk-container-id-2 label.sk-toggleable__label {\n",
              "  cursor: pointer;\n",
              "  display: block;\n",
              "  width: 100%;\n",
              "  margin-bottom: 0;\n",
              "  padding: 0.5em;\n",
              "  box-sizing: border-box;\n",
              "  text-align: center;\n",
              "}\n",
              "\n",
              "#sk-container-id-2 label.sk-toggleable__label-arrow:before {\n",
              "  /* Arrow on the left of the label */\n",
              "  content: \"▸\";\n",
              "  float: left;\n",
              "  margin-right: 0.25em;\n",
              "  color: var(--sklearn-color-icon);\n",
              "}\n",
              "\n",
              "#sk-container-id-2 label.sk-toggleable__label-arrow:hover:before {\n",
              "  color: var(--sklearn-color-text);\n",
              "}\n",
              "\n",
              "/* Toggleable content - dropdown */\n",
              "\n",
              "#sk-container-id-2 div.sk-toggleable__content {\n",
              "  max-height: 0;\n",
              "  max-width: 0;\n",
              "  overflow: hidden;\n",
              "  text-align: left;\n",
              "  /* unfitted */\n",
              "  background-color: var(--sklearn-color-unfitted-level-0);\n",
              "}\n",
              "\n",
              "#sk-container-id-2 div.sk-toggleable__content.fitted {\n",
              "  /* fitted */\n",
              "  background-color: var(--sklearn-color-fitted-level-0);\n",
              "}\n",
              "\n",
              "#sk-container-id-2 div.sk-toggleable__content pre {\n",
              "  margin: 0.2em;\n",
              "  border-radius: 0.25em;\n",
              "  color: var(--sklearn-color-text);\n",
              "  /* unfitted */\n",
              "  background-color: var(--sklearn-color-unfitted-level-0);\n",
              "}\n",
              "\n",
              "#sk-container-id-2 div.sk-toggleable__content.fitted pre {\n",
              "  /* unfitted */\n",
              "  background-color: var(--sklearn-color-fitted-level-0);\n",
              "}\n",
              "\n",
              "#sk-container-id-2 input.sk-toggleable__control:checked~div.sk-toggleable__content {\n",
              "  /* Expand drop-down */\n",
              "  max-height: 200px;\n",
              "  max-width: 100%;\n",
              "  overflow: auto;\n",
              "}\n",
              "\n",
              "#sk-container-id-2 input.sk-toggleable__control:checked~label.sk-toggleable__label-arrow:before {\n",
              "  content: \"▾\";\n",
              "}\n",
              "\n",
              "/* Pipeline/ColumnTransformer-specific style */\n",
              "\n",
              "#sk-container-id-2 div.sk-label input.sk-toggleable__control:checked~label.sk-toggleable__label {\n",
              "  color: var(--sklearn-color-text);\n",
              "  background-color: var(--sklearn-color-unfitted-level-2);\n",
              "}\n",
              "\n",
              "#sk-container-id-2 div.sk-label.fitted input.sk-toggleable__control:checked~label.sk-toggleable__label {\n",
              "  background-color: var(--sklearn-color-fitted-level-2);\n",
              "}\n",
              "\n",
              "/* Estimator-specific style */\n",
              "\n",
              "/* Colorize estimator box */\n",
              "#sk-container-id-2 div.sk-estimator input.sk-toggleable__control:checked~label.sk-toggleable__label {\n",
              "  /* unfitted */\n",
              "  background-color: var(--sklearn-color-unfitted-level-2);\n",
              "}\n",
              "\n",
              "#sk-container-id-2 div.sk-estimator.fitted input.sk-toggleable__control:checked~label.sk-toggleable__label {\n",
              "  /* fitted */\n",
              "  background-color: var(--sklearn-color-fitted-level-2);\n",
              "}\n",
              "\n",
              "#sk-container-id-2 div.sk-label label.sk-toggleable__label,\n",
              "#sk-container-id-2 div.sk-label label {\n",
              "  /* The background is the default theme color */\n",
              "  color: var(--sklearn-color-text-on-default-background);\n",
              "}\n",
              "\n",
              "/* On hover, darken the color of the background */\n",
              "#sk-container-id-2 div.sk-label:hover label.sk-toggleable__label {\n",
              "  color: var(--sklearn-color-text);\n",
              "  background-color: var(--sklearn-color-unfitted-level-2);\n",
              "}\n",
              "\n",
              "/* Label box, darken color on hover, fitted */\n",
              "#sk-container-id-2 div.sk-label.fitted:hover label.sk-toggleable__label.fitted {\n",
              "  color: var(--sklearn-color-text);\n",
              "  background-color: var(--sklearn-color-fitted-level-2);\n",
              "}\n",
              "\n",
              "/* Estimator label */\n",
              "\n",
              "#sk-container-id-2 div.sk-label label {\n",
              "  font-family: monospace;\n",
              "  font-weight: bold;\n",
              "  display: inline-block;\n",
              "  line-height: 1.2em;\n",
              "}\n",
              "\n",
              "#sk-container-id-2 div.sk-label-container {\n",
              "  text-align: center;\n",
              "}\n",
              "\n",
              "/* Estimator-specific */\n",
              "#sk-container-id-2 div.sk-estimator {\n",
              "  font-family: monospace;\n",
              "  border: 1px dotted var(--sklearn-color-border-box);\n",
              "  border-radius: 0.25em;\n",
              "  box-sizing: border-box;\n",
              "  margin-bottom: 0.5em;\n",
              "  /* unfitted */\n",
              "  background-color: var(--sklearn-color-unfitted-level-0);\n",
              "}\n",
              "\n",
              "#sk-container-id-2 div.sk-estimator.fitted {\n",
              "  /* fitted */\n",
              "  background-color: var(--sklearn-color-fitted-level-0);\n",
              "}\n",
              "\n",
              "/* on hover */\n",
              "#sk-container-id-2 div.sk-estimator:hover {\n",
              "  /* unfitted */\n",
              "  background-color: var(--sklearn-color-unfitted-level-2);\n",
              "}\n",
              "\n",
              "#sk-container-id-2 div.sk-estimator.fitted:hover {\n",
              "  /* fitted */\n",
              "  background-color: var(--sklearn-color-fitted-level-2);\n",
              "}\n",
              "\n",
              "/* Specification for estimator info (e.g. \"i\" and \"?\") */\n",
              "\n",
              "/* Common style for \"i\" and \"?\" */\n",
              "\n",
              ".sk-estimator-doc-link,\n",
              "a:link.sk-estimator-doc-link,\n",
              "a:visited.sk-estimator-doc-link {\n",
              "  float: right;\n",
              "  font-size: smaller;\n",
              "  line-height: 1em;\n",
              "  font-family: monospace;\n",
              "  background-color: var(--sklearn-color-background);\n",
              "  border-radius: 1em;\n",
              "  height: 1em;\n",
              "  width: 1em;\n",
              "  text-decoration: none !important;\n",
              "  margin-left: 1ex;\n",
              "  /* unfitted */\n",
              "  border: var(--sklearn-color-unfitted-level-1) 1pt solid;\n",
              "  color: var(--sklearn-color-unfitted-level-1);\n",
              "}\n",
              "\n",
              ".sk-estimator-doc-link.fitted,\n",
              "a:link.sk-estimator-doc-link.fitted,\n",
              "a:visited.sk-estimator-doc-link.fitted {\n",
              "  /* fitted */\n",
              "  border: var(--sklearn-color-fitted-level-1) 1pt solid;\n",
              "  color: var(--sklearn-color-fitted-level-1);\n",
              "}\n",
              "\n",
              "/* On hover */\n",
              "div.sk-estimator:hover .sk-estimator-doc-link:hover,\n",
              ".sk-estimator-doc-link:hover,\n",
              "div.sk-label-container:hover .sk-estimator-doc-link:hover,\n",
              ".sk-estimator-doc-link:hover {\n",
              "  /* unfitted */\n",
              "  background-color: var(--sklearn-color-unfitted-level-3);\n",
              "  color: var(--sklearn-color-background);\n",
              "  text-decoration: none;\n",
              "}\n",
              "\n",
              "div.sk-estimator.fitted:hover .sk-estimator-doc-link.fitted:hover,\n",
              ".sk-estimator-doc-link.fitted:hover,\n",
              "div.sk-label-container:hover .sk-estimator-doc-link.fitted:hover,\n",
              ".sk-estimator-doc-link.fitted:hover {\n",
              "  /* fitted */\n",
              "  background-color: var(--sklearn-color-fitted-level-3);\n",
              "  color: var(--sklearn-color-background);\n",
              "  text-decoration: none;\n",
              "}\n",
              "\n",
              "/* Span, style for the box shown on hovering the info icon */\n",
              ".sk-estimator-doc-link span {\n",
              "  display: none;\n",
              "  z-index: 9999;\n",
              "  position: relative;\n",
              "  font-weight: normal;\n",
              "  right: .2ex;\n",
              "  padding: .5ex;\n",
              "  margin: .5ex;\n",
              "  width: min-content;\n",
              "  min-width: 20ex;\n",
              "  max-width: 50ex;\n",
              "  color: var(--sklearn-color-text);\n",
              "  box-shadow: 2pt 2pt 4pt #999;\n",
              "  /* unfitted */\n",
              "  background: var(--sklearn-color-unfitted-level-0);\n",
              "  border: .5pt solid var(--sklearn-color-unfitted-level-3);\n",
              "}\n",
              "\n",
              ".sk-estimator-doc-link.fitted span {\n",
              "  /* fitted */\n",
              "  background: var(--sklearn-color-fitted-level-0);\n",
              "  border: var(--sklearn-color-fitted-level-3);\n",
              "}\n",
              "\n",
              ".sk-estimator-doc-link:hover span {\n",
              "  display: block;\n",
              "}\n",
              "\n",
              "/* \"?\"-specific style due to the `<a>` HTML tag */\n",
              "\n",
              "#sk-container-id-2 a.estimator_doc_link {\n",
              "  float: right;\n",
              "  font-size: 1rem;\n",
              "  line-height: 1em;\n",
              "  font-family: monospace;\n",
              "  background-color: var(--sklearn-color-background);\n",
              "  border-radius: 1rem;\n",
              "  height: 1rem;\n",
              "  width: 1rem;\n",
              "  text-decoration: none;\n",
              "  /* unfitted */\n",
              "  color: var(--sklearn-color-unfitted-level-1);\n",
              "  border: var(--sklearn-color-unfitted-level-1) 1pt solid;\n",
              "}\n",
              "\n",
              "#sk-container-id-2 a.estimator_doc_link.fitted {\n",
              "  /* fitted */\n",
              "  border: var(--sklearn-color-fitted-level-1) 1pt solid;\n",
              "  color: var(--sklearn-color-fitted-level-1);\n",
              "}\n",
              "\n",
              "/* On hover */\n",
              "#sk-container-id-2 a.estimator_doc_link:hover {\n",
              "  /* unfitted */\n",
              "  background-color: var(--sklearn-color-unfitted-level-3);\n",
              "  color: var(--sklearn-color-background);\n",
              "  text-decoration: none;\n",
              "}\n",
              "\n",
              "#sk-container-id-2 a.estimator_doc_link.fitted:hover {\n",
              "  /* fitted */\n",
              "  background-color: var(--sklearn-color-fitted-level-3);\n",
              "}\n",
              "</style><div id=\"sk-container-id-2\" class=\"sk-top-container\"><div class=\"sk-text-repr-fallback\"><pre>VotingClassifier(estimators=[(&#x27;xgb&#x27;,\n",
              "                              XGBClassifier(base_score=None, booster=None,\n",
              "                                            callbacks=None,\n",
              "                                            colsample_bylevel=None,\n",
              "                                            colsample_bynode=None,\n",
              "                                            colsample_bytree=0.6005456613346352,\n",
              "                                            device=&#x27;cuda&#x27;,\n",
              "                                            early_stopping_rounds=None,\n",
              "                                            enable_categorical=False,\n",
              "                                            eval_metric=None,\n",
              "                                            feature_types=None,\n",
              "                                            gamma=2.4074510195367713,\n",
              "                                            grow_policy=None,\n",
              "                                            importance_type=None,\n",
              "                                            interactio...\n",
              "                                            importance_type=None,\n",
              "                                            interaction_constraints=None,\n",
              "                                            learning_rate=0.024548396616239795,\n",
              "                                            max_bin=None,\n",
              "                                            max_cat_threshold=None,\n",
              "                                            max_cat_to_onehot=None,\n",
              "                                            max_delta_step=None, max_depth=3,\n",
              "                                            max_leaves=None, min_child_weight=3,\n",
              "                                            missing=nan,\n",
              "                                            monotone_constraints=None,\n",
              "                                            multi_strategy=None,\n",
              "                                            n_estimators=872, n_jobs=None,\n",
              "                                            num_parallel_tree=None,\n",
              "                                            random_state=42, ...))],\n",
              "                 voting=&#x27;soft&#x27;)</pre><b>In a Jupyter environment, please rerun this cell to show the HTML representation or trust the notebook. <br />On GitHub, the HTML representation is unable to render, please try loading this page with nbviewer.org.</b></div><div class=\"sk-container\" hidden><div class=\"sk-item sk-dashed-wrapped\"><div class=\"sk-label-container\"><div class=\"sk-label  sk-toggleable\"><input class=\"sk-toggleable__control sk-hidden--visually\" id=\"sk-estimator-id-4\" type=\"checkbox\" ><label for=\"sk-estimator-id-4\" class=\"sk-toggleable__label  sk-toggleable__label-arrow \">&nbsp;&nbsp;VotingClassifier<a class=\"sk-estimator-doc-link \" rel=\"noreferrer\" target=\"_blank\" href=\"https://scikit-learn.org/1.5/modules/generated/sklearn.ensemble.VotingClassifier.html\">?<span>Documentation for VotingClassifier</span></a><span class=\"sk-estimator-doc-link \">i<span>Not fitted</span></span></label><div class=\"sk-toggleable__content \"><pre>VotingClassifier(estimators=[(&#x27;xgb&#x27;,\n",
              "                              XGBClassifier(base_score=None, booster=None,\n",
              "                                            callbacks=None,\n",
              "                                            colsample_bylevel=None,\n",
              "                                            colsample_bynode=None,\n",
              "                                            colsample_bytree=0.6005456613346352,\n",
              "                                            device=&#x27;cuda&#x27;,\n",
              "                                            early_stopping_rounds=None,\n",
              "                                            enable_categorical=False,\n",
              "                                            eval_metric=None,\n",
              "                                            feature_types=None,\n",
              "                                            gamma=2.4074510195367713,\n",
              "                                            grow_policy=None,\n",
              "                                            importance_type=None,\n",
              "                                            interactio...\n",
              "                                            importance_type=None,\n",
              "                                            interaction_constraints=None,\n",
              "                                            learning_rate=0.024548396616239795,\n",
              "                                            max_bin=None,\n",
              "                                            max_cat_threshold=None,\n",
              "                                            max_cat_to_onehot=None,\n",
              "                                            max_delta_step=None, max_depth=3,\n",
              "                                            max_leaves=None, min_child_weight=3,\n",
              "                                            missing=nan,\n",
              "                                            monotone_constraints=None,\n",
              "                                            multi_strategy=None,\n",
              "                                            n_estimators=872, n_jobs=None,\n",
              "                                            num_parallel_tree=None,\n",
              "                                            random_state=42, ...))],\n",
              "                 voting=&#x27;soft&#x27;)</pre></div> </div></div><div class=\"sk-parallel\"><div class=\"sk-parallel-item\"><div class=\"sk-item\"><div class=\"sk-label-container\"><div class=\"sk-label  sk-toggleable\"><label>xgb</label></div></div><div class=\"sk-serial\"><div class=\"sk-item\"><div class=\"sk-estimator  sk-toggleable\"><input class=\"sk-toggleable__control sk-hidden--visually\" id=\"sk-estimator-id-5\" type=\"checkbox\" ><label for=\"sk-estimator-id-5\" class=\"sk-toggleable__label  sk-toggleable__label-arrow \">XGBClassifier</label><div class=\"sk-toggleable__content \"><pre>XGBClassifier(base_score=None, booster=None, callbacks=None,\n",
              "              colsample_bylevel=None, colsample_bynode=None,\n",
              "              colsample_bytree=0.6005456613346352, device=&#x27;cuda&#x27;,\n",
              "              early_stopping_rounds=None, enable_categorical=False,\n",
              "              eval_metric=None, feature_types=None, gamma=2.4074510195367713,\n",
              "              grow_policy=None, importance_type=None,\n",
              "              interaction_constraints=None, learning_rate=0.021790657446343016,\n",
              "              max_bin=None, max_cat_threshold=None, max_cat_to_onehot=None,\n",
              "              max_delta_step=None, max_depth=10, max_leaves=None,\n",
              "              min_child_weight=2, missing=nan, monotone_constraints=None,\n",
              "              multi_strategy=None, n_estimators=403, n_jobs=None,\n",
              "              num_parallel_tree=None, random_state=42, ...)</pre></div> </div></div></div></div></div><div class=\"sk-parallel-item\"><div class=\"sk-item\"><div class=\"sk-label-container\"><div class=\"sk-label  sk-toggleable\"><label>xgb2</label></div></div><div class=\"sk-serial\"><div class=\"sk-item\"><div class=\"sk-estimator  sk-toggleable\"><input class=\"sk-toggleable__control sk-hidden--visually\" id=\"sk-estimator-id-6\" type=\"checkbox\" ><label for=\"sk-estimator-id-6\" class=\"sk-toggleable__label  sk-toggleable__label-arrow \">XGBClassifier</label><div class=\"sk-toggleable__content \"><pre>XGBClassifier(base_score=None, booster=None, callbacks=None,\n",
              "              colsample_bylevel=None, colsample_bynode=None,\n",
              "              colsample_bytree=0.6405378503512776, device=&#x27;cuda&#x27;,\n",
              "              early_stopping_rounds=None, enable_categorical=False,\n",
              "              eval_metric=None, feature_types=None, gamma=1.4011292716336397,\n",
              "              grow_policy=None, importance_type=None,\n",
              "              interaction_constraints=None, learning_rate=0.024548396616239795,\n",
              "              max_bin=None, max_cat_threshold=None, max_cat_to_onehot=None,\n",
              "              max_delta_step=None, max_depth=3, max_leaves=None,\n",
              "              min_child_weight=3, missing=nan, monotone_constraints=None,\n",
              "              multi_strategy=None, n_estimators=872, n_jobs=None,\n",
              "              num_parallel_tree=None, random_state=42, ...)</pre></div> </div></div></div></div></div></div></div></div></div>"
            ],
            "text/plain": [
              "VotingClassifier(estimators=[('xgb',\n",
              "                              XGBClassifier(base_score=None, booster=None,\n",
              "                                            callbacks=None,\n",
              "                                            colsample_bylevel=None,\n",
              "                                            colsample_bynode=None,\n",
              "                                            colsample_bytree=0.6005456613346352,\n",
              "                                            device='cuda',\n",
              "                                            early_stopping_rounds=None,\n",
              "                                            enable_categorical=False,\n",
              "                                            eval_metric=None,\n",
              "                                            feature_types=None,\n",
              "                                            gamma=2.4074510195367713,\n",
              "                                            grow_policy=None,\n",
              "                                            importance_type=None,\n",
              "                                            interactio...\n",
              "                                            importance_type=None,\n",
              "                                            interaction_constraints=None,\n",
              "                                            learning_rate=0.024548396616239795,\n",
              "                                            max_bin=None,\n",
              "                                            max_cat_threshold=None,\n",
              "                                            max_cat_to_onehot=None,\n",
              "                                            max_delta_step=None, max_depth=3,\n",
              "                                            max_leaves=None, min_child_weight=3,\n",
              "                                            missing=nan,\n",
              "                                            monotone_constraints=None,\n",
              "                                            multi_strategy=None,\n",
              "                                            n_estimators=872, n_jobs=None,\n",
              "                                            num_parallel_tree=None,\n",
              "                                            random_state=42, ...))],\n",
              "                 voting='soft')"
            ]
          },
          "execution_count": 114,
          "metadata": {},
          "output_type": "execute_result"
        }
      ],
      "source": [
        "best_model_2 = ensemble_models[\"Voting Classifier (Tuned)\"]\n",
        "best_model_2"
      ]
    },
    {
      "cell_type": "code",
      "execution_count": 115,
      "metadata": {},
      "outputs": [
        {
          "data": {
            "text/plain": [
              "False"
            ]
          },
          "execution_count": 115,
          "metadata": {},
          "output_type": "execute_result"
        }
      ],
      "source": [
        "is_model_fitted(best_model_2)"
      ]
    },
    {
      "cell_type": "code",
      "execution_count": null,
      "metadata": {},
      "outputs": [
        {
          "data": {
            "text/html": [
              "<style>#sk-container-id-3 {\n",
              "  /* Definition of color scheme common for light and dark mode */\n",
              "  --sklearn-color-text: black;\n",
              "  --sklearn-color-line: gray;\n",
              "  /* Definition of color scheme for unfitted estimators */\n",
              "  --sklearn-color-unfitted-level-0: #fff5e6;\n",
              "  --sklearn-color-unfitted-level-1: #f6e4d2;\n",
              "  --sklearn-color-unfitted-level-2: #ffe0b3;\n",
              "  --sklearn-color-unfitted-level-3: chocolate;\n",
              "  /* Definition of color scheme for fitted estimators */\n",
              "  --sklearn-color-fitted-level-0: #f0f8ff;\n",
              "  --sklearn-color-fitted-level-1: #d4ebff;\n",
              "  --sklearn-color-fitted-level-2: #b3dbfd;\n",
              "  --sklearn-color-fitted-level-3: cornflowerblue;\n",
              "\n",
              "  /* Specific color for light theme */\n",
              "  --sklearn-color-text-on-default-background: var(--sg-text-color, var(--theme-code-foreground, var(--jp-content-font-color1, black)));\n",
              "  --sklearn-color-background: var(--sg-background-color, var(--theme-background, var(--jp-layout-color0, white)));\n",
              "  --sklearn-color-border-box: var(--sg-text-color, var(--theme-code-foreground, var(--jp-content-font-color1, black)));\n",
              "  --sklearn-color-icon: #696969;\n",
              "\n",
              "  @media (prefers-color-scheme: dark) {\n",
              "    /* Redefinition of color scheme for dark theme */\n",
              "    --sklearn-color-text-on-default-background: var(--sg-text-color, var(--theme-code-foreground, var(--jp-content-font-color1, white)));\n",
              "    --sklearn-color-background: var(--sg-background-color, var(--theme-background, var(--jp-layout-color0, #111)));\n",
              "    --sklearn-color-border-box: var(--sg-text-color, var(--theme-code-foreground, var(--jp-content-font-color1, white)));\n",
              "    --sklearn-color-icon: #878787;\n",
              "  }\n",
              "}\n",
              "\n",
              "#sk-container-id-3 {\n",
              "  color: var(--sklearn-color-text);\n",
              "}\n",
              "\n",
              "#sk-container-id-3 pre {\n",
              "  padding: 0;\n",
              "}\n",
              "\n",
              "#sk-container-id-3 input.sk-hidden--visually {\n",
              "  border: 0;\n",
              "  clip: rect(1px 1px 1px 1px);\n",
              "  clip: rect(1px, 1px, 1px, 1px);\n",
              "  height: 1px;\n",
              "  margin: -1px;\n",
              "  overflow: hidden;\n",
              "  padding: 0;\n",
              "  position: absolute;\n",
              "  width: 1px;\n",
              "}\n",
              "\n",
              "#sk-container-id-3 div.sk-dashed-wrapped {\n",
              "  border: 1px dashed var(--sklearn-color-line);\n",
              "  margin: 0 0.4em 0.5em 0.4em;\n",
              "  box-sizing: border-box;\n",
              "  padding-bottom: 0.4em;\n",
              "  background-color: var(--sklearn-color-background);\n",
              "}\n",
              "\n",
              "#sk-container-id-3 div.sk-container {\n",
              "  /* jupyter's `normalize.less` sets `[hidden] { display: none; }`\n",
              "     but bootstrap.min.css set `[hidden] { display: none !important; }`\n",
              "     so we also need the `!important` here to be able to override the\n",
              "     default hidden behavior on the sphinx rendered scikit-learn.org.\n",
              "     See: https://github.com/scikit-learn/scikit-learn/issues/21755 */\n",
              "  display: inline-block !important;\n",
              "  position: relative;\n",
              "}\n",
              "\n",
              "#sk-container-id-3 div.sk-text-repr-fallback {\n",
              "  display: none;\n",
              "}\n",
              "\n",
              "div.sk-parallel-item,\n",
              "div.sk-serial,\n",
              "div.sk-item {\n",
              "  /* draw centered vertical line to link estimators */\n",
              "  background-image: linear-gradient(var(--sklearn-color-text-on-default-background), var(--sklearn-color-text-on-default-background));\n",
              "  background-size: 2px 100%;\n",
              "  background-repeat: no-repeat;\n",
              "  background-position: center center;\n",
              "}\n",
              "\n",
              "/* Parallel-specific style estimator block */\n",
              "\n",
              "#sk-container-id-3 div.sk-parallel-item::after {\n",
              "  content: \"\";\n",
              "  width: 100%;\n",
              "  border-bottom: 2px solid var(--sklearn-color-text-on-default-background);\n",
              "  flex-grow: 1;\n",
              "}\n",
              "\n",
              "#sk-container-id-3 div.sk-parallel {\n",
              "  display: flex;\n",
              "  align-items: stretch;\n",
              "  justify-content: center;\n",
              "  background-color: var(--sklearn-color-background);\n",
              "  position: relative;\n",
              "}\n",
              "\n",
              "#sk-container-id-3 div.sk-parallel-item {\n",
              "  display: flex;\n",
              "  flex-direction: column;\n",
              "}\n",
              "\n",
              "#sk-container-id-3 div.sk-parallel-item:first-child::after {\n",
              "  align-self: flex-end;\n",
              "  width: 50%;\n",
              "}\n",
              "\n",
              "#sk-container-id-3 div.sk-parallel-item:last-child::after {\n",
              "  align-self: flex-start;\n",
              "  width: 50%;\n",
              "}\n",
              "\n",
              "#sk-container-id-3 div.sk-parallel-item:only-child::after {\n",
              "  width: 0;\n",
              "}\n",
              "\n",
              "/* Serial-specific style estimator block */\n",
              "\n",
              "#sk-container-id-3 div.sk-serial {\n",
              "  display: flex;\n",
              "  flex-direction: column;\n",
              "  align-items: center;\n",
              "  background-color: var(--sklearn-color-background);\n",
              "  padding-right: 1em;\n",
              "  padding-left: 1em;\n",
              "}\n",
              "\n",
              "\n",
              "/* Toggleable style: style used for estimator/Pipeline/ColumnTransformer box that is\n",
              "clickable and can be expanded/collapsed.\n",
              "- Pipeline and ColumnTransformer use this feature and define the default style\n",
              "- Estimators will overwrite some part of the style using the `sk-estimator` class\n",
              "*/\n",
              "\n",
              "/* Pipeline and ColumnTransformer style (default) */\n",
              "\n",
              "#sk-container-id-3 div.sk-toggleable {\n",
              "  /* Default theme specific background. It is overwritten whether we have a\n",
              "  specific estimator or a Pipeline/ColumnTransformer */\n",
              "  background-color: var(--sklearn-color-background);\n",
              "}\n",
              "\n",
              "/* Toggleable label */\n",
              "#sk-container-id-3 label.sk-toggleable__label {\n",
              "  cursor: pointer;\n",
              "  display: block;\n",
              "  width: 100%;\n",
              "  margin-bottom: 0;\n",
              "  padding: 0.5em;\n",
              "  box-sizing: border-box;\n",
              "  text-align: center;\n",
              "}\n",
              "\n",
              "#sk-container-id-3 label.sk-toggleable__label-arrow:before {\n",
              "  /* Arrow on the left of the label */\n",
              "  content: \"▸\";\n",
              "  float: left;\n",
              "  margin-right: 0.25em;\n",
              "  color: var(--sklearn-color-icon);\n",
              "}\n",
              "\n",
              "#sk-container-id-3 label.sk-toggleable__label-arrow:hover:before {\n",
              "  color: var(--sklearn-color-text);\n",
              "}\n",
              "\n",
              "/* Toggleable content - dropdown */\n",
              "\n",
              "#sk-container-id-3 div.sk-toggleable__content {\n",
              "  max-height: 0;\n",
              "  max-width: 0;\n",
              "  overflow: hidden;\n",
              "  text-align: left;\n",
              "  /* unfitted */\n",
              "  background-color: var(--sklearn-color-unfitted-level-0);\n",
              "}\n",
              "\n",
              "#sk-container-id-3 div.sk-toggleable__content.fitted {\n",
              "  /* fitted */\n",
              "  background-color: var(--sklearn-color-fitted-level-0);\n",
              "}\n",
              "\n",
              "#sk-container-id-3 div.sk-toggleable__content pre {\n",
              "  margin: 0.2em;\n",
              "  border-radius: 0.25em;\n",
              "  color: var(--sklearn-color-text);\n",
              "  /* unfitted */\n",
              "  background-color: var(--sklearn-color-unfitted-level-0);\n",
              "}\n",
              "\n",
              "#sk-container-id-3 div.sk-toggleable__content.fitted pre {\n",
              "  /* unfitted */\n",
              "  background-color: var(--sklearn-color-fitted-level-0);\n",
              "}\n",
              "\n",
              "#sk-container-id-3 input.sk-toggleable__control:checked~div.sk-toggleable__content {\n",
              "  /* Expand drop-down */\n",
              "  max-height: 200px;\n",
              "  max-width: 100%;\n",
              "  overflow: auto;\n",
              "}\n",
              "\n",
              "#sk-container-id-3 input.sk-toggleable__control:checked~label.sk-toggleable__label-arrow:before {\n",
              "  content: \"▾\";\n",
              "}\n",
              "\n",
              "/* Pipeline/ColumnTransformer-specific style */\n",
              "\n",
              "#sk-container-id-3 div.sk-label input.sk-toggleable__control:checked~label.sk-toggleable__label {\n",
              "  color: var(--sklearn-color-text);\n",
              "  background-color: var(--sklearn-color-unfitted-level-2);\n",
              "}\n",
              "\n",
              "#sk-container-id-3 div.sk-label.fitted input.sk-toggleable__control:checked~label.sk-toggleable__label {\n",
              "  background-color: var(--sklearn-color-fitted-level-2);\n",
              "}\n",
              "\n",
              "/* Estimator-specific style */\n",
              "\n",
              "/* Colorize estimator box */\n",
              "#sk-container-id-3 div.sk-estimator input.sk-toggleable__control:checked~label.sk-toggleable__label {\n",
              "  /* unfitted */\n",
              "  background-color: var(--sklearn-color-unfitted-level-2);\n",
              "}\n",
              "\n",
              "#sk-container-id-3 div.sk-estimator.fitted input.sk-toggleable__control:checked~label.sk-toggleable__label {\n",
              "  /* fitted */\n",
              "  background-color: var(--sklearn-color-fitted-level-2);\n",
              "}\n",
              "\n",
              "#sk-container-id-3 div.sk-label label.sk-toggleable__label,\n",
              "#sk-container-id-3 div.sk-label label {\n",
              "  /* The background is the default theme color */\n",
              "  color: var(--sklearn-color-text-on-default-background);\n",
              "}\n",
              "\n",
              "/* On hover, darken the color of the background */\n",
              "#sk-container-id-3 div.sk-label:hover label.sk-toggleable__label {\n",
              "  color: var(--sklearn-color-text);\n",
              "  background-color: var(--sklearn-color-unfitted-level-2);\n",
              "}\n",
              "\n",
              "/* Label box, darken color on hover, fitted */\n",
              "#sk-container-id-3 div.sk-label.fitted:hover label.sk-toggleable__label.fitted {\n",
              "  color: var(--sklearn-color-text);\n",
              "  background-color: var(--sklearn-color-fitted-level-2);\n",
              "}\n",
              "\n",
              "/* Estimator label */\n",
              "\n",
              "#sk-container-id-3 div.sk-label label {\n",
              "  font-family: monospace;\n",
              "  font-weight: bold;\n",
              "  display: inline-block;\n",
              "  line-height: 1.2em;\n",
              "}\n",
              "\n",
              "#sk-container-id-3 div.sk-label-container {\n",
              "  text-align: center;\n",
              "}\n",
              "\n",
              "/* Estimator-specific */\n",
              "#sk-container-id-3 div.sk-estimator {\n",
              "  font-family: monospace;\n",
              "  border: 1px dotted var(--sklearn-color-border-box);\n",
              "  border-radius: 0.25em;\n",
              "  box-sizing: border-box;\n",
              "  margin-bottom: 0.5em;\n",
              "  /* unfitted */\n",
              "  background-color: var(--sklearn-color-unfitted-level-0);\n",
              "}\n",
              "\n",
              "#sk-container-id-3 div.sk-estimator.fitted {\n",
              "  /* fitted */\n",
              "  background-color: var(--sklearn-color-fitted-level-0);\n",
              "}\n",
              "\n",
              "/* on hover */\n",
              "#sk-container-id-3 div.sk-estimator:hover {\n",
              "  /* unfitted */\n",
              "  background-color: var(--sklearn-color-unfitted-level-2);\n",
              "}\n",
              "\n",
              "#sk-container-id-3 div.sk-estimator.fitted:hover {\n",
              "  /* fitted */\n",
              "  background-color: var(--sklearn-color-fitted-level-2);\n",
              "}\n",
              "\n",
              "/* Specification for estimator info (e.g. \"i\" and \"?\") */\n",
              "\n",
              "/* Common style for \"i\" and \"?\" */\n",
              "\n",
              ".sk-estimator-doc-link,\n",
              "a:link.sk-estimator-doc-link,\n",
              "a:visited.sk-estimator-doc-link {\n",
              "  float: right;\n",
              "  font-size: smaller;\n",
              "  line-height: 1em;\n",
              "  font-family: monospace;\n",
              "  background-color: var(--sklearn-color-background);\n",
              "  border-radius: 1em;\n",
              "  height: 1em;\n",
              "  width: 1em;\n",
              "  text-decoration: none !important;\n",
              "  margin-left: 1ex;\n",
              "  /* unfitted */\n",
              "  border: var(--sklearn-color-unfitted-level-1) 1pt solid;\n",
              "  color: var(--sklearn-color-unfitted-level-1);\n",
              "}\n",
              "\n",
              ".sk-estimator-doc-link.fitted,\n",
              "a:link.sk-estimator-doc-link.fitted,\n",
              "a:visited.sk-estimator-doc-link.fitted {\n",
              "  /* fitted */\n",
              "  border: var(--sklearn-color-fitted-level-1) 1pt solid;\n",
              "  color: var(--sklearn-color-fitted-level-1);\n",
              "}\n",
              "\n",
              "/* On hover */\n",
              "div.sk-estimator:hover .sk-estimator-doc-link:hover,\n",
              ".sk-estimator-doc-link:hover,\n",
              "div.sk-label-container:hover .sk-estimator-doc-link:hover,\n",
              ".sk-estimator-doc-link:hover {\n",
              "  /* unfitted */\n",
              "  background-color: var(--sklearn-color-unfitted-level-3);\n",
              "  color: var(--sklearn-color-background);\n",
              "  text-decoration: none;\n",
              "}\n",
              "\n",
              "div.sk-estimator.fitted:hover .sk-estimator-doc-link.fitted:hover,\n",
              ".sk-estimator-doc-link.fitted:hover,\n",
              "div.sk-label-container:hover .sk-estimator-doc-link.fitted:hover,\n",
              ".sk-estimator-doc-link.fitted:hover {\n",
              "  /* fitted */\n",
              "  background-color: var(--sklearn-color-fitted-level-3);\n",
              "  color: var(--sklearn-color-background);\n",
              "  text-decoration: none;\n",
              "}\n",
              "\n",
              "/* Span, style for the box shown on hovering the info icon */\n",
              ".sk-estimator-doc-link span {\n",
              "  display: none;\n",
              "  z-index: 9999;\n",
              "  position: relative;\n",
              "  font-weight: normal;\n",
              "  right: .2ex;\n",
              "  padding: .5ex;\n",
              "  margin: .5ex;\n",
              "  width: min-content;\n",
              "  min-width: 20ex;\n",
              "  max-width: 50ex;\n",
              "  color: var(--sklearn-color-text);\n",
              "  box-shadow: 2pt 2pt 4pt #999;\n",
              "  /* unfitted */\n",
              "  background: var(--sklearn-color-unfitted-level-0);\n",
              "  border: .5pt solid var(--sklearn-color-unfitted-level-3);\n",
              "}\n",
              "\n",
              ".sk-estimator-doc-link.fitted span {\n",
              "  /* fitted */\n",
              "  background: var(--sklearn-color-fitted-level-0);\n",
              "  border: var(--sklearn-color-fitted-level-3);\n",
              "}\n",
              "\n",
              ".sk-estimator-doc-link:hover span {\n",
              "  display: block;\n",
              "}\n",
              "\n",
              "/* \"?\"-specific style due to the `<a>` HTML tag */\n",
              "\n",
              "#sk-container-id-3 a.estimator_doc_link {\n",
              "  float: right;\n",
              "  font-size: 1rem;\n",
              "  line-height: 1em;\n",
              "  font-family: monospace;\n",
              "  background-color: var(--sklearn-color-background);\n",
              "  border-radius: 1rem;\n",
              "  height: 1rem;\n",
              "  width: 1rem;\n",
              "  text-decoration: none;\n",
              "  /* unfitted */\n",
              "  color: var(--sklearn-color-unfitted-level-1);\n",
              "  border: var(--sklearn-color-unfitted-level-1) 1pt solid;\n",
              "}\n",
              "\n",
              "#sk-container-id-3 a.estimator_doc_link.fitted {\n",
              "  /* fitted */\n",
              "  border: var(--sklearn-color-fitted-level-1) 1pt solid;\n",
              "  color: var(--sklearn-color-fitted-level-1);\n",
              "}\n",
              "\n",
              "/* On hover */\n",
              "#sk-container-id-3 a.estimator_doc_link:hover {\n",
              "  /* unfitted */\n",
              "  background-color: var(--sklearn-color-unfitted-level-3);\n",
              "  color: var(--sklearn-color-background);\n",
              "  text-decoration: none;\n",
              "}\n",
              "\n",
              "#sk-container-id-3 a.estimator_doc_link.fitted:hover {\n",
              "  /* fitted */\n",
              "  background-color: var(--sklearn-color-fitted-level-3);\n",
              "}\n",
              "</style><div id=\"sk-container-id-3\" class=\"sk-top-container\"><div class=\"sk-text-repr-fallback\"><pre>VotingClassifier(estimators=[(&#x27;xgb&#x27;,\n",
              "                              XGBClassifier(base_score=None, booster=None,\n",
              "                                            callbacks=None,\n",
              "                                            colsample_bylevel=None,\n",
              "                                            colsample_bynode=None,\n",
              "                                            colsample_bytree=0.6005456613346352,\n",
              "                                            device=&#x27;cuda&#x27;,\n",
              "                                            early_stopping_rounds=None,\n",
              "                                            enable_categorical=False,\n",
              "                                            eval_metric=None,\n",
              "                                            feature_types=None,\n",
              "                                            gamma=2.4074510195367713,\n",
              "                                            grow_policy=None,\n",
              "                                            importance_type=None,\n",
              "                                            interactio...\n",
              "                                            importance_type=None,\n",
              "                                            interaction_constraints=None,\n",
              "                                            learning_rate=0.024548396616239795,\n",
              "                                            max_bin=None,\n",
              "                                            max_cat_threshold=None,\n",
              "                                            max_cat_to_onehot=None,\n",
              "                                            max_delta_step=None, max_depth=3,\n",
              "                                            max_leaves=None, min_child_weight=3,\n",
              "                                            missing=nan,\n",
              "                                            monotone_constraints=None,\n",
              "                                            multi_strategy=None,\n",
              "                                            n_estimators=872, n_jobs=None,\n",
              "                                            num_parallel_tree=None,\n",
              "                                            random_state=42, ...))],\n",
              "                 voting=&#x27;soft&#x27;)</pre><b>In a Jupyter environment, please rerun this cell to show the HTML representation or trust the notebook. <br />On GitHub, the HTML representation is unable to render, please try loading this page with nbviewer.org.</b></div><div class=\"sk-container\" hidden><div class=\"sk-item sk-dashed-wrapped\"><div class=\"sk-label-container\"><div class=\"sk-label fitted sk-toggleable\"><input class=\"sk-toggleable__control sk-hidden--visually\" id=\"sk-estimator-id-7\" type=\"checkbox\" ><label for=\"sk-estimator-id-7\" class=\"sk-toggleable__label fitted sk-toggleable__label-arrow fitted\">&nbsp;&nbsp;VotingClassifier<a class=\"sk-estimator-doc-link fitted\" rel=\"noreferrer\" target=\"_blank\" href=\"https://scikit-learn.org/1.5/modules/generated/sklearn.ensemble.VotingClassifier.html\">?<span>Documentation for VotingClassifier</span></a><span class=\"sk-estimator-doc-link fitted\">i<span>Fitted</span></span></label><div class=\"sk-toggleable__content fitted\"><pre>VotingClassifier(estimators=[(&#x27;xgb&#x27;,\n",
              "                              XGBClassifier(base_score=None, booster=None,\n",
              "                                            callbacks=None,\n",
              "                                            colsample_bylevel=None,\n",
              "                                            colsample_bynode=None,\n",
              "                                            colsample_bytree=0.6005456613346352,\n",
              "                                            device=&#x27;cuda&#x27;,\n",
              "                                            early_stopping_rounds=None,\n",
              "                                            enable_categorical=False,\n",
              "                                            eval_metric=None,\n",
              "                                            feature_types=None,\n",
              "                                            gamma=2.4074510195367713,\n",
              "                                            grow_policy=None,\n",
              "                                            importance_type=None,\n",
              "                                            interactio...\n",
              "                                            importance_type=None,\n",
              "                                            interaction_constraints=None,\n",
              "                                            learning_rate=0.024548396616239795,\n",
              "                                            max_bin=None,\n",
              "                                            max_cat_threshold=None,\n",
              "                                            max_cat_to_onehot=None,\n",
              "                                            max_delta_step=None, max_depth=3,\n",
              "                                            max_leaves=None, min_child_weight=3,\n",
              "                                            missing=nan,\n",
              "                                            monotone_constraints=None,\n",
              "                                            multi_strategy=None,\n",
              "                                            n_estimators=872, n_jobs=None,\n",
              "                                            num_parallel_tree=None,\n",
              "                                            random_state=42, ...))],\n",
              "                 voting=&#x27;soft&#x27;)</pre></div> </div></div><div class=\"sk-parallel\"><div class=\"sk-parallel-item\"><div class=\"sk-item\"><div class=\"sk-label-container\"><div class=\"sk-label fitted sk-toggleable\"><label>xgb</label></div></div><div class=\"sk-serial\"><div class=\"sk-item\"><div class=\"sk-estimator fitted sk-toggleable\"><input class=\"sk-toggleable__control sk-hidden--visually\" id=\"sk-estimator-id-8\" type=\"checkbox\" ><label for=\"sk-estimator-id-8\" class=\"sk-toggleable__label fitted sk-toggleable__label-arrow fitted\">XGBClassifier</label><div class=\"sk-toggleable__content fitted\"><pre>XGBClassifier(base_score=None, booster=None, callbacks=None,\n",
              "              colsample_bylevel=None, colsample_bynode=None,\n",
              "              colsample_bytree=0.6005456613346352, device=&#x27;cuda&#x27;,\n",
              "              early_stopping_rounds=None, enable_categorical=False,\n",
              "              eval_metric=None, feature_types=None, gamma=2.4074510195367713,\n",
              "              grow_policy=None, importance_type=None,\n",
              "              interaction_constraints=None, learning_rate=0.021790657446343016,\n",
              "              max_bin=None, max_cat_threshold=None, max_cat_to_onehot=None,\n",
              "              max_delta_step=None, max_depth=10, max_leaves=None,\n",
              "              min_child_weight=2, missing=nan, monotone_constraints=None,\n",
              "              multi_strategy=None, n_estimators=403, n_jobs=None,\n",
              "              num_parallel_tree=None, random_state=42, ...)</pre></div> </div></div></div></div></div><div class=\"sk-parallel-item\"><div class=\"sk-item\"><div class=\"sk-label-container\"><div class=\"sk-label fitted sk-toggleable\"><label>xgb2</label></div></div><div class=\"sk-serial\"><div class=\"sk-item\"><div class=\"sk-estimator fitted sk-toggleable\"><input class=\"sk-toggleable__control sk-hidden--visually\" id=\"sk-estimator-id-9\" type=\"checkbox\" ><label for=\"sk-estimator-id-9\" class=\"sk-toggleable__label fitted sk-toggleable__label-arrow fitted\">XGBClassifier</label><div class=\"sk-toggleable__content fitted\"><pre>XGBClassifier(base_score=None, booster=None, callbacks=None,\n",
              "              colsample_bylevel=None, colsample_bynode=None,\n",
              "              colsample_bytree=0.6405378503512776, device=&#x27;cuda&#x27;,\n",
              "              early_stopping_rounds=None, enable_categorical=False,\n",
              "              eval_metric=None, feature_types=None, gamma=1.4011292716336397,\n",
              "              grow_policy=None, importance_type=None,\n",
              "              interaction_constraints=None, learning_rate=0.024548396616239795,\n",
              "              max_bin=None, max_cat_threshold=None, max_cat_to_onehot=None,\n",
              "              max_delta_step=None, max_depth=3, max_leaves=None,\n",
              "              min_child_weight=3, missing=nan, monotone_constraints=None,\n",
              "              multi_strategy=None, n_estimators=872, n_jobs=None,\n",
              "              num_parallel_tree=None, random_state=42, ...)</pre></div> </div></div></div></div></div></div></div></div></div>"
            ],
            "text/plain": [
              "VotingClassifier(estimators=[('xgb',\n",
              "                              XGBClassifier(base_score=None, booster=None,\n",
              "                                            callbacks=None,\n",
              "                                            colsample_bylevel=None,\n",
              "                                            colsample_bynode=None,\n",
              "                                            colsample_bytree=0.6005456613346352,\n",
              "                                            device='cuda',\n",
              "                                            early_stopping_rounds=None,\n",
              "                                            enable_categorical=False,\n",
              "                                            eval_metric=None,\n",
              "                                            feature_types=None,\n",
              "                                            gamma=2.4074510195367713,\n",
              "                                            grow_policy=None,\n",
              "                                            importance_type=None,\n",
              "                                            interactio...\n",
              "                                            importance_type=None,\n",
              "                                            interaction_constraints=None,\n",
              "                                            learning_rate=0.024548396616239795,\n",
              "                                            max_bin=None,\n",
              "                                            max_cat_threshold=None,\n",
              "                                            max_cat_to_onehot=None,\n",
              "                                            max_delta_step=None, max_depth=3,\n",
              "                                            max_leaves=None, min_child_weight=3,\n",
              "                                            missing=nan,\n",
              "                                            monotone_constraints=None,\n",
              "                                            multi_strategy=None,\n",
              "                                            n_estimators=872, n_jobs=None,\n",
              "                                            num_parallel_tree=None,\n",
              "                                            random_state=42, ...))],\n",
              "                 voting='soft')"
            ]
          },
          "execution_count": 121,
          "metadata": {},
          "output_type": "execute_result"
        }
      ],
      "source": [
        "trained_best_model_2, time_2 = train_model(best_model_2, X_und_fs, y_und_fs)\n",
        "trained_best_model_2"
      ]
    },
    {
      "cell_type": "code",
      "execution_count": 122,
      "metadata": {},
      "outputs": [
        {
          "data": {
            "text/plain": [
              "True"
            ]
          },
          "execution_count": 122,
          "metadata": {},
          "output_type": "execute_result"
        }
      ],
      "source": [
        "is_model_fitted(trained_best_model_2)"
      ]
    },
    {
      "cell_type": "code",
      "execution_count": 132,
      "metadata": {},
      "outputs": [
        {
          "name": "stdout",
          "output_type": "stream",
          "text": [
            "Model saved to models\\best_model_2.joblib\n"
          ]
        }
      ],
      "source": [
        "# untuk mengecek apakah direktorinya ada. jika tidak maka dibuat\n",
        "output_dir = \"models\"\n",
        "if not os.path.exists(output_dir):\n",
        "    os.makedirs(output_dir)\n",
        "    print(f\"Created directory: {output_dir}\")\n",
        "\n",
        "save_model(trained_best_model_2, os.path.join(output_dir, \"best_model_2.joblib\"))"
      ]
    },
    {
      "cell_type": "markdown",
      "metadata": {
        "id": "lt9YH3R6lX3O"
      },
      "source": [
        "### **9.2. Prediksi pada Data Validasi (`X_val_final`)**\n"
      ]
    },
    {
      "cell_type": "markdown",
      "metadata": {
        "id": "m2z6Rsgnlb-t"
      },
      "source": [
        "Setelah mengevaluasi pada data training, kita akan menggunakan model-model yang telah dioptimalkan untuk membuat prediksi probabilitas pada dataset validasi (`X_val_final`). Prediksi ini yang nantinya akan digunakan untuk membuat file submission.\n"
      ]
    },
    {
      "cell_type": "markdown",
      "metadata": {},
      "source": [
        "### 9.2.1. Submission 1"
      ]
    },
    {
      "cell_type": "code",
      "execution_count": 117,
      "metadata": {
        "id": "1Orw4sSDqHaK"
      },
      "outputs": [],
      "source": [
        "X_val = df_val.drop([\"customer_number\", \"hari_sejak_kontak_sebelumnya\"], axis=1)"
      ]
    },
    {
      "cell_type": "code",
      "execution_count": 118,
      "metadata": {
        "id": "wyTi0oMmqHaK"
      },
      "outputs": [],
      "source": [
        "X_val = pd.get_dummies(X_val, columns=nom_features, dtype=int)"
      ]
    },
    {
      "cell_type": "code",
      "execution_count": 119,
      "metadata": {
        "id": "A7_JusCGqHaL"
      },
      "outputs": [],
      "source": [
        "X_val[\"pendidikan\"] = X_val[\"pendidikan\"].map(pendidikan_map)\n",
        "\n",
        "for colum in bool_features:\n",
        "    X_val[colum] = X_val[colum].map(boolean_map)\n",
        "\n",
        "X_val[\"bulan_kontak_terakhir\"] = X_val[\"bulan_kontak_terakhir\"].map(bulan_map)\n",
        "X_val[\"hari_kontak_terakhir\"] = X_val[\"hari_kontak_terakhir\"].map(hari_map)\n",
        "X_val[\"hasil_kampanye_sebelumnya\"] = X_val[\"hasil_kampanye_sebelumnya\"].map(\n",
        "    kampanye_map\n",
        ")"
      ]
    },
    {
      "cell_type": "code",
      "execution_count": 120,
      "metadata": {
        "id": "sBaFPv8GqHaM"
      },
      "outputs": [],
      "source": [
        "X_val_scaled = X_val.copy()\n",
        "X_val_scaled[num_features] = scaler_2.transform(df_val[num_features])"
      ]
    },
    {
      "cell_type": "code",
      "execution_count": 92,
      "metadata": {
        "id": "fOojyl6-lfBL"
      },
      "outputs": [],
      "source": [
        "y_pred = trained_best_model.predict_proba(X_val_scaled)[:, 1]"
      ]
    },
    {
      "cell_type": "code",
      "execution_count": 93,
      "metadata": {
        "id": "HkH8Z1KOqHaM"
      },
      "outputs": [],
      "source": [
        "submission = pd.DataFrame(\n",
        "    {\"customer_number\": df_val[\"customer_number\"], \"berlangganan_deposito\": y_pred}\n",
        ")"
      ]
    },
    {
      "cell_type": "code",
      "execution_count": 94,
      "metadata": {
        "colab": {
          "base_uri": "https://localhost:8080/",
          "height": 423
        },
        "id": "NkdJ6CFbqHaN",
        "outputId": "77ab1519-bdc8-49df-b73b-efe456552a82"
      },
      "outputs": [
        {
          "data": {
            "application/vnd.google.colaboratory.intrinsic+json": {
              "summary": "{\n  \"name\": \"submission\",\n  \"rows\": 5729,\n  \"fields\": [\n    {\n      \"column\": \"customer_number\",\n      \"properties\": {\n        \"dtype\": \"number\",\n        \"std\": 258992,\n        \"min\": 100423,\n        \"max\": 999897,\n        \"num_unique_values\": 5729,\n        \"samples\": [\n          153517,\n          620144,\n          822839\n        ],\n        \"semantic_type\": \"\",\n        \"description\": \"\"\n      }\n    },\n    {\n      \"column\": \"berlangganan_deposito\",\n      \"properties\": {\n        \"dtype\": \"number\",\n        \"std\": 0.1534703418652273,\n        \"min\": 0.026375305621021417,\n        \"max\": 0.8310934290513826,\n        \"num_unique_values\": 3308,\n        \"samples\": [\n          0.09990995150844935,\n          0.05036047218057624,\n          0.15691504186474006\n        ],\n        \"semantic_type\": \"\",\n        \"description\": \"\"\n      }\n    }\n  ]\n}",
              "type": "dataframe",
              "variable_name": "submission"
            },
            "text/html": [
              "\n",
              "  <div id=\"df-b6ab14a6-8f42-47ae-a6cf-3767a5f12de6\" class=\"colab-df-container\">\n",
              "    <div>\n",
              "<style scoped>\n",
              "    .dataframe tbody tr th:only-of-type {\n",
              "        vertical-align: middle;\n",
              "    }\n",
              "\n",
              "    .dataframe tbody tr th {\n",
              "        vertical-align: top;\n",
              "    }\n",
              "\n",
              "    .dataframe thead th {\n",
              "        text-align: right;\n",
              "    }\n",
              "</style>\n",
              "<table border=\"1\" class=\"dataframe\">\n",
              "  <thead>\n",
              "    <tr style=\"text-align: right;\">\n",
              "      <th></th>\n",
              "      <th>customer_number</th>\n",
              "      <th>berlangganan_deposito</th>\n",
              "    </tr>\n",
              "  </thead>\n",
              "  <tbody>\n",
              "    <tr>\n",
              "      <th>0</th>\n",
              "      <td>445420</td>\n",
              "      <td>0.063</td>\n",
              "    </tr>\n",
              "    <tr>\n",
              "      <th>1</th>\n",
              "      <td>585604</td>\n",
              "      <td>0.039</td>\n",
              "    </tr>\n",
              "    <tr>\n",
              "      <th>2</th>\n",
              "      <td>888824</td>\n",
              "      <td>0.034</td>\n",
              "    </tr>\n",
              "    <tr>\n",
              "      <th>3</th>\n",
              "      <td>816820</td>\n",
              "      <td>0.034</td>\n",
              "    </tr>\n",
              "    <tr>\n",
              "      <th>4</th>\n",
              "      <td>542716</td>\n",
              "      <td>0.060</td>\n",
              "    </tr>\n",
              "    <tr>\n",
              "      <th>...</th>\n",
              "      <td>...</td>\n",
              "      <td>...</td>\n",
              "    </tr>\n",
              "    <tr>\n",
              "      <th>5724</th>\n",
              "      <td>782072</td>\n",
              "      <td>0.047</td>\n",
              "    </tr>\n",
              "    <tr>\n",
              "      <th>5725</th>\n",
              "      <td>116371</td>\n",
              "      <td>0.034</td>\n",
              "    </tr>\n",
              "    <tr>\n",
              "      <th>5726</th>\n",
              "      <td>773759</td>\n",
              "      <td>0.034</td>\n",
              "    </tr>\n",
              "    <tr>\n",
              "      <th>5727</th>\n",
              "      <td>612330</td>\n",
              "      <td>0.048</td>\n",
              "    </tr>\n",
              "    <tr>\n",
              "      <th>5728</th>\n",
              "      <td>986050</td>\n",
              "      <td>0.045</td>\n",
              "    </tr>\n",
              "  </tbody>\n",
              "</table>\n",
              "<p>5729 rows × 2 columns</p>\n",
              "</div>\n",
              "    <div class=\"colab-df-buttons\">\n",
              "\n",
              "  <div class=\"colab-df-container\">\n",
              "    <button class=\"colab-df-convert\" onclick=\"convertToInteractive('df-b6ab14a6-8f42-47ae-a6cf-3767a5f12de6')\"\n",
              "            title=\"Convert this dataframe to an interactive table.\"\n",
              "            style=\"display:none;\">\n",
              "\n",
              "  <svg xmlns=\"http://www.w3.org/2000/svg\" height=\"24px\" viewBox=\"0 -960 960 960\">\n",
              "    <path d=\"M120-120v-720h720v720H120Zm60-500h600v-160H180v160Zm220 220h160v-160H400v160Zm0 220h160v-160H400v160ZM180-400h160v-160H180v160Zm440 0h160v-160H620v160ZM180-180h160v-160H180v160Zm440 0h160v-160H620v160Z\"/>\n",
              "  </svg>\n",
              "    </button>\n",
              "\n",
              "  <style>\n",
              "    .colab-df-container {\n",
              "      display:flex;\n",
              "      gap: 12px;\n",
              "    }\n",
              "\n",
              "    .colab-df-convert {\n",
              "      background-color: #E8F0FE;\n",
              "      border: none;\n",
              "      border-radius: 50%;\n",
              "      cursor: pointer;\n",
              "      display: none;\n",
              "      fill: #1967D2;\n",
              "      height: 32px;\n",
              "      padding: 0 0 0 0;\n",
              "      width: 32px;\n",
              "    }\n",
              "\n",
              "    .colab-df-convert:hover {\n",
              "      background-color: #E2EBFA;\n",
              "      box-shadow: 0px 1px 2px rgba(60, 64, 67, 0.3), 0px 1px 3px 1px rgba(60, 64, 67, 0.15);\n",
              "      fill: #174EA6;\n",
              "    }\n",
              "\n",
              "    .colab-df-buttons div {\n",
              "      margin-bottom: 4px;\n",
              "    }\n",
              "\n",
              "    [theme=dark] .colab-df-convert {\n",
              "      background-color: #3B4455;\n",
              "      fill: #D2E3FC;\n",
              "    }\n",
              "\n",
              "    [theme=dark] .colab-df-convert:hover {\n",
              "      background-color: #434B5C;\n",
              "      box-shadow: 0px 1px 3px 1px rgba(0, 0, 0, 0.15);\n",
              "      filter: drop-shadow(0px 1px 2px rgba(0, 0, 0, 0.3));\n",
              "      fill: #FFFFFF;\n",
              "    }\n",
              "  </style>\n",
              "\n",
              "    <script>\n",
              "      const buttonEl =\n",
              "        document.querySelector('#df-b6ab14a6-8f42-47ae-a6cf-3767a5f12de6 button.colab-df-convert');\n",
              "      buttonEl.style.display =\n",
              "        google.colab.kernel.accessAllowed ? 'block' : 'none';\n",
              "\n",
              "      async function convertToInteractive(key) {\n",
              "        const element = document.querySelector('#df-b6ab14a6-8f42-47ae-a6cf-3767a5f12de6');\n",
              "        const dataTable =\n",
              "          await google.colab.kernel.invokeFunction('convertToInteractive',\n",
              "                                                    [key], {});\n",
              "        if (!dataTable) return;\n",
              "\n",
              "        const docLinkHtml = 'Like what you see? Visit the ' +\n",
              "          '<a target=\"_blank\" href=https://colab.research.google.com/notebooks/data_table.ipynb>data table notebook</a>'\n",
              "          + ' to learn more about interactive tables.';\n",
              "        element.innerHTML = '';\n",
              "        dataTable['output_type'] = 'display_data';\n",
              "        await google.colab.output.renderOutput(dataTable, element);\n",
              "        const docLink = document.createElement('div');\n",
              "        docLink.innerHTML = docLinkHtml;\n",
              "        element.appendChild(docLink);\n",
              "      }\n",
              "    </script>\n",
              "  </div>\n",
              "\n",
              "\n",
              "    <div id=\"df-bc24bc3c-e7af-46b9-82ad-77f162eb7555\">\n",
              "      <button class=\"colab-df-quickchart\" onclick=\"quickchart('df-bc24bc3c-e7af-46b9-82ad-77f162eb7555')\"\n",
              "                title=\"Suggest charts\"\n",
              "                style=\"display:none;\">\n",
              "\n",
              "<svg xmlns=\"http://www.w3.org/2000/svg\" height=\"24px\"viewBox=\"0 0 24 24\"\n",
              "     width=\"24px\">\n",
              "    <g>\n",
              "        <path d=\"M19 3H5c-1.1 0-2 .9-2 2v14c0 1.1.9 2 2 2h14c1.1 0 2-.9 2-2V5c0-1.1-.9-2-2-2zM9 17H7v-7h2v7zm4 0h-2V7h2v10zm4 0h-2v-4h2v4z\"/>\n",
              "    </g>\n",
              "</svg>\n",
              "      </button>\n",
              "\n",
              "<style>\n",
              "  .colab-df-quickchart {\n",
              "      --bg-color: #E8F0FE;\n",
              "      --fill-color: #1967D2;\n",
              "      --hover-bg-color: #E2EBFA;\n",
              "      --hover-fill-color: #174EA6;\n",
              "      --disabled-fill-color: #AAA;\n",
              "      --disabled-bg-color: #DDD;\n",
              "  }\n",
              "\n",
              "  [theme=dark] .colab-df-quickchart {\n",
              "      --bg-color: #3B4455;\n",
              "      --fill-color: #D2E3FC;\n",
              "      --hover-bg-color: #434B5C;\n",
              "      --hover-fill-color: #FFFFFF;\n",
              "      --disabled-bg-color: #3B4455;\n",
              "      --disabled-fill-color: #666;\n",
              "  }\n",
              "\n",
              "  .colab-df-quickchart {\n",
              "    background-color: var(--bg-color);\n",
              "    border: none;\n",
              "    border-radius: 50%;\n",
              "    cursor: pointer;\n",
              "    display: none;\n",
              "    fill: var(--fill-color);\n",
              "    height: 32px;\n",
              "    padding: 0;\n",
              "    width: 32px;\n",
              "  }\n",
              "\n",
              "  .colab-df-quickchart:hover {\n",
              "    background-color: var(--hover-bg-color);\n",
              "    box-shadow: 0 1px 2px rgba(60, 64, 67, 0.3), 0 1px 3px 1px rgba(60, 64, 67, 0.15);\n",
              "    fill: var(--button-hover-fill-color);\n",
              "  }\n",
              "\n",
              "  .colab-df-quickchart-complete:disabled,\n",
              "  .colab-df-quickchart-complete:disabled:hover {\n",
              "    background-color: var(--disabled-bg-color);\n",
              "    fill: var(--disabled-fill-color);\n",
              "    box-shadow: none;\n",
              "  }\n",
              "\n",
              "  .colab-df-spinner {\n",
              "    border: 2px solid var(--fill-color);\n",
              "    border-color: transparent;\n",
              "    border-bottom-color: var(--fill-color);\n",
              "    animation:\n",
              "      spin 1s steps(1) infinite;\n",
              "  }\n",
              "\n",
              "  @keyframes spin {\n",
              "    0% {\n",
              "      border-color: transparent;\n",
              "      border-bottom-color: var(--fill-color);\n",
              "      border-left-color: var(--fill-color);\n",
              "    }\n",
              "    20% {\n",
              "      border-color: transparent;\n",
              "      border-left-color: var(--fill-color);\n",
              "      border-top-color: var(--fill-color);\n",
              "    }\n",
              "    30% {\n",
              "      border-color: transparent;\n",
              "      border-left-color: var(--fill-color);\n",
              "      border-top-color: var(--fill-color);\n",
              "      border-right-color: var(--fill-color);\n",
              "    }\n",
              "    40% {\n",
              "      border-color: transparent;\n",
              "      border-right-color: var(--fill-color);\n",
              "      border-top-color: var(--fill-color);\n",
              "    }\n",
              "    60% {\n",
              "      border-color: transparent;\n",
              "      border-right-color: var(--fill-color);\n",
              "    }\n",
              "    80% {\n",
              "      border-color: transparent;\n",
              "      border-right-color: var(--fill-color);\n",
              "      border-bottom-color: var(--fill-color);\n",
              "    }\n",
              "    90% {\n",
              "      border-color: transparent;\n",
              "      border-bottom-color: var(--fill-color);\n",
              "    }\n",
              "  }\n",
              "</style>\n",
              "\n",
              "      <script>\n",
              "        async function quickchart(key) {\n",
              "          const quickchartButtonEl =\n",
              "            document.querySelector('#' + key + ' button');\n",
              "          quickchartButtonEl.disabled = true;  // To prevent multiple clicks.\n",
              "          quickchartButtonEl.classList.add('colab-df-spinner');\n",
              "          try {\n",
              "            const charts = await google.colab.kernel.invokeFunction(\n",
              "                'suggestCharts', [key], {});\n",
              "          } catch (error) {\n",
              "            console.error('Error during call to suggestCharts:', error);\n",
              "          }\n",
              "          quickchartButtonEl.classList.remove('colab-df-spinner');\n",
              "          quickchartButtonEl.classList.add('colab-df-quickchart-complete');\n",
              "        }\n",
              "        (() => {\n",
              "          let quickchartButtonEl =\n",
              "            document.querySelector('#df-bc24bc3c-e7af-46b9-82ad-77f162eb7555 button');\n",
              "          quickchartButtonEl.style.display =\n",
              "            google.colab.kernel.accessAllowed ? 'block' : 'none';\n",
              "        })();\n",
              "      </script>\n",
              "    </div>\n",
              "\n",
              "  <div id=\"id_cb26c067-c0fa-4eb4-8c15-ab9415c7c1c7\">\n",
              "    <style>\n",
              "      .colab-df-generate {\n",
              "        background-color: #E8F0FE;\n",
              "        border: none;\n",
              "        border-radius: 50%;\n",
              "        cursor: pointer;\n",
              "        display: none;\n",
              "        fill: #1967D2;\n",
              "        height: 32px;\n",
              "        padding: 0 0 0 0;\n",
              "        width: 32px;\n",
              "      }\n",
              "\n",
              "      .colab-df-generate:hover {\n",
              "        background-color: #E2EBFA;\n",
              "        box-shadow: 0px 1px 2px rgba(60, 64, 67, 0.3), 0px 1px 3px 1px rgba(60, 64, 67, 0.15);\n",
              "        fill: #174EA6;\n",
              "      }\n",
              "\n",
              "      [theme=dark] .colab-df-generate {\n",
              "        background-color: #3B4455;\n",
              "        fill: #D2E3FC;\n",
              "      }\n",
              "\n",
              "      [theme=dark] .colab-df-generate:hover {\n",
              "        background-color: #434B5C;\n",
              "        box-shadow: 0px 1px 3px 1px rgba(0, 0, 0, 0.15);\n",
              "        filter: drop-shadow(0px 1px 2px rgba(0, 0, 0, 0.3));\n",
              "        fill: #FFFFFF;\n",
              "      }\n",
              "    </style>\n",
              "    <button class=\"colab-df-generate\" onclick=\"generateWithVariable('submission')\"\n",
              "            title=\"Generate code using this dataframe.\"\n",
              "            style=\"display:none;\">\n",
              "\n",
              "  <svg xmlns=\"http://www.w3.org/2000/svg\" height=\"24px\"viewBox=\"0 0 24 24\"\n",
              "       width=\"24px\">\n",
              "    <path d=\"M7,19H8.4L18.45,9,17,7.55,7,17.6ZM5,21V16.75L18.45,3.32a2,2,0,0,1,2.83,0l1.4,1.43a1.91,1.91,0,0,1,.58,1.4,1.91,1.91,0,0,1-.58,1.4L9.25,21ZM18.45,9,17,7.55Zm-12,3A5.31,5.31,0,0,0,4.9,8.1,5.31,5.31,0,0,0,1,6.5,5.31,5.31,0,0,0,4.9,4.9,5.31,5.31,0,0,0,6.5,1,5.31,5.31,0,0,0,8.1,4.9,5.31,5.31,0,0,0,12,6.5,5.46,5.46,0,0,0,6.5,12Z\"/>\n",
              "  </svg>\n",
              "    </button>\n",
              "    <script>\n",
              "      (() => {\n",
              "      const buttonEl =\n",
              "        document.querySelector('#id_cb26c067-c0fa-4eb4-8c15-ab9415c7c1c7 button.colab-df-generate');\n",
              "      buttonEl.style.display =\n",
              "        google.colab.kernel.accessAllowed ? 'block' : 'none';\n",
              "\n",
              "      buttonEl.onclick = () => {\n",
              "        google.colab.notebook.generateWithVariable('submission');\n",
              "      }\n",
              "      })();\n",
              "    </script>\n",
              "  </div>\n",
              "\n",
              "    </div>\n",
              "  </div>\n"
            ],
            "text/plain": [
              "      customer_number  berlangganan_deposito\n",
              "0              445420                  0.063\n",
              "1              585604                  0.039\n",
              "2              888824                  0.034\n",
              "3              816820                  0.034\n",
              "4              542716                  0.060\n",
              "...               ...                    ...\n",
              "5724           782072                  0.047\n",
              "5725           116371                  0.034\n",
              "5726           773759                  0.034\n",
              "5727           612330                  0.048\n",
              "5728           986050                  0.045\n",
              "\n",
              "[5729 rows x 2 columns]"
            ]
          },
          "execution_count": 94,
          "metadata": {},
          "output_type": "execute_result"
        }
      ],
      "source": [
        "submission"
      ]
    },
    {
      "cell_type": "code",
      "execution_count": null,
      "metadata": {
        "colab": {
          "base_uri": "https://localhost:8080/"
        },
        "id": "7j4owXHfqHaN",
        "outputId": "58d8dac4-9536-4310-9b56-eb423ef83e31"
      },
      "outputs": [
        {
          "name": "stdout",
          "output_type": "stream",
          "text": [
            "Directory 'submission' created.\n"
          ]
        }
      ],
      "source": [
        "submission_dir = \"submission\"\n",
        "\n",
        "# untuk mengecek apakah direktorinya ada. jika tidak maka dibuat\n",
        "if not os.path.exists(submission_dir):\n",
        "    os.makedirs(submission_dir)\n",
        "    print(f\"Directory '{submission_dir}' created.\")\n",
        "else:\n",
        "    print(f\"Directory '{submission_dir}' already exists.\")\n",
        "\n",
        "submission.to_csv(\n",
        "    os.path.join(submission_dir, \"DCM_DMU_2025_Model_CubitAkuDong.csv\"), index=False\n",
        ")"
      ]
    },
    {
      "cell_type": "markdown",
      "metadata": {},
      "source": [
        "### 9.2.2. Submission 2"
      ]
    },
    {
      "cell_type": "code",
      "execution_count": 125,
      "metadata": {},
      "outputs": [],
      "source": [
        "y_pred_2 = trained_best_model_2.predict_proba(X_val_scaled[selected_features])[:, 1]"
      ]
    },
    {
      "cell_type": "code",
      "execution_count": 127,
      "metadata": {},
      "outputs": [],
      "source": [
        "submission_2 = pd.DataFrame(\n",
        "    {\"customer_number\": df_val[\"customer_number\"], \"berlangganan_deposito\": y_pred_2}\n",
        ")"
      ]
    },
    {
      "cell_type": "code",
      "execution_count": 128,
      "metadata": {},
      "outputs": [
        {
          "data": {
            "text/html": [
              "<div>\n",
              "<style scoped>\n",
              "    .dataframe tbody tr th:only-of-type {\n",
              "        vertical-align: middle;\n",
              "    }\n",
              "\n",
              "    .dataframe tbody tr th {\n",
              "        vertical-align: top;\n",
              "    }\n",
              "\n",
              "    .dataframe thead th {\n",
              "        text-align: right;\n",
              "    }\n",
              "</style>\n",
              "<table border=\"1\" class=\"dataframe\">\n",
              "  <thead>\n",
              "    <tr style=\"text-align: right;\">\n",
              "      <th></th>\n",
              "      <th>customer_number</th>\n",
              "      <th>berlangganan_deposito</th>\n",
              "    </tr>\n",
              "  </thead>\n",
              "  <tbody>\n",
              "    <tr>\n",
              "      <th>0</th>\n",
              "      <td>445420</td>\n",
              "      <td>0.057</td>\n",
              "    </tr>\n",
              "    <tr>\n",
              "      <th>1</th>\n",
              "      <td>585604</td>\n",
              "      <td>0.039</td>\n",
              "    </tr>\n",
              "    <tr>\n",
              "      <th>2</th>\n",
              "      <td>888824</td>\n",
              "      <td>0.030</td>\n",
              "    </tr>\n",
              "    <tr>\n",
              "      <th>3</th>\n",
              "      <td>816820</td>\n",
              "      <td>0.032</td>\n",
              "    </tr>\n",
              "    <tr>\n",
              "      <th>4</th>\n",
              "      <td>542716</td>\n",
              "      <td>0.054</td>\n",
              "    </tr>\n",
              "    <tr>\n",
              "      <th>...</th>\n",
              "      <td>...</td>\n",
              "      <td>...</td>\n",
              "    </tr>\n",
              "    <tr>\n",
              "      <th>5724</th>\n",
              "      <td>782072</td>\n",
              "      <td>0.044</td>\n",
              "    </tr>\n",
              "    <tr>\n",
              "      <th>5725</th>\n",
              "      <td>116371</td>\n",
              "      <td>0.036</td>\n",
              "    </tr>\n",
              "    <tr>\n",
              "      <th>5726</th>\n",
              "      <td>773759</td>\n",
              "      <td>0.026</td>\n",
              "    </tr>\n",
              "    <tr>\n",
              "      <th>5727</th>\n",
              "      <td>612330</td>\n",
              "      <td>0.037</td>\n",
              "    </tr>\n",
              "    <tr>\n",
              "      <th>5728</th>\n",
              "      <td>986050</td>\n",
              "      <td>0.035</td>\n",
              "    </tr>\n",
              "  </tbody>\n",
              "</table>\n",
              "<p>5729 rows × 2 columns</p>\n",
              "</div>"
            ],
            "text/plain": [
              "      customer_number  berlangganan_deposito\n",
              "0              445420                  0.057\n",
              "1              585604                  0.039\n",
              "2              888824                  0.030\n",
              "3              816820                  0.032\n",
              "4              542716                  0.054\n",
              "...               ...                    ...\n",
              "5724           782072                  0.044\n",
              "5725           116371                  0.036\n",
              "5726           773759                  0.026\n",
              "5727           612330                  0.037\n",
              "5728           986050                  0.035\n",
              "\n",
              "[5729 rows x 2 columns]"
            ]
          },
          "execution_count": 128,
          "metadata": {},
          "output_type": "execute_result"
        }
      ],
      "source": [
        "submission_2"
      ]
    },
    {
      "cell_type": "code",
      "execution_count": 131,
      "metadata": {},
      "outputs": [
        {
          "name": "stdout",
          "output_type": "stream",
          "text": [
            "Directory 'submission' already exists.\n"
          ]
        }
      ],
      "source": [
        "submission_dir = \"submission\"\n",
        "\n",
        "# untuk mengecek apakah direktorinya ada. jika tidak maka dibuat\n",
        "if not os.path.exists(submission_dir):\n",
        "    os.makedirs(submission_dir)\n",
        "    print(f\"Directory '{submission_dir}' created.\")\n",
        "else:\n",
        "    print(f\"Directory '{submission_dir}' already exists.\")\n",
        "\n",
        "submission_2.to_csv(\n",
        "    os.path.join(submission_dir, \"DCM_DMU_2025_Model_CubitAkuDong_Submission_2.csv\"),\n",
        "    index=False,\n",
        ")"
      ]
    },
    {
      "cell_type": "code",
      "execution_count": null,
      "metadata": {},
      "outputs": [],
      "source": []
    }
  ],
  "metadata": {
    "colab": {
      "provenance": [],
      "toc_visible": true
    },
    "kernelspec": {
      "display_name": "Python 3",
      "name": "python3"
    },
    "language_info": {
      "codemirror_mode": {
        "name": "ipython",
        "version": 3
      },
      "file_extension": ".py",
      "mimetype": "text/x-python",
      "name": "python",
      "nbconvert_exporter": "python",
      "pygments_lexer": "ipython3",
      "version": "3.10.7"
    }
  },
  "nbformat": 4,
  "nbformat_minor": 0
}
